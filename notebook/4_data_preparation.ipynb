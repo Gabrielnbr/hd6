{
 "cells": [
  {
   "cell_type": "markdown",
   "metadata": {},
   "source": [
    "# 0. Import"
   ]
  },
  {
   "cell_type": "code",
   "execution_count": 20,
   "metadata": {},
   "outputs": [],
   "source": [
    "import pickle               as pkl\n",
    "import pandas               as pd\n",
    "import numpy                as np\n",
    "import plotly_express       as px\n",
    "import matplotlib.pyplot    as plt\n",
    "\n",
    "from sklearn import preprocessing as pp\n"
   ]
  },
  {
   "cell_type": "markdown",
   "metadata": {},
   "source": [
    "## 0.1 Load Dataset"
   ]
  },
  {
   "cell_type": "code",
   "execution_count": 18,
   "metadata": {},
   "outputs": [],
   "source": [
    "df = pickle.load(open('../dataset/processed/3_eda_pos_fe.pkl', 'rb'))"
   ]
  },
  {
   "cell_type": "markdown",
   "metadata": {},
   "source": [
    "# 1. Tipos de data preparation"
   ]
  },
  {
   "cell_type": "markdown",
   "metadata": {},
   "source": [
    "https://www.kaggle.com/code/discdiver/guide-to-scaling-and-standardizing\n",
    "\n",
    "https://towardsdatascience.com/types-of-transformations-for-better-normal-distribution-61c22668d3b9\n",
    "\n",
    "https://www.marsja.se/transform-skewed-data-using-square-root-log-box-cox-methods-in-python/\n",
    "\n",
    "https://towardsdatascience.com/all-about-categorical-variable-encoding-305f3361fd02\n",
    "\n",
    "https://medium.com/analytics-vidhya/categorical-variable-encoding-techniques-17e607fe42f9\n",
    "\n",
    "https://scikit-learn.org/stable/modules/classes.html#module-sklearn.preprocessing\n",
    "\n",
    "https://scikit-learn.org/stable/modules/preprocessing.html"
   ]
  },
  {
   "cell_type": "markdown",
   "metadata": {},
   "source": [
    "## 1.1. Normalização\n",
    "\n",
    "Utiliza para variáveis que são normais."
   ]
  },
  {
   "cell_type": "code",
   "execution_count": 16,
   "metadata": {},
   "outputs": [
    {
     "data": {
      "text/plain": [
       "array([[0.11785113, 0.1767767 , 0.29462783, 0.35355339, 0.41247896,\n",
       "        0.23570226, 0.47140452, 0.41247896, 0.35355339]])"
      ]
     },
     "execution_count": 16,
     "metadata": {},
     "output_type": "execute_result"
    }
   ],
   "source": [
    "x_array = np.array([2,3,5,6,7,4,8,7,6])\n",
    "normalized_arr = pp.normalize([x_array])\n",
    "normalized_arr"
   ]
  },
  {
   "cell_type": "markdown",
   "metadata": {},
   "source": [
    "## 1.2. Rescaling\n",
    "\n",
    "min-max scaler - sensível para outliers - aplicar apenas para var com outliers não tão fortes\n",
    "\n",
    "robust scaler - tira as dependencia do outlier, mas aperta muito os dados - usada para outliers fortes"
   ]
  },
  {
   "cell_type": "code",
   "execution_count": null,
   "metadata": {},
   "outputs": [],
   "source": [
    "# Variáveis não cíclicas\n",
    "rs = pp.RobustScaler()\n",
    "# Variáveis cíclicas\n",
    "mms = pp.MinMaxScaler()"
   ]
  },
  {
   "cell_type": "code",
   "execution_count": null,
   "metadata": {},
   "outputs": [],
   "source": [
    "df['coluna_numerica_muito_outlier'] = rs.fit_transform( df[['coluna_numerica_muito_outlier']].values)\n",
    "\n",
    "df['coluna_numerica_pouco_outlier'] = mms.fit_transform( df[['coluna_numerica_pouco_outlier']].values)"
   ]
  },
  {
   "cell_type": "markdown",
   "metadata": {},
   "source": [
    "## 1.3 Transformações Encodings"
   ]
  },
  {
   "cell_type": "markdown",
   "metadata": {},
   "source": [
    "1. Tenha felling dos dados EDA\n",
    "2. Testa, Testa muito no teclado até quebrar a cabeça\n",
    "3. https://contrib.scikit-learn.org/category_encoders/\n",
    "---\n",
    "1. One Hot Encoding - Estados (Feriado, dia normal)\n",
    "2. Label Encoding - Variáveis sem relação lógica (Nome de Pessoas)\n",
    "3. Ordinal Encoding - Temperatura, hierarquia (cor não tem hierarquia)\n",
    "4. Target encoding - Média dos valores que aparecem de 0 a 1 (pode usar para todas as variáveis)\n",
    "5. Frequency encoding - Frequencia dos valores que aparecem de 0 a 1\n",
    "6. Embedding encoding - mais usado em redes neurais"
   ]
  },
  {
   "cell_type": "code",
   "execution_count": null,
   "metadata": {},
   "outputs": [],
   "source": [
    "# one hot encoding\n",
    "df = pd.get_dummies( df, prefix = ['nome_antes_de_todas_as_colunas'], columns = ['coluna_categórica'] )\n",
    "\n",
    "# assortment - Encoding Ordinal\n",
    "ordinal_encoding = { 'pouco' : 1,\n",
    "                    'medio' : 2,\n",
    "                    'muito' : 3}\n",
    "\n",
    "df['coluna_categorica'] = df['coluna_categorica'].map(ordinal_encoding)"
   ]
  },
  {
   "cell_type": "markdown",
   "metadata": {},
   "source": [
    "# 2. Transformações"
   ]
  },
  {
   "cell_type": "markdown",
   "metadata": {},
   "source": [
    "SEMPRE BUSQUE A DISTRIBUIÇÃO NORMAL\n",
    "\n",
    "1. Logaritimica\n",
    "2. Box-Cox\n",
    "3. Cube-Root\n",
    "4. Square-Root\n",
    "5. Seno e Cosseno"
   ]
  },
  {
   "cell_type": "markdown",
   "metadata": {},
   "source": [
    "## 2.1. Grandeza"
   ]
  },
  {
   "cell_type": "markdown",
   "metadata": {},
   "source": [
    "## 2.2 Natureza"
   ]
  },
  {
   "cell_type": "markdown",
   "metadata": {},
   "source": [
    "# 2. Export data_preparation"
   ]
  },
  {
   "cell_type": "code",
   "execution_count": 23,
   "metadata": {},
   "outputs": [],
   "source": [
    "pkl.dump(df, open('../dataset/processed/4_data_preparation.pkl', 'wb'))"
   ]
  }
 ],
 "metadata": {
  "kernelspec": {
   "display_name": "Python 3.10.4 ('hd6': venv)",
   "language": "python",
   "name": "python3"
  },
  "language_info": {
   "codemirror_mode": {
    "name": "ipython",
    "version": 3
   },
   "file_extension": ".py",
   "mimetype": "text/x-python",
   "name": "python",
   "nbconvert_exporter": "python",
   "pygments_lexer": "ipython3",
   "version": "3.10.4"
  },
  "orig_nbformat": 4,
  "vscode": {
   "interpreter": {
    "hash": "892e5ff5783333d733f0bd2e0068297de9409e96214f7e68af4469f351f76fae"
   }
  }
 },
 "nbformat": 4,
 "nbformat_minor": 2
}
