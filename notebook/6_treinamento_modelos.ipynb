{
 "cells": [
  {
   "cell_type": "markdown",
   "metadata": {},
   "source": [
    "# 0. Import"
   ]
  },
  {
   "cell_type": "code",
   "execution_count": null,
   "metadata": {},
   "outputs": [],
   "source": [
    "import pickle               as pkl\n",
    "import pandas               as pd\n",
    "import numpy                as np\n",
    "import plotly_express       as px\n",
    "import matplotlib.pyplot    as plt\n",
    "\n",
    "from sklearn import preprocessing as pp\n"
   ]
  },
  {
   "cell_type": "markdown",
   "metadata": {},
   "source": [
    "## 0.1 Load Dataset"
   ]
  },
  {
   "cell_type": "code",
   "execution_count": null,
   "metadata": {},
   "outputs": [],
   "source": [
    "df = pickle.load(open('../dataset/processed/3_eda_pos_fe.pkl', 'rb'))"
   ]
  }
 ],
 "metadata": {
  "kernelspec": {
   "display_name": "Python 3.10.4 64-bit",
   "language": "python",
   "name": "python3"
  },
  "language_info": {
   "name": "python",
   "version": "3.10.4"
  },
  "orig_nbformat": 4,
  "vscode": {
   "interpreter": {
    "hash": "649fea4987972e55ac56b00de2d519a3c5a845c8a59db72a24f11b58e05f6899"
   }
  }
 },
 "nbformat": 4,
 "nbformat_minor": 2
}
