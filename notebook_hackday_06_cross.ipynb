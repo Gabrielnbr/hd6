{
 "cells": [
  {
   "cell_type": "markdown",
   "id": "23e57af8",
   "metadata": {},
   "source": [
    "# Imports"
   ]
  },
  {
   "cell_type": "code",
   "execution_count": 262,
   "id": "403b1b50",
   "metadata": {
    "ExecuteTime": {
     "end_time": "2023-10-22T17:38:49.183069Z",
     "start_time": "2023-10-22T17:38:49.162282Z"
    }
   },
   "outputs": [],
   "source": [
    "import pandas as pd\n",
    "import numpy as np\n",
    "import json\n",
    "import datetime\n",
    "import ast\n",
    "import seaborn as sns\n",
    "\n",
    "from sklearn import preprocessing as pp\n",
    "import pickle\n",
    "\n",
    "from sklearn import model_selection as ms\n",
    "import category_encoders as ce\n",
    "\n",
    "#from boruta   import BorutaPy\n",
    "from lightgbm import LGBMClassifier\n",
    "\n",
    "from sklearn.ensemble        import RandomForestClassifier, BaggingClassifier, GradientBoostingClassifier\n",
    "from xgboost                 import XGBRegressor\n",
    "from sklearn.linear_model    import LogisticRegression, SGDRegressor\n",
    "from sklearn.neighbors       import KNeighborsRegressor\n",
    "from sklearn.tree            import DecisionTreeRegressor\n",
    "from sklearn.ensemble        import RandomForestRegressor, BaggingRegressor\n",
    "from sklearn.model_selection import GridSearchCV, RandomizedSearchCV\n",
    "from sklearn.naive_bayes     import GaussianNB\n",
    "from lightgbm                import LGBMRegressor\n",
    "from sklearn.model_selection import StratifiedKFold, cross_validate\n",
    "from sklearn.metrics import make_scorer"
   ]
  },
  {
   "cell_type": "markdown",
   "id": "3f2f5333",
   "metadata": {},
   "source": [
    "## Helper Functions"
   ]
  },
  {
   "cell_type": "code",
   "execution_count": 263,
   "id": "a50c83a9",
   "metadata": {
    "ExecuteTime": {
     "end_time": "2023-10-22T17:38:49.258276Z",
     "start_time": "2023-10-22T17:38:49.188317Z"
    }
   },
   "outputs": [],
   "source": [
    "def test_preparation(X_test, y_test):\n",
    "    X_test = rescalling(X_test)\n",
    "    X_test = transform(X_test)\n",
    "    y_test = log_var_resposta(y_test)\n",
    "    \n",
    "    return X_test, y_test\n",
    "\n",
    "\n",
    "def rescalling (X_test):\n",
    "    \n",
    "    mm = pickle.load(open('parameters/mm_avg_delivery_time_days.pkl','rb'))\n",
    "    X_test['avg_delivery_time_days'] = mm.transform(X_test[['avg_delivery_time_days']])\n",
    "    \n",
    "    rs_ar = pickle.load(open('parameters/rs_average_rating.pkl','rb'))\n",
    "    \n",
    "    X_test['average_rating'] = rs_ar.transform(X_test[['average_rating']])\n",
    "    \n",
    "    rs_nr = pickle.load(open('parameters/rs_number_of_reviews.pkl','rb'))\n",
    "    \n",
    "    X_test['number_of_reviews'] = rs_nr.transform(X_test[['number_of_reviews']])\n",
    "    \n",
    "    return X_test\n",
    "\n",
    "def transform (df):\n",
    "    \n",
    "    for att in ['Ideal For', 'Reversible', 'Suitable For', 'seller', 'product', 'Type', 'Sleeve', 'Fit']:\n",
    "        te = pickle.load(open(f'parameters/te_{att}.pkl','rb'))\n",
    "        df = te.transform(df)        \n",
    "    \n",
    "    for att in ['brand','Style Code','Pack of', 'Pattern']:\n",
    "        fe = pickle.load(open(f'parameters/fe_{att}.pkl', 'rb'))\n",
    "        df = fe.transform(df)\n",
    "    \n",
    "    return df\n",
    "\n",
    "def log_var_resposta(df):\n",
    "    df = np.log1p(df)\n",
    "    return df\n",
    "\n",
    "def limpeza (df):\n",
    "    df = df.drop(columns=['_id', 'pid','description', 'images'])\n",
    "    # transformando de string para data\n",
    "    df['crawled_at'] = pd.to_datetime(df['crawled_at']).dt.date\n",
    "\n",
    "    return df\n",
    "\n",
    "def feature_engen(df):\n",
    "    ## out_of_stock - transformar para int \n",
    "    df['out_of_stock'] = df['out_of_stock'].astype('int64')\n",
    "\n",
    "    # brand - substituir por outros\n",
    "    df['brand'] = df['brand'].apply(lambda x: x.lower())\n",
    "\n",
    "    # criando feature product\n",
    "    df['product'] = df[['category', 'sub_category']].apply(lambda x: x['category'] + '_' + x['sub_category'], axis = 1)\n",
    "    \n",
    "    df.loc[df['number_of_reviews'] == 0, 'average_rating'] = -1\n",
    "    \n",
    "    import ast\n",
    "\n",
    "    # pega string de dict e cria uma lista de dicionários\n",
    "    def f(x):\n",
    "        try:\n",
    "            return ast.literal_eval(str(x))   \n",
    "        except Exception as e:\n",
    "            print(e)\n",
    "            return []\n",
    "\n",
    "\n",
    "\n",
    "    def junta_dict(dict_list):\n",
    "        dicionario = {}\n",
    "        for d in dict_list:\n",
    "            for key, value in d.items():\n",
    "                dicionario[key] = value\n",
    "        return dicionario\n",
    "\n",
    "    list = df['product_details'].apply(lambda x: f(x))\n",
    "\n",
    "    df_details = pd.DataFrame([junta_dict(row) for row in list], index = list.index)\n",
    "\n",
    "    df_drop_columns = df_details.drop(columns=['', ' '])\n",
    "\n",
    "    # Removendo valores faltantes acima de 50%\n",
    "    limite_nulos = len(df_details) * 0.5  \n",
    "    df_drop = df_details.dropna(thresh = limite_nulos, axis=1)\n",
    "    df_new = df_drop.copy()\n",
    "\n",
    "    # Trocar os NaN por 'outros'\n",
    "\n",
    "    df_new.loc[df_new['Fabric'].isnull(), 'Fabric'] = 'outros'\n",
    "    df_new.loc[df_new['Pattern'].isnull(), 'Pattern'] = 'outros'\n",
    "    df_new.loc[df_new['Style Code'].isnull(), 'Style Code'] = 'outros'\n",
    "    df_new.loc[df_new['Pack of'].isnull(), 'Pack of'] = 'outros'\n",
    "    df_new.loc[df_new['Type'].isnull(), 'Type'] = 'outros'\n",
    "    df_new.loc[df_new['Sleeve'].isnull(), 'Sleeve'] = 'outros'\n",
    "    df_new.loc[df_new['Fit'].isnull(), 'Fit'] = 'outros'\n",
    "    df_new.loc[df_new['Ideal For'].isnull(), 'Ideal For'] = 'outros'\n",
    "    df_new.loc[df_new['Suitable For'].isnull(), 'Suitable For'] = 'outros'\n",
    "    df_new.loc[df_new['Reversible'].isnull(), 'Reversible'] = 'outros'\n",
    "    df_new.loc[df_new['Fabric Care'].isnull(), 'Fabric Care'] = 'outros'\n",
    "\n",
    "    df_new.head()\n",
    "\n",
    "    def type_sex(value):\n",
    "        if value == 'Men':\n",
    "            return 'Men'\n",
    "        elif value == 'Men, Boys':\n",
    "            return 'all_ages'\n",
    "        elif value == 'Boys, Men':\n",
    "            return 'all_ages'\n",
    "        elif value == 'Boys, Girls, Men, Women':\n",
    "            return 'unisex_all_ages'\n",
    "        elif value == 'Women, Men':\n",
    "            return 'Unisex'\n",
    "        else:\n",
    "            return 'outros'\n",
    "\n",
    "    df_new['Ideal For'] = df_new['Ideal For'].map(type_sex)\n",
    "\n",
    "    df = pd.concat([df, df_new], axis=1)\n",
    "    \n",
    "    df['cotton'] = df['Fabric'].apply(lambda x: 1 if 'cotton' in x.lower() else 0)\n",
    "    df['poly'] = df['Fabric'].apply(lambda x: 1 if 'poly' in x.lower() else 0)\n",
    "    df['not_cotton_or_poly'] = df['Fabric'].apply(lambda x: 1 if ('poly' not in x.lower()) and ('cotton' not in x.lower()) else 0)\n",
    "    \n",
    "    return df"
   ]
  },
  {
   "cell_type": "markdown",
   "id": "1c83d907",
   "metadata": {},
   "source": [
    "# Load Data"
   ]
  },
  {
   "cell_type": "code",
   "execution_count": 264,
   "id": "d0d2e3d5",
   "metadata": {
    "ExecuteTime": {
     "end_time": "2023-10-22T17:38:50.229330Z",
     "start_time": "2023-10-22T17:38:49.261268Z"
    }
   },
   "outputs": [
    {
     "data": {
      "text/html": [
       "<div>\n",
       "<style scoped>\n",
       "    .dataframe tbody tr th:only-of-type {\n",
       "        vertical-align: middle;\n",
       "    }\n",
       "\n",
       "    .dataframe tbody tr th {\n",
       "        vertical-align: top;\n",
       "    }\n",
       "\n",
       "    .dataframe thead th {\n",
       "        text-align: right;\n",
       "    }\n",
       "</style>\n",
       "<table border=\"1\" class=\"dataframe\">\n",
       "  <thead>\n",
       "    <tr style=\"text-align: right;\">\n",
       "      <th></th>\n",
       "      <th>_id</th>\n",
       "      <th>average_rating</th>\n",
       "      <th>number_of_reviews</th>\n",
       "      <th>brand</th>\n",
       "      <th>category</th>\n",
       "      <th>crawled_at</th>\n",
       "      <th>description</th>\n",
       "      <th>images</th>\n",
       "      <th>out_of_stock</th>\n",
       "      <th>avg_delivery_time_days</th>\n",
       "      <th>pid</th>\n",
       "      <th>product_details</th>\n",
       "      <th>seller</th>\n",
       "      <th>sub_category</th>\n",
       "      <th>fabrication_time</th>\n",
       "      <th>title</th>\n",
       "      <th>actual_price</th>\n",
       "    </tr>\n",
       "  </thead>\n",
       "  <tbody>\n",
       "    <tr>\n",
       "      <th>0</th>\n",
       "      <td>53df9662-e500-569c-946e-0c8d215a72cd</td>\n",
       "      <td>3.2</td>\n",
       "      <td>26</td>\n",
       "      <td>East I</td>\n",
       "      <td>Clothing and Accessories</td>\n",
       "      <td>2021-02-10 21:17:28</td>\n",
       "      <td>Navy Blue Printed Boxers Has  An Inner  Elasti...</td>\n",
       "      <td>['https://rukminim1.flixcart.com/image/128/128...</td>\n",
       "      <td>False</td>\n",
       "      <td>8</td>\n",
       "      <td>BXRFTZF7JGX75DAW</td>\n",
       "      <td>[{'Color': 'Dark Blue'}, {'Fabric': 'Pure Cott...</td>\n",
       "      <td>ZIYAA</td>\n",
       "      <td>Innerwear and Swimwear</td>\n",
       "      <td>653</td>\n",
       "      <td>Printed Men Boxer  (Pack of 1)</td>\n",
       "      <td>849.0</td>\n",
       "    </tr>\n",
       "    <tr>\n",
       "      <th>1</th>\n",
       "      <td>d0142842-84f7-537d-a06f-d85b76488a5f</td>\n",
       "      <td>4.0</td>\n",
       "      <td>33</td>\n",
       "      <td>dream o</td>\n",
       "      <td>Clothing and Accessories</td>\n",
       "      <td>2021-02-11 01:02:46</td>\n",
       "      <td>smiley printed tshirt on round neck cotton tshirt</td>\n",
       "      <td>['https://rukminim1.flixcart.com/image/128/128...</td>\n",
       "      <td>False</td>\n",
       "      <td>12</td>\n",
       "      <td>TSHFWQM96UHR6A4Q</td>\n",
       "      <td>[{'Type': 'Round Neck'}, {'Sleeve': 'Short Sle...</td>\n",
       "      <td>Dream Onn Creations</td>\n",
       "      <td>Topwear</td>\n",
       "      <td>668</td>\n",
       "      <td>Printed Men Round Neck Orange T-Shirt</td>\n",
       "      <td>699.0</td>\n",
       "    </tr>\n",
       "    <tr>\n",
       "      <th>2</th>\n",
       "      <td>79c8f0d7-30b1-5dd4-9f2f-2fe97782b027</td>\n",
       "      <td>3.9</td>\n",
       "      <td>32</td>\n",
       "      <td>Free Authori</td>\n",
       "      <td>Clothing and Accessories</td>\n",
       "      <td>2021-02-11 00:43:37</td>\n",
       "      <td>Free Authority Presents this Crew Neck Yellow ...</td>\n",
       "      <td>['https://rukminim1.flixcart.com/image/128/128...</td>\n",
       "      <td>False</td>\n",
       "      <td>11</td>\n",
       "      <td>SWSFWCXH2WF6ZYRB</td>\n",
       "      <td>[{'Color': 'Yellow'}, {'Fabric': 'Polycotton'}...</td>\n",
       "      <td>BioworldMerchandising</td>\n",
       "      <td>Winter Wear</td>\n",
       "      <td>53</td>\n",
       "      <td>Full Sleeve Graphic Print Men Sweatshirt</td>\n",
       "      <td>1499.0</td>\n",
       "    </tr>\n",
       "    <tr>\n",
       "      <th>3</th>\n",
       "      <td>0531c28c-7c50-5fbd-9ce3-a7cae3243ad5</td>\n",
       "      <td>3.8</td>\n",
       "      <td>31</td>\n",
       "      <td>HUMBE</td>\n",
       "      <td>Clothing and Accessories</td>\n",
       "      <td>2021-02-10 21:22:10</td>\n",
       "      <td>Cotton Blend FabricCollar / Polo Neck White &amp; ...</td>\n",
       "      <td>['https://rukminim1.flixcart.com/image/128/128...</td>\n",
       "      <td>False</td>\n",
       "      <td>11</td>\n",
       "      <td>TSHFHQH3HKDAGGK9</td>\n",
       "      <td>[{'Type': 'Polo Neck'}, {'Sleeve': 'Short Slee...</td>\n",
       "      <td>HUMBERT</td>\n",
       "      <td>Topwear</td>\n",
       "      <td>510</td>\n",
       "      <td>Solid Men Polo Neck Light Blue, White T-Shirt ...</td>\n",
       "      <td>1699.0</td>\n",
       "    </tr>\n",
       "    <tr>\n",
       "      <th>4</th>\n",
       "      <td>d604baad-472e-5c18-86a3-7b46d4a890c2</td>\n",
       "      <td>2.4</td>\n",
       "      <td>20</td>\n",
       "      <td>Rose We</td>\n",
       "      <td>Clothing and Accessories</td>\n",
       "      <td>2021-02-10 23:36:36</td>\n",
       "      <td>undefined</td>\n",
       "      <td>['https://rukminim1.flixcart.com/image/128/128...</td>\n",
       "      <td>False</td>\n",
       "      <td>5</td>\n",
       "      <td>TSHFW9CJZSYUU6UX</td>\n",
       "      <td>[{'Type': 'Round Neck'}, {'Sleeve': 'Short Sle...</td>\n",
       "      <td>Rupalcollectionjaipur</td>\n",
       "      <td>Topwear</td>\n",
       "      <td>496</td>\n",
       "      <td>Printed Men Round Neck White T-Shirt</td>\n",
       "      <td>599.0</td>\n",
       "    </tr>\n",
       "  </tbody>\n",
       "</table>\n",
       "</div>"
      ],
      "text/plain": [
       "                                    _id  average_rating  number_of_reviews  \\\n",
       "0  53df9662-e500-569c-946e-0c8d215a72cd             3.2                 26   \n",
       "1  d0142842-84f7-537d-a06f-d85b76488a5f             4.0                 33   \n",
       "2  79c8f0d7-30b1-5dd4-9f2f-2fe97782b027             3.9                 32   \n",
       "3  0531c28c-7c50-5fbd-9ce3-a7cae3243ad5             3.8                 31   \n",
       "4  d604baad-472e-5c18-86a3-7b46d4a890c2             2.4                 20   \n",
       "\n",
       "          brand                  category           crawled_at  \\\n",
       "0        East I  Clothing and Accessories  2021-02-10 21:17:28   \n",
       "1       dream o  Clothing and Accessories  2021-02-11 01:02:46   \n",
       "2  Free Authori  Clothing and Accessories  2021-02-11 00:43:37   \n",
       "3         HUMBE  Clothing and Accessories  2021-02-10 21:22:10   \n",
       "4       Rose We  Clothing and Accessories  2021-02-10 23:36:36   \n",
       "\n",
       "                                         description  \\\n",
       "0  Navy Blue Printed Boxers Has  An Inner  Elasti...   \n",
       "1  smiley printed tshirt on round neck cotton tshirt   \n",
       "2  Free Authority Presents this Crew Neck Yellow ...   \n",
       "3  Cotton Blend FabricCollar / Polo Neck White & ...   \n",
       "4                                          undefined   \n",
       "\n",
       "                                              images  out_of_stock  \\\n",
       "0  ['https://rukminim1.flixcart.com/image/128/128...         False   \n",
       "1  ['https://rukminim1.flixcart.com/image/128/128...         False   \n",
       "2  ['https://rukminim1.flixcart.com/image/128/128...         False   \n",
       "3  ['https://rukminim1.flixcart.com/image/128/128...         False   \n",
       "4  ['https://rukminim1.flixcart.com/image/128/128...         False   \n",
       "\n",
       "   avg_delivery_time_days               pid  \\\n",
       "0                       8  BXRFTZF7JGX75DAW   \n",
       "1                      12  TSHFWQM96UHR6A4Q   \n",
       "2                      11  SWSFWCXH2WF6ZYRB   \n",
       "3                      11  TSHFHQH3HKDAGGK9   \n",
       "4                       5  TSHFW9CJZSYUU6UX   \n",
       "\n",
       "                                     product_details                 seller  \\\n",
       "0  [{'Color': 'Dark Blue'}, {'Fabric': 'Pure Cott...                  ZIYAA   \n",
       "1  [{'Type': 'Round Neck'}, {'Sleeve': 'Short Sle...    Dream Onn Creations   \n",
       "2  [{'Color': 'Yellow'}, {'Fabric': 'Polycotton'}...  BioworldMerchandising   \n",
       "3  [{'Type': 'Polo Neck'}, {'Sleeve': 'Short Slee...                HUMBERT   \n",
       "4  [{'Type': 'Round Neck'}, {'Sleeve': 'Short Sle...  Rupalcollectionjaipur   \n",
       "\n",
       "             sub_category  fabrication_time  \\\n",
       "0  Innerwear and Swimwear               653   \n",
       "1                 Topwear               668   \n",
       "2             Winter Wear                53   \n",
       "3                 Topwear               510   \n",
       "4                 Topwear               496   \n",
       "\n",
       "                                               title  actual_price  \n",
       "0                     Printed Men Boxer  (Pack of 1)         849.0  \n",
       "1              Printed Men Round Neck Orange T-Shirt         699.0  \n",
       "2           Full Sleeve Graphic Print Men Sweatshirt        1499.0  \n",
       "3  Solid Men Polo Neck Light Blue, White T-Shirt ...        1699.0  \n",
       "4               Printed Men Round Neck White T-Shirt         599.0  "
      ]
     },
     "execution_count": 264,
     "metadata": {},
     "output_type": "execute_result"
    }
   ],
   "source": [
    "# Opening JSON file\n",
    "train = open('dataset/raw/train.json')\n",
    " \n",
    "# returns JSON object as \n",
    "# a dictionary\n",
    "data_train_aux = json.load(train)\n",
    "\n",
    "data_train = pd.json_normalize(data_train_aux, record_path = 'data')\n",
    "data_train.columns = data_train_aux['columns']\n",
    "data_train.head()"
   ]
  },
  {
   "cell_type": "markdown",
   "id": "0ea9e857",
   "metadata": {},
   "source": [
    "# Data Description"
   ]
  },
  {
   "cell_type": "code",
   "execution_count": 265,
   "id": "343e4620",
   "metadata": {
    "ExecuteTime": {
     "end_time": "2023-10-22T17:38:50.244410Z",
     "start_time": "2023-10-22T17:38:50.235019Z"
    }
   },
   "outputs": [],
   "source": [
    "# retirar descrição\n",
    "# retirar imagem\n",
    "# verificar ids duplicados em id produto\n",
    "# Verificar outliers no price"
   ]
  },
  {
   "cell_type": "markdown",
   "id": "8616ae01",
   "metadata": {},
   "source": [
    "## Removendo colunas"
   ]
  },
  {
   "cell_type": "code",
   "execution_count": 266,
   "id": "4cf08145",
   "metadata": {
    "ExecuteTime": {
     "end_time": "2023-10-22T17:38:50.290099Z",
     "start_time": "2023-10-22T17:38:50.252424Z"
    }
   },
   "outputs": [],
   "source": [
    "data_train = data_train.drop(columns=['description', 'images'])"
   ]
  },
  {
   "cell_type": "markdown",
   "id": "625226f3",
   "metadata": {},
   "source": [
    "## Transformando tipo de dados"
   ]
  },
  {
   "cell_type": "code",
   "execution_count": 267,
   "id": "1ad79624",
   "metadata": {
    "ExecuteTime": {
     "end_time": "2023-10-22T17:38:50.305432Z",
     "start_time": "2023-10-22T17:38:50.293399Z"
    }
   },
   "outputs": [
    {
     "data": {
      "text/plain": [
       "_id                        object\n",
       "average_rating            float64\n",
       "number_of_reviews           int64\n",
       "brand                      object\n",
       "category                   object\n",
       "crawled_at                 object\n",
       "out_of_stock                 bool\n",
       "avg_delivery_time_days      int64\n",
       "pid                        object\n",
       "product_details            object\n",
       "seller                     object\n",
       "sub_category               object\n",
       "fabrication_time            int64\n",
       "title                      object\n",
       "actual_price              float64\n",
       "dtype: object"
      ]
     },
     "execution_count": 267,
     "metadata": {},
     "output_type": "execute_result"
    }
   ],
   "source": [
    "data_train.dtypes"
   ]
  },
  {
   "cell_type": "code",
   "execution_count": 268,
   "id": "0072097b",
   "metadata": {
    "ExecuteTime": {
     "end_time": "2023-10-22T17:38:50.399263Z",
     "start_time": "2023-10-22T17:38:50.309480Z"
    }
   },
   "outputs": [],
   "source": [
    "# transformando de string para data\n",
    "data_train['crawled_at'] = pd.to_datetime(data_train['crawled_at']).dt.date"
   ]
  },
  {
   "cell_type": "markdown",
   "id": "cdb9369e",
   "metadata": {},
   "source": [
    "## Tratando valores nulos"
   ]
  },
  {
   "cell_type": "code",
   "execution_count": 269,
   "id": "1c041d78",
   "metadata": {
    "ExecuteTime": {
     "end_time": "2023-10-22T17:38:50.524576Z",
     "start_time": "2023-10-22T17:38:50.403169Z"
    }
   },
   "outputs": [
    {
     "data": {
      "text/plain": [
       "_id                       0.000000\n",
       "average_rating            0.000000\n",
       "number_of_reviews         0.000000\n",
       "brand                     0.000000\n",
       "category                  0.000000\n",
       "crawled_at                0.000000\n",
       "out_of_stock              0.000000\n",
       "avg_delivery_time_days    0.000000\n",
       "pid                       0.000000\n",
       "product_details           0.000000\n",
       "seller                    0.000000\n",
       "sub_category              0.000000\n",
       "fabrication_time          0.000000\n",
       "title                     0.000000\n",
       "actual_price              0.149985\n",
       "dtype: float64"
      ]
     },
     "execution_count": 269,
     "metadata": {},
     "output_type": "execute_result"
    }
   ],
   "source": [
    "data_train.isna().sum()/data_train.shape[0]"
   ]
  },
  {
   "cell_type": "code",
   "execution_count": 270,
   "id": "26f84127",
   "metadata": {
    "ExecuteTime": {
     "end_time": "2023-10-22T17:38:50.601201Z",
     "start_time": "2023-10-22T17:38:50.527610Z"
    }
   },
   "outputs": [],
   "source": [
    "data_train = data_train.dropna(subset=['actual_price'])"
   ]
  },
  {
   "cell_type": "code",
   "execution_count": 271,
   "id": "5a54e630",
   "metadata": {
    "ExecuteTime": {
     "end_time": "2023-10-22T17:38:50.708132Z",
     "start_time": "2023-10-22T17:38:50.604320Z"
    },
    "scrolled": true
   },
   "outputs": [
    {
     "data": {
      "text/plain": [
       "_id                       0.0\n",
       "average_rating            0.0\n",
       "number_of_reviews         0.0\n",
       "brand                     0.0\n",
       "category                  0.0\n",
       "crawled_at                0.0\n",
       "out_of_stock              0.0\n",
       "avg_delivery_time_days    0.0\n",
       "pid                       0.0\n",
       "product_details           0.0\n",
       "seller                    0.0\n",
       "sub_category              0.0\n",
       "fabrication_time          0.0\n",
       "title                     0.0\n",
       "actual_price              0.0\n",
       "dtype: float64"
      ]
     },
     "execution_count": 271,
     "metadata": {},
     "output_type": "execute_result"
    }
   ],
   "source": [
    "data_train.isna().sum()/data_train.shape[0]"
   ]
  },
  {
   "cell_type": "markdown",
   "id": "f8e8fae6",
   "metadata": {},
   "source": [
    "## Entendendo product Details"
   ]
  },
  {
   "cell_type": "code",
   "execution_count": 272,
   "id": "277e00f7",
   "metadata": {
    "ExecuteTime": {
     "end_time": "2023-10-22T17:38:58.897636Z",
     "start_time": "2023-10-22T17:38:50.711665Z"
    }
   },
   "outputs": [],
   "source": [
    "import ast\n",
    "\n",
    "# pega string de dict e cria uma lista de dicionários\n",
    "def f(x):\n",
    "    try:\n",
    "        return ast.literal_eval(str(x))   \n",
    "    except Exception as e:\n",
    "        print(e)\n",
    "        return []\n",
    "\n",
    "teste = data_train['product_details'].apply(lambda x: f(x))\n",
    "\n",
    "def junta_dict(dict_list):\n",
    "    dicionario = {}\n",
    "    for d in dict_list:\n",
    "        for key, value in d.items():\n",
    "            dicionario[key] = value\n",
    "    return dicionario\n",
    "\n",
    "\n",
    "df = pd.DataFrame([junta_dict(row) for row in teste])"
   ]
  },
  {
   "cell_type": "code",
   "execution_count": 273,
   "id": "ed4bf01c",
   "metadata": {
    "ExecuteTime": {
     "end_time": "2023-10-22T17:39:00.593050Z",
     "start_time": "2023-10-22T17:38:58.903260Z"
    }
   },
   "outputs": [
    {
     "data": {
      "text/plain": [
       "Fabric               1491\n",
       "Style Code           1653\n",
       "Pattern              1661\n",
       "Fabric Care          4305\n",
       "Suitable For         6120\n",
       "                    ...  \n",
       "Shoulder in inch    19811\n",
       "Pleated             19812\n",
       "Region              19812\n",
       "Design              19812\n",
       "Fabric care         19812\n",
       "Length: 124, dtype: int64"
      ]
     },
     "execution_count": 273,
     "metadata": {},
     "output_type": "execute_result"
    }
   ],
   "source": [
    "df = pd.DataFrame([junta_dict(row) for row in teste])\n",
    "df.isna().sum().sort_values()"
   ]
  },
  {
   "cell_type": "markdown",
   "id": "1a3a83f2",
   "metadata": {},
   "source": [
    "# Feature Engineering"
   ]
  },
  {
   "cell_type": "code",
   "execution_count": 274,
   "id": "cf0764da",
   "metadata": {
    "ExecuteTime": {
     "end_time": "2023-10-22T17:39:00.639612Z",
     "start_time": "2023-10-22T17:39:00.596410Z"
    }
   },
   "outputs": [],
   "source": [
    "df4 = data_train.copy()"
   ]
  },
  {
   "cell_type": "code",
   "execution_count": 275,
   "id": "02173cbd",
   "metadata": {
    "ExecuteTime": {
     "end_time": "2023-10-22T17:39:01.405174Z",
     "start_time": "2023-10-22T17:39:00.649034Z"
    }
   },
   "outputs": [],
   "source": [
    "## out_of_stock - transformar para int \n",
    "df4['out_of_stock'] = df4['out_of_stock'].astype('int64')\n",
    "\n",
    "# brand - substituir por outros\n",
    "df4['brand'] = df4['brand'].apply(lambda x: x.lower())\n",
    "\n",
    "# criando feature product\n",
    "df4['product'] = df4[['category', 'sub_category']].apply(lambda x: x['category'] + '_' + x['sub_category'], axis = 1)\n",
    "\n",
    "df4.loc[df4['number_of_reviews'] == 0, 'average_rating'] = -1"
   ]
  },
  {
   "cell_type": "code",
   "execution_count": 276,
   "id": "a808e599",
   "metadata": {
    "ExecuteTime": {
     "end_time": "2023-10-22T17:39:12.495827Z",
     "start_time": "2023-10-22T17:39:01.407879Z"
    }
   },
   "outputs": [],
   "source": [
    "import ast\n",
    "\n",
    "# pega string de dict e cria uma lista de dicionários\n",
    "def f(x):\n",
    "    try:\n",
    "        return ast.literal_eval(str(x))   \n",
    "    except Exception as e:\n",
    "        print(e)\n",
    "        return []\n",
    "\n",
    "\n",
    "\n",
    "def junta_dict(dict_list):\n",
    "    dicionario = {}\n",
    "    for d in dict_list:\n",
    "        for key, value in d.items():\n",
    "            dicionario[key] = value\n",
    "    return dicionario\n",
    "\n",
    "list = df4['product_details'].apply(lambda x: f(x))\n",
    "\n",
    "df_details = pd.DataFrame([junta_dict(row) for row in list], index = list.index)\n",
    "\n",
    "df_drop_columns = df_details.drop(columns=['', ' '])\n",
    "\n",
    "# Removendo valores faltantes acima de 50%\n",
    "limite_nulos = len(df_details) * 0.5  \n",
    "df_drop = df_details.dropna(thresh = limite_nulos, axis=1)\n",
    "df_new = df_drop.copy()\n",
    "\n",
    "# Trocar os NaN por 'outros'\n",
    "\n",
    "df_new.loc[df_new['Fabric'].isnull(), 'Fabric'] = 'outros'\n",
    "df_new.loc[df_new['Pattern'].isnull(), 'Pattern'] = 'outros'\n",
    "df_new.loc[df_new['Style Code'].isnull(), 'Style Code'] = 'outros'\n",
    "df_new.loc[df_new['Pack of'].isnull(), 'Pack of'] = 'outros'\n",
    "df_new.loc[df_new['Type'].isnull(), 'Type'] = 'outros'\n",
    "df_new.loc[df_new['Sleeve'].isnull(), 'Sleeve'] = 'outros'\n",
    "df_new.loc[df_new['Fit'].isnull(), 'Fit'] = 'outros'\n",
    "df_new.loc[df_new['Ideal For'].isnull(), 'Ideal For'] = 'outros'\n",
    "df_new.loc[df_new['Suitable For'].isnull(), 'Suitable For'] = 'outros'\n",
    "df_new.loc[df_new['Reversible'].isnull(), 'Reversible'] = 'outros'\n",
    "df_new.loc[df_new['Fabric Care'].isnull(), 'Fabric Care'] = 'outros'\n",
    "\n",
    "df_new.head()\n",
    "\n",
    "def type_sex(value):\n",
    "    if value == 'Men':\n",
    "        return 'Men'\n",
    "    elif value == 'Men, Boys':\n",
    "        return 'all_ages'\n",
    "    elif value == 'Boys, Men':\n",
    "        return 'all_ages'\n",
    "    elif value == 'Boys, Girls, Men, Women':\n",
    "        return 'unisex_all_ages'\n",
    "    elif value == 'Women, Men':\n",
    "        return 'Unisex'\n",
    "    else:\n",
    "        return 'outros'\n",
    "\n",
    "df_new['Ideal For'] = df_new['Ideal For'].map(type_sex)\n",
    "\n",
    "df4 = pd.concat([df4, df_new], axis=1)\n",
    "\n",
    "## Tratando variaveis respostas nulas\n",
    "prices = df4[['seller','pid', 'actual_price']].groupby('pid').max().reset_index()\n",
    "\n",
    "precos_nulos = df4.loc[df4['actual_price'].isna(), ['_id','pid']]\n",
    "\n",
    "precos_recuperados = pd.merge(precos_nulos, prices, how = 'inner', on = 'pid')\n",
    "\n",
    "df4_aux = pd.merge(df4, precos_recuperados[['_id', 'actual_price']], on = '_id', how = 'left')\n",
    "df4['actual_price'] = df4_aux['actual_price_x'].fillna(0) + df4_aux['actual_price_y'].fillna(0)\n",
    "\n",
    "df4 = df4.dropna(subset=['actual_price'])\n",
    "\n",
    "df4 = df4.loc[df4['actual_price'] <= 8000]\n",
    "\n",
    "# Novas Features de roupa\n",
    "\n",
    "df4['cotton'] = df4['Fabric'].apply(lambda x: 1 if 'cotton' in x.lower() else 0)\n",
    "df4['poly'] = df4['Fabric'].apply(lambda x: 1 if 'poly' in x.lower() else 0)\n",
    "df4['not_cotton_or_poly'] = df4['Fabric'].apply(lambda x: 1 if ('poly' not in x.lower()) and ('cotton' not in x.lower()) else 0)"
   ]
  },
  {
   "cell_type": "markdown",
   "id": "e7467521",
   "metadata": {},
   "source": [
    "# EDA"
   ]
  },
  {
   "cell_type": "code",
   "execution_count": 277,
   "id": "f8715db2",
   "metadata": {
    "ExecuteTime": {
     "end_time": "2023-10-22T17:39:12.526539Z",
     "start_time": "2023-10-22T17:39:12.500072Z"
    }
   },
   "outputs": [],
   "source": [
    "df5 = df4.copy()"
   ]
  },
  {
   "cell_type": "code",
   "execution_count": 278,
   "id": "4ae65ebc",
   "metadata": {},
   "outputs": [],
   "source": [
    "# import dtale\n",
    "\n",
    "\n",
    "# # Assigning a reference to a running D-Tale process\n",
    "# d = dtale.show(df5)\n",
    "\n",
    "# # Accessing data associated with D-Tale process\n",
    "# tmp = d.data.copy()\n",
    "# tmp['d'] = 4\n",
    "\n",
    "# # Altering data associated with D-Tale process\n",
    "# # FYI: this will clear any front-end settings you have at the time for this process (filter, sorts, formatting)\n",
    "# d.data = tmp\n",
    "\n",
    "# # Shutting down D-Tale process\n",
    "# #d.kill()\n",
    "\n",
    "# # using Python's `webbrowser` package it will try and open your server's default browser to this process\n",
    "# d.open_browser()\n",
    "\n",
    "# # There is also some helpful metadata about the process\n",
    "# d._data_id  # the process's data identifier\n",
    "# d._url  # the url to access the process\n",
    "\n",
    "# d2 = dtale.get_instance(d._data_id)  # returns a new reference to the instance running at that data_id\n",
    "\n",
    "# dtale.instances()  # prints a list of all ids & urls of running D-Tale sessions"
   ]
  },
  {
   "cell_type": "code",
   "execution_count": 279,
   "id": "0f00b6be",
   "metadata": {
    "ExecuteTime": {
     "end_time": "2023-10-22T17:39:12.587041Z",
     "start_time": "2023-10-22T17:39:12.529707Z"
    },
    "scrolled": false
   },
   "outputs": [
    {
     "data": {
      "text/html": [
       "<div>\n",
       "<style scoped>\n",
       "    .dataframe tbody tr th:only-of-type {\n",
       "        vertical-align: middle;\n",
       "    }\n",
       "\n",
       "    .dataframe tbody tr th {\n",
       "        vertical-align: top;\n",
       "    }\n",
       "\n",
       "    .dataframe thead th {\n",
       "        text-align: right;\n",
       "    }\n",
       "</style>\n",
       "<table border=\"1\" class=\"dataframe\">\n",
       "  <thead>\n",
       "    <tr style=\"text-align: right;\">\n",
       "      <th></th>\n",
       "      <th>_id</th>\n",
       "      <th>average_rating</th>\n",
       "      <th>number_of_reviews</th>\n",
       "      <th>brand</th>\n",
       "      <th>category</th>\n",
       "      <th>crawled_at</th>\n",
       "      <th>out_of_stock</th>\n",
       "      <th>avg_delivery_time_days</th>\n",
       "      <th>pid</th>\n",
       "      <th>product_details</th>\n",
       "      <th>...</th>\n",
       "      <th>Type</th>\n",
       "      <th>Sleeve</th>\n",
       "      <th>Fit</th>\n",
       "      <th>Ideal For</th>\n",
       "      <th>Suitable For</th>\n",
       "      <th>Reversible</th>\n",
       "      <th>Fabric Care</th>\n",
       "      <th>cotton</th>\n",
       "      <th>poly</th>\n",
       "      <th>not_cotton_or_poly</th>\n",
       "    </tr>\n",
       "  </thead>\n",
       "  <tbody>\n",
       "  </tbody>\n",
       "</table>\n",
       "<p>0 rows × 30 columns</p>\n",
       "</div>"
      ],
      "text/plain": [
       "Empty DataFrame\n",
       "Columns: [_id, average_rating, number_of_reviews, brand, category, crawled_at, out_of_stock, avg_delivery_time_days, pid, product_details, seller, sub_category, fabrication_time, title, actual_price, product, Fabric, Pattern, Style Code, Pack of, Type, Sleeve, Fit, Ideal For, Suitable For, Reversible, Fabric Care, cotton, poly, not_cotton_or_poly]\n",
       "Index: []\n",
       "\n",
       "[0 rows x 30 columns]"
      ]
     },
     "execution_count": 279,
     "metadata": {},
     "output_type": "execute_result"
    }
   ],
   "source": [
    "df5.loc[df5['actual_price'] > 8000]"
   ]
  },
  {
   "cell_type": "markdown",
   "id": "5140daa9",
   "metadata": {},
   "source": [
    "# Data Preparation"
   ]
  },
  {
   "cell_type": "code",
   "execution_count": 280,
   "id": "68f43f40",
   "metadata": {
    "ExecuteTime": {
     "end_time": "2023-10-22T17:39:13.727470Z",
     "start_time": "2023-10-22T17:39:13.687315Z"
    }
   },
   "outputs": [],
   "source": [
    "df6 = df5.copy()"
   ]
  },
  {
   "cell_type": "code",
   "execution_count": 281,
   "id": "b9e94537",
   "metadata": {},
   "outputs": [
    {
     "data": {
      "text/html": [
       "<div>\n",
       "<style scoped>\n",
       "    .dataframe tbody tr th:only-of-type {\n",
       "        vertical-align: middle;\n",
       "    }\n",
       "\n",
       "    .dataframe tbody tr th {\n",
       "        vertical-align: top;\n",
       "    }\n",
       "\n",
       "    .dataframe thead th {\n",
       "        text-align: right;\n",
       "    }\n",
       "</style>\n",
       "<table border=\"1\" class=\"dataframe\">\n",
       "  <thead>\n",
       "    <tr style=\"text-align: right;\">\n",
       "      <th></th>\n",
       "      <th>_id</th>\n",
       "      <th>average_rating</th>\n",
       "      <th>number_of_reviews</th>\n",
       "      <th>brand</th>\n",
       "      <th>category</th>\n",
       "      <th>crawled_at</th>\n",
       "      <th>out_of_stock</th>\n",
       "      <th>avg_delivery_time_days</th>\n",
       "      <th>pid</th>\n",
       "      <th>product_details</th>\n",
       "      <th>...</th>\n",
       "      <th>Type</th>\n",
       "      <th>Sleeve</th>\n",
       "      <th>Fit</th>\n",
       "      <th>Ideal For</th>\n",
       "      <th>Suitable For</th>\n",
       "      <th>Reversible</th>\n",
       "      <th>Fabric Care</th>\n",
       "      <th>cotton</th>\n",
       "      <th>poly</th>\n",
       "      <th>not_cotton_or_poly</th>\n",
       "    </tr>\n",
       "  </thead>\n",
       "  <tbody>\n",
       "    <tr>\n",
       "      <th>0</th>\n",
       "      <td>53df9662-e500-569c-946e-0c8d215a72cd</td>\n",
       "      <td>3.2</td>\n",
       "      <td>26</td>\n",
       "      <td>east i</td>\n",
       "      <td>Clothing and Accessories</td>\n",
       "      <td>2021-02-10</td>\n",
       "      <td>0</td>\n",
       "      <td>8</td>\n",
       "      <td>BXRFTZF7JGX75DAW</td>\n",
       "      <td>[{'Color': 'Dark Blue'}, {'Fabric': 'Pure Cott...</td>\n",
       "      <td>...</td>\n",
       "      <td>outros</td>\n",
       "      <td>outros</td>\n",
       "      <td>outros</td>\n",
       "      <td>outros</td>\n",
       "      <td>outros</td>\n",
       "      <td>outros</td>\n",
       "      <td>outros</td>\n",
       "      <td>1</td>\n",
       "      <td>0</td>\n",
       "      <td>0</td>\n",
       "    </tr>\n",
       "    <tr>\n",
       "      <th>1</th>\n",
       "      <td>d0142842-84f7-537d-a06f-d85b76488a5f</td>\n",
       "      <td>4.0</td>\n",
       "      <td>33</td>\n",
       "      <td>dream o</td>\n",
       "      <td>Clothing and Accessories</td>\n",
       "      <td>2021-02-11</td>\n",
       "      <td>0</td>\n",
       "      <td>12</td>\n",
       "      <td>TSHFWQM96UHR6A4Q</td>\n",
       "      <td>[{'Type': 'Round Neck'}, {'Sleeve': 'Short Sle...</td>\n",
       "      <td>...</td>\n",
       "      <td>Round Neck</td>\n",
       "      <td>Short Sleeve</td>\n",
       "      <td>Regular</td>\n",
       "      <td>Men</td>\n",
       "      <td>Western Wear</td>\n",
       "      <td>No</td>\n",
       "      <td>Do not Iron on print/embroidery/embellishment</td>\n",
       "      <td>1</td>\n",
       "      <td>0</td>\n",
       "      <td>0</td>\n",
       "    </tr>\n",
       "    <tr>\n",
       "      <th>2</th>\n",
       "      <td>79c8f0d7-30b1-5dd4-9f2f-2fe97782b027</td>\n",
       "      <td>3.9</td>\n",
       "      <td>32</td>\n",
       "      <td>free authori</td>\n",
       "      <td>Clothing and Accessories</td>\n",
       "      <td>2021-02-11</td>\n",
       "      <td>0</td>\n",
       "      <td>11</td>\n",
       "      <td>SWSFWCXH2WF6ZYRB</td>\n",
       "      <td>[{'Color': 'Yellow'}, {'Fabric': 'Polycotton'}...</td>\n",
       "      <td>...</td>\n",
       "      <td>outros</td>\n",
       "      <td>Full Sleeve</td>\n",
       "      <td>outros</td>\n",
       "      <td>outros</td>\n",
       "      <td>Western Wear</td>\n",
       "      <td>No</td>\n",
       "      <td>Hand Wash, Reverse and Dry</td>\n",
       "      <td>1</td>\n",
       "      <td>1</td>\n",
       "      <td>0</td>\n",
       "    </tr>\n",
       "    <tr>\n",
       "      <th>3</th>\n",
       "      <td>0531c28c-7c50-5fbd-9ce3-a7cae3243ad5</td>\n",
       "      <td>3.8</td>\n",
       "      <td>31</td>\n",
       "      <td>humbe</td>\n",
       "      <td>Clothing and Accessories</td>\n",
       "      <td>2021-02-10</td>\n",
       "      <td>0</td>\n",
       "      <td>11</td>\n",
       "      <td>TSHFHQH3HKDAGGK9</td>\n",
       "      <td>[{'Type': 'Polo Neck'}, {'Sleeve': 'Short Slee...</td>\n",
       "      <td>...</td>\n",
       "      <td>Polo Neck</td>\n",
       "      <td>Short Sleeve</td>\n",
       "      <td>Regular</td>\n",
       "      <td>Men</td>\n",
       "      <td>Western Wear</td>\n",
       "      <td>No</td>\n",
       "      <td>Gentle Machine Wash</td>\n",
       "      <td>1</td>\n",
       "      <td>0</td>\n",
       "      <td>0</td>\n",
       "    </tr>\n",
       "    <tr>\n",
       "      <th>4</th>\n",
       "      <td>d604baad-472e-5c18-86a3-7b46d4a890c2</td>\n",
       "      <td>2.4</td>\n",
       "      <td>20</td>\n",
       "      <td>rose we</td>\n",
       "      <td>Clothing and Accessories</td>\n",
       "      <td>2021-02-10</td>\n",
       "      <td>0</td>\n",
       "      <td>5</td>\n",
       "      <td>TSHFW9CJZSYUU6UX</td>\n",
       "      <td>[{'Type': 'Round Neck'}, {'Sleeve': 'Short Sle...</td>\n",
       "      <td>...</td>\n",
       "      <td>Round Neck</td>\n",
       "      <td>Short Sleeve</td>\n",
       "      <td>Regular</td>\n",
       "      <td>Men</td>\n",
       "      <td>Western Wear</td>\n",
       "      <td>outros</td>\n",
       "      <td>Regular Machine Wash</td>\n",
       "      <td>1</td>\n",
       "      <td>0</td>\n",
       "      <td>0</td>\n",
       "    </tr>\n",
       "  </tbody>\n",
       "</table>\n",
       "<p>5 rows × 30 columns</p>\n",
       "</div>"
      ],
      "text/plain": [
       "                                    _id  average_rating  number_of_reviews  \\\n",
       "0  53df9662-e500-569c-946e-0c8d215a72cd             3.2                 26   \n",
       "1  d0142842-84f7-537d-a06f-d85b76488a5f             4.0                 33   \n",
       "2  79c8f0d7-30b1-5dd4-9f2f-2fe97782b027             3.9                 32   \n",
       "3  0531c28c-7c50-5fbd-9ce3-a7cae3243ad5             3.8                 31   \n",
       "4  d604baad-472e-5c18-86a3-7b46d4a890c2             2.4                 20   \n",
       "\n",
       "          brand                  category  crawled_at  out_of_stock  \\\n",
       "0        east i  Clothing and Accessories  2021-02-10             0   \n",
       "1       dream o  Clothing and Accessories  2021-02-11             0   \n",
       "2  free authori  Clothing and Accessories  2021-02-11             0   \n",
       "3         humbe  Clothing and Accessories  2021-02-10             0   \n",
       "4       rose we  Clothing and Accessories  2021-02-10             0   \n",
       "\n",
       "   avg_delivery_time_days               pid  \\\n",
       "0                       8  BXRFTZF7JGX75DAW   \n",
       "1                      12  TSHFWQM96UHR6A4Q   \n",
       "2                      11  SWSFWCXH2WF6ZYRB   \n",
       "3                      11  TSHFHQH3HKDAGGK9   \n",
       "4                       5  TSHFW9CJZSYUU6UX   \n",
       "\n",
       "                                     product_details  ...        Type  \\\n",
       "0  [{'Color': 'Dark Blue'}, {'Fabric': 'Pure Cott...  ...      outros   \n",
       "1  [{'Type': 'Round Neck'}, {'Sleeve': 'Short Sle...  ...  Round Neck   \n",
       "2  [{'Color': 'Yellow'}, {'Fabric': 'Polycotton'}...  ...      outros   \n",
       "3  [{'Type': 'Polo Neck'}, {'Sleeve': 'Short Slee...  ...   Polo Neck   \n",
       "4  [{'Type': 'Round Neck'}, {'Sleeve': 'Short Sle...  ...  Round Neck   \n",
       "\n",
       "         Sleeve      Fit Ideal For  Suitable For Reversible  \\\n",
       "0        outros   outros    outros        outros     outros   \n",
       "1  Short Sleeve  Regular       Men  Western Wear         No   \n",
       "2   Full Sleeve   outros    outros  Western Wear         No   \n",
       "3  Short Sleeve  Regular       Men  Western Wear         No   \n",
       "4  Short Sleeve  Regular       Men  Western Wear     outros   \n",
       "\n",
       "                                     Fabric Care cotton poly  \\\n",
       "0                                         outros      1    0   \n",
       "1  Do not Iron on print/embroidery/embellishment      1    0   \n",
       "2                     Hand Wash, Reverse and Dry      1    1   \n",
       "3                            Gentle Machine Wash      1    0   \n",
       "4                           Regular Machine Wash      1    0   \n",
       "\n",
       "  not_cotton_or_poly  \n",
       "0                  0  \n",
       "1                  0  \n",
       "2                  0  \n",
       "3                  0  \n",
       "4                  0  \n",
       "\n",
       "[5 rows x 30 columns]"
      ]
     },
     "execution_count": 281,
     "metadata": {},
     "output_type": "execute_result"
    }
   ],
   "source": [
    "df6.head()"
   ]
  },
  {
   "cell_type": "markdown",
   "id": "dddaf50a",
   "metadata": {},
   "source": [
    "## Split Dataset"
   ]
  },
  {
   "cell_type": "code",
   "execution_count": 282,
   "id": "5d90c1cd",
   "metadata": {
    "ExecuteTime": {
     "end_time": "2023-10-22T17:39:14.131505Z",
     "start_time": "2023-10-22T17:39:13.940265Z"
    }
   },
   "outputs": [],
   "source": [
    "X = df6.drop(['_id','pid','actual_price'], axis=1)\n",
    "y = df6['actual_price']\n",
    "\n",
    "X_train, X_test, y_train, y_test = ms.train_test_split(X, y, test_size=0.2, random_state=1)\n",
    "data_train = pd.concat([X_train, y_train], axis=1)\n",
    "data_test = pd.concat([X_test, y_test], axis=1)"
   ]
  },
  {
   "cell_type": "markdown",
   "id": "492ffd74",
   "metadata": {},
   "source": [
    "## Rescalling"
   ]
  },
  {
   "cell_type": "code",
   "execution_count": 283,
   "id": "254a41af",
   "metadata": {
    "ExecuteTime": {
     "end_time": "2023-10-22T17:39:14.147073Z",
     "start_time": "2023-10-22T17:39:14.138347Z"
    }
   },
   "outputs": [
    {
     "data": {
      "text/plain": [
       "Index(['average_rating', 'number_of_reviews', 'brand', 'category',\n",
       "       'crawled_at', 'out_of_stock', 'avg_delivery_time_days',\n",
       "       'product_details', 'seller', 'sub_category', 'fabrication_time',\n",
       "       'title', 'product', 'Fabric', 'Pattern', 'Style Code', 'Pack of',\n",
       "       'Type', 'Sleeve', 'Fit', 'Ideal For', 'Suitable For', 'Reversible',\n",
       "       'Fabric Care', 'cotton', 'poly', 'not_cotton_or_poly'],\n",
       "      dtype='object')"
      ]
     },
     "execution_count": 283,
     "metadata": {},
     "output_type": "execute_result"
    }
   ],
   "source": [
    "X_train.columns"
   ]
  },
  {
   "cell_type": "markdown",
   "id": "7b5d3e4d",
   "metadata": {},
   "source": [
    "### Min Max Scaler"
   ]
  },
  {
   "cell_type": "code",
   "execution_count": 284,
   "id": "3211520b",
   "metadata": {
    "ExecuteTime": {
     "end_time": "2023-10-22T17:39:14.192674Z",
     "start_time": "2023-10-22T17:39:14.155069Z"
    }
   },
   "outputs": [],
   "source": [
    "mm = pp.MinMaxScaler()\n",
    "\n",
    "X_train['avg_delivery_time_days'] = mm.fit_transform(X_train[['avg_delivery_time_days']])\n",
    "pickle.dump(mm, open('parameters/mm_avg_delivery_time_days.pkl','wb'))"
   ]
  },
  {
   "cell_type": "markdown",
   "id": "325cece4",
   "metadata": {},
   "source": [
    "### Robust Scaler"
   ]
  },
  {
   "cell_type": "code",
   "execution_count": 285,
   "id": "2155c696",
   "metadata": {
    "ExecuteTime": {
     "end_time": "2023-10-22T17:39:14.268768Z",
     "start_time": "2023-10-22T17:39:14.198800Z"
    }
   },
   "outputs": [],
   "source": [
    "rs_average_rating   = pp.RobustScaler()\n",
    "rs_number_of_reviews = pp.RobustScaler()\n",
    "\n",
    "X_train['average_rating'] = rs_average_rating.fit_transform(X_train[['average_rating']])\n",
    "pickle.dump(rs_average_rating, open('parameters/rs_average_rating.pkl','wb'))\n",
    "\n",
    "X_train['number_of_reviews'] = rs_number_of_reviews.fit_transform(X_train[['number_of_reviews']])\n",
    "pickle.dump(rs_number_of_reviews, open('parameters/rs_number_of_reviews.pkl','wb'))"
   ]
  },
  {
   "cell_type": "markdown",
   "id": "c0c59710",
   "metadata": {},
   "source": [
    "## Transformation"
   ]
  },
  {
   "cell_type": "markdown",
   "id": "ff788903",
   "metadata": {},
   "source": [
    "### One Hot Enconde"
   ]
  },
  {
   "cell_type": "code",
   "execution_count": 286,
   "id": "5c34f589",
   "metadata": {
    "ExecuteTime": {
     "end_time": "2023-10-22T17:39:14.283820Z",
     "start_time": "2023-10-22T17:39:14.274818Z"
    }
   },
   "outputs": [],
   "source": [
    "# 'out_of_stock'"
   ]
  },
  {
   "cell_type": "markdown",
   "id": "c1f9429b",
   "metadata": {},
   "source": [
    "### Target Encode"
   ]
  },
  {
   "cell_type": "code",
   "execution_count": 287,
   "id": "094130c6",
   "metadata": {
    "ExecuteTime": {
     "end_time": "2023-10-22T17:39:16.929796Z",
     "start_time": "2023-10-22T17:39:14.292902Z"
    }
   },
   "outputs": [],
   "source": [
    "for att in ['Ideal For', 'Reversible', 'Suitable For', 'seller', 'product', 'Type', 'Fit', 'Sleeve']:\n",
    "    te = ce.TargetEncoder(cols=[att]).fit(X_train, y_train)\n",
    "    pickle.dump(te, open(f'parameters/te_{att}.pkl','wb'))\n",
    "    X_train = te.transform(X_train)"
   ]
  },
  {
   "cell_type": "markdown",
   "id": "527eaecc",
   "metadata": {},
   "source": [
    "### Frequency Encode"
   ]
  },
  {
   "cell_type": "code",
   "execution_count": 288,
   "id": "f1ce9035",
   "metadata": {
    "ExecuteTime": {
     "end_time": "2023-10-22T17:39:17.779449Z",
     "start_time": "2023-10-22T17:39:16.936264Z"
    }
   },
   "outputs": [],
   "source": [
    "for att in ['brand','Style Code','Pack of', 'Pattern']:\n",
    "    fe =  ce.CountEncoder(cols=[att], normalize=True).fit(X_train)\n",
    "    pickle.dump(fe,open(f'parameters/fe_{att}.pkl', 'wb'))\n",
    "    X_train = fe.transform(X_train)"
   ]
  },
  {
   "cell_type": "markdown",
   "id": "3788f05a",
   "metadata": {},
   "source": [
    "## Test Preparation"
   ]
  },
  {
   "cell_type": "code",
   "execution_count": 289,
   "id": "57ee7add",
   "metadata": {},
   "outputs": [],
   "source": [
    "# Passando a variável resposta do >>treino<< para log\n",
    "y_train = np.log1p(y_train)"
   ]
  },
  {
   "cell_type": "code",
   "execution_count": 290,
   "id": "c6c40a02",
   "metadata": {
    "ExecuteTime": {
     "end_time": "2023-10-22T17:39:18.621077Z",
     "start_time": "2023-10-22T17:39:17.891146Z"
    },
    "scrolled": true
   },
   "outputs": [],
   "source": [
    "X_test_mod, y_test_mod = test_preparation(X_test, y_test)"
   ]
  },
  {
   "cell_type": "markdown",
   "id": "1d0cc108",
   "metadata": {},
   "source": [
    "# Feature Selection"
   ]
  },
  {
   "cell_type": "code",
   "execution_count": 291,
   "id": "3b98ad6a",
   "metadata": {
    "ExecuteTime": {
     "end_time": "2023-10-22T17:39:18.699190Z",
     "start_time": "2023-10-22T17:39:18.673789Z"
    }
   },
   "outputs": [
    {
     "data": {
      "text/plain": [
       "['average_rating',\n",
       " 'number_of_reviews',\n",
       " 'brand',\n",
       " 'category',\n",
       " 'crawled_at',\n",
       " 'out_of_stock',\n",
       " 'avg_delivery_time_days',\n",
       " 'product_details',\n",
       " 'seller',\n",
       " 'sub_category',\n",
       " 'fabrication_time',\n",
       " 'title',\n",
       " 'product',\n",
       " 'Fabric',\n",
       " 'Pattern',\n",
       " 'Style Code',\n",
       " 'Pack of',\n",
       " 'Type',\n",
       " 'Sleeve',\n",
       " 'Fit',\n",
       " 'Ideal For',\n",
       " 'Suitable For',\n",
       " 'Reversible',\n",
       " 'Fabric Care',\n",
       " 'cotton',\n",
       " 'poly',\n",
       " 'not_cotton_or_poly']"
      ]
     },
     "execution_count": 291,
     "metadata": {},
     "output_type": "execute_result"
    }
   ],
   "source": [
    "X_train.columns.tolist()"
   ]
  },
  {
   "cell_type": "code",
   "execution_count": 292,
   "id": "cfd36892",
   "metadata": {
    "ExecuteTime": {
     "end_time": "2023-10-22T17:39:18.760046Z",
     "start_time": "2023-10-22T17:39:18.749168Z"
    }
   },
   "outputs": [],
   "source": [
    "features_selected = [\n",
    "'average_rating',\n",
    "# 'number_of_reviews',\n",
    "'brand',\n",
    "# 'category',\n",
    "# 'crawled_at',\n",
    "# 'out_of_stock',\n",
    "# 'avg_delivery_time_days',\n",
    "#  'product_details',\n",
    "'seller',\n",
    "#  'sub_category',\n",
    "#  'fabrication_time',\n",
    "#  'title',\n",
    "#  'Fabric',\n",
    "'Pattern',\n",
    "'cotton',\n",
    "'poly',\n",
    "# 'not_cotton_or_poly',\n",
    "# 'Style Code',\n",
    "'Pack of',\n",
    "'Type',\n",
    "'Sleeve',\n",
    "'Fit',\n",
    "'Ideal For',\n",
    "'Suitable For',\n",
    "'Reversible',\n",
    "#  'Fabric Care',\n",
    "'product'\n",
    "]"
   ]
  },
  {
   "cell_type": "markdown",
   "id": "63cd1eef",
   "metadata": {},
   "source": [
    "## Importancia das árvores"
   ]
  },
  {
   "cell_type": "code",
   "execution_count": 293,
   "id": "712f20ba",
   "metadata": {
    "ExecuteTime": {
     "end_time": "2023-10-22T17:39:19.343251Z",
     "start_time": "2023-10-22T17:39:18.763960Z"
    }
   },
   "outputs": [
    {
     "name": "stdout",
     "output_type": "stream",
     "text": [
      "[LightGBM] [Warning] Found whitespace in feature_names, replace with underlines\n",
      "[LightGBM] [Info] Auto-choosing col-wise multi-threading, the overhead of testing was 0.000992 seconds.\n",
      "You can set `force_col_wise=true` to remove the overhead.\n",
      "[LightGBM] [Info] Total Bins 575\n",
      "[LightGBM] [Info] Number of data points in the train set: 13467, number of used features: 14\n",
      "[LightGBM] [Info] Start training from score 7.139233\n",
      "Feature ranking\n",
      "          feature  importance\n",
      "0  average_rating         582\n",
      "0          seller         535\n",
      "0           brand         400\n",
      "0         Pattern         379\n",
      "0            Type         308\n",
      "0          Sleeve         176\n",
      "0             Fit         171\n",
      "0         Pack of         114\n",
      "0         product         104\n",
      "0          cotton          66\n",
      "0      Reversible          46\n",
      "0            poly          43\n",
      "0    Suitable For          42\n",
      "0       Ideal For          34\n"
     ]
    }
   ],
   "source": [
    "# Crie e treine o modelo LGBMClassifier\n",
    "lgb_model = LGBMRegressor(n_jobs=-1, random_state=42)\n",
    "X_train_sel = X_train[features_selected]\n",
    "lgb_model.fit(X_train_sel, y_train)\n",
    "\n",
    "# Obtenha as importâncias das características do modelo\n",
    "importances = lgb_model.feature_importances_\n",
    "\n",
    "# Ordene as características por importância decrescente\n",
    "indices = np.argsort(importances)[::-1]\n",
    "\n",
    "# Imprima o ranking das características\n",
    "print('Feature ranking')\n",
    "df = pd.DataFrame()\n",
    "\n",
    "for i, j in zip(X_train_sel.columns, importances):\n",
    "    aux = pd.DataFrame({'feature': i, 'importance': j}, index=[0])\n",
    "    df = pd.concat([df, aux], axis=0)\n",
    "\n",
    "print(df.sort_values('importance', ascending=False))"
   ]
  },
  {
   "cell_type": "markdown",
   "id": "c0547cfa",
   "metadata": {},
   "source": [
    "# Machine Learning"
   ]
  },
  {
   "cell_type": "code",
   "execution_count": null,
   "id": "56466c10",
   "metadata": {},
   "outputs": [],
   "source": []
  },
  {
   "cell_type": "code",
   "execution_count": 304,
   "id": "8cc00635",
   "metadata": {},
   "outputs": [],
   "source": [
    "def smape(y_true, y_pred):\n",
    "    return 100 * np.mean(2 * np.abs(y_pred - y_true) / (np.abs(y_true) + np.abs(y_pred)))\n",
    "    # return 100 * np.sum(2 * np.abs(np.expm1(y_pred) - np.expm1(y_test)) / (np.abs(np.expm1(y_test)) + np.abs(np.expm1(y_pred))))\n",
    "\n",
    "def MachineLearning(X_train, y_train, X_test, y_test, features_selected):\n",
    "    SEED = 42\n",
    "\n",
    "    lista_de_medidas = ['SMAPE']\n",
    "    nome_das_medidas = ['SMAPE']\n",
    "\n",
    "    lista_de_modelos = [XGBRegressor(learning_rate=0.1, n_estimators=50, max_depth=3),\n",
    "                        LGBMRegressor(random_state=SEED, n_jobs=-1, force_row_wise=True),\n",
    "                        DecisionTreeRegressor(random_state=SEED),\n",
    "                        KNeighborsRegressor(n_neighbors=5, weights='distance', n_jobs=-1),\n",
    "                        BaggingRegressor(),\n",
    "                        RandomForestRegressor(random_state=SEED)]\n",
    "\n",
    "    nome_dos_modelos = ['XGBoost', \n",
    "                        'LGBM', \n",
    "                        'DecisionTree',\n",
    "                        'KNN',\n",
    "                        'Bagging',\n",
    "                        'RandomForest']\n",
    "\n",
    "    resultados0 = {}\n",
    "    \n",
    "    X_train_selected = X_train[features_selected]\n",
    "    X_test_selected = X_test_mod[features_selected]\n",
    "\n",
    "    for i in range(len(lista_de_modelos)):\n",
    "        print('Rodando modelo: ' + nome_dos_modelos[i])\n",
    "        model = lista_de_modelos[i]\n",
    "        smape_scorer = make_scorer(smape, greater_is_better=False)\n",
    "        accs_vc = cross_validate(model, X_train_selected, y_train, scoring={'SMAPE': smape_scorer})\n",
    "\n",
    "        smape_scores = -accs_vc['test_SMAPE']  # Negativo para tornar os valores maiores melhores\n",
    "\n",
    "        resultados0[nome_dos_modelos[i]] = [np.mean(smape_scores)]\n",
    "    \n",
    "    resultados = pd.DataFrame(resultados0, index=nome_das_medidas).T\n",
    "\n",
    "    return resultados"
   ]
  },
  {
   "cell_type": "code",
   "execution_count": 295,
   "id": "c0ef7c24",
   "metadata": {
    "ExecuteTime": {
     "end_time": "2023-10-22T17:39:19.373405Z",
     "start_time": "2023-10-22T17:39:19.346165Z"
    }
   },
   "outputs": [],
   "source": [
    "# def MachineLearning(X_train, y_train, X_test, y_test, features_selected):\n",
    "#     SEED = 42\n",
    "\n",
    "#     lista_de_medidas = ['SMAPE']\n",
    "#     nome_das_medidas = ['SMAPE']\n",
    "\n",
    "#     lista_de_modelos = [XGBRegressor(learning_rate=0.1, n_estimators=50, max_depth=3),\n",
    "#                         LGBMRegressor(random_state=SEED, n_jobs=-1, force_row_wise=True, ),\n",
    "#                         DecisionTreeRegressor(random_state=SEED),\n",
    "#                         KNeighborsRegressor(n_neighbors=5,  weights='distance',n_jobs=-1),\n",
    "#                         BaggingRegressor(),\n",
    "#                         RandomForestRegressor(random_state=SEED)]\n",
    "\n",
    "#     nome_dos_modelos = ['XGBoost', \n",
    "#                         'LGBM', \n",
    "#                         'DecisionTree',\n",
    "#                         'KNN',\n",
    "#                         'Bagging',\n",
    "#                         'RandomForest']\n",
    "\n",
    "#     resultados0 = {}\n",
    "    \n",
    "#     X_train_selected = X_train[features_selected]\n",
    "#     X_test_selected = X_test[features_selected]\n",
    "\n",
    "\n",
    "#     for i in range(len(lista_de_modelos)):\n",
    "#         print('Rodando modelo: ' + nome_dos_modelos[i])\n",
    "        \n",
    "#         model = lista_de_modelos[i]\n",
    "        \n",
    "#         model.fit(X_train_selected, y_train)\n",
    "        \n",
    "#         y_pred = model.predict(X_test_selected)\n",
    "        \n",
    "#         smape = 100 / len(y_test) * np.sum(2 * np.abs(np.expm1(y_pred) - np.expm1(y_test)) / (np.abs(np.expm1(y_test)) + np.abs(np.expm1(y_pred))))\n",
    "\n",
    "#         resultados0[nome_dos_modelos[i]] = [smape]\n",
    "    \n",
    "#     resultados = pd.DataFrame(resultados0, index = nome_das_medidas).T\n",
    "\n",
    "#     return resultados"
   ]
  },
  {
   "cell_type": "code",
   "execution_count": 305,
   "id": "3b963159",
   "metadata": {
    "ExecuteTime": {
     "end_time": "2023-10-22T17:39:52.107258Z",
     "start_time": "2023-10-22T17:39:19.484406Z"
    }
   },
   "outputs": [
    {
     "name": "stdout",
     "output_type": "stream",
     "text": [
      "Rodando modelo: XGBoost\n",
      "Rodando modelo: LGBM\n",
      "[LightGBM] [Warning] Found whitespace in feature_names, replace with underlines\n",
      "[LightGBM] [Info] Total Bins 567\n",
      "[LightGBM] [Info] Number of data points in the train set: 10773, number of used features: 14\n",
      "[LightGBM] [Info] Start training from score 7.137993\n",
      "[LightGBM] [Warning] Found whitespace in feature_names, replace with underlines\n",
      "[LightGBM] [Info] Total Bins 564\n",
      "[LightGBM] [Info] Number of data points in the train set: 10773, number of used features: 14\n",
      "[LightGBM] [Info] Start training from score 7.139322\n",
      "[LightGBM] [Warning] Found whitespace in feature_names, replace with underlines\n",
      "[LightGBM] [Info] Total Bins 562\n",
      "[LightGBM] [Info] Number of data points in the train set: 10774, number of used features: 14\n",
      "[LightGBM] [Info] Start training from score 7.138418\n",
      "[LightGBM] [Warning] Found whitespace in feature_names, replace with underlines\n",
      "[LightGBM] [Info] Total Bins 568\n",
      "[LightGBM] [Info] Number of data points in the train set: 10774, number of used features: 14\n",
      "[LightGBM] [Info] Start training from score 7.139728\n",
      "[LightGBM] [Warning] Found whitespace in feature_names, replace with underlines\n",
      "[LightGBM] [Info] Total Bins 561\n",
      "[LightGBM] [Info] Number of data points in the train set: 10774, number of used features: 14\n",
      "[LightGBM] [Info] Start training from score 7.140700\n",
      "Rodando modelo: DecisionTree\n",
      "Rodando modelo: KNN\n",
      "Rodando modelo: Bagging\n",
      "Rodando modelo: RandomForest\n"
     ]
    },
    {
     "data": {
      "text/html": [
       "<div>\n",
       "<style scoped>\n",
       "    .dataframe tbody tr th:only-of-type {\n",
       "        vertical-align: middle;\n",
       "    }\n",
       "\n",
       "    .dataframe tbody tr th {\n",
       "        vertical-align: top;\n",
       "    }\n",
       "\n",
       "    .dataframe thead th {\n",
       "        text-align: right;\n",
       "    }\n",
       "</style>\n",
       "<table border=\"1\" class=\"dataframe\">\n",
       "  <thead>\n",
       "    <tr style=\"text-align: right;\">\n",
       "      <th></th>\n",
       "      <th>SMAPE</th>\n",
       "    </tr>\n",
       "  </thead>\n",
       "  <tbody>\n",
       "    <tr>\n",
       "      <th>XGBoost</th>\n",
       "      <td>6.080314</td>\n",
       "    </tr>\n",
       "    <tr>\n",
       "      <th>LGBM</th>\n",
       "      <td>6.163292</td>\n",
       "    </tr>\n",
       "    <tr>\n",
       "      <th>DecisionTree</th>\n",
       "      <td>7.285859</td>\n",
       "    </tr>\n",
       "    <tr>\n",
       "      <th>KNN</th>\n",
       "      <td>7.030974</td>\n",
       "    </tr>\n",
       "    <tr>\n",
       "      <th>Bagging</th>\n",
       "      <td>6.660766</td>\n",
       "    </tr>\n",
       "    <tr>\n",
       "      <th>RandomForest</th>\n",
       "      <td>6.571970</td>\n",
       "    </tr>\n",
       "  </tbody>\n",
       "</table>\n",
       "</div>"
      ],
      "text/plain": [
       "                 SMAPE\n",
       "XGBoost       6.080314\n",
       "LGBM          6.163292\n",
       "DecisionTree  7.285859\n",
       "KNN           7.030974\n",
       "Bagging       6.660766\n",
       "RandomForest  6.571970"
      ]
     },
     "execution_count": 305,
     "metadata": {},
     "output_type": "execute_result"
    }
   ],
   "source": [
    "MachineLearning(X_train, y_train, X_test_mod, y_test_mod, features_selected)"
   ]
  },
  {
   "cell_type": "markdown",
   "id": "4a6dd862",
   "metadata": {},
   "source": [
    "# Fine Tuning\n",
    "\n",
    "- Não possui cross validation\n",
    "- Não realiza reencode das variáveis\n",
    "- **Para maior assertividade, rodar com todos os dados de treino disponíveis**"
   ]
  },
  {
   "cell_type": "code",
   "execution_count": 297,
   "id": "1d015085",
   "metadata": {
    "ExecuteTime": {
     "end_time": "2023-10-22T17:40:37.894009Z",
     "start_time": "2023-10-22T17:40:37.868563Z"
    }
   },
   "outputs": [],
   "source": [
    "# def objective_cv(trial):  \n",
    "    \n",
    "#     n_estimators = trial.suggest_int('n_estimators',20, 100)\n",
    "#     eta = trial.suggest_float('eta',0.01, 0.05)\n",
    "#     max_depth = trial.suggest_int('max_depth', 3, 9)\n",
    "#     subsample = trial.suggest_float('subsample',0.1, 0.9)\n",
    "#     colsample_bytree = trial.suggest_float('colsample_bytree',0.1,0.9)\n",
    "\n",
    "#     # model definition\n",
    "#     xgb_model = XGBRegressor( n_estimators    = n_estimators, \n",
    "#                               eta              = eta, \n",
    "#                               max_depth        = max_depth, \n",
    "#                               subsample        = subsample,\n",
    "#                               colsample_bytree = colsample_bytree\n",
    "#                              )\n",
    "    \n",
    "#     xgb_model.fit(X_train[features_selected], y_train)\n",
    "    \n",
    "#     # Model Prediction \n",
    "#     y_pred = xgb_model.predict(X_test_mod[features_selected])\n",
    "\n",
    "#     # calculando rmse\n",
    "#     smape = 100 / len(y_test_mod) * np.sum(2 * np.abs(np.expm1(y_pred) - np.expm1(y_test_mod)) / (np.abs(np.expm1(y_test_mod)) + np.abs(np.expm1(y_pred))))\n",
    "\n",
    "#     return smape"
   ]
  },
  {
   "cell_type": "code",
   "execution_count": 298,
   "id": "d4a6f9f5",
   "metadata": {
    "ExecuteTime": {
     "start_time": "2023-10-22T17:40:38.329Z"
    }
   },
   "outputs": [],
   "source": [
    "# import optuna\n",
    "# study = optuna.create_study(direction='minimize')\n",
    "# study.optimize(objective_cv, n_trials=50)"
   ]
  },
  {
   "cell_type": "code",
   "execution_count": 299,
   "id": "9cd1c5ae",
   "metadata": {
    "ExecuteTime": {
     "end_time": "2023-10-22T17:36:26.993762Z",
     "start_time": "2023-10-22T17:36:26.971080Z"
    }
   },
   "outputs": [],
   "source": [
    "# best_params = study.best_params\n",
    "best_params = {'n_estimators': 100,\n",
    " 'eta': 0.04847968659990019,\n",
    " 'max_depth': 7,\n",
    " 'subsample': 0.31355832178198495,\n",
    " 'colsample_bytree': 0.5456941887941139}"
   ]
  },
  {
   "cell_type": "code",
   "execution_count": null,
   "id": "3b8bcdd3",
   "metadata": {},
   "outputs": [],
   "source": [
    "# model fit\n",
    "X_train_selected = X_train[features_selected]\n",
    "X_test_selected = X_test[features_selected]\n",
    "\n",
    "X_test_mod, y_test_mod = test_preparation(X_test, y_test)"
   ]
  },
  {
   "cell_type": "code",
   "execution_count": 310,
   "id": "534319d1",
   "metadata": {
    "ExecuteTime": {
     "end_time": "2023-10-22T17:36:35.192101Z",
     "start_time": "2023-10-22T17:36:32.098745Z"
    }
   },
   "outputs": [
    {
     "data": {
      "text/plain": [
       "[6.114508940918751]"
      ]
     },
     "execution_count": 310,
     "metadata": {},
     "output_type": "execute_result"
    },
    {
     "name": "stderr",
     "output_type": "stream",
     "text": [
      "2023-10-22 16:05:52,610 - INFO     - Executing shutdown due to inactivity...\n",
      "2023-10-22 16:06:04,948 - INFO     - Executing shutdown...\n",
      "2023-10-22 16:06:04,955 - INFO     - Not running with the Werkzeug Server, exiting by searching gc for BaseWSGIServer\n"
     ]
    }
   ],
   "source": [
    "best_model = XGBRegressor(n_jobs = -1 , \n",
    "                                 random_state=0,\n",
    "                                 n_estimators = best_params['n_estimators'],\n",
    "                                 eta = best_params['eta'],\n",
    "                                 max_depth = best_params['max_depth'],\n",
    "                                 subsample = best_params['subsample'],\n",
    "                                 colsample_bytree = best_params['colsample_bytree'])\n",
    "\n",
    "# model fit\n",
    "X_train_selected = X_train[features_selected]\n",
    "X_test_selected = X_test_mod[features_selected]\n",
    "\n",
    "best_model.fit(X_train_selected, y_train)\n",
    "y_pred = best_model.predict( X_test_selected )\n",
    "\n",
    "smape = 100 * np.mean(2 * np.abs(y_pred - y_test_mod) / (np.abs(y_test_mod) + np.abs(y_pred)))\n",
    "\n",
    "resultados0 = [np.mean(smape)]\n",
    "resultados0\n",
    "\n"
   ]
  },
  {
   "cell_type": "markdown",
   "id": "09a66db7",
   "metadata": {},
   "source": [
    "# Cross-Validation"
   ]
  },
  {
   "cell_type": "code",
   "execution_count": 312,
   "id": "34f03be4",
   "metadata": {},
   "outputs": [],
   "source": [
    "X_final = pd.concat([X_train, X_test_selected], axis=1) \n",
    "y_final = pd.concat([y_train, y_test_mod], axis=1) \n"
   ]
  },
  {
   "cell_type": "code",
   "execution_count": 316,
   "id": "c27f5c13",
   "metadata": {},
   "outputs": [
    {
     "ename": "ValueError",
     "evalue": "Input y contains NaN.",
     "output_type": "error",
     "traceback": [
      "\u001b[1;31m---------------------------------------------------------------------------\u001b[0m",
      "\u001b[1;31mValueError\u001b[0m                                Traceback (most recent call last)",
      "\u001b[1;32mc:\\1_git\\2_projects\\6_Hackday\\hd6\\notebook_hackday_06_oficial.ipynb Cell 68\u001b[0m line \u001b[0;36m1\n\u001b[0;32m      <a href='vscode-notebook-cell:/c%3A/1_git/2_projects/6_Hackday/hd6/notebook_hackday_06_oficial.ipynb#Y514sZmlsZQ%3D%3D?line=5'>6</a>\u001b[0m smape_scorer \u001b[39m=\u001b[39m make_scorer(smape, greater_is_better\u001b[39m=\u001b[39m\u001b[39mFalse\u001b[39;00m)\n\u001b[0;32m      <a href='vscode-notebook-cell:/c%3A/1_git/2_projects/6_Hackday/hd6/notebook_hackday_06_oficial.ipynb#Y514sZmlsZQ%3D%3D?line=7'>8</a>\u001b[0m modelo_final_cv \u001b[39m=\u001b[39m XGBRegressor(n_jobs \u001b[39m=\u001b[39m \u001b[39m-\u001b[39m\u001b[39m1\u001b[39m , \n\u001b[0;32m      <a href='vscode-notebook-cell:/c%3A/1_git/2_projects/6_Hackday/hd6/notebook_hackday_06_oficial.ipynb#Y514sZmlsZQ%3D%3D?line=8'>9</a>\u001b[0m                                  random_state\u001b[39m=\u001b[39m\u001b[39m0\u001b[39m,\n\u001b[0;32m     <a href='vscode-notebook-cell:/c%3A/1_git/2_projects/6_Hackday/hd6/notebook_hackday_06_oficial.ipynb#Y514sZmlsZQ%3D%3D?line=9'>10</a>\u001b[0m                                  n_estimators \u001b[39m=\u001b[39m best_params[\u001b[39m'\u001b[39m\u001b[39mn_estimators\u001b[39m\u001b[39m'\u001b[39m],\n\u001b[1;32m   (...)\u001b[0m\n\u001b[0;32m     <a href='vscode-notebook-cell:/c%3A/1_git/2_projects/6_Hackday/hd6/notebook_hackday_06_oficial.ipynb#Y514sZmlsZQ%3D%3D?line=12'>13</a>\u001b[0m                                  subsample \u001b[39m=\u001b[39m best_params[\u001b[39m'\u001b[39m\u001b[39msubsample\u001b[39m\u001b[39m'\u001b[39m],\n\u001b[0;32m     <a href='vscode-notebook-cell:/c%3A/1_git/2_projects/6_Hackday/hd6/notebook_hackday_06_oficial.ipynb#Y514sZmlsZQ%3D%3D?line=13'>14</a>\u001b[0m                                  colsample_bytree \u001b[39m=\u001b[39m best_params[\u001b[39m'\u001b[39m\u001b[39mcolsample_bytree\u001b[39m\u001b[39m'\u001b[39m])\n\u001b[1;32m---> <a href='vscode-notebook-cell:/c%3A/1_git/2_projects/6_Hackday/hd6/notebook_hackday_06_oficial.ipynb#Y514sZmlsZQ%3D%3D?line=15'>16</a>\u001b[0m kf_scores \u001b[39m=\u001b[39m cross_validate(modelo_final_cv, X_final, y_final, cv\u001b[39m=\u001b[39;49mkf, scoring\u001b[39m=\u001b[39;49msmape_scorer, n_jobs\u001b[39m=\u001b[39;49m\u001b[39m-\u001b[39;49m\u001b[39m1\u001b[39;49m)\n\u001b[0;32m     <a href='vscode-notebook-cell:/c%3A/1_git/2_projects/6_Hackday/hd6/notebook_hackday_06_oficial.ipynb#Y514sZmlsZQ%3D%3D?line=16'>17</a>\u001b[0m \u001b[39mprint\u001b[39m(\u001b[39mf\u001b[39m\u001b[39m\"\u001b[39m\u001b[39mScore\u001b[39m\u001b[39m{\u001b[39;00mmedida\u001b[39m}\u001b[39;00m\u001b[39m:\u001b[39m\u001b[39m\"\u001b[39m)\n",
      "File \u001b[1;32m~\\AppData\\Roaming\\Python\\Python311\\site-packages\\sklearn\\utils\\_param_validation.py:211\u001b[0m, in \u001b[0;36mvalidate_params.<locals>.decorator.<locals>.wrapper\u001b[1;34m(*args, **kwargs)\u001b[0m\n\u001b[0;32m    205\u001b[0m \u001b[39mtry\u001b[39;00m:\n\u001b[0;32m    206\u001b[0m     \u001b[39mwith\u001b[39;00m config_context(\n\u001b[0;32m    207\u001b[0m         skip_parameter_validation\u001b[39m=\u001b[39m(\n\u001b[0;32m    208\u001b[0m             prefer_skip_nested_validation \u001b[39mor\u001b[39;00m global_skip_validation\n\u001b[0;32m    209\u001b[0m         )\n\u001b[0;32m    210\u001b[0m     ):\n\u001b[1;32m--> 211\u001b[0m         \u001b[39mreturn\u001b[39;00m func(\u001b[39m*\u001b[39;49margs, \u001b[39m*\u001b[39;49m\u001b[39m*\u001b[39;49mkwargs)\n\u001b[0;32m    212\u001b[0m \u001b[39mexcept\u001b[39;00m InvalidParameterError \u001b[39mas\u001b[39;00m e:\n\u001b[0;32m    213\u001b[0m     \u001b[39m# When the function is just a wrapper around an estimator, we allow\u001b[39;00m\n\u001b[0;32m    214\u001b[0m     \u001b[39m# the function to delegate validation to the estimator, but we replace\u001b[39;00m\n\u001b[0;32m    215\u001b[0m     \u001b[39m# the name of the estimator by the name of the function in the error\u001b[39;00m\n\u001b[0;32m    216\u001b[0m     \u001b[39m# message to avoid confusion.\u001b[39;00m\n\u001b[0;32m    217\u001b[0m     msg \u001b[39m=\u001b[39m re\u001b[39m.\u001b[39msub(\n\u001b[0;32m    218\u001b[0m         \u001b[39mr\u001b[39m\u001b[39m\"\u001b[39m\u001b[39mparameter of \u001b[39m\u001b[39m\\\u001b[39m\u001b[39mw+ must be\u001b[39m\u001b[39m\"\u001b[39m,\n\u001b[0;32m    219\u001b[0m         \u001b[39mf\u001b[39m\u001b[39m\"\u001b[39m\u001b[39mparameter of \u001b[39m\u001b[39m{\u001b[39;00mfunc\u001b[39m.\u001b[39m\u001b[39m__qualname__\u001b[39m\u001b[39m}\u001b[39;00m\u001b[39m must be\u001b[39m\u001b[39m\"\u001b[39m,\n\u001b[0;32m    220\u001b[0m         \u001b[39mstr\u001b[39m(e),\n\u001b[0;32m    221\u001b[0m     )\n",
      "File \u001b[1;32m~\\AppData\\Roaming\\Python\\Python311\\site-packages\\sklearn\\model_selection\\_validation.py:301\u001b[0m, in \u001b[0;36mcross_validate\u001b[1;34m(estimator, X, y, groups, scoring, cv, n_jobs, verbose, fit_params, pre_dispatch, return_train_score, return_estimator, return_indices, error_score)\u001b[0m\n\u001b[0;32m    298\u001b[0m \u001b[39melse\u001b[39;00m:\n\u001b[0;32m    299\u001b[0m     scorers \u001b[39m=\u001b[39m _check_multimetric_scoring(estimator, scoring)\n\u001b[1;32m--> 301\u001b[0m indices \u001b[39m=\u001b[39m cv\u001b[39m.\u001b[39;49msplit(X, y, groups)\n\u001b[0;32m    302\u001b[0m \u001b[39mif\u001b[39;00m return_indices:\n\u001b[0;32m    303\u001b[0m     \u001b[39m# materialize the indices since we need to store them in the returned dict\u001b[39;00m\n\u001b[0;32m    304\u001b[0m     indices \u001b[39m=\u001b[39m \u001b[39mlist\u001b[39m(indices)\n",
      "File \u001b[1;32m~\\AppData\\Roaming\\Python\\Python311\\site-packages\\sklearn\\model_selection\\_split.py:808\u001b[0m, in \u001b[0;36mStratifiedKFold.split\u001b[1;34m(self, X, y, groups)\u001b[0m\n\u001b[0;32m    774\u001b[0m \u001b[39mdef\u001b[39;00m \u001b[39msplit\u001b[39m(\u001b[39mself\u001b[39m, X, y, groups\u001b[39m=\u001b[39m\u001b[39mNone\u001b[39;00m):\n\u001b[0;32m    775\u001b[0m \u001b[39m    \u001b[39m\u001b[39m\"\"\"Generate indices to split data into training and test set.\u001b[39;00m\n\u001b[0;32m    776\u001b[0m \n\u001b[0;32m    777\u001b[0m \u001b[39m    Parameters\u001b[39;00m\n\u001b[1;32m   (...)\u001b[0m\n\u001b[0;32m    806\u001b[0m \u001b[39m    to an integer.\u001b[39;00m\n\u001b[0;32m    807\u001b[0m \u001b[39m    \"\"\"\u001b[39;00m\n\u001b[1;32m--> 808\u001b[0m     y \u001b[39m=\u001b[39m check_array(y, input_name\u001b[39m=\u001b[39;49m\u001b[39m\"\u001b[39;49m\u001b[39my\u001b[39;49m\u001b[39m\"\u001b[39;49m, ensure_2d\u001b[39m=\u001b[39;49m\u001b[39mFalse\u001b[39;49;00m, dtype\u001b[39m=\u001b[39;49m\u001b[39mNone\u001b[39;49;00m)\n\u001b[0;32m    809\u001b[0m     \u001b[39mreturn\u001b[39;00m \u001b[39msuper\u001b[39m()\u001b[39m.\u001b[39msplit(X, y, groups)\n",
      "File \u001b[1;32m~\\AppData\\Roaming\\Python\\Python311\\site-packages\\sklearn\\utils\\validation.py:957\u001b[0m, in \u001b[0;36mcheck_array\u001b[1;34m(array, accept_sparse, accept_large_sparse, dtype, order, copy, force_all_finite, ensure_2d, allow_nd, ensure_min_samples, ensure_min_features, estimator, input_name)\u001b[0m\n\u001b[0;32m    951\u001b[0m         \u001b[39mraise\u001b[39;00m \u001b[39mValueError\u001b[39;00m(\n\u001b[0;32m    952\u001b[0m             \u001b[39m\"\u001b[39m\u001b[39mFound array with dim \u001b[39m\u001b[39m%d\u001b[39;00m\u001b[39m. \u001b[39m\u001b[39m%s\u001b[39;00m\u001b[39m expected <= 2.\u001b[39m\u001b[39m\"\u001b[39m\n\u001b[0;32m    953\u001b[0m             \u001b[39m%\u001b[39m (array\u001b[39m.\u001b[39mndim, estimator_name)\n\u001b[0;32m    954\u001b[0m         )\n\u001b[0;32m    956\u001b[0m     \u001b[39mif\u001b[39;00m force_all_finite:\n\u001b[1;32m--> 957\u001b[0m         _assert_all_finite(\n\u001b[0;32m    958\u001b[0m             array,\n\u001b[0;32m    959\u001b[0m             input_name\u001b[39m=\u001b[39;49minput_name,\n\u001b[0;32m    960\u001b[0m             estimator_name\u001b[39m=\u001b[39;49mestimator_name,\n\u001b[0;32m    961\u001b[0m             allow_nan\u001b[39m=\u001b[39;49mforce_all_finite \u001b[39m==\u001b[39;49m \u001b[39m\"\u001b[39;49m\u001b[39mallow-nan\u001b[39;49m\u001b[39m\"\u001b[39;49m,\n\u001b[0;32m    962\u001b[0m         )\n\u001b[0;32m    964\u001b[0m \u001b[39mif\u001b[39;00m ensure_min_samples \u001b[39m>\u001b[39m \u001b[39m0\u001b[39m:\n\u001b[0;32m    965\u001b[0m     n_samples \u001b[39m=\u001b[39m _num_samples(array)\n",
      "File \u001b[1;32m~\\AppData\\Roaming\\Python\\Python311\\site-packages\\sklearn\\utils\\validation.py:122\u001b[0m, in \u001b[0;36m_assert_all_finite\u001b[1;34m(X, allow_nan, msg_dtype, estimator_name, input_name)\u001b[0m\n\u001b[0;32m    119\u001b[0m \u001b[39mif\u001b[39;00m first_pass_isfinite:\n\u001b[0;32m    120\u001b[0m     \u001b[39mreturn\u001b[39;00m\n\u001b[1;32m--> 122\u001b[0m _assert_all_finite_element_wise(\n\u001b[0;32m    123\u001b[0m     X,\n\u001b[0;32m    124\u001b[0m     xp\u001b[39m=\u001b[39;49mxp,\n\u001b[0;32m    125\u001b[0m     allow_nan\u001b[39m=\u001b[39;49mallow_nan,\n\u001b[0;32m    126\u001b[0m     msg_dtype\u001b[39m=\u001b[39;49mmsg_dtype,\n\u001b[0;32m    127\u001b[0m     estimator_name\u001b[39m=\u001b[39;49mestimator_name,\n\u001b[0;32m    128\u001b[0m     input_name\u001b[39m=\u001b[39;49minput_name,\n\u001b[0;32m    129\u001b[0m )\n",
      "File \u001b[1;32m~\\AppData\\Roaming\\Python\\Python311\\site-packages\\sklearn\\utils\\validation.py:171\u001b[0m, in \u001b[0;36m_assert_all_finite_element_wise\u001b[1;34m(X, xp, allow_nan, msg_dtype, estimator_name, input_name)\u001b[0m\n\u001b[0;32m    154\u001b[0m \u001b[39mif\u001b[39;00m estimator_name \u001b[39mand\u001b[39;00m input_name \u001b[39m==\u001b[39m \u001b[39m\"\u001b[39m\u001b[39mX\u001b[39m\u001b[39m\"\u001b[39m \u001b[39mand\u001b[39;00m has_nan_error:\n\u001b[0;32m    155\u001b[0m     \u001b[39m# Improve the error message on how to handle missing values in\u001b[39;00m\n\u001b[0;32m    156\u001b[0m     \u001b[39m# scikit-learn.\u001b[39;00m\n\u001b[0;32m    157\u001b[0m     msg_err \u001b[39m+\u001b[39m\u001b[39m=\u001b[39m (\n\u001b[0;32m    158\u001b[0m         \u001b[39mf\u001b[39m\u001b[39m\"\u001b[39m\u001b[39m\\n\u001b[39;00m\u001b[39m{\u001b[39;00mestimator_name\u001b[39m}\u001b[39;00m\u001b[39m does not accept missing values\u001b[39m\u001b[39m\"\u001b[39m\n\u001b[0;32m    159\u001b[0m         \u001b[39m\"\u001b[39m\u001b[39m encoded as NaN natively. For supervised learning, you might want\u001b[39m\u001b[39m\"\u001b[39m\n\u001b[1;32m   (...)\u001b[0m\n\u001b[0;32m    169\u001b[0m         \u001b[39m\"\u001b[39m\u001b[39m#estimators-that-handle-nan-values\u001b[39m\u001b[39m\"\u001b[39m\n\u001b[0;32m    170\u001b[0m     )\n\u001b[1;32m--> 171\u001b[0m \u001b[39mraise\u001b[39;00m \u001b[39mValueError\u001b[39;00m(msg_err)\n",
      "\u001b[1;31mValueError\u001b[0m: Input y contains NaN."
     ]
    }
   ],
   "source": [
    "# Validação cruzada Leave One Out\n",
    "kf = StratifiedKFold(n_splits = 10)\n",
    "def smape(y_true, y_pred):\n",
    "    return 100 * np.mean(2 * np.abs(y_pred - y_true) / (np.abs(y_true) + np.abs(y_pred)))\n",
    "\n",
    "smape_scorer = make_scorer(smape, greater_is_better=False)\n",
    "\n",
    "modelo_final_cv = XGBRegressor(n_jobs = -1 , \n",
    "                                 random_state=0,\n",
    "                                 n_estimators = best_params['n_estimators'],\n",
    "                                 eta = best_params['eta'],\n",
    "                                 max_depth = best_params['max_depth'],\n",
    "                                 subsample = best_params['subsample'],\n",
    "                                 colsample_bytree = best_params['colsample_bytree'])\n",
    "\n",
    "kf_scores = cross_validate(modelo_final_cv, X_final, y_final, cv=kf, scoring=smape_scorer, n_jobs=-1)\n",
    "print(f\"Score{medida}:\")\n",
    "\n"
   ]
  },
  {
   "cell_type": "markdown",
   "id": "d1a919b0",
   "metadata": {},
   "source": [
    "## Submission"
   ]
  },
  {
   "cell_type": "markdown",
   "id": "40872ab3",
   "metadata": {},
   "source": [
    "### Carregar os dados"
   ]
  },
  {
   "cell_type": "code",
   "execution_count": null,
   "id": "4bd9ac56",
   "metadata": {
    "ExecuteTime": {
     "end_time": "2023-10-22T17:36:41.178535Z",
     "start_time": "2023-10-22T17:36:40.773217Z"
    }
   },
   "outputs": [
    {
     "data": {
      "text/plain": [
       "(5600, 16)"
      ]
     },
     "execution_count": 181,
     "metadata": {},
     "output_type": "execute_result"
    }
   ],
   "source": [
    "# Opening JSON file\n",
    "sub = open('dataset/raw/test.json')\n",
    " \n",
    "# returns JSON object as \n",
    "# a dictionary\n",
    "data_sub_aux = json.load(sub)\n",
    "\n",
    "data_sub = pd.json_normalize(data_sub_aux, record_path = 'data')\n",
    "data_sub.columns = data_sub_aux['columns']\n",
    "data_sub.shape"
   ]
  },
  {
   "cell_type": "markdown",
   "id": "0f0ceb5a",
   "metadata": {},
   "source": [
    "### Transformar os dados"
   ]
  },
  {
   "cell_type": "code",
   "execution_count": null,
   "id": "4bb94ac9",
   "metadata": {
    "ExecuteTime": {
     "end_time": "2023-10-22T17:36:45.744907Z",
     "start_time": "2023-10-22T17:36:45.733946Z"
    }
   },
   "outputs": [],
   "source": [
    "def submission_preparation(df, features_selected):\n",
    "    \n",
    "    df = limpeza(df)\n",
    "    df = feature_engen(df)\n",
    "    df = rescalling(df)\n",
    "    df = transform(df)\n",
    "    \n",
    "    return df[features_selected]"
   ]
  },
  {
   "cell_type": "markdown",
   "id": "27cf669a",
   "metadata": {},
   "source": [
    "### Aplicar sobre os dados de teste"
   ]
  },
  {
   "cell_type": "code",
   "execution_count": null,
   "id": "08382f4b",
   "metadata": {
    "ExecuteTime": {
     "end_time": "2023-10-22T17:36:54.191965Z",
     "start_time": "2023-10-22T17:36:50.425652Z"
    }
   },
   "outputs": [],
   "source": [
    "data_sub_mod = submission_preparation(data_sub, features_selected)"
   ]
  },
  {
   "cell_type": "code",
   "execution_count": null,
   "id": "245aadce",
   "metadata": {
    "ExecuteTime": {
     "end_time": "2023-10-22T17:37:00.331161Z",
     "start_time": "2023-10-22T17:37:00.289232Z"
    },
    "run_control": {
     "marked": true
    }
   },
   "outputs": [],
   "source": [
    "y_hat = np.expm1(best_model.predict(data_sub_mod))"
   ]
  },
  {
   "cell_type": "code",
   "execution_count": null,
   "id": "903121ac",
   "metadata": {
    "ExecuteTime": {
     "end_time": "2023-10-22T17:37:07.019223Z",
     "start_time": "2023-10-22T17:37:06.949416Z"
    }
   },
   "outputs": [],
   "source": [
    "df_submission = pd.DataFrame()\n",
    "df_submission['pid'] = data_sub['pid']\n",
    "df_submission['actual_price'] = y_hat"
   ]
  },
  {
   "cell_type": "code",
   "execution_count": null,
   "id": "56c44141",
   "metadata": {
    "ExecuteTime": {
     "end_time": "2023-10-22T17:37:14.521459Z",
     "start_time": "2023-10-22T17:37:14.452436Z"
    }
   },
   "outputs": [],
   "source": [
    "df_submission.to_csv('submissions/submission_7.csv', index=False)"
   ]
  }
 ],
 "metadata": {
  "kernelspec": {
   "display_name": "Python 3 (ipykernel)",
   "language": "python",
   "name": "python3"
  },
  "language_info": {
   "codemirror_mode": {
    "name": "ipython",
    "version": 3
   },
   "file_extension": ".py",
   "mimetype": "text/x-python",
   "name": "python",
   "nbconvert_exporter": "python",
   "pygments_lexer": "ipython3",
   "version": "3.9.7"
  },
  "toc": {
   "base_numbering": 1,
   "nav_menu": {},
   "number_sections": true,
   "sideBar": true,
   "skip_h1_title": false,
   "title_cell": "Table of Contents",
   "title_sidebar": "Contents",
   "toc_cell": false,
   "toc_position": {
    "height": "calc(100% - 180px)",
    "left": "10px",
    "top": "150px",
    "width": "345.966px"
   },
   "toc_section_display": true,
   "toc_window_display": true
  },
  "varInspector": {
   "cols": {
    "lenName": 16,
    "lenType": 16,
    "lenVar": 40
   },
   "kernels_config": {
    "python": {
     "delete_cmd_postfix": "",
     "delete_cmd_prefix": "del ",
     "library": "var_list.py",
     "varRefreshCmd": "print(var_dic_list())"
    },
    "r": {
     "delete_cmd_postfix": ") ",
     "delete_cmd_prefix": "rm(",
     "library": "var_list.r",
     "varRefreshCmd": "cat(var_dic_list()) "
    }
   },
   "types_to_exclude": [
    "module",
    "function",
    "builtin_function_or_method",
    "instance",
    "_Feature"
   ],
   "window_display": false
  },
  "vscode": {
   "interpreter": {
    "hash": "892e5ff5783333d733f0bd2e0068297de9409e96214f7e68af4469f351f76fae"
   }
  }
 },
 "nbformat": 4,
 "nbformat_minor": 5
}
