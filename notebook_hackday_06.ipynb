{
 "cells": [
  {
   "cell_type": "markdown",
   "id": "23e57af8",
   "metadata": {},
   "source": [
    "# Imports"
   ]
  },
  {
   "cell_type": "code",
   "execution_count": 609,
   "id": "403b1b50",
   "metadata": {
    "ExecuteTime": {
     "end_time": "2023-10-22T15:17:58.332129Z",
     "start_time": "2023-10-22T15:17:58.309185Z"
    }
   },
   "outputs": [],
   "source": [
    "import pandas as pd\n",
    "import numpy as np\n",
    "import json\n",
    "import datetime\n",
    "import ast\n",
    "\n",
    "from sklearn import preprocessing as pp\n",
    "import pickle\n",
    "\n",
    "from sklearn import model_selection as ms\n",
    "import category_encoders as ce\n",
    "\n",
    "#from boruta   import BorutaPy\n",
    "from lightgbm import LGBMClassifier\n",
    "\n",
    "from sklearn.ensemble        import RandomForestClassifier, BaggingClassifier, GradientBoostingClassifier\n",
    "from xgboost                 import XGBRegressor\n",
    "from sklearn.linear_model    import LogisticRegression, SGDRegressor\n",
    "from sklearn.neighbors       import KNeighborsRegressor\n",
    "from sklearn.tree            import DecisionTreeRegressor\n",
    "from sklearn.ensemble        import RandomForestRegressor, BaggingRegressor\n",
    "from sklearn.metrics         import accuracy_score, recall_score, precision_score, balanced_accuracy_score, f1_score, roc_curve, confusion_matrix\n",
    "from sklearn.model_selection import GridSearchCV, RandomizedSearchCV\n",
    "from sklearn.naive_bayes     import GaussianNB\n",
    "from lightgbm                import LGBMRegressor"
   ]
  },
  {
   "cell_type": "markdown",
   "id": "3f2f5333",
   "metadata": {},
   "source": [
    "## Helper Functions"
   ]
  },
  {
   "cell_type": "code",
   "execution_count": 610,
   "id": "a50c83a9",
   "metadata": {
    "ExecuteTime": {
     "end_time": "2023-10-22T15:17:58.393563Z",
     "start_time": "2023-10-22T15:17:58.340908Z"
    }
   },
   "outputs": [],
   "source": [
    "def test_preparation(X_test, y_test):\n",
    "    X_test = rescalling(X_test)\n",
    "    X_test = transform(X_test)\n",
    "    y_test = log_var_resposta(y_test)\n",
    "    \n",
    "    return X_test, y_test\n",
    "\n",
    "\n",
    "def rescalling (X_test):\n",
    "    \n",
    "    mm = pickle.load(open('parameters/mm_avg_delivery_time_days.pkl','rb'))\n",
    "    X_test['avg_delivery_time_days'] = mm.transform(X_test[['avg_delivery_time_days']])\n",
    "    \n",
    "    rs_ar = pickle.load(open('parameters/rs_average_rating.pkl','rb'))\n",
    "    \n",
    "    X_test['average_rating'] = rs_ar.transform(X_test[['average_rating']])\n",
    "    \n",
    "    rs_nr = pickle.load(open('parameters/rs_number_of_reviews.pkl','rb'))\n",
    "    \n",
    "    X_test['number_of_reviews'] = rs_nr.transform(X_test[['number_of_reviews']])\n",
    "    \n",
    "    return X_test\n",
    "\n",
    "def transform (X_test):\n",
    "    \n",
    "    for att in ['brand', 'product', 'seller','Style Code','Pack of','Ideal For','Suitable For','Reversible']:\n",
    "        fe = pickle.load(open(f'parameters/fe_{att}.pkl', 'rb'))\n",
    "        X_test = fe.transform(X_test)\n",
    "    \n",
    "    return X_test\n",
    "\n",
    "def log_var_resposta(df):\n",
    "    df = np.log1p(df)\n",
    "    return df\n",
    "\n",
    "def limpeza (df):\n",
    "    df = df.drop(columns=['_id', 'pid','description', 'images'])\n",
    "    # transformando de string para data\n",
    "    df['crawled_at'] = pd.to_datetime(df['crawled_at']).dt.date\n",
    "\n",
    "    return df\n",
    "\n",
    "def feature_engen(df):\n",
    "    ## out_of_stock - transformar para int \n",
    "    df['out_of_stock'] = df['out_of_stock'].astype('int64')\n",
    "\n",
    "    # brand - substituir por outros\n",
    "    df['brand'] = df['brand'].apply(lambda x: x.lower())\n",
    "\n",
    "    # criando feature product\n",
    "    df['product'] = df[['category', 'sub_category']].apply(lambda x: x['category'] + '_' + x['sub_category'], axis = 1)\n",
    "    \n",
    "    import ast\n",
    "\n",
    "    # pega string de dict e cria uma lista de dicionários\n",
    "    def f(x):\n",
    "        try:\n",
    "            return ast.literal_eval(str(x))   \n",
    "        except Exception as e:\n",
    "            print(e)\n",
    "            return []\n",
    "\n",
    "\n",
    "\n",
    "    def junta_dict(dict_list):\n",
    "        dicionario = {}\n",
    "        for d in dict_list:\n",
    "            for key, value in d.items():\n",
    "                dicionario[key] = value\n",
    "        return dicionario\n",
    "\n",
    "    list = df['product_details'].apply(lambda x: f(x))\n",
    "\n",
    "    df_details = pd.DataFrame([junta_dict(row) for row in list], index = list.index)\n",
    "\n",
    "    df_drop_columns = df_details.drop(columns=['', ' '])\n",
    "\n",
    "    # Removendo valores faltantes acima de 50%\n",
    "    limite_nulos = len(df_details) * 0.5  \n",
    "    df_drop = df_details.dropna(thresh = limite_nulos, axis=1)\n",
    "    df_new = df_drop.copy()\n",
    "\n",
    "    # Trocar os NaN por 'outros'\n",
    "\n",
    "    df_new.loc[df_new['Fabric'].isnull(), 'Fabric'] = 'outros'\n",
    "    df_new.loc[df_new['Pattern'].isnull(), 'Pattern'] = 'outros'\n",
    "    df_new.loc[df_new['Style Code'].isnull(), 'Style Code'] = 'outros'\n",
    "    df_new.loc[df_new['Pack of'].isnull(), 'Pack of'] = 'outros'\n",
    "    df_new.loc[df_new['Type'].isnull(), 'Type'] = 'outros'\n",
    "    df_new.loc[df_new['Sleeve'].isnull(), 'Sleeve'] = 'outros'\n",
    "    df_new.loc[df_new['Fit'].isnull(), 'Fit'] = 'outros'\n",
    "    df_new.loc[df_new['Ideal For'].isnull(), 'Ideal For'] = 'outros'\n",
    "    df_new.loc[df_new['Suitable For'].isnull(), 'Suitable For'] = 'outros'\n",
    "    df_new.loc[df_new['Reversible'].isnull(), 'Reversible'] = 'outros'\n",
    "    df_new.loc[df_new['Fabric Care'].isnull(), 'Fabric Care'] = 'outros'\n",
    "\n",
    "    df_new.head()\n",
    "\n",
    "    def type_sex(value):\n",
    "        if value == 'Men':\n",
    "            return 'Men'\n",
    "        elif value == 'Men, Boys':\n",
    "            return 'all_ages'\n",
    "        elif value == 'Boys, Men':\n",
    "            return 'all_ages'\n",
    "        elif value == 'Boys, Girls, Men, Women':\n",
    "            return 'unisex_all_ages'\n",
    "        elif value == 'Women, Men':\n",
    "            return 'Unisex'\n",
    "        else:\n",
    "            return 'outros'\n",
    "\n",
    "    df_new['Ideal For'] = df_new['Ideal For'].map(type_sex)\n",
    "\n",
    "    df = pd.concat([df, df_new], axis=1)\n",
    "    \n",
    "    return df"
   ]
  },
  {
   "cell_type": "markdown",
   "id": "1c83d907",
   "metadata": {},
   "source": [
    "# Load Data"
   ]
  },
  {
   "cell_type": "code",
   "execution_count": 611,
   "id": "d0d2e3d5",
   "metadata": {
    "ExecuteTime": {
     "end_time": "2023-10-22T15:17:59.205416Z",
     "start_time": "2023-10-22T15:17:58.396945Z"
    }
   },
   "outputs": [
    {
     "data": {
      "text/html": [
       "<div>\n",
       "<style scoped>\n",
       "    .dataframe tbody tr th:only-of-type {\n",
       "        vertical-align: middle;\n",
       "    }\n",
       "\n",
       "    .dataframe tbody tr th {\n",
       "        vertical-align: top;\n",
       "    }\n",
       "\n",
       "    .dataframe thead th {\n",
       "        text-align: right;\n",
       "    }\n",
       "</style>\n",
       "<table border=\"1\" class=\"dataframe\">\n",
       "  <thead>\n",
       "    <tr style=\"text-align: right;\">\n",
       "      <th></th>\n",
       "      <th>_id</th>\n",
       "      <th>average_rating</th>\n",
       "      <th>number_of_reviews</th>\n",
       "      <th>brand</th>\n",
       "      <th>category</th>\n",
       "      <th>crawled_at</th>\n",
       "      <th>description</th>\n",
       "      <th>images</th>\n",
       "      <th>out_of_stock</th>\n",
       "      <th>avg_delivery_time_days</th>\n",
       "      <th>pid</th>\n",
       "      <th>product_details</th>\n",
       "      <th>seller</th>\n",
       "      <th>sub_category</th>\n",
       "      <th>fabrication_time</th>\n",
       "      <th>title</th>\n",
       "      <th>actual_price</th>\n",
       "    </tr>\n",
       "  </thead>\n",
       "  <tbody>\n",
       "    <tr>\n",
       "      <th>0</th>\n",
       "      <td>53df9662-e500-569c-946e-0c8d215a72cd</td>\n",
       "      <td>3.2</td>\n",
       "      <td>26</td>\n",
       "      <td>East I</td>\n",
       "      <td>Clothing and Accessories</td>\n",
       "      <td>2021-02-10 21:17:28</td>\n",
       "      <td>Navy Blue Printed Boxers Has  An Inner  Elasti...</td>\n",
       "      <td>['https://rukminim1.flixcart.com/image/128/128...</td>\n",
       "      <td>False</td>\n",
       "      <td>8</td>\n",
       "      <td>BXRFTZF7JGX75DAW</td>\n",
       "      <td>[{'Color': 'Dark Blue'}, {'Fabric': 'Pure Cott...</td>\n",
       "      <td>ZIYAA</td>\n",
       "      <td>Innerwear and Swimwear</td>\n",
       "      <td>653</td>\n",
       "      <td>Printed Men Boxer  (Pack of 1)</td>\n",
       "      <td>849.0</td>\n",
       "    </tr>\n",
       "    <tr>\n",
       "      <th>1</th>\n",
       "      <td>d0142842-84f7-537d-a06f-d85b76488a5f</td>\n",
       "      <td>4.0</td>\n",
       "      <td>33</td>\n",
       "      <td>dream o</td>\n",
       "      <td>Clothing and Accessories</td>\n",
       "      <td>2021-02-11 01:02:46</td>\n",
       "      <td>smiley printed tshirt on round neck cotton tshirt</td>\n",
       "      <td>['https://rukminim1.flixcart.com/image/128/128...</td>\n",
       "      <td>False</td>\n",
       "      <td>12</td>\n",
       "      <td>TSHFWQM96UHR6A4Q</td>\n",
       "      <td>[{'Type': 'Round Neck'}, {'Sleeve': 'Short Sle...</td>\n",
       "      <td>Dream Onn Creations</td>\n",
       "      <td>Topwear</td>\n",
       "      <td>668</td>\n",
       "      <td>Printed Men Round Neck Orange T-Shirt</td>\n",
       "      <td>699.0</td>\n",
       "    </tr>\n",
       "    <tr>\n",
       "      <th>2</th>\n",
       "      <td>79c8f0d7-30b1-5dd4-9f2f-2fe97782b027</td>\n",
       "      <td>3.9</td>\n",
       "      <td>32</td>\n",
       "      <td>Free Authori</td>\n",
       "      <td>Clothing and Accessories</td>\n",
       "      <td>2021-02-11 00:43:37</td>\n",
       "      <td>Free Authority Presents this Crew Neck Yellow ...</td>\n",
       "      <td>['https://rukminim1.flixcart.com/image/128/128...</td>\n",
       "      <td>False</td>\n",
       "      <td>11</td>\n",
       "      <td>SWSFWCXH2WF6ZYRB</td>\n",
       "      <td>[{'Color': 'Yellow'}, {'Fabric': 'Polycotton'}...</td>\n",
       "      <td>BioworldMerchandising</td>\n",
       "      <td>Winter Wear</td>\n",
       "      <td>53</td>\n",
       "      <td>Full Sleeve Graphic Print Men Sweatshirt</td>\n",
       "      <td>1499.0</td>\n",
       "    </tr>\n",
       "    <tr>\n",
       "      <th>3</th>\n",
       "      <td>0531c28c-7c50-5fbd-9ce3-a7cae3243ad5</td>\n",
       "      <td>3.8</td>\n",
       "      <td>31</td>\n",
       "      <td>HUMBE</td>\n",
       "      <td>Clothing and Accessories</td>\n",
       "      <td>2021-02-10 21:22:10</td>\n",
       "      <td>Cotton Blend FabricCollar / Polo Neck White &amp; ...</td>\n",
       "      <td>['https://rukminim1.flixcart.com/image/128/128...</td>\n",
       "      <td>False</td>\n",
       "      <td>11</td>\n",
       "      <td>TSHFHQH3HKDAGGK9</td>\n",
       "      <td>[{'Type': 'Polo Neck'}, {'Sleeve': 'Short Slee...</td>\n",
       "      <td>HUMBERT</td>\n",
       "      <td>Topwear</td>\n",
       "      <td>510</td>\n",
       "      <td>Solid Men Polo Neck Light Blue, White T-Shirt ...</td>\n",
       "      <td>1699.0</td>\n",
       "    </tr>\n",
       "    <tr>\n",
       "      <th>4</th>\n",
       "      <td>d604baad-472e-5c18-86a3-7b46d4a890c2</td>\n",
       "      <td>2.4</td>\n",
       "      <td>20</td>\n",
       "      <td>Rose We</td>\n",
       "      <td>Clothing and Accessories</td>\n",
       "      <td>2021-02-10 23:36:36</td>\n",
       "      <td>undefined</td>\n",
       "      <td>['https://rukminim1.flixcart.com/image/128/128...</td>\n",
       "      <td>False</td>\n",
       "      <td>5</td>\n",
       "      <td>TSHFW9CJZSYUU6UX</td>\n",
       "      <td>[{'Type': 'Round Neck'}, {'Sleeve': 'Short Sle...</td>\n",
       "      <td>Rupalcollectionjaipur</td>\n",
       "      <td>Topwear</td>\n",
       "      <td>496</td>\n",
       "      <td>Printed Men Round Neck White T-Shirt</td>\n",
       "      <td>599.0</td>\n",
       "    </tr>\n",
       "  </tbody>\n",
       "</table>\n",
       "</div>"
      ],
      "text/plain": [
       "                                    _id  average_rating  number_of_reviews  \\\n",
       "0  53df9662-e500-569c-946e-0c8d215a72cd             3.2                 26   \n",
       "1  d0142842-84f7-537d-a06f-d85b76488a5f             4.0                 33   \n",
       "2  79c8f0d7-30b1-5dd4-9f2f-2fe97782b027             3.9                 32   \n",
       "3  0531c28c-7c50-5fbd-9ce3-a7cae3243ad5             3.8                 31   \n",
       "4  d604baad-472e-5c18-86a3-7b46d4a890c2             2.4                 20   \n",
       "\n",
       "          brand                  category           crawled_at  \\\n",
       "0        East I  Clothing and Accessories  2021-02-10 21:17:28   \n",
       "1       dream o  Clothing and Accessories  2021-02-11 01:02:46   \n",
       "2  Free Authori  Clothing and Accessories  2021-02-11 00:43:37   \n",
       "3         HUMBE  Clothing and Accessories  2021-02-10 21:22:10   \n",
       "4       Rose We  Clothing and Accessories  2021-02-10 23:36:36   \n",
       "\n",
       "                                         description  \\\n",
       "0  Navy Blue Printed Boxers Has  An Inner  Elasti...   \n",
       "1  smiley printed tshirt on round neck cotton tshirt   \n",
       "2  Free Authority Presents this Crew Neck Yellow ...   \n",
       "3  Cotton Blend FabricCollar / Polo Neck White & ...   \n",
       "4                                          undefined   \n",
       "\n",
       "                                              images  out_of_stock  \\\n",
       "0  ['https://rukminim1.flixcart.com/image/128/128...         False   \n",
       "1  ['https://rukminim1.flixcart.com/image/128/128...         False   \n",
       "2  ['https://rukminim1.flixcart.com/image/128/128...         False   \n",
       "3  ['https://rukminim1.flixcart.com/image/128/128...         False   \n",
       "4  ['https://rukminim1.flixcart.com/image/128/128...         False   \n",
       "\n",
       "   avg_delivery_time_days               pid  \\\n",
       "0                       8  BXRFTZF7JGX75DAW   \n",
       "1                      12  TSHFWQM96UHR6A4Q   \n",
       "2                      11  SWSFWCXH2WF6ZYRB   \n",
       "3                      11  TSHFHQH3HKDAGGK9   \n",
       "4                       5  TSHFW9CJZSYUU6UX   \n",
       "\n",
       "                                     product_details                 seller  \\\n",
       "0  [{'Color': 'Dark Blue'}, {'Fabric': 'Pure Cott...                  ZIYAA   \n",
       "1  [{'Type': 'Round Neck'}, {'Sleeve': 'Short Sle...    Dream Onn Creations   \n",
       "2  [{'Color': 'Yellow'}, {'Fabric': 'Polycotton'}...  BioworldMerchandising   \n",
       "3  [{'Type': 'Polo Neck'}, {'Sleeve': 'Short Slee...                HUMBERT   \n",
       "4  [{'Type': 'Round Neck'}, {'Sleeve': 'Short Sle...  Rupalcollectionjaipur   \n",
       "\n",
       "             sub_category  fabrication_time  \\\n",
       "0  Innerwear and Swimwear               653   \n",
       "1                 Topwear               668   \n",
       "2             Winter Wear                53   \n",
       "3                 Topwear               510   \n",
       "4                 Topwear               496   \n",
       "\n",
       "                                               title  actual_price  \n",
       "0                     Printed Men Boxer  (Pack of 1)         849.0  \n",
       "1              Printed Men Round Neck Orange T-Shirt         699.0  \n",
       "2           Full Sleeve Graphic Print Men Sweatshirt        1499.0  \n",
       "3  Solid Men Polo Neck Light Blue, White T-Shirt ...        1699.0  \n",
       "4               Printed Men Round Neck White T-Shirt         599.0  "
      ]
     },
     "execution_count": 611,
     "metadata": {},
     "output_type": "execute_result"
    }
   ],
   "source": [
    "# Opening JSON file\n",
    "train = open('dataset/raw/train.json')\n",
    " \n",
    "# returns JSON object as \n",
    "# a dictionary\n",
    "data_train_aux = json.load(train)\n",
    "\n",
    "data_train = pd.json_normalize(data_train_aux, record_path = 'data')\n",
    "data_train.columns = data_train_aux['columns']\n",
    "data_train.head()"
   ]
  },
  {
   "cell_type": "markdown",
   "id": "0ea9e857",
   "metadata": {},
   "source": [
    "# Data Description"
   ]
  },
  {
   "cell_type": "code",
   "execution_count": 612,
   "id": "343e4620",
   "metadata": {
    "ExecuteTime": {
     "end_time": "2023-10-22T15:17:59.221534Z",
     "start_time": "2023-10-22T15:17:59.207587Z"
    }
   },
   "outputs": [],
   "source": [
    "# retirar descrição\n",
    "# retirar imagem\n",
    "# verificar ids duplicados em id produto\n",
    "# Verificar outliers no price"
   ]
  },
  {
   "cell_type": "markdown",
   "id": "8616ae01",
   "metadata": {},
   "source": [
    "## Removendo colunas"
   ]
  },
  {
   "cell_type": "code",
   "execution_count": 613,
   "id": "4cf08145",
   "metadata": {
    "ExecuteTime": {
     "end_time": "2023-10-22T15:17:59.252298Z",
     "start_time": "2023-10-22T15:17:59.226429Z"
    }
   },
   "outputs": [],
   "source": [
    "data_train = data_train.drop(columns=['description', 'images'])"
   ]
  },
  {
   "cell_type": "markdown",
   "id": "625226f3",
   "metadata": {},
   "source": [
    "## Transformando tipo de dados"
   ]
  },
  {
   "cell_type": "code",
   "execution_count": 614,
   "id": "1ad79624",
   "metadata": {
    "ExecuteTime": {
     "end_time": "2023-10-22T15:17:59.267420Z",
     "start_time": "2023-10-22T15:17:59.256555Z"
    }
   },
   "outputs": [
    {
     "data": {
      "text/plain": [
       "_id                        object\n",
       "average_rating            float64\n",
       "number_of_reviews           int64\n",
       "brand                      object\n",
       "category                   object\n",
       "crawled_at                 object\n",
       "out_of_stock                 bool\n",
       "avg_delivery_time_days      int64\n",
       "pid                        object\n",
       "product_details            object\n",
       "seller                     object\n",
       "sub_category               object\n",
       "fabrication_time            int64\n",
       "title                      object\n",
       "actual_price              float64\n",
       "dtype: object"
      ]
     },
     "execution_count": 614,
     "metadata": {},
     "output_type": "execute_result"
    }
   ],
   "source": [
    "data_train.dtypes"
   ]
  },
  {
   "cell_type": "code",
   "execution_count": 615,
   "id": "0072097b",
   "metadata": {
    "ExecuteTime": {
     "end_time": "2023-10-22T15:17:59.360200Z",
     "start_time": "2023-10-22T15:17:59.271924Z"
    }
   },
   "outputs": [],
   "source": [
    "# transformando de string para data\n",
    "data_train['crawled_at'] = pd.to_datetime(data_train['crawled_at']).dt.date"
   ]
  },
  {
   "cell_type": "markdown",
   "id": "cdb9369e",
   "metadata": {},
   "source": [
    "## Tratando valores nulos"
   ]
  },
  {
   "cell_type": "code",
   "execution_count": 616,
   "id": "1c041d78",
   "metadata": {
    "ExecuteTime": {
     "end_time": "2023-10-22T15:17:59.484460Z",
     "start_time": "2023-10-22T15:17:59.363302Z"
    }
   },
   "outputs": [
    {
     "data": {
      "text/plain": [
       "_id                       0.000000\n",
       "average_rating            0.000000\n",
       "number_of_reviews         0.000000\n",
       "brand                     0.000000\n",
       "category                  0.000000\n",
       "crawled_at                0.000000\n",
       "out_of_stock              0.000000\n",
       "avg_delivery_time_days    0.000000\n",
       "pid                       0.000000\n",
       "product_details           0.000000\n",
       "seller                    0.000000\n",
       "sub_category              0.000000\n",
       "fabrication_time          0.000000\n",
       "title                     0.000000\n",
       "actual_price              0.149985\n",
       "dtype: float64"
      ]
     },
     "execution_count": 616,
     "metadata": {},
     "output_type": "execute_result"
    }
   ],
   "source": [
    "data_train.isna().sum()/data_train.shape[0]"
   ]
  },
  {
   "cell_type": "code",
   "execution_count": 617,
   "id": "26f84127",
   "metadata": {
    "ExecuteTime": {
     "end_time": "2023-10-22T15:17:59.577607Z",
     "start_time": "2023-10-22T15:17:59.489716Z"
    }
   },
   "outputs": [],
   "source": [
    "data_train = data_train.dropna(subset=['actual_price'])"
   ]
  },
  {
   "cell_type": "code",
   "execution_count": 618,
   "id": "5a54e630",
   "metadata": {
    "ExecuteTime": {
     "end_time": "2023-10-22T15:17:59.702036Z",
     "start_time": "2023-10-22T15:17:59.581254Z"
    },
    "scrolled": true
   },
   "outputs": [
    {
     "data": {
      "text/plain": [
       "_id                       0.0\n",
       "average_rating            0.0\n",
       "number_of_reviews         0.0\n",
       "brand                     0.0\n",
       "category                  0.0\n",
       "crawled_at                0.0\n",
       "out_of_stock              0.0\n",
       "avg_delivery_time_days    0.0\n",
       "pid                       0.0\n",
       "product_details           0.0\n",
       "seller                    0.0\n",
       "sub_category              0.0\n",
       "fabrication_time          0.0\n",
       "title                     0.0\n",
       "actual_price              0.0\n",
       "dtype: float64"
      ]
     },
     "execution_count": 618,
     "metadata": {},
     "output_type": "execute_result"
    }
   ],
   "source": [
    "data_train.isna().sum()/data_train.shape[0]"
   ]
  },
  {
   "cell_type": "markdown",
   "id": "f8e8fae6",
   "metadata": {},
   "source": [
    "## Entendendo product Details"
   ]
  },
  {
   "cell_type": "code",
   "execution_count": 619,
   "id": "277e00f7",
   "metadata": {
    "ExecuteTime": {
     "end_time": "2023-10-22T15:18:08.132041Z",
     "start_time": "2023-10-22T15:17:59.705426Z"
    }
   },
   "outputs": [],
   "source": [
    "import ast\n",
    "\n",
    "# pega string de dict e cria uma lista de dicionários\n",
    "def f(x):\n",
    "    try:\n",
    "        return ast.literal_eval(str(x))   \n",
    "    except Exception as e:\n",
    "        print(e)\n",
    "        return []\n",
    "\n",
    "teste = data_train['product_details'].apply(lambda x: f(x))\n",
    "\n",
    "def junta_dict(dict_list):\n",
    "    dicionario = {}\n",
    "    for d in dict_list:\n",
    "        for key, value in d.items():\n",
    "            dicionario[key] = value\n",
    "    return dicionario\n",
    "\n",
    "\n",
    "df = pd.DataFrame([junta_dict(row) for row in teste])"
   ]
  },
  {
   "cell_type": "code",
   "execution_count": 620,
   "id": "ed4bf01c",
   "metadata": {
    "ExecuteTime": {
     "end_time": "2023-10-22T15:18:10.342881Z",
     "start_time": "2023-10-22T15:18:08.137570Z"
    }
   },
   "outputs": [
    {
     "data": {
      "text/plain": [
       "Fabric               1491\n",
       "Style Code           1653\n",
       "Pattern              1661\n",
       "Fabric Care          4305\n",
       "Suitable For         6120\n",
       "                    ...  \n",
       "Shoulder in inch    19811\n",
       "Pleated             19812\n",
       "Region              19812\n",
       "Design              19812\n",
       "Fabric care         19812\n",
       "Length: 124, dtype: int64"
      ]
     },
     "execution_count": 620,
     "metadata": {},
     "output_type": "execute_result"
    }
   ],
   "source": [
    "df = pd.DataFrame([junta_dict(row) for row in teste])\n",
    "df.isna().sum().sort_values()"
   ]
  },
  {
   "cell_type": "markdown",
   "id": "1a3a83f2",
   "metadata": {},
   "source": [
    "# Feature Engineering"
   ]
  },
  {
   "cell_type": "code",
   "execution_count": 621,
   "id": "cf0764da",
   "metadata": {
    "ExecuteTime": {
     "end_time": "2023-10-22T15:18:10.389072Z",
     "start_time": "2023-10-22T15:18:10.346088Z"
    }
   },
   "outputs": [],
   "source": [
    "df4 = data_train.copy()"
   ]
  },
  {
   "cell_type": "code",
   "execution_count": 622,
   "id": "02173cbd",
   "metadata": {
    "ExecuteTime": {
     "end_time": "2023-10-22T15:18:11.198641Z",
     "start_time": "2023-10-22T15:18:10.399278Z"
    }
   },
   "outputs": [],
   "source": [
    "## out_of_stock - transformar para int \n",
    "df4['out_of_stock'] = df4['out_of_stock'].astype('int64')\n",
    "\n",
    "# brand - substituir por outros\n",
    "df4['brand'] = df4['brand'].apply(lambda x: x.lower())\n",
    "\n",
    "# criando feature product\n",
    "df4['product'] = df4[['category', 'sub_category']].apply(lambda x: x['category'] + '_' + x['sub_category'], axis = 1)"
   ]
  },
  {
   "cell_type": "code",
   "execution_count": 623,
   "id": "a808e599",
   "metadata": {
    "ExecuteTime": {
     "end_time": "2023-10-22T15:18:26.299877Z",
     "start_time": "2023-10-22T15:18:11.202087Z"
    }
   },
   "outputs": [],
   "source": [
    "import ast\n",
    "\n",
    "# pega string de dict e cria uma lista de dicionários\n",
    "def f(x):\n",
    "    try:\n",
    "        return ast.literal_eval(str(x))   \n",
    "    except Exception as e:\n",
    "        print(e)\n",
    "        return []\n",
    "\n",
    "\n",
    "\n",
    "def junta_dict(dict_list):\n",
    "    dicionario = {}\n",
    "    for d in dict_list:\n",
    "        for key, value in d.items():\n",
    "            dicionario[key] = value\n",
    "    return dicionario\n",
    "\n",
    "list = df4['product_details'].apply(lambda x: f(x))\n",
    "\n",
    "df_details = pd.DataFrame([junta_dict(row) for row in list], index = list.index)\n",
    "\n",
    "df_drop_columns = df_details.drop(columns=['', ' '])\n",
    "\n",
    "# Removendo valores faltantes acima de 50%\n",
    "limite_nulos = len(df_details) * 0.5  \n",
    "df_drop = df_details.dropna(thresh = limite_nulos, axis=1)\n",
    "df_new = df_drop.copy()\n",
    "\n",
    "# Trocar os NaN por 'outros'\n",
    "\n",
    "df_new.loc[df_new['Fabric'].isnull(), 'Fabric'] = 'outros'\n",
    "df_new.loc[df_new['Pattern'].isnull(), 'Pattern'] = 'outros'\n",
    "df_new.loc[df_new['Style Code'].isnull(), 'Style Code'] = 'outros'\n",
    "df_new.loc[df_new['Pack of'].isnull(), 'Pack of'] = 'outros'\n",
    "df_new.loc[df_new['Type'].isnull(), 'Type'] = 'outros'\n",
    "df_new.loc[df_new['Sleeve'].isnull(), 'Sleeve'] = 'outros'\n",
    "df_new.loc[df_new['Fit'].isnull(), 'Fit'] = 'outros'\n",
    "df_new.loc[df_new['Ideal For'].isnull(), 'Ideal For'] = 'outros'\n",
    "df_new.loc[df_new['Suitable For'].isnull(), 'Suitable For'] = 'outros'\n",
    "df_new.loc[df_new['Reversible'].isnull(), 'Reversible'] = 'outros'\n",
    "df_new.loc[df_new['Fabric Care'].isnull(), 'Fabric Care'] = 'outros'\n",
    "\n",
    "df_new.head()\n",
    "\n",
    "def type_sex(value):\n",
    "    if value == 'Men':\n",
    "        return 'Men'\n",
    "    elif value == 'Men, Boys':\n",
    "        return 'all_ages'\n",
    "    elif value == 'Boys, Men':\n",
    "        return 'all_ages'\n",
    "    elif value == 'Boys, Girls, Men, Women':\n",
    "        return 'unisex_all_ages'\n",
    "    elif value == 'Women, Men':\n",
    "        return 'Unisex'\n",
    "    else:\n",
    "        return 'outros'\n",
    "\n",
    "df_new['Ideal For'] = df_new['Ideal For'].map(type_sex)\n",
    "\n",
    "df4 = pd.concat([df4, df_new], axis=1)\n",
    "\n",
    "## Tratando variaveis respostas nulas\n",
    "prices = df4[['seller','pid', 'actual_price']].groupby('pid').max().reset_index()\n",
    "\n",
    "precos_nulos = df4.loc[df4['actual_price'].isna(), ['_id','pid']]\n",
    "\n",
    "precos_recuperados = pd.merge(precos_nulos, prices, how = 'inner', on = 'pid')\n",
    "\n",
    "df4_aux = pd.merge(df4, precos_recuperados[['_id', 'actual_price']], on = '_id', how = 'left')\n",
    "df4['actual_price'] = df4_aux['actual_price_x'].fillna(0) + df4_aux['actual_price_y'].fillna(0)\n",
    "\n",
    "df4 = df4.dropna(subset=['actual_price'])"
   ]
  },
  {
   "cell_type": "markdown",
   "id": "e7467521",
   "metadata": {},
   "source": [
    "# EDA"
   ]
  },
  {
   "cell_type": "code",
   "execution_count": 624,
   "id": "f8715db2",
   "metadata": {
    "ExecuteTime": {
     "end_time": "2023-10-22T15:18:26.346511Z",
     "start_time": "2023-10-22T15:18:26.304111Z"
    }
   },
   "outputs": [],
   "source": [
    "df5 = df4.copy()"
   ]
  },
  {
   "cell_type": "markdown",
   "id": "5140daa9",
   "metadata": {},
   "source": [
    "# Data Preparation"
   ]
  },
  {
   "cell_type": "code",
   "execution_count": 625,
   "id": "68f43f40",
   "metadata": {
    "ExecuteTime": {
     "end_time": "2023-10-22T15:18:26.393220Z",
     "start_time": "2023-10-22T15:18:26.353504Z"
    }
   },
   "outputs": [],
   "source": [
    "df6 = df5.copy()"
   ]
  },
  {
   "cell_type": "code",
   "execution_count": 626,
   "id": "7781dc92",
   "metadata": {
    "ExecuteTime": {
     "end_time": "2023-10-22T15:18:26.595142Z",
     "start_time": "2023-10-22T15:18:26.397261Z"
    }
   },
   "outputs": [
    {
     "data": {
      "text/plain": [
       "_id                       0\n",
       "average_rating            0\n",
       "number_of_reviews         0\n",
       "brand                     0\n",
       "category                  0\n",
       "crawled_at                0\n",
       "out_of_stock              0\n",
       "avg_delivery_time_days    0\n",
       "pid                       0\n",
       "product_details           0\n",
       "seller                    0\n",
       "sub_category              0\n",
       "fabrication_time          0\n",
       "title                     0\n",
       "actual_price              0\n",
       "product                   0\n",
       "Fabric                    0\n",
       "Pattern                   0\n",
       "Style Code                0\n",
       "Pack of                   0\n",
       "Type                      0\n",
       "Sleeve                    0\n",
       "Fit                       0\n",
       "Ideal For                 0\n",
       "Suitable For              0\n",
       "Reversible                0\n",
       "Fabric Care               0\n",
       "dtype: int64"
      ]
     },
     "execution_count": 626,
     "metadata": {},
     "output_type": "execute_result"
    }
   ],
   "source": [
    "df6.isna().sum()"
   ]
  },
  {
   "cell_type": "markdown",
   "id": "dddaf50a",
   "metadata": {},
   "source": [
    "## Split Dataset"
   ]
  },
  {
   "cell_type": "code",
   "execution_count": 627,
   "id": "5d90c1cd",
   "metadata": {
    "ExecuteTime": {
     "end_time": "2023-10-22T15:18:26.750706Z",
     "start_time": "2023-10-22T15:18:26.601853Z"
    }
   },
   "outputs": [],
   "source": [
    "X = df6.drop(['_id','pid','actual_price'], axis=1)\n",
    "y = df6['actual_price']\n",
    "\n",
    "X_train, X_test, y_train, y_test = ms.train_test_split(X, y, test_size=0.01)\n",
    "data_train = pd.concat([X_train, y_train], axis=1)\n",
    "data_test = pd.concat([X_test, y_test], axis=1)"
   ]
  },
  {
   "cell_type": "markdown",
   "id": "492ffd74",
   "metadata": {},
   "source": [
    "## Rescalling"
   ]
  },
  {
   "cell_type": "code",
   "execution_count": 628,
   "id": "254a41af",
   "metadata": {
    "ExecuteTime": {
     "end_time": "2023-10-22T15:18:26.781060Z",
     "start_time": "2023-10-22T15:18:26.757265Z"
    }
   },
   "outputs": [
    {
     "data": {
      "text/plain": [
       "Index(['average_rating', 'number_of_reviews', 'brand', 'category',\n",
       "       'crawled_at', 'out_of_stock', 'avg_delivery_time_days',\n",
       "       'product_details', 'seller', 'sub_category', 'fabrication_time',\n",
       "       'title', 'product', 'Fabric', 'Pattern', 'Style Code', 'Pack of',\n",
       "       'Type', 'Sleeve', 'Fit', 'Ideal For', 'Suitable For', 'Reversible',\n",
       "       'Fabric Care'],\n",
       "      dtype='object')"
      ]
     },
     "execution_count": 628,
     "metadata": {},
     "output_type": "execute_result"
    }
   ],
   "source": [
    "X_train.columns"
   ]
  },
  {
   "cell_type": "markdown",
   "id": "7b5d3e4d",
   "metadata": {},
   "source": [
    "### Min Max Scaler"
   ]
  },
  {
   "cell_type": "code",
   "execution_count": 629,
   "id": "3211520b",
   "metadata": {
    "ExecuteTime": {
     "end_time": "2023-10-22T15:18:26.827169Z",
     "start_time": "2023-10-22T15:18:26.787976Z"
    }
   },
   "outputs": [
    {
     "name": "stderr",
     "output_type": "stream",
     "text": [
      "2023-10-22 12:18:26,809 [32596] WARNING  py.warnings:109: [JupyterRequire] C:\\Users\\Notebook\\AppData\\Local\\Temp/ipykernel_32596/2287114027.py:3: SettingWithCopyWarning:\n",
      "\n",
      "\n",
      "A value is trying to be set on a copy of a slice from a DataFrame.\n",
      "Try using .loc[row_indexer,col_indexer] = value instead\n",
      "\n",
      "See the caveats in the documentation: https://pandas.pydata.org/pandas-docs/stable/user_guide/indexing.html#returning-a-view-versus-a-copy\n",
      "\n",
      "\n"
     ]
    }
   ],
   "source": [
    "mm = pp.MinMaxScaler()\n",
    "\n",
    "X_train['avg_delivery_time_days'] = mm.fit_transform(X_train[['avg_delivery_time_days']])\n",
    "pickle.dump(mm, open('parameters/mm_avg_delivery_time_days.pkl','wb'))"
   ]
  },
  {
   "cell_type": "markdown",
   "id": "325cece4",
   "metadata": {},
   "source": [
    "### Robust Scaler"
   ]
  },
  {
   "cell_type": "code",
   "execution_count": 630,
   "id": "2155c696",
   "metadata": {
    "ExecuteTime": {
     "end_time": "2023-10-22T15:18:26.888715Z",
     "start_time": "2023-10-22T15:18:26.831078Z"
    }
   },
   "outputs": [
    {
     "name": "stderr",
     "output_type": "stream",
     "text": [
      "2023-10-22 12:18:26,854 [32596] WARNING  py.warnings:109: [JupyterRequire] C:\\Users\\Notebook\\AppData\\Local\\Temp/ipykernel_32596/3765211346.py:4: SettingWithCopyWarning:\n",
      "\n",
      "\n",
      "A value is trying to be set on a copy of a slice from a DataFrame.\n",
      "Try using .loc[row_indexer,col_indexer] = value instead\n",
      "\n",
      "See the caveats in the documentation: https://pandas.pydata.org/pandas-docs/stable/user_guide/indexing.html#returning-a-view-versus-a-copy\n",
      "\n",
      "\n",
      "2023-10-22 12:18:26,871 [32596] WARNING  py.warnings:109: [JupyterRequire] C:\\Users\\Notebook\\AppData\\Local\\Temp/ipykernel_32596/3765211346.py:7: SettingWithCopyWarning:\n",
      "\n",
      "\n",
      "A value is trying to be set on a copy of a slice from a DataFrame.\n",
      "Try using .loc[row_indexer,col_indexer] = value instead\n",
      "\n",
      "See the caveats in the documentation: https://pandas.pydata.org/pandas-docs/stable/user_guide/indexing.html#returning-a-view-versus-a-copy\n",
      "\n",
      "\n"
     ]
    }
   ],
   "source": [
    "rs_average_rating   = pp.RobustScaler()\n",
    "rs_number_of_reviews = pp.RobustScaler()\n",
    "\n",
    "X_train['average_rating'] = rs_average_rating.fit_transform(X_train[['average_rating']])\n",
    "pickle.dump(rs_average_rating, open('parameters/rs_average_rating.pkl','wb'))\n",
    "\n",
    "X_train['number_of_reviews'] = rs_number_of_reviews.fit_transform(X_train[['number_of_reviews']])\n",
    "pickle.dump(rs_number_of_reviews, open('parameters/rs_number_of_reviews.pkl','wb'))"
   ]
  },
  {
   "cell_type": "markdown",
   "id": "c0c59710",
   "metadata": {},
   "source": [
    "## Transformation"
   ]
  },
  {
   "cell_type": "markdown",
   "id": "ff788903",
   "metadata": {},
   "source": [
    "### One Hot Enconde"
   ]
  },
  {
   "cell_type": "code",
   "execution_count": 631,
   "id": "5c34f589",
   "metadata": {
    "ExecuteTime": {
     "end_time": "2023-10-22T15:18:26.903880Z",
     "start_time": "2023-10-22T15:18:26.892220Z"
    }
   },
   "outputs": [],
   "source": [
    "# 'out_of_stock'"
   ]
  },
  {
   "cell_type": "markdown",
   "id": "c1f9429b",
   "metadata": {},
   "source": [
    "### Target Encode"
   ]
  },
  {
   "cell_type": "code",
   "execution_count": 632,
   "id": "094130c6",
   "metadata": {
    "ExecuteTime": {
     "end_time": "2023-10-22T15:18:26.919409Z",
     "start_time": "2023-10-22T15:18:26.907142Z"
    }
   },
   "outputs": [],
   "source": [
    "# for att in []:\n",
    "#     te = pickle.load(open(f'api/parameters/te{att}.pkl','rb'))\n",
    "#     X_train =te.transform(X_train)"
   ]
  },
  {
   "cell_type": "markdown",
   "id": "527eaecc",
   "metadata": {},
   "source": [
    "### Frequency Encode"
   ]
  },
  {
   "cell_type": "code",
   "execution_count": 633,
   "id": "f1ce9035",
   "metadata": {
    "ExecuteTime": {
     "end_time": "2023-10-22T15:18:29.762180Z",
     "start_time": "2023-10-22T15:18:26.924672Z"
    }
   },
   "outputs": [],
   "source": [
    "for att in ['brand', 'product', 'seller','Style Code','Pack of','Ideal For','Suitable For','Reversible']:\n",
    "    fe =  ce.CountEncoder(cols=[att], normalize=True).fit(X_train)\n",
    "    pickle.dump(fe,open(f'parameters/fe_{att}.pkl', 'wb'))\n",
    "    X_train = fe.transform(X_train)"
   ]
  },
  {
   "cell_type": "markdown",
   "id": "c8b601c7",
   "metadata": {},
   "source": [
    "### Response Variable"
   ]
  },
  {
   "cell_type": "code",
   "execution_count": 634,
   "id": "cf5917e1",
   "metadata": {
    "ExecuteTime": {
     "end_time": "2023-10-22T15:18:29.777684Z",
     "start_time": "2023-10-22T15:18:29.765750Z"
    }
   },
   "outputs": [],
   "source": [
    "y_train = np.log1p(y_train)"
   ]
  },
  {
   "cell_type": "markdown",
   "id": "3788f05a",
   "metadata": {},
   "source": [
    "## Test Preparation"
   ]
  },
  {
   "cell_type": "code",
   "execution_count": 635,
   "id": "c6c40a02",
   "metadata": {
    "ExecuteTime": {
     "end_time": "2023-10-22T15:18:30.085595Z",
     "start_time": "2023-10-22T15:18:29.786359Z"
    },
    "scrolled": true
   },
   "outputs": [
    {
     "name": "stderr",
     "output_type": "stream",
     "text": [
      "2023-10-22 12:18:29,810 [32596] WARNING  py.warnings:109: [JupyterRequire] C:\\Users\\Notebook\\AppData\\Local\\Temp/ipykernel_32596/257558416.py:12: SettingWithCopyWarning:\n",
      "\n",
      "\n",
      "A value is trying to be set on a copy of a slice from a DataFrame.\n",
      "Try using .loc[row_indexer,col_indexer] = value instead\n",
      "\n",
      "See the caveats in the documentation: https://pandas.pydata.org/pandas-docs/stable/user_guide/indexing.html#returning-a-view-versus-a-copy\n",
      "\n",
      "\n",
      "2023-10-22 12:18:29,828 [32596] WARNING  py.warnings:109: [JupyterRequire] C:\\Users\\Notebook\\AppData\\Local\\Temp/ipykernel_32596/257558416.py:16: SettingWithCopyWarning:\n",
      "\n",
      "\n",
      "A value is trying to be set on a copy of a slice from a DataFrame.\n",
      "Try using .loc[row_indexer,col_indexer] = value instead\n",
      "\n",
      "See the caveats in the documentation: https://pandas.pydata.org/pandas-docs/stable/user_guide/indexing.html#returning-a-view-versus-a-copy\n",
      "\n",
      "\n",
      "2023-10-22 12:18:29,844 [32596] WARNING  py.warnings:109: [JupyterRequire] C:\\Users\\Notebook\\AppData\\Local\\Temp/ipykernel_32596/257558416.py:20: SettingWithCopyWarning:\n",
      "\n",
      "\n",
      "A value is trying to be set on a copy of a slice from a DataFrame.\n",
      "Try using .loc[row_indexer,col_indexer] = value instead\n",
      "\n",
      "See the caveats in the documentation: https://pandas.pydata.org/pandas-docs/stable/user_guide/indexing.html#returning-a-view-versus-a-copy\n",
      "\n",
      "\n"
     ]
    }
   ],
   "source": [
    "X_test_mod, y_test_mod = test_preparation(X_test, y_test)"
   ]
  },
  {
   "cell_type": "markdown",
   "id": "1d0cc108",
   "metadata": {},
   "source": [
    "# Feature Selection"
   ]
  },
  {
   "cell_type": "code",
   "execution_count": 636,
   "id": "3b98ad6a",
   "metadata": {
    "ExecuteTime": {
     "end_time": "2023-10-22T15:18:30.101967Z",
     "start_time": "2023-10-22T15:18:30.090394Z"
    }
   },
   "outputs": [
    {
     "data": {
      "text/plain": [
       "['average_rating',\n",
       " 'number_of_reviews',\n",
       " 'brand',\n",
       " 'category',\n",
       " 'crawled_at',\n",
       " 'out_of_stock',\n",
       " 'avg_delivery_time_days',\n",
       " 'product_details',\n",
       " 'seller',\n",
       " 'sub_category',\n",
       " 'fabrication_time',\n",
       " 'title',\n",
       " 'product',\n",
       " 'Fabric',\n",
       " 'Pattern',\n",
       " 'Style Code',\n",
       " 'Pack of',\n",
       " 'Type',\n",
       " 'Sleeve',\n",
       " 'Fit',\n",
       " 'Ideal For',\n",
       " 'Suitable For',\n",
       " 'Reversible',\n",
       " 'Fabric Care']"
      ]
     },
     "execution_count": 636,
     "metadata": {},
     "output_type": "execute_result"
    }
   ],
   "source": [
    "X_train.columns.tolist()"
   ]
  },
  {
   "cell_type": "code",
   "execution_count": 637,
   "id": "a400968d",
   "metadata": {
    "ExecuteTime": {
     "end_time": "2023-10-22T15:18:30.133329Z",
     "start_time": "2023-10-22T15:18:30.106967Z"
    }
   },
   "outputs": [
    {
     "data": {
      "text/plain": [
       "('Style Code', 'Pack of', 'Ideal For', 'Suitable For', 'Reversible')"
      ]
     },
     "execution_count": 637,
     "metadata": {},
     "output_type": "execute_result"
    }
   ],
   "source": [
    "'Style Code','Pack of','Ideal For','Suitable For','Reversible',"
   ]
  },
  {
   "cell_type": "code",
   "execution_count": 638,
   "id": "cfd36892",
   "metadata": {
    "ExecuteTime": {
     "end_time": "2023-10-22T15:18:30.163161Z",
     "start_time": "2023-10-22T15:18:30.143370Z"
    }
   },
   "outputs": [],
   "source": [
    "features_selected = [\n",
    "'average_rating',\n",
    "# 'number_of_reviews',\n",
    "'brand',\n",
    "# 'category',\n",
    "# 'crawled_at',\n",
    "'out_of_stock',\n",
    "'avg_delivery_time_days',\n",
    "#  'product_details',\n",
    "'seller',\n",
    "#  'sub_category',\n",
    "#  'fabrication_time',\n",
    "#  'title',\n",
    "#  'Fabric',\n",
    "#  'Pattern',\n",
    "'Style Code',\n",
    "'Pack of',\n",
    "#  'Type',\n",
    "#  'Sleeve',\n",
    "#  'Fit',\n",
    "'Ideal For',\n",
    "'Suitable For',\n",
    "'Reversible',\n",
    "#  'Fabric Care',\n",
    "'product'\n",
    "]"
   ]
  },
  {
   "cell_type": "markdown",
   "id": "63cd1eef",
   "metadata": {},
   "source": [
    "## Importancia das árvores"
   ]
  },
  {
   "cell_type": "code",
   "execution_count": 639,
   "id": "712f20ba",
   "metadata": {
    "ExecuteTime": {
     "end_time": "2023-10-22T15:18:30.724857Z",
     "start_time": "2023-10-22T15:18:30.170387Z"
    }
   },
   "outputs": [
    {
     "name": "stdout",
     "output_type": "stream",
     "text": [
      "Feature ranking\n",
      "                  feature  importance\n",
      "0          average_rating         750\n",
      "0                   brand         715\n",
      "0                  seller         537\n",
      "0              Style Code         281\n",
      "0                 product         245\n",
      "0                 Pack of         182\n",
      "0               Ideal For         116\n",
      "0              Reversible          89\n",
      "0            Suitable For          53\n",
      "0            out_of_stock          20\n",
      "0  avg_delivery_time_days          12\n"
     ]
    }
   ],
   "source": [
    "# Crie e treine o modelo LGBMClassifier\n",
    "lgb_model = LGBMRegressor(n_jobs=-1, random_state=42)\n",
    "X_train_sel = X_train[features_selected]\n",
    "lgb_model.fit(X_train_sel, y_train)\n",
    "\n",
    "# Obtenha as importâncias das características do modelo\n",
    "importances = lgb_model.feature_importances_\n",
    "\n",
    "# Ordene as características por importância decrescente\n",
    "indices = np.argsort(importances)[::-1]\n",
    "\n",
    "# Imprima o ranking das características\n",
    "print('Feature ranking')\n",
    "df = pd.DataFrame()\n",
    "\n",
    "for i, j in zip(X_train_sel.columns, importances):\n",
    "    aux = pd.DataFrame({'feature': i, 'importance': j}, index=[0])\n",
    "    df = pd.concat([df, aux], axis=0)\n",
    "\n",
    "print(df.sort_values('importance', ascending=False))"
   ]
  },
  {
   "cell_type": "markdown",
   "id": "c0547cfa",
   "metadata": {},
   "source": [
    "# Machine Learning"
   ]
  },
  {
   "cell_type": "code",
   "execution_count": 640,
   "id": "c0ef7c24",
   "metadata": {
    "ExecuteTime": {
     "end_time": "2023-10-22T15:18:30.756440Z",
     "start_time": "2023-10-22T15:18:30.727854Z"
    }
   },
   "outputs": [],
   "source": [
    "def MachineLearning(X_train, y_train, X_test, y_test, features_selected):\n",
    "    SEED = 42\n",
    "\n",
    "    lista_de_medidas = ['SMAPE']\n",
    "    nome_das_medidas = ['SMAPE']\n",
    "\n",
    "    lista_de_modelos = [XGBRegressor(learning_rate=0.1, n_estimators=50, max_depth=3),\n",
    "                        SGDRegressor(random_state=SEED), \n",
    "                        LGBMRegressor(random_state=SEED, n_jobs=-1, force_row_wise=True, ),\n",
    "                        DecisionTreeRegressor(random_state=SEED),\n",
    "                        KNeighborsRegressor(n_neighbors=5,  weights='distance',n_jobs=-1),\n",
    "                        BaggingRegressor(),\n",
    "                        RandomForestRegressor(random_state=SEED)]\n",
    "\n",
    "    nome_dos_modelos = ['XGBoost', \n",
    "                        'SGD', \n",
    "                        'LGBM', \n",
    "                        'DecisionTree',\n",
    "                        'KNN',\n",
    "                        'Bagging',\n",
    "                        'RandomForest']\n",
    "\n",
    "    resultados0 = {}\n",
    "    \n",
    "    X_train_selected = X_train[features_selected]\n",
    "    X_test_selected = X_test[features_selected]\n",
    "\n",
    "\n",
    "    for i in range(len(lista_de_modelos)):\n",
    "        print('Rodando modelo: ' + nome_dos_modelos[i])\n",
    "        \n",
    "        model = lista_de_modelos[i]\n",
    "        \n",
    "        model.fit(X_train_selected, y_train)\n",
    "        \n",
    "        y_pred = model.predict(X_test_selected)\n",
    "        \n",
    "        smape = 100 / len(y_test) * np.sum(2 * np.abs(np.expm1(y_pred) - np.expm1(y_test)) / (np.abs(np.expm1(y_test)) + np.abs(np.expm1(y_pred))))\n",
    "\n",
    "        resultados0[nome_dos_modelos[i]] = [smape]\n",
    "    \n",
    "    resultados = pd.DataFrame(resultados0, index = nome_das_medidas).T\n",
    "\n",
    "    return resultados"
   ]
  },
  {
   "cell_type": "code",
   "execution_count": 641,
   "id": "3b963159",
   "metadata": {
    "ExecuteTime": {
     "end_time": "2023-10-22T15:18:42.969941Z",
     "start_time": "2023-10-22T15:18:30.761971Z"
    }
   },
   "outputs": [
    {
     "name": "stdout",
     "output_type": "stream",
     "text": [
      "Rodando modelo: XGBoost\n",
      "Rodando modelo: SGD\n",
      "Rodando modelo: LGBM\n",
      "Rodando modelo: DecisionTree\n",
      "Rodando modelo: KNN\n",
      "Rodando modelo: Bagging\n",
      "Rodando modelo: RandomForest\n"
     ]
    },
    {
     "data": {
      "text/html": [
       "<div>\n",
       "<style scoped>\n",
       "    .dataframe tbody tr th:only-of-type {\n",
       "        vertical-align: middle;\n",
       "    }\n",
       "\n",
       "    .dataframe tbody tr th {\n",
       "        vertical-align: top;\n",
       "    }\n",
       "\n",
       "    .dataframe thead th {\n",
       "        text-align: right;\n",
       "    }\n",
       "</style>\n",
       "<table border=\"1\" class=\"dataframe\">\n",
       "  <thead>\n",
       "    <tr style=\"text-align: right;\">\n",
       "      <th></th>\n",
       "      <th>SMAPE</th>\n",
       "    </tr>\n",
       "  </thead>\n",
       "  <tbody>\n",
       "    <tr>\n",
       "      <th>XGBoost</th>\n",
       "      <td>42.098601</td>\n",
       "    </tr>\n",
       "    <tr>\n",
       "      <th>SGD</th>\n",
       "      <td>43.443718</td>\n",
       "    </tr>\n",
       "    <tr>\n",
       "      <th>LGBM</th>\n",
       "      <td>42.794034</td>\n",
       "    </tr>\n",
       "    <tr>\n",
       "      <th>DecisionTree</th>\n",
       "      <td>45.990865</td>\n",
       "    </tr>\n",
       "    <tr>\n",
       "      <th>KNN</th>\n",
       "      <td>46.542386</td>\n",
       "    </tr>\n",
       "    <tr>\n",
       "      <th>Bagging</th>\n",
       "      <td>44.267168</td>\n",
       "    </tr>\n",
       "    <tr>\n",
       "      <th>RandomForest</th>\n",
       "      <td>43.572691</td>\n",
       "    </tr>\n",
       "  </tbody>\n",
       "</table>\n",
       "</div>"
      ],
      "text/plain": [
       "                  SMAPE\n",
       "XGBoost       42.098601\n",
       "SGD           43.443718\n",
       "LGBM          42.794034\n",
       "DecisionTree  45.990865\n",
       "KNN           46.542386\n",
       "Bagging       44.267168\n",
       "RandomForest  43.572691"
      ]
     },
     "execution_count": 641,
     "metadata": {},
     "output_type": "execute_result"
    }
   ],
   "source": [
    "MachineLearning(X_train, y_train, X_test_mod, y_test_mod, features_selected)"
   ]
  },
  {
   "cell_type": "markdown",
   "id": "4a6dd862",
   "metadata": {},
   "source": [
    "# Fine Tuning\n",
    "\n",
    "- Não possui cross validation\n",
    "- Não realiza reencode das variáveis\n",
    "- **Para maior assertividade, rodar com todos os dados de treino disponíveis**"
   ]
  },
  {
   "cell_type": "code",
   "execution_count": 583,
   "id": "1d015085",
   "metadata": {
    "ExecuteTime": {
     "end_time": "2023-10-22T15:13:02.293106Z",
     "start_time": "2023-10-22T15:13:02.272991Z"
    }
   },
   "outputs": [],
   "source": [
    "# def objective_cv(trial):  \n",
    "    \n",
    "#     n_estimators = trial.suggest_int('n_estimators',20, 100)\n",
    "#     eta = trial.suggest_float('eta',0.01, 0.05)\n",
    "#     max_depth = trial.suggest_int('max_depth', 3, 9)\n",
    "#     subsample = trial.suggest_float('subsample',0.1, 0.9)\n",
    "#     colsample_bytree = trial.suggest_float('colsample_bytree',0.1,0.9)\n",
    "\n",
    "#     # model definition\n",
    "#     xgb_model = XGBRegressor( n_estimators    = n_estimators, \n",
    "#                               eta              = eta, \n",
    "#                               max_depth        = max_depth, \n",
    "#                               subsample        = subsample,\n",
    "#                               colsample_bytree = colsample_bytree\n",
    "#                              )\n",
    "    \n",
    "#     xgb_model.fit(X_train[features_selected], y_train)\n",
    "    \n",
    "#     # Model Prediction \n",
    "#     y_pred = xgb_model.predict(X_test_mod[features_selected])\n",
    "\n",
    "#     # calculando rmse\n",
    "#     smape = 100 / len(y_test_mod) * np.sum(2 * np.abs(np.expm1(y_pred) - np.expm1(y_test_mod)) / (np.abs(np.expm1(y_test_mod)) + np.abs(np.expm1(y_pred))))\n",
    "\n",
    "#     return smape"
   ]
  },
  {
   "cell_type": "code",
   "execution_count": 584,
   "id": "d4a6f9f5",
   "metadata": {
    "ExecuteTime": {
     "end_time": "2023-10-22T15:14:11.945528Z",
     "start_time": "2023-10-22T15:13:02.301114Z"
    }
   },
   "outputs": [
    {
     "name": "stderr",
     "output_type": "stream",
     "text": [
      "[I 2023-10-22 12:13:02,310] A new study created in memory with name: no-name-b446f611-3929-4a5a-ae79-792fa10aaecf\n",
      "[I 2023-10-22 12:13:03,632] Trial 0 finished with value: 92.20713033879997 and parameters: {'n_estimators': 99, 'eta': 0.01859040444788452, 'max_depth': 6, 'subsample': 0.790123784953477, 'colsample_bytree': 0.2692136148922196}. Best is trial 0 with value: 92.20713033879997.\n",
      "[I 2023-10-22 12:13:05,308] Trial 1 finished with value: 51.972385113135196 and parameters: {'n_estimators': 67, 'eta': 0.03878872959436273, 'max_depth': 4, 'subsample': 0.13244512083963694, 'colsample_bytree': 0.8932924532840313}. Best is trial 1 with value: 51.972385113135196.\n",
      "[I 2023-10-22 12:13:06,190] Trial 2 finished with value: 72.88257113401903 and parameters: {'n_estimators': 43, 'eta': 0.04878155245402561, 'max_depth': 6, 'subsample': 0.2071016730158456, 'colsample_bytree': 0.849612828100148}. Best is trial 1 with value: 51.972385113135196.\n",
      "[I 2023-10-22 12:13:06,517] Trial 3 finished with value: 197.69235714551638 and parameters: {'n_estimators': 26, 'eta': 0.010010078250914463, 'max_depth': 9, 'subsample': 0.13134073917562894, 'colsample_bytree': 0.3512553200379347}. Best is trial 1 with value: 51.972385113135196.\n",
      "[I 2023-10-22 12:13:07,819] Trial 4 finished with value: 97.29064485675453 and parameters: {'n_estimators': 100, 'eta': 0.017764034874040373, 'max_depth': 3, 'subsample': 0.2990783509418403, 'colsample_bytree': 0.5400581206928717}. Best is trial 1 with value: 51.972385113135196.\n",
      "[I 2023-10-22 12:13:08,359] Trial 5 finished with value: 114.79812549598559 and parameters: {'n_estimators': 77, 'eta': 0.02037666251594981, 'max_depth': 6, 'subsample': 0.3379654261701007, 'colsample_bytree': 0.11216136734528917}. Best is trial 1 with value: 51.972385113135196.\n",
      "[I 2023-10-22 12:13:10,482] Trial 6 finished with value: 39.31414261478797 and parameters: {'n_estimators': 95, 'eta': 0.0390663536745, 'max_depth': 3, 'subsample': 0.16038249284519435, 'colsample_bytree': 0.8421353394505153}. Best is trial 6 with value: 39.31414261478797.\n",
      "[I 2023-10-22 12:13:10,973] Trial 7 finished with value: 137.4442257435823 and parameters: {'n_estimators': 65, 'eta': 0.02030279803761744, 'max_depth': 4, 'subsample': 0.6877191839579527, 'colsample_bytree': 0.2786243255934312}. Best is trial 6 with value: 39.31414261478797.\n",
      "[I 2023-10-22 12:13:11,253] Trial 8 finished with value: 174.83827566562317 and parameters: {'n_estimators': 20, 'eta': 0.04262338766614573, 'max_depth': 5, 'subsample': 0.24707906329686244, 'colsample_bytree': 0.18329080454643265}. Best is trial 6 with value: 39.31414261478797.\n",
      "[I 2023-10-22 12:13:13,275] Trial 9 finished with value: 54.19340925620508 and parameters: {'n_estimators': 87, 'eta': 0.029138108976599138, 'max_depth': 8, 'subsample': 0.6436010936007592, 'colsample_bytree': 0.6626345782048217}. Best is trial 6 with value: 39.31414261478797.\n",
      "[I 2023-10-22 12:13:13,797] Trial 10 finished with value: 105.10181277226988 and parameters: {'n_estimators': 49, 'eta': 0.034056282099927095, 'max_depth': 3, 'subsample': 0.4364928712188086, 'colsample_bytree': 0.7162030062369874}. Best is trial 6 with value: 39.31414261478797.\n",
      "[I 2023-10-22 12:13:14,559] Trial 11 finished with value: 44.04277036205261 and parameters: {'n_estimators': 76, 'eta': 0.039491295441555, 'max_depth': 4, 'subsample': 0.11177340140794892, 'colsample_bytree': 0.8940276655937075}. Best is trial 6 with value: 39.31414261478797.\n",
      "[I 2023-10-22 12:13:15,998] Trial 12 finished with value: 39.454516151444864 and parameters: {'n_estimators': 84, 'eta': 0.042855554405954586, 'max_depth': 4, 'subsample': 0.3740605945756079, 'colsample_bytree': 0.7886316556240199}. Best is trial 6 with value: 39.31414261478797.\n",
      "[I 2023-10-22 12:13:17,210] Trial 13 finished with value: 38.50661128854651 and parameters: {'n_estimators': 89, 'eta': 0.04898534135795038, 'max_depth': 3, 'subsample': 0.4123136295612617, 'colsample_bytree': 0.7442078573854009}. Best is trial 13 with value: 38.50661128854651.\n",
      "[I 2023-10-22 12:13:20,576] Trial 14 finished with value: 38.692337733203054 and parameters: {'n_estimators': 89, 'eta': 0.04838798290880856, 'max_depth': 3, 'subsample': 0.5039484570453041, 'colsample_bytree': 0.6577024505371664}. Best is trial 13 with value: 38.50661128854651.\n",
      "[I 2023-10-22 12:13:21,584] Trial 15 finished with value: 46.8191088955402 and parameters: {'n_estimators': 56, 'eta': 0.04998243422613692, 'max_depth': 5, 'subsample': 0.5315045444811235, 'colsample_bytree': 0.5891810203964674}. Best is trial 13 with value: 38.50661128854651.\n",
      "[I 2023-10-22 12:13:24,511] Trial 16 finished with value: 38.652716693095186 and parameters: {'n_estimators': 87, 'eta': 0.04652963871352894, 'max_depth': 8, 'subsample': 0.47560315267588293, 'colsample_bytree': 0.47507150261721576}. Best is trial 13 with value: 38.50661128854651.\n",
      "[I 2023-10-22 12:13:25,686] Trial 17 finished with value: 39.945478666465576 and parameters: {'n_estimators': 76, 'eta': 0.04541062722217063, 'max_depth': 7, 'subsample': 0.41379574919328055, 'colsample_bytree': 0.4933974160634604}. Best is trial 13 with value: 38.50661128854651.\n",
      "[I 2023-10-22 12:13:27,330] Trial 18 finished with value: 39.16357267697227 and parameters: {'n_estimators': 82, 'eta': 0.0451023200535191, 'max_depth': 9, 'subsample': 0.5446696221431211, 'colsample_bytree': 0.4430548080091395}. Best is trial 13 with value: 38.50661128854651.\n",
      "[I 2023-10-22 12:13:28,278] Trial 19 finished with value: 39.94301505779568 and parameters: {'n_estimators': 69, 'eta': 0.0496944655493607, 'max_depth': 8, 'subsample': 0.4464369240439255, 'colsample_bytree': 0.40545050663198356}. Best is trial 13 with value: 38.50661128854651.\n",
      "[I 2023-10-22 12:13:31,074] Trial 20 finished with value: 42.24985775684843 and parameters: {'n_estimators': 92, 'eta': 0.034153707396465414, 'max_depth': 8, 'subsample': 0.33129619094527085, 'colsample_bytree': 0.5950017737586911}. Best is trial 13 with value: 38.50661128854651.\n",
      "[I 2023-10-22 12:13:32,514] Trial 21 finished with value: 38.6548651718139 and parameters: {'n_estimators': 90, 'eta': 0.04644051802612585, 'max_depth': 5, 'subsample': 0.5216699980609067, 'colsample_bytree': 0.7114730377696385}. Best is trial 13 with value: 38.50661128854651.\n",
      "[I 2023-10-22 12:13:34,272] Trial 22 finished with value: 38.72059697945475 and parameters: {'n_estimators': 92, 'eta': 0.04543804152533954, 'max_depth': 7, 'subsample': 0.5680971767882402, 'colsample_bytree': 0.7532407203173748}. Best is trial 13 with value: 38.50661128854651.\n",
      "[I 2023-10-22 12:13:35,510] Trial 23 finished with value: 39.057966422418595 and parameters: {'n_estimators': 81, 'eta': 0.04642140448258607, 'max_depth': 5, 'subsample': 0.4650245770706678, 'colsample_bytree': 0.6850805523190878}. Best is trial 13 with value: 38.50661128854651.\n",
      "[I 2023-10-22 12:13:36,531] Trial 24 finished with value: 42.26744321824983 and parameters: {'n_estimators': 73, 'eta': 0.04276868500105163, 'max_depth': 7, 'subsample': 0.39345167188779295, 'colsample_bytree': 0.6024206524709872}. Best is trial 13 with value: 38.50661128854651.\n",
      "[I 2023-10-22 12:13:37,389] Trial 25 finished with value: 45.99217153323183 and parameters: {'n_estimators': 57, 'eta': 0.04999365859583851, 'max_depth': 5, 'subsample': 0.5978779131610229, 'colsample_bytree': 0.7670865174018304}. Best is trial 13 with value: 38.50661128854651.\n",
      "[I 2023-10-22 12:13:38,938] Trial 26 finished with value: 38.37330477482512 and parameters: {'n_estimators': 95, 'eta': 0.046216908133135226, 'max_depth': 7, 'subsample': 0.47847419750794157, 'colsample_bytree': 0.5177463282246642}. Best is trial 26 with value: 38.37330477482512.\n",
      "[I 2023-10-22 12:13:39,326] Trial 27 finished with value: 108.79044368045703 and parameters: {'n_estimators': 39, 'eta': 0.04154016751487927, 'max_depth': 7, 'subsample': 0.43784084056019257, 'colsample_bytree': 0.5303568424768963}. Best is trial 26 with value: 38.37330477482512.\n",
      "[I 2023-10-22 12:13:41,174] Trial 28 finished with value: 38.31550884111289 and parameters: {'n_estimators': 96, 'eta': 0.04635337317489767, 'max_depth': 8, 'subsample': 0.4666515428678535, 'colsample_bytree': 0.4741829326797601}. Best is trial 28 with value: 38.31550884111289.\n"
     ]
    },
    {
     "name": "stderr",
     "output_type": "stream",
     "text": [
      "[I 2023-10-22 12:13:42,402] Trial 29 finished with value: 39.22044992823669 and parameters: {'n_estimators': 100, 'eta': 0.036654248977630366, 'max_depth': 9, 'subsample': 0.8000008171537041, 'colsample_bytree': 0.40510937225478605}. Best is trial 28 with value: 38.31550884111289.\n",
      "[I 2023-10-22 12:13:43,532] Trial 30 finished with value: 38.46473957427875 and parameters: {'n_estimators': 98, 'eta': 0.04346282777254415, 'max_depth': 7, 'subsample': 0.8844212326536539, 'colsample_bytree': 0.5266865781246111}. Best is trial 28 with value: 38.31550884111289.\n",
      "[I 2023-10-22 12:13:44,812] Trial 31 finished with value: 38.579194411918884 and parameters: {'n_estimators': 96, 'eta': 0.0438687472701772, 'max_depth': 7, 'subsample': 0.7085867331631717, 'colsample_bytree': 0.5485655087756972}. Best is trial 28 with value: 38.31550884111289.\n",
      "[I 2023-10-22 12:13:46,032] Trial 32 finished with value: 38.82649263031917 and parameters: {'n_estimators': 96, 'eta': 0.041188436878236694, 'max_depth': 8, 'subsample': 0.8862177974982874, 'colsample_bytree': 0.4789504223899056}. Best is trial 28 with value: 38.31550884111289.\n",
      "[I 2023-10-22 12:13:47,202] Trial 33 finished with value: 38.38478299795289 and parameters: {'n_estimators': 95, 'eta': 0.047377311139969056, 'max_depth': 6, 'subsample': 0.4895456887070479, 'colsample_bytree': 0.6350984535952967}. Best is trial 28 with value: 38.31550884111289.\n",
      "[I 2023-10-22 12:13:48,310] Trial 34 finished with value: 38.37700588459312 and parameters: {'n_estimators': 95, 'eta': 0.04718750281858459, 'max_depth': 6, 'subsample': 0.577816627965964, 'colsample_bytree': 0.6250611082903905}. Best is trial 28 with value: 38.31550884111289.\n",
      "[I 2023-10-22 12:13:50,096] Trial 35 finished with value: 38.86755140782286 and parameters: {'n_estimators': 82, 'eta': 0.047404667666250275, 'max_depth': 6, 'subsample': 0.49701663129309426, 'colsample_bytree': 0.6262623784354417}. Best is trial 28 with value: 38.31550884111289.\n",
      "[I 2023-10-22 12:13:51,588] Trial 36 finished with value: 38.449841709340646 and parameters: {'n_estimators': 94, 'eta': 0.0473562003047602, 'max_depth': 6, 'subsample': 0.6005499712310631, 'colsample_bytree': 0.5706821819824489}. Best is trial 28 with value: 38.31550884111289.\n",
      "[I 2023-10-22 12:13:52,040] Trial 37 finished with value: 123.42950852102564 and parameters: {'n_estimators': 36, 'eta': 0.04051858103019823, 'max_depth': 6, 'subsample': 0.4805052054347653, 'colsample_bytree': 0.6300529670004501}. Best is trial 28 with value: 38.31550884111289.\n",
      "[I 2023-10-22 12:13:53,248] Trial 38 finished with value: 38.86335247599588 and parameters: {'n_estimators': 86, 'eta': 0.04447069369541853, 'max_depth': 6, 'subsample': 0.5574524656134198, 'colsample_bytree': 0.5723688449766068}. Best is trial 28 with value: 38.31550884111289.\n",
      "[I 2023-10-22 12:13:54,974] Trial 39 finished with value: 38.16514359283611 and parameters: {'n_estimators': 100, 'eta': 0.04746681415617855, 'max_depth': 6, 'subsample': 0.34779424701329453, 'colsample_bytree': 0.5225879199571893}. Best is trial 39 with value: 38.16514359283611.\n",
      "[I 2023-10-22 12:13:57,043] Trial 40 finished with value: 39.504991721341874 and parameters: {'n_estimators': 79, 'eta': 0.04438883012386328, 'max_depth': 7, 'subsample': 0.28201827593748163, 'colsample_bytree': 0.5134397814333201}. Best is trial 39 with value: 38.16514359283611.\n",
      "[I 2023-10-22 12:13:59,031] Trial 41 finished with value: 38.20298723511695 and parameters: {'n_estimators': 100, 'eta': 0.04785989167864555, 'max_depth': 6, 'subsample': 0.36504420830065365, 'colsample_bytree': 0.5494997045848302}. Best is trial 39 with value: 38.16514359283611.\n",
      "[I 2023-10-22 12:14:01,035] Trial 42 finished with value: 38.24854727363318 and parameters: {'n_estimators': 100, 'eta': 0.0474435808259861, 'max_depth': 6, 'subsample': 0.3557878651629945, 'colsample_bytree': 0.542866324922008}. Best is trial 39 with value: 38.16514359283611.\n",
      "[I 2023-10-22 12:14:02,274] Trial 43 finished with value: 38.59353028360856 and parameters: {'n_estimators': 100, 'eta': 0.041603963472723444, 'max_depth': 6, 'subsample': 0.35850745989793564, 'colsample_bytree': 0.44821615294475387}. Best is trial 39 with value: 38.16514359283611.\n",
      "[I 2023-10-22 12:14:04,272] Trial 44 finished with value: 38.007251634605964 and parameters: {'n_estimators': 100, 'eta': 0.04847968659990019, 'max_depth': 7, 'subsample': 0.31355832178198495, 'colsample_bytree': 0.5456941887941139}. Best is trial 44 with value: 38.007251634605964.\n",
      "[I 2023-10-22 12:14:05,945] Trial 45 finished with value: 38.229575289604796 and parameters: {'n_estimators': 100, 'eta': 0.04805479108372834, 'max_depth': 5, 'subsample': 0.2908816388840409, 'colsample_bytree': 0.556370211208264}. Best is trial 44 with value: 38.007251634605964.\n",
      "[I 2023-10-22 12:14:07,575] Trial 46 finished with value: 38.1441889741355 and parameters: {'n_estimators': 100, 'eta': 0.048702618184370744, 'max_depth': 5, 'subsample': 0.22440286082880656, 'colsample_bytree': 0.5386969502970657}. Best is trial 44 with value: 38.007251634605964.\n",
      "[I 2023-10-22 12:14:08,916] Trial 47 finished with value: 38.3779601983741 and parameters: {'n_estimators': 91, 'eta': 0.04830687083246399, 'max_depth': 5, 'subsample': 0.19947789388126302, 'colsample_bytree': 0.5547057026474181}. Best is trial 44 with value: 38.007251634605964.\n",
      "[I 2023-10-22 12:14:11,126] Trial 48 finished with value: 38.4636090306179 and parameters: {'n_estimators': 85, 'eta': 0.04989507852065742, 'max_depth': 4, 'subsample': 0.25823667305559445, 'colsample_bytree': 0.5556171309777184}. Best is trial 44 with value: 38.007251634605964.\n",
      "[I 2023-10-22 12:14:11,934] Trial 49 finished with value: 59.24776437509109 and parameters: {'n_estimators': 49, 'eta': 0.04850823736968782, 'max_depth': 5, 'subsample': 0.3148859680439525, 'colsample_bytree': 0.5083454454655922}. Best is trial 44 with value: 38.007251634605964.\n"
     ]
    }
   ],
   "source": [
    "# import optuna\n",
    "# study = optuna.create_study(direction='minimize')\n",
    "# study.optimize(objective_cv, n_trials=50)"
   ]
  },
  {
   "cell_type": "code",
   "execution_count": 642,
   "id": "9cd1c5ae",
   "metadata": {
    "ExecuteTime": {
     "end_time": "2023-10-22T15:19:18.753006Z",
     "start_time": "2023-10-22T15:19:18.727939Z"
    }
   },
   "outputs": [],
   "source": [
    "# best_params = study.best_params\n",
    "best_params = {'n_estimators': 100,\n",
    " 'eta': 0.04847968659990019,\n",
    " 'max_depth': 7,\n",
    " 'subsample': 0.31355832178198495,\n",
    " 'colsample_bytree': 0.5456941887941139}"
   ]
  },
  {
   "cell_type": "code",
   "execution_count": 643,
   "id": "534319d1",
   "metadata": {
    "ExecuteTime": {
     "end_time": "2023-10-22T15:19:27.645914Z",
     "start_time": "2023-10-22T15:19:26.006547Z"
    }
   },
   "outputs": [
    {
     "data": {
      "text/plain": [
       "XGBRegressor(base_score=None, booster=None, callbacks=None,\n",
       "             colsample_bylevel=None, colsample_bynode=None,\n",
       "             colsample_bytree=0.5456941887941139, early_stopping_rounds=None,\n",
       "             enable_categorical=False, eta=0.04847968659990019,\n",
       "             eval_metric=None, feature_types=None, gamma=None, gpu_id=None,\n",
       "             grow_policy=None, importance_type=None,\n",
       "             interaction_constraints=None, learning_rate=None, max_bin=None,\n",
       "             max_cat_threshold=None, max_cat_to_onehot=None,\n",
       "             max_delta_step=None, max_depth=7, max_leaves=None,\n",
       "             min_child_weight=None, missing=nan, monotone_constraints=None,\n",
       "             n_estimators=100, n_jobs=-1, num_parallel_tree=None,\n",
       "             predictor=None, ...)"
      ]
     },
     "execution_count": 643,
     "metadata": {},
     "output_type": "execute_result"
    }
   ],
   "source": [
    "best_model = XGBRegressor(n_jobs = -1 , \n",
    "                                 random_state=0,\n",
    "                                 n_estimators = best_params['n_estimators'],\n",
    "                                 eta = best_params['eta'],\n",
    "                                 max_depth = best_params['max_depth'],\n",
    "                                 subsample = best_params['subsample'],\n",
    "                                 colsample_bytree = best_params['colsample_bytree'])\n",
    "\n",
    "# model fit\n",
    "best_model.fit(X_train[features_selected], y_train)"
   ]
  },
  {
   "cell_type": "markdown",
   "id": "d1a919b0",
   "metadata": {},
   "source": [
    "## Submission"
   ]
  },
  {
   "cell_type": "markdown",
   "id": "40872ab3",
   "metadata": {},
   "source": [
    "### Carregar os dados"
   ]
  },
  {
   "cell_type": "code",
   "execution_count": 644,
   "id": "4bd9ac56",
   "metadata": {
    "ExecuteTime": {
     "end_time": "2023-10-22T15:19:33.042417Z",
     "start_time": "2023-10-22T15:19:32.828065Z"
    }
   },
   "outputs": [
    {
     "data": {
      "text/plain": [
       "(5600, 16)"
      ]
     },
     "execution_count": 644,
     "metadata": {},
     "output_type": "execute_result"
    }
   ],
   "source": [
    "# Opening JSON file\n",
    "sub = open('dataset/raw/test.json')\n",
    " \n",
    "# returns JSON object as \n",
    "# a dictionary\n",
    "data_sub_aux = json.load(sub)\n",
    "\n",
    "data_sub = pd.json_normalize(data_sub_aux, record_path = 'data')\n",
    "data_sub.columns = data_sub_aux['columns']\n",
    "data_sub.shape"
   ]
  },
  {
   "cell_type": "markdown",
   "id": "0f0ceb5a",
   "metadata": {},
   "source": [
    "### Transformar os dados"
   ]
  },
  {
   "cell_type": "code",
   "execution_count": 645,
   "id": "4bb94ac9",
   "metadata": {
    "ExecuteTime": {
     "end_time": "2023-10-22T15:19:37.214667Z",
     "start_time": "2023-10-22T15:19:37.205644Z"
    }
   },
   "outputs": [],
   "source": [
    "def submission_preparation(df, features_selected):\n",
    "    \n",
    "    df = limpeza(df)\n",
    "    df = feature_engen(df)\n",
    "    df = rescalling(df)\n",
    "    df = transform(df)\n",
    "    \n",
    "    return df[features_selected]"
   ]
  },
  {
   "cell_type": "markdown",
   "id": "27cf669a",
   "metadata": {},
   "source": [
    "### Aplicar sobre os dados de teste"
   ]
  },
  {
   "cell_type": "code",
   "execution_count": 646,
   "id": "ddb4a659",
   "metadata": {
    "ExecuteTime": {
     "end_time": "2023-10-22T15:19:42.198487Z",
     "start_time": "2023-10-22T15:19:42.175633Z"
    }
   },
   "outputs": [
    {
     "data": {
      "text/plain": [
       "(5600, 16)"
      ]
     },
     "execution_count": 646,
     "metadata": {},
     "output_type": "execute_result"
    }
   ],
   "source": [
    "data_sub.shape"
   ]
  },
  {
   "cell_type": "code",
   "execution_count": 647,
   "id": "08382f4b",
   "metadata": {
    "ExecuteTime": {
     "end_time": "2023-10-22T15:19:48.072376Z",
     "start_time": "2023-10-22T15:19:46.156654Z"
    }
   },
   "outputs": [],
   "source": [
    "data_sub_mod = submission_preparation(data_sub, features_selected)"
   ]
  },
  {
   "cell_type": "code",
   "execution_count": 648,
   "id": "4d7c92d3",
   "metadata": {
    "ExecuteTime": {
     "end_time": "2023-10-22T15:19:51.662204Z",
     "start_time": "2023-10-22T15:19:51.651927Z"
    }
   },
   "outputs": [
    {
     "data": {
      "text/plain": [
       "(5600, 11)"
      ]
     },
     "execution_count": 648,
     "metadata": {},
     "output_type": "execute_result"
    }
   ],
   "source": [
    "data_sub_mod.shape"
   ]
  },
  {
   "cell_type": "code",
   "execution_count": 649,
   "id": "245aadce",
   "metadata": {
    "ExecuteTime": {
     "end_time": "2023-10-22T15:19:55.789529Z",
     "start_time": "2023-10-22T15:19:55.748380Z"
    },
    "run_control": {
     "marked": true
    }
   },
   "outputs": [],
   "source": [
    "y_hat = np.expm1(best_model.predict(data_sub_mod))"
   ]
  },
  {
   "cell_type": "code",
   "execution_count": 652,
   "id": "903121ac",
   "metadata": {
    "ExecuteTime": {
     "end_time": "2023-10-22T15:20:19.523888Z",
     "start_time": "2023-10-22T15:20:19.495419Z"
    }
   },
   "outputs": [],
   "source": [
    "df_submission = pd.DataFrame()\n",
    "df_submission['pid'] = data_sub['pid']\n",
    "df_submission['actual_price'] = y_hat"
   ]
  },
  {
   "cell_type": "code",
   "execution_count": 653,
   "id": "56c44141",
   "metadata": {
    "ExecuteTime": {
     "end_time": "2023-10-22T15:20:24.988133Z",
     "start_time": "2023-10-22T15:20:24.914365Z"
    }
   },
   "outputs": [],
   "source": [
    "df_submission.to_csv('submissions/submission_5.csv', index=False)"
   ]
  },
  {
   "cell_type": "markdown",
   "id": "0e88511f",
   "metadata": {},
   "source": [
    "------\n",
    "# 10 Help Functions"
   ]
  },
  {
   "cell_type": "code",
   "execution_count": 327,
   "id": "9533b7df",
   "metadata": {
    "ExecuteTime": {
     "end_time": "2023-10-21T20:25:39.789072Z",
     "start_time": "2023-10-21T20:25:39.775592Z"
    }
   },
   "outputs": [],
   "source": [
    "def f(x):\n",
    "    try:\n",
    "        return ast.literal_eval(str(x))   \n",
    "    except Exception as e:\n",
    "        print(e)\n",
    "        return []"
   ]
  },
  {
   "cell_type": "code",
   "execution_count": 328,
   "id": "3362a80d",
   "metadata": {
    "ExecuteTime": {
     "end_time": "2023-10-21T20:25:39.804600Z",
     "start_time": "2023-10-21T20:25:39.791073Z"
    }
   },
   "outputs": [],
   "source": [
    "def junta_dict(dict_list):\n",
    "    dicionario = {}\n",
    "    for d in dict_list:\n",
    "        for key, value in d.items():\n",
    "            dicionario[key] = value\n",
    "    return dicionario"
   ]
  },
  {
   "cell_type": "code",
   "execution_count": 329,
   "id": "5ed13f01",
   "metadata": {
    "ExecuteTime": {
     "end_time": "2023-10-21T20:25:39.820039Z",
     "start_time": "2023-10-21T20:25:39.806521Z"
    }
   },
   "outputs": [],
   "source": [
    "def feature_engen(df):\n",
    "    ## out_of_stock - transformar para int \n",
    "    df['out_of_stock'] = df['out_of_stock'].astype('int64')\n",
    "\n",
    "    # brand - substituir por outros\n",
    "    df['brand'] = df['brand'].apply(lambda x: x.lower())\n",
    "\n",
    "    # criando feature product\n",
    "    df['product'] = df[['category', 'sub_category']].apply(lambda x: x['category'] + '_' + x['sub_category'], axis = 1)\n",
    "    \n",
    "    ## Tratando variaveis respostas nulas\n",
    "    prices = df[['seller','pid', 'actual_price']].groupby('pid').max().reset_index()\n",
    "    precos_nulos = df.loc[df['actual_price'].isna(), ['_id','pid']]\n",
    "    precos_recuperados = pd.merge(precos_nulos, prices, how = 'inner', on = 'pid')\n",
    "    \n",
    "    df_aux = pd.merge(df, precos_recuperados[['_id', 'actual_price']], on = '_id', how = 'left')\n",
    "    df['actual_price'] = df_aux['actual_price_x'].fillna(0) + df_aux['actual_price_y'].fillna(0)\n",
    "    \n",
    "    df = df.dropna(subset=['actual_price'])\n",
    "    \n",
    "    return df"
   ]
  },
  {
   "cell_type": "code",
   "execution_count": 330,
   "id": "cd4d26d0",
   "metadata": {
    "ExecuteTime": {
     "end_time": "2023-10-21T20:25:39.835686Z",
     "start_time": "2023-10-21T20:25:39.821041Z"
    }
   },
   "outputs": [],
   "source": [
    "def pipeline (df):\n",
    "    df = limpeza(df)\n",
    "    df = feature_engen(df)\n",
    "    \n",
    "    product_details = df['product_details'].apply(lambda x: f(x))\n",
    "    product_details = pd.DataFrame([junta_dict(row) for row in product_details])\n",
    "    \n",
    "    return df, product_details\n"
   ]
  },
  {
   "cell_type": "code",
   "execution_count": 331,
   "id": "6b5fb9b5",
   "metadata": {
    "ExecuteTime": {
     "end_time": "2023-10-21T20:25:39.850909Z",
     "start_time": "2023-10-21T20:25:39.836699Z"
    }
   },
   "outputs": [],
   "source": [
    "def test_preparation(df):\n",
    "    X_test = rescalling(X_test)\n",
    "    X_test = transform(X_test)\n",
    "    y_test = log_var_resposta(y_test)\n",
    "    \n",
    "    return X_test"
   ]
  },
  {
   "cell_type": "code",
   "execution_count": 332,
   "id": "8f3f567b",
   "metadata": {
    "ExecuteTime": {
     "end_time": "2023-10-21T20:25:39.865991Z",
     "start_time": "2023-10-21T20:25:39.851901Z"
    }
   },
   "outputs": [],
   "source": [
    "# '_id'\n",
    "# 'average_rating':         muitos outliers mas distribuição proxima da normal\n",
    "#                           tratar notas que não possuem avaliação\n",
    "# 'number_of_reviews':      muitos outliers mas distribuição proxima da normal\n",
    "#                           ver como fica a distribuição como log\n",
    "# 'brand':                  12 categorias frequency -> transformar tudo em minusculo para evitar duplicações\n",
    "# 'category':               Uma categoria é mais majoritária \n",
    "#                           unir com a subcategory fazendo o tratamento de maiusculas\n",
    "# 'crawled_at':             Somente 1 dia, muda somente a hora -> retirar XXXXX\n",
    "# 'out_of_stock':           Dummie enconde (somente 0 ou 1) -> One hot encode\n",
    "# 'avg_delivery_time_days': sem outliers e distribuição normal -> min max scaler\n",
    "# 'pid':                    valore duplicatidos, muitas labels -> usar para preencher valores nulos no price mas não vai para o modelo\n",
    "# 'seller':                 Reunir undefined em \"outros\" e usar o frequency encode\n",
    "# 'sub_category':           Unir com o 'category'\n",
    "# 'fabrication_time':       sem outliers, distribuição uniforme -> min max scaler\n",
    "# 'title':                  muitas categorias, sem concentrações -> frequency \n",
    "#                           explorar mais o title\n",
    "#                           deletar nesse momento\n",
    "# 'actual_price':           transformar em escala log"
   ]
  }
 ],
 "metadata": {
  "kernelspec": {
   "display_name": "Python 3 (ipykernel)",
   "language": "python",
   "name": "python3"
  },
  "language_info": {
   "codemirror_mode": {
    "name": "ipython",
    "version": 3
   },
   "file_extension": ".py",
   "mimetype": "text/x-python",
   "name": "python",
   "nbconvert_exporter": "python",
   "pygments_lexer": "ipython3",
   "version": "3.9.7"
  },
  "toc": {
   "base_numbering": 1,
   "nav_menu": {},
   "number_sections": true,
   "sideBar": true,
   "skip_h1_title": false,
   "title_cell": "Table of Contents",
   "title_sidebar": "Contents",
   "toc_cell": false,
   "toc_position": {
    "height": "calc(100% - 180px)",
    "left": "10px",
    "top": "150px",
    "width": "345.994px"
   },
   "toc_section_display": true,
   "toc_window_display": true
  },
  "varInspector": {
   "cols": {
    "lenName": 16,
    "lenType": 16,
    "lenVar": 40
   },
   "kernels_config": {
    "python": {
     "delete_cmd_postfix": "",
     "delete_cmd_prefix": "del ",
     "library": "var_list.py",
     "varRefreshCmd": "print(var_dic_list())"
    },
    "r": {
     "delete_cmd_postfix": ") ",
     "delete_cmd_prefix": "rm(",
     "library": "var_list.r",
     "varRefreshCmd": "cat(var_dic_list()) "
    }
   },
   "types_to_exclude": [
    "module",
    "function",
    "builtin_function_or_method",
    "instance",
    "_Feature"
   ],
   "window_display": false
  },
  "vscode": {
   "interpreter": {
    "hash": "892e5ff5783333d733f0bd2e0068297de9409e96214f7e68af4469f351f76fae"
   }
  }
 },
 "nbformat": 4,
 "nbformat_minor": 5
}
