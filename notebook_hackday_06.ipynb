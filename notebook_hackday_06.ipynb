{
 "cells": [
  {
   "cell_type": "markdown",
   "id": "23e57af8",
   "metadata": {},
   "source": [
    "# Imports"
   ]
  },
  {
   "cell_type": "code",
<<<<<<< HEAD
   "execution_count": 609,
   "id": "403b1b50",
   "metadata": {
    "ExecuteTime": {
     "end_time": "2023-10-22T15:17:58.332129Z",
     "start_time": "2023-10-22T15:17:58.309185Z"
=======
   "execution_count": 104,
   "id": "403b1b50",
   "metadata": {
    "ExecuteTime": {
     "end_time": "2023-10-21T20:00:23.494266Z",
     "start_time": "2023-10-21T20:00:23.470513Z"
>>>>>>> a62dfdcd665d30f43610ae656c29a51b2dda2c3f
    }
   },
   "outputs": [],
   "source": [
    "import pandas as pd\n",
    "import numpy as np\n",
    "import json\n",
    "import datetime\n",
    "import ast\n",
    "import dtale\n",
    "\n",
    "from sklearn import preprocessing as pp\n",
    "import pickle\n",
    "\n",
    "from sklearn import model_selection as ms\n",
    "import category_encoders as ce\n",
    "# from dataprep.datasets  import load_dataset\n",
    "# from dataprep.eda       import create_report\n",
    "\n",
    "#from boruta   import BorutaPy\n",
    "from lightgbm import LGBMClassifier\n",
    "\n",
    "from sklearn.ensemble        import RandomForestClassifier, BaggingClassifier, GradientBoostingClassifier\n",
    "from xgboost                 import XGBRegressor\n",
    "from sklearn.linear_model    import LogisticRegression, SGDRegressor\n",
    "from sklearn.neighbors       import KNeighborsRegressor\n",
    "from sklearn.tree            import DecisionTreeRegressor\n",
    "from sklearn.ensemble        import RandomForestRegressor, BaggingRegressor\n",
    "from sklearn.metrics         import accuracy_score, recall_score, precision_score, balanced_accuracy_score, f1_score, roc_curve, confusion_matrix\n",
    "from sklearn.model_selection import GridSearchCV, RandomizedSearchCV\n",
    "from sklearn.naive_bayes     import GaussianNB\n",
    "from lightgbm                import LGBMRegressor\n",
    "\n",
    "# from category_encoders import TargetEncoder, CountEncoder as ce"
   ]
  },
  {
   "cell_type": "markdown",
   "id": "3f2f5333",
   "metadata": {},
   "source": [
    "## Helper Functions"
   ]
  },
  {
   "cell_type": "code",
<<<<<<< HEAD
   "execution_count": 610,
   "id": "a50c83a9",
   "metadata": {
    "ExecuteTime": {
     "end_time": "2023-10-22T15:17:58.393563Z",
     "start_time": "2023-10-22T15:17:58.340908Z"
=======
   "execution_count": 105,
   "id": "549a296a",
   "metadata": {
    "ExecuteTime": {
     "end_time": "2023-10-21T20:00:23.588557Z",
     "start_time": "2023-10-21T20:00:23.563505Z"
>>>>>>> a62dfdcd665d30f43610ae656c29a51b2dda2c3f
    }
   },
   "outputs": [],
   "source": [
    "def rescalling (X_test):\n",
    "    \n",
    "    mm = pickle.load(open('parameters/mm_avg_delivery_time_days.pkl','rb'))\n",
    "    X_test['avg_delivery_time_days'] = mm.transform(X_test[['avg_delivery_time_days']])\n",
    "    \n",
    "    rs_ar = pickle.load(open('parameters/rs_average_rating.pkl','rb'))\n",
    "    X_test['average_rating'] = rs_ar.transform(X_test[['average_rating']])\n",
    "    \n",
    "    rs_nr = pickle.load(open('parameters/rs_number_of_reviews.pkl','rb'))\n",
    "    X_test['number_of_reviews'] = rs_nr.transform(X_test[['number_of_reviews']])\n",
    "    \n",
    "    return X_test\n",
    "\n",
    "def transform (X_test):\n",
    "    \n",
    "    for att in ['brand', 'product', 'seller','Style Code','Pack of','Ideal For','Suitable For','Reversible']:\n",
    "        fe = pickle.load(open(f'parameters/fe_{att}.pkl', 'rb'))\n",
    "        X_test = fe.transform(X_test)\n",
    "    \n",
    "    return X_test\n",
    "\n",
    "\n",
    "def transf_cat(X_test):\n",
    "\n",
    "    le_suitable = pickle.load(open('parameters/le_suitable.pkl','rb'))\n",
    "    X_test['Suitable For'] = le_suitable.transform(X_test['Suitable For'])\n",
    "\n",
    "    le_reversible = pickle.load(open('parameters/le_reversible.pkl','rb'))\n",
    "    X_test['Reversible'] = le_reversible.transform(X_test['Reversible'])\n",
    "\n",
    "    le_ideal = pickle.load(open('parameters/le_ideal.pkl','rb'))\n",
    "    X_test['Ideal For'] = le_ideal.transform(X_test['Ideal For'])\n",
    "\n",
    "    le_out = pickle.load(open('parameters/le_out.pkl','rb'))\n",
    "    X_test['out_of_stock'] = le_out.transform(X_test['out_of_stock'])\n",
    "\n",
    "    return X_test\n",
    "\n",
    "\n",
    "def target(X_test, y_test):\n",
    "    encoder_style_code = pickle.load(open('parameters/encoder_style_code.pkl','rb'))\n",
    "    X_test['Style Code'] = encoder_style_code.transform(X_test['Style Code'], y_test) \n",
    "\n",
    "    encoder_pack_of = pickle.load(open('parameters/encoder_pack_of.pkl','rb'))\n",
    "    X_test['Pack of'] = encoder_pack_of.transform(X_test['Pack of'], y_test) \n",
    "\n",
    "    return X_test\n",
    "\n",
    "def test_preparation(X_test, y_test):\n",
    "    X_test = rescalling(X_test)\n",
    "    X_test = transform(X_test)\n",
    "    X_test = transf_cat(X_test)\n",
    "    X_test = target(X_test, y_test)\n",
    "    y_test = log_var_resposta(y_test)\n",
    "    \n",
    "    return X_test, y_test\n",
    "\n",
    "\n",
    "def log_var_resposta(df):\n",
    "    df = np.log1p(df)\n",
    "    return df\n",
    "\n",
<<<<<<< HEAD
    "def limpeza (df):\n",
    "    df = df.drop(columns=['_id', 'pid','description', 'images'])\n",
    "    # transformando de string para data\n",
    "    df['crawled_at'] = pd.to_datetime(df['crawled_at']).dt.date\n",
    "\n",
    "    return df\n",
    "\n",
    "def feature_engen(df):\n",
    "    ## out_of_stock - transformar para int \n",
    "    df['out_of_stock'] = df['out_of_stock'].astype('int64')\n",
    "\n",
    "    # brand - substituir por outros\n",
    "    df['brand'] = df['brand'].apply(lambda x: x.lower())\n",
    "\n",
    "    # criando feature product\n",
    "    df['product'] = df[['category', 'sub_category']].apply(lambda x: x['category'] + '_' + x['sub_category'], axis = 1)\n",
=======
    "\n",
    "def feature_selection(df):\n",
    "    features_selected = ['average_rating',\n",
    "    'number_of_reviews',\n",
    "    'brand',\n",
    "    # 'category',\n",
    "    # 'crawled_at',\n",
    "    'out_of_stock',\n",
    "    'avg_delivery_time_days',\n",
    "    #  'product_details',\n",
    "    'seller',\n",
    "    #  'sub_category',\n",
    "    #  'fabrication_time',\n",
    "    #  'title',\n",
    "    #  'Fabric',\n",
    "    #  'Pattern',\n",
    "    'Style Code',\n",
    "    'Pack of',\n",
    "    #  'Type',\n",
    "    #  'Sleeve',\n",
    "    #  'Fit',\n",
    "    'Ideal For',\n",
    "    'Suitable For',\n",
    "    'Reversible',\n",
    "    #  'Fabric Care',\n",
    "    'product']\n",
>>>>>>> a62dfdcd665d30f43610ae656c29a51b2dda2c3f
    "    \n",
    "    import ast\n",
    "\n",
    "    # pega string de dict e cria uma lista de dicionários\n",
    "    def f(x):\n",
    "        try:\n",
    "            return ast.literal_eval(str(x))   \n",
    "        except Exception as e:\n",
    "            print(e)\n",
    "            return []\n",
    "\n",
    "\n",
    "\n",
    "    def junta_dict(dict_list):\n",
    "        dicionario = {}\n",
    "        for d in dict_list:\n",
    "            for key, value in d.items():\n",
    "                dicionario[key] = value\n",
    "        return dicionario\n",
    "\n",
    "    list = df['product_details'].apply(lambda x: f(x))\n",
    "\n",
    "    df_details = pd.DataFrame([junta_dict(row) for row in list], index = list.index)\n",
    "\n",
    "    df_drop_columns = df_details.drop(columns=['', ' '])\n",
    "\n",
    "    # Removendo valores faltantes acima de 50%\n",
    "    limite_nulos = len(df_details) * 0.5  \n",
    "    df_drop = df_details.dropna(thresh = limite_nulos, axis=1)\n",
    "    df_new = df_drop.copy()\n",
    "\n",
    "    # Trocar os NaN por 'outros'\n",
    "\n",
    "    df_new.loc[df_new['Fabric'].isnull(), 'Fabric'] = 'outros'\n",
    "    df_new.loc[df_new['Pattern'].isnull(), 'Pattern'] = 'outros'\n",
    "    df_new.loc[df_new['Style Code'].isnull(), 'Style Code'] = 'outros'\n",
    "    df_new.loc[df_new['Pack of'].isnull(), 'Pack of'] = 'outros'\n",
    "    df_new.loc[df_new['Type'].isnull(), 'Type'] = 'outros'\n",
    "    df_new.loc[df_new['Sleeve'].isnull(), 'Sleeve'] = 'outros'\n",
    "    df_new.loc[df_new['Fit'].isnull(), 'Fit'] = 'outros'\n",
    "    df_new.loc[df_new['Ideal For'].isnull(), 'Ideal For'] = 'outros'\n",
    "    df_new.loc[df_new['Suitable For'].isnull(), 'Suitable For'] = 'outros'\n",
    "    df_new.loc[df_new['Reversible'].isnull(), 'Reversible'] = 'outros'\n",
    "    df_new.loc[df_new['Fabric Care'].isnull(), 'Fabric Care'] = 'outros'\n",
    "\n",
    "    df_new.head()\n",
    "\n",
    "    def type_sex(value):\n",
    "        if value == 'Men':\n",
    "            return 'Men'\n",
    "        elif value == 'Men, Boys':\n",
    "            return 'all_ages'\n",
    "        elif value == 'Boys, Men':\n",
    "            return 'all_ages'\n",
    "        elif value == 'Boys, Girls, Men, Women':\n",
    "            return 'unisex_all_ages'\n",
    "        elif value == 'Women, Men':\n",
    "            return 'Unisex'\n",
    "        else:\n",
    "            return 'outros'\n",
    "\n",
    "    df_new['Ideal For'] = df_new['Ideal For'].map(type_sex)\n",
    "\n",
    "    df = pd.concat([df, df_new], axis=1)\n",
    "    \n",
    "    return df"
   ]
  },
  {
   "cell_type": "code",
   "execution_count": 106,
   "id": "1e1b689c",
   "metadata": {},
   "outputs": [],
   "source": [
    "# Funções para limpeza dos dados de teste\n",
    "\n",
    "def limpeza (df):\n",
    "    df = df.drop(columns=['_id', 'pid','description', 'images'])\n",
    "    # transformando de string para data\n",
    "    df['crawled_at'] = pd.to_datetime(df['crawled_at']).dt.date\n",
    "\n",
    "    return df\n",
    "\n",
    "def feature_engen(df):\n",
    "    ## out_of_stock - transformar para int \n",
    "    df['out_of_stock'] = df['out_of_stock'].astype('int64')\n",
    "\n",
    "    # brand - substituir por outros\n",
    "    df['brand'] = df['brand'].apply(lambda x: x.lower())\n",
    "\n",
    "    # criando feature product\n",
    "    df['product'] = df[['category', 'sub_category']].apply(lambda x: x['category'] + '_' + x['sub_category'], axis = 1)\n",
    "    \n",
    "    return df\n",
    "\n",
    "def submission_preparation(df, features_selected):\n",
    "    \n",
    "    df = limpeza(df)\n",
    "    df = feature_engen(df)\n",
    "    df = rescalling(df)\n",
    "    df = transform(df)\n",
    "    \n",
    "    return df[features_selected]\n"
   ]
  },
  {
   "cell_type": "code",
   "execution_count": 107,
   "id": "ab40e6bf",
   "metadata": {},
   "outputs": [],
   "source": [
    "# ????\n",
    "\n",
    "def f(x):\n",
    "    try:\n",
    "        return ast.literal_eval(str(x))   \n",
    "    except Exception as e:\n",
    "        print(e)\n",
    "        return []\n",
    "    \n",
    "def junta_dict(dict_list):\n",
    "    dicionario = {}\n",
    "    for d in dict_list:\n",
    "        for key, value in d.items():\n",
    "            dicionario[key] = value\n",
    "    return dicionario"
   ]
  },
  {
   "cell_type": "markdown",
   "id": "1c83d907",
   "metadata": {},
   "source": [
    "# Load Data"
   ]
  },
  {
   "cell_type": "code",
<<<<<<< HEAD
   "execution_count": 611,
   "id": "d0d2e3d5",
   "metadata": {
    "ExecuteTime": {
     "end_time": "2023-10-22T15:17:59.205416Z",
     "start_time": "2023-10-22T15:17:58.396945Z"
=======
   "execution_count": 108,
   "id": "d0d2e3d5",
   "metadata": {
    "ExecuteTime": {
     "end_time": "2023-10-21T20:00:24.593527Z",
     "start_time": "2023-10-21T20:00:23.661828Z"
>>>>>>> a62dfdcd665d30f43610ae656c29a51b2dda2c3f
    }
   },
   "outputs": [
    {
     "data": {
      "text/html": [
       "<div>\n",
       "<style scoped>\n",
       "    .dataframe tbody tr th:only-of-type {\n",
       "        vertical-align: middle;\n",
       "    }\n",
       "\n",
       "    .dataframe tbody tr th {\n",
       "        vertical-align: top;\n",
       "    }\n",
       "\n",
       "    .dataframe thead th {\n",
       "        text-align: right;\n",
       "    }\n",
       "</style>\n",
       "<table border=\"1\" class=\"dataframe\">\n",
       "  <thead>\n",
       "    <tr style=\"text-align: right;\">\n",
       "      <th></th>\n",
       "      <th>_id</th>\n",
       "      <th>average_rating</th>\n",
       "      <th>number_of_reviews</th>\n",
       "      <th>brand</th>\n",
       "      <th>category</th>\n",
       "      <th>crawled_at</th>\n",
       "      <th>description</th>\n",
       "      <th>images</th>\n",
       "      <th>out_of_stock</th>\n",
       "      <th>avg_delivery_time_days</th>\n",
       "      <th>pid</th>\n",
       "      <th>product_details</th>\n",
       "      <th>seller</th>\n",
       "      <th>sub_category</th>\n",
       "      <th>fabrication_time</th>\n",
       "      <th>title</th>\n",
       "      <th>actual_price</th>\n",
       "    </tr>\n",
       "  </thead>\n",
       "  <tbody>\n",
       "    <tr>\n",
       "      <th>0</th>\n",
       "      <td>53df9662-e500-569c-946e-0c8d215a72cd</td>\n",
       "      <td>3.2</td>\n",
       "      <td>26</td>\n",
       "      <td>East I</td>\n",
       "      <td>Clothing and Accessories</td>\n",
       "      <td>2021-02-10 21:17:28</td>\n",
       "      <td>Navy Blue Printed Boxers Has  An Inner  Elasti...</td>\n",
       "      <td>['https://rukminim1.flixcart.com/image/128/128...</td>\n",
       "      <td>False</td>\n",
       "      <td>8</td>\n",
       "      <td>BXRFTZF7JGX75DAW</td>\n",
       "      <td>[{'Color': 'Dark Blue'}, {'Fabric': 'Pure Cott...</td>\n",
       "      <td>ZIYAA</td>\n",
       "      <td>Innerwear and Swimwear</td>\n",
       "      <td>653</td>\n",
       "      <td>Printed Men Boxer  (Pack of 1)</td>\n",
       "      <td>849.0</td>\n",
       "    </tr>\n",
       "    <tr>\n",
       "      <th>1</th>\n",
       "      <td>d0142842-84f7-537d-a06f-d85b76488a5f</td>\n",
       "      <td>4.0</td>\n",
       "      <td>33</td>\n",
       "      <td>dream o</td>\n",
       "      <td>Clothing and Accessories</td>\n",
       "      <td>2021-02-11 01:02:46</td>\n",
       "      <td>smiley printed tshirt on round neck cotton tshirt</td>\n",
       "      <td>['https://rukminim1.flixcart.com/image/128/128...</td>\n",
       "      <td>False</td>\n",
       "      <td>12</td>\n",
       "      <td>TSHFWQM96UHR6A4Q</td>\n",
       "      <td>[{'Type': 'Round Neck'}, {'Sleeve': 'Short Sle...</td>\n",
       "      <td>Dream Onn Creations</td>\n",
       "      <td>Topwear</td>\n",
       "      <td>668</td>\n",
       "      <td>Printed Men Round Neck Orange T-Shirt</td>\n",
       "      <td>699.0</td>\n",
       "    </tr>\n",
       "    <tr>\n",
       "      <th>2</th>\n",
       "      <td>79c8f0d7-30b1-5dd4-9f2f-2fe97782b027</td>\n",
       "      <td>3.9</td>\n",
       "      <td>32</td>\n",
       "      <td>Free Authori</td>\n",
       "      <td>Clothing and Accessories</td>\n",
       "      <td>2021-02-11 00:43:37</td>\n",
       "      <td>Free Authority Presents this Crew Neck Yellow ...</td>\n",
       "      <td>['https://rukminim1.flixcart.com/image/128/128...</td>\n",
       "      <td>False</td>\n",
       "      <td>11</td>\n",
       "      <td>SWSFWCXH2WF6ZYRB</td>\n",
       "      <td>[{'Color': 'Yellow'}, {'Fabric': 'Polycotton'}...</td>\n",
       "      <td>BioworldMerchandising</td>\n",
       "      <td>Winter Wear</td>\n",
       "      <td>53</td>\n",
       "      <td>Full Sleeve Graphic Print Men Sweatshirt</td>\n",
       "      <td>1499.0</td>\n",
       "    </tr>\n",
       "    <tr>\n",
       "      <th>3</th>\n",
       "      <td>0531c28c-7c50-5fbd-9ce3-a7cae3243ad5</td>\n",
       "      <td>3.8</td>\n",
       "      <td>31</td>\n",
       "      <td>HUMBE</td>\n",
       "      <td>Clothing and Accessories</td>\n",
       "      <td>2021-02-10 21:22:10</td>\n",
       "      <td>Cotton Blend FabricCollar / Polo Neck White &amp; ...</td>\n",
       "      <td>['https://rukminim1.flixcart.com/image/128/128...</td>\n",
       "      <td>False</td>\n",
       "      <td>11</td>\n",
       "      <td>TSHFHQH3HKDAGGK9</td>\n",
       "      <td>[{'Type': 'Polo Neck'}, {'Sleeve': 'Short Slee...</td>\n",
       "      <td>HUMBERT</td>\n",
       "      <td>Topwear</td>\n",
       "      <td>510</td>\n",
       "      <td>Solid Men Polo Neck Light Blue, White T-Shirt ...</td>\n",
       "      <td>1699.0</td>\n",
       "    </tr>\n",
       "    <tr>\n",
       "      <th>4</th>\n",
       "      <td>d604baad-472e-5c18-86a3-7b46d4a890c2</td>\n",
       "      <td>2.4</td>\n",
       "      <td>20</td>\n",
       "      <td>Rose We</td>\n",
       "      <td>Clothing and Accessories</td>\n",
       "      <td>2021-02-10 23:36:36</td>\n",
       "      <td>undefined</td>\n",
       "      <td>['https://rukminim1.flixcart.com/image/128/128...</td>\n",
       "      <td>False</td>\n",
       "      <td>5</td>\n",
       "      <td>TSHFW9CJZSYUU6UX</td>\n",
       "      <td>[{'Type': 'Round Neck'}, {'Sleeve': 'Short Sle...</td>\n",
       "      <td>Rupalcollectionjaipur</td>\n",
       "      <td>Topwear</td>\n",
       "      <td>496</td>\n",
       "      <td>Printed Men Round Neck White T-Shirt</td>\n",
       "      <td>599.0</td>\n",
       "    </tr>\n",
       "  </tbody>\n",
       "</table>\n",
       "</div>"
      ],
      "text/plain": [
       "                                    _id  average_rating  number_of_reviews  \\\n",
       "0  53df9662-e500-569c-946e-0c8d215a72cd             3.2                 26   \n",
       "1  d0142842-84f7-537d-a06f-d85b76488a5f             4.0                 33   \n",
       "2  79c8f0d7-30b1-5dd4-9f2f-2fe97782b027             3.9                 32   \n",
       "3  0531c28c-7c50-5fbd-9ce3-a7cae3243ad5             3.8                 31   \n",
       "4  d604baad-472e-5c18-86a3-7b46d4a890c2             2.4                 20   \n",
       "\n",
       "          brand                  category           crawled_at  \\\n",
       "0        East I  Clothing and Accessories  2021-02-10 21:17:28   \n",
       "1       dream o  Clothing and Accessories  2021-02-11 01:02:46   \n",
       "2  Free Authori  Clothing and Accessories  2021-02-11 00:43:37   \n",
       "3         HUMBE  Clothing and Accessories  2021-02-10 21:22:10   \n",
       "4       Rose We  Clothing and Accessories  2021-02-10 23:36:36   \n",
       "\n",
       "                                         description  \\\n",
       "0  Navy Blue Printed Boxers Has  An Inner  Elasti...   \n",
       "1  smiley printed tshirt on round neck cotton tshirt   \n",
       "2  Free Authority Presents this Crew Neck Yellow ...   \n",
       "3  Cotton Blend FabricCollar / Polo Neck White & ...   \n",
       "4                                          undefined   \n",
       "\n",
       "                                              images  out_of_stock  \\\n",
       "0  ['https://rukminim1.flixcart.com/image/128/128...         False   \n",
       "1  ['https://rukminim1.flixcart.com/image/128/128...         False   \n",
       "2  ['https://rukminim1.flixcart.com/image/128/128...         False   \n",
       "3  ['https://rukminim1.flixcart.com/image/128/128...         False   \n",
       "4  ['https://rukminim1.flixcart.com/image/128/128...         False   \n",
       "\n",
       "   avg_delivery_time_days               pid  \\\n",
       "0                       8  BXRFTZF7JGX75DAW   \n",
       "1                      12  TSHFWQM96UHR6A4Q   \n",
       "2                      11  SWSFWCXH2WF6ZYRB   \n",
       "3                      11  TSHFHQH3HKDAGGK9   \n",
       "4                       5  TSHFW9CJZSYUU6UX   \n",
       "\n",
       "                                     product_details                 seller  \\\n",
       "0  [{'Color': 'Dark Blue'}, {'Fabric': 'Pure Cott...                  ZIYAA   \n",
       "1  [{'Type': 'Round Neck'}, {'Sleeve': 'Short Sle...    Dream Onn Creations   \n",
       "2  [{'Color': 'Yellow'}, {'Fabric': 'Polycotton'}...  BioworldMerchandising   \n",
       "3  [{'Type': 'Polo Neck'}, {'Sleeve': 'Short Slee...                HUMBERT   \n",
       "4  [{'Type': 'Round Neck'}, {'Sleeve': 'Short Sle...  Rupalcollectionjaipur   \n",
       "\n",
       "             sub_category  fabrication_time  \\\n",
       "0  Innerwear and Swimwear               653   \n",
       "1                 Topwear               668   \n",
       "2             Winter Wear                53   \n",
       "3                 Topwear               510   \n",
       "4                 Topwear               496   \n",
       "\n",
       "                                               title  actual_price  \n",
       "0                     Printed Men Boxer  (Pack of 1)         849.0  \n",
       "1              Printed Men Round Neck Orange T-Shirt         699.0  \n",
       "2           Full Sleeve Graphic Print Men Sweatshirt        1499.0  \n",
       "3  Solid Men Polo Neck Light Blue, White T-Shirt ...        1699.0  \n",
       "4               Printed Men Round Neck White T-Shirt         599.0  "
      ]
     },
<<<<<<< HEAD
     "execution_count": 611,
=======
     "execution_count": 108,
>>>>>>> a62dfdcd665d30f43610ae656c29a51b2dda2c3f
     "metadata": {},
     "output_type": "execute_result"
    }
   ],
   "source": [
    "# Opening JSON file\n",
    "train = open('dataset/raw/train.json')\n",
    " \n",
    "# returns JSON object as a dictionary\n",
    "data_train_aux = json.load(train)\n",
    "\n",
    "data_train = pd.json_normalize(data_train_aux, record_path = 'data')\n",
    "data_train.columns = data_train_aux['columns']\n",
    "data_train.head()"
   ]
  },
  {
   "cell_type": "markdown",
   "id": "0ea9e857",
   "metadata": {},
   "source": [
    "# Data Description"
   ]
  },
  {
   "cell_type": "code",
<<<<<<< HEAD
   "execution_count": 612,
   "id": "343e4620",
   "metadata": {
    "ExecuteTime": {
     "end_time": "2023-10-22T15:17:59.221534Z",
     "start_time": "2023-10-22T15:17:59.207587Z"
=======
   "execution_count": 109,
   "id": "343e4620",
   "metadata": {
    "ExecuteTime": {
     "end_time": "2023-10-21T20:00:24.609075Z",
     "start_time": "2023-10-21T20:00:24.597901Z"
>>>>>>> a62dfdcd665d30f43610ae656c29a51b2dda2c3f
    }
   },
   "outputs": [],
   "source": [
    "# retirar descrição\n",
    "# retirar imagem\n",
    "# verificar ids duplicados em id produto\n",
    "# Verificar outliers no price"
   ]
  },
  {
   "cell_type": "markdown",
   "id": "8616ae01",
   "metadata": {},
   "source": [
    "## Removendo colunas"
   ]
  },
  {
   "cell_type": "code",
<<<<<<< HEAD
   "execution_count": 613,
   "id": "4cf08145",
   "metadata": {
    "ExecuteTime": {
     "end_time": "2023-10-22T15:17:59.252298Z",
     "start_time": "2023-10-22T15:17:59.226429Z"
=======
   "execution_count": 110,
   "id": "4cf08145",
   "metadata": {
    "ExecuteTime": {
     "end_time": "2023-10-21T20:00:24.655132Z",
     "start_time": "2023-10-21T20:00:24.613081Z"
>>>>>>> a62dfdcd665d30f43610ae656c29a51b2dda2c3f
    }
   },
   "outputs": [],
   "source": [
    "data_train = data_train.drop(columns=['description', 'images'])"
   ]
  },
  {
   "cell_type": "markdown",
   "id": "625226f3",
   "metadata": {},
   "source": [
    "## Transformando tipo de dados"
   ]
  },
  {
   "cell_type": "code",
<<<<<<< HEAD
   "execution_count": 614,
   "id": "1ad79624",
   "metadata": {
    "ExecuteTime": {
     "end_time": "2023-10-22T15:17:59.267420Z",
     "start_time": "2023-10-22T15:17:59.256555Z"
=======
   "execution_count": 111,
   "id": "1ad79624",
   "metadata": {
    "ExecuteTime": {
     "end_time": "2023-10-21T20:00:24.685329Z",
     "start_time": "2023-10-21T20:00:24.662838Z"
>>>>>>> a62dfdcd665d30f43610ae656c29a51b2dda2c3f
    }
   },
   "outputs": [
    {
     "data": {
      "text/plain": [
       "_id                        object\n",
       "average_rating            float64\n",
       "number_of_reviews           int64\n",
       "brand                      object\n",
       "category                   object\n",
       "crawled_at                 object\n",
       "out_of_stock                 bool\n",
       "avg_delivery_time_days      int64\n",
       "pid                        object\n",
       "product_details            object\n",
       "seller                     object\n",
       "sub_category               object\n",
       "fabrication_time            int64\n",
       "title                      object\n",
       "actual_price              float64\n",
       "dtype: object"
      ]
     },
<<<<<<< HEAD
     "execution_count": 614,
=======
     "execution_count": 111,
>>>>>>> a62dfdcd665d30f43610ae656c29a51b2dda2c3f
     "metadata": {},
     "output_type": "execute_result"
    }
   ],
   "source": [
    "data_train.dtypes"
   ]
  },
  {
   "cell_type": "code",
<<<<<<< HEAD
   "execution_count": 615,
   "id": "0072097b",
   "metadata": {
    "ExecuteTime": {
     "end_time": "2023-10-22T15:17:59.360200Z",
     "start_time": "2023-10-22T15:17:59.271924Z"
=======
   "execution_count": 112,
   "id": "0072097b",
   "metadata": {
    "ExecuteTime": {
     "end_time": "2023-10-21T20:00:24.777360Z",
     "start_time": "2023-10-21T20:00:24.693586Z"
>>>>>>> a62dfdcd665d30f43610ae656c29a51b2dda2c3f
    }
   },
   "outputs": [],
   "source": [
    "# transformando de string para data\n",
    "data_train['crawled_at'] = pd.to_datetime(data_train['crawled_at']).dt.date"
   ]
  },
  {
   "cell_type": "markdown",
   "id": "cdb9369e",
   "metadata": {},
   "source": [
    "## Tratando valores nulos"
   ]
  },
  {
   "cell_type": "code",
<<<<<<< HEAD
   "execution_count": 616,
   "id": "1c041d78",
   "metadata": {
    "ExecuteTime": {
     "end_time": "2023-10-22T15:17:59.484460Z",
     "start_time": "2023-10-22T15:17:59.363302Z"
=======
   "execution_count": 113,
   "id": "1c041d78",
   "metadata": {
    "ExecuteTime": {
     "end_time": "2023-10-21T20:00:24.903489Z",
     "start_time": "2023-10-21T20:00:24.781441Z"
>>>>>>> a62dfdcd665d30f43610ae656c29a51b2dda2c3f
    }
   },
   "outputs": [
    {
     "data": {
      "text/plain": [
       "_id                       0.000000\n",
       "average_rating            0.000000\n",
       "number_of_reviews         0.000000\n",
       "brand                     0.000000\n",
       "category                  0.000000\n",
       "crawled_at                0.000000\n",
       "out_of_stock              0.000000\n",
       "avg_delivery_time_days    0.000000\n",
       "pid                       0.000000\n",
       "product_details           0.000000\n",
       "seller                    0.000000\n",
       "sub_category              0.000000\n",
       "fabrication_time          0.000000\n",
       "title                     0.000000\n",
       "actual_price              0.149985\n",
       "dtype: float64"
      ]
     },
<<<<<<< HEAD
     "execution_count": 616,
=======
     "execution_count": 113,
>>>>>>> a62dfdcd665d30f43610ae656c29a51b2dda2c3f
     "metadata": {},
     "output_type": "execute_result"
    }
   ],
   "source": [
    "data_train.isna().sum()/data_train.shape[0]"
   ]
  },
  {
   "cell_type": "code",
<<<<<<< HEAD
   "execution_count": 617,
   "id": "26f84127",
   "metadata": {
    "ExecuteTime": {
     "end_time": "2023-10-22T15:17:59.577607Z",
     "start_time": "2023-10-22T15:17:59.489716Z"
    }
   },
   "outputs": [],
   "source": [
    "data_train = data_train.dropna(subset=['actual_price'])"
   ]
  },
  {
   "cell_type": "code",
   "execution_count": 618,
   "id": "5a54e630",
   "metadata": {
    "ExecuteTime": {
     "end_time": "2023-10-22T15:17:59.702036Z",
     "start_time": "2023-10-22T15:17:59.581254Z"
=======
   "execution_count": 114,
   "id": "5a54e630",
   "metadata": {
    "ExecuteTime": {
     "end_time": "2023-10-21T20:00:25.088377Z",
     "start_time": "2023-10-21T20:00:24.996134Z"
>>>>>>> a62dfdcd665d30f43610ae656c29a51b2dda2c3f
    },
    "scrolled": true
   },
   "outputs": [
    {
     "data": {
      "text/plain": [
       "_id                       0.000000\n",
       "average_rating            0.000000\n",
       "number_of_reviews         0.000000\n",
       "brand                     0.000000\n",
       "category                  0.000000\n",
       "crawled_at                0.000000\n",
       "out_of_stock              0.000000\n",
       "avg_delivery_time_days    0.000000\n",
       "pid                       0.000000\n",
       "product_details           0.000000\n",
       "seller                    0.000000\n",
       "sub_category              0.000000\n",
       "fabrication_time          0.000000\n",
       "title                     0.000000\n",
       "actual_price              0.149985\n",
       "dtype: float64"
      ]
     },
<<<<<<< HEAD
     "execution_count": 618,
=======
     "execution_count": 114,
>>>>>>> a62dfdcd665d30f43610ae656c29a51b2dda2c3f
     "metadata": {},
     "output_type": "execute_result"
    }
   ],
   "source": [
    "data_train.isna().sum()/data_train.shape[0]"
   ]
  },
  {
   "cell_type": "code",
   "execution_count": 115,
   "id": "3fd3597b",
   "metadata": {},
   "outputs": [],
   "source": [
    "## Tratando variaveis respostas nulas\n",
    "prices = data_train[['seller','pid', 'actual_price']].groupby('pid').max().reset_index()\n",
    "\n",
    "precos_nulos = data_train.loc[data_train['actual_price'].isna(), ['_id','pid']]\n",
    "\n",
    "precos_recuperados = pd.merge(precos_nulos, prices, how = 'inner', on = 'pid')\n",
    "\n",
    "data_train_aux = pd.merge(data_train, precos_recuperados[['_id', 'actual_price']], on = '_id', how = 'left')\n",
    "data_train['actual_price'] = data_train_aux['actual_price_x'].fillna(0) + data_train_aux['actual_price_y'].fillna(0)\n",
    "\n",
    "data_train = data_train.dropna(subset=['actual_price'])"
   ]
  },
  {
   "cell_type": "markdown",
   "id": "f8e8fae6",
   "metadata": {},
   "source": [
    "## Entendendo product Details"
   ]
  },
  {
   "cell_type": "code",
<<<<<<< HEAD
   "execution_count": 619,
   "id": "277e00f7",
   "metadata": {
    "ExecuteTime": {
     "end_time": "2023-10-22T15:18:08.132041Z",
     "start_time": "2023-10-22T15:17:59.705426Z"
=======
   "execution_count": 116,
   "id": "2e976671",
   "metadata": {},
   "outputs": [
    {
     "name": "stdout",
     "output_type": "stream",
     "text": [
      "<class 'pandas.core.frame.DataFrame'>\n",
      "RangeIndex: 23309 entries, 0 to 23308\n",
      "Data columns (total 15 columns):\n",
      " #   Column                  Non-Null Count  Dtype  \n",
      "---  ------                  --------------  -----  \n",
      " 0   _id                     23309 non-null  object \n",
      " 1   average_rating          23309 non-null  float64\n",
      " 2   number_of_reviews       23309 non-null  int64  \n",
      " 3   brand                   23309 non-null  object \n",
      " 4   category                23309 non-null  object \n",
      " 5   crawled_at              23309 non-null  object \n",
      " 6   out_of_stock            23309 non-null  bool   \n",
      " 7   avg_delivery_time_days  23309 non-null  int64  \n",
      " 8   pid                     23309 non-null  object \n",
      " 9   product_details         23309 non-null  object \n",
      " 10  seller                  23309 non-null  object \n",
      " 11  sub_category            23309 non-null  object \n",
      " 12  fabrication_time        23309 non-null  int64  \n",
      " 13  title                   23309 non-null  object \n",
      " 14  actual_price            23309 non-null  float64\n",
      "dtypes: bool(1), float64(2), int64(3), object(9)\n",
      "memory usage: 2.5+ MB\n"
     ]
    }
   ],
   "source": [
    "data_train.info()"
   ]
  },
  {
   "cell_type": "code",
   "execution_count": 117,
   "id": "70c98420",
   "metadata": {},
   "outputs": [],
   "source": [
    "# def is_valid_dict(x):\n",
    "#     return isinstance(x, dict)\n",
    "\n",
    "# invalid_dict_rows = data_train[~data_train['product_details'].apply(is_valid_dict)]\n",
    "# print(invalid_dict_rows)\n"
   ]
  },
  {
   "cell_type": "code",
   "execution_count": 118,
   "id": "404003fe",
   "metadata": {},
   "outputs": [],
   "source": [
    "# # Função para analisar strings JSON\n",
    "# def parse_json(x):\n",
    "#     try:\n",
    "#         return json.loads(x)\n",
    "#     except Exception as e:\n",
    "#         print(e)\n",
    "#         return {}\n",
    "\n",
    "# # Aplicar a função de análise a cada linha da coluna 'product_details'\n",
    "# data_train['product_details'] = data_train['product_details'].apply(parse_json)\n",
    "\n",
    "# # Converter o dicionário em várias colunas\n",
    "# df_details = data_train['product_details'].apply(pd.Series)\n",
    "\n",
    "# # Verifique o DataFrame resultante\n",
    "# print(df_details.head())"
   ]
  },
  {
   "cell_type": "code",
   "execution_count": 119,
   "id": "277e00f7",
   "metadata": {
    "ExecuteTime": {
     "end_time": "2023-10-21T20:00:35.817103Z",
     "start_time": "2023-10-21T20:00:25.092984Z"
>>>>>>> a62dfdcd665d30f43610ae656c29a51b2dda2c3f
    }
   },
   "outputs": [],
   "source": [
    "import ast\n",
    "\n",
    "# pega string de dict e cria uma lista de dicionários\n",
    "def f(x):\n",
    "    try:\n",
    "        return ast.literal_eval(str(x))   \n",
    "    except Exception as e:\n",
    "        print(e)\n",
    "        return []\n",
    "\n",
    "\n",
    "\n",
    "def junta_dict(dict_list):\n",
    "    dicionario = {}\n",
    "    for d in dict_list:\n",
    "        for key, value in d.items():\n",
    "            dicionario[key] = value\n",
    "    return dicionario\n",
    "\n",
    "list = data_train['product_details'].apply(lambda x: f(x))\n",
    "df_details = pd.DataFrame([junta_dict(row) for row in list])\n",
    "\n"
   ]
  },
  {
   "cell_type": "code",
<<<<<<< HEAD
   "execution_count": 620,
   "id": "ed4bf01c",
   "metadata": {
    "ExecuteTime": {
     "end_time": "2023-10-22T15:18:10.342881Z",
     "start_time": "2023-10-22T15:18:08.137570Z"
    }
   },
=======
   "execution_count": 120,
   "id": "42b5ccce",
   "metadata": {},
>>>>>>> a62dfdcd665d30f43610ae656c29a51b2dda2c3f
   "outputs": [
    {
     "data": {
      "text/html": [
       "<div>\n",
       "<style scoped>\n",
       "    .dataframe tbody tr th:only-of-type {\n",
       "        vertical-align: middle;\n",
       "    }\n",
       "\n",
       "    .dataframe tbody tr th {\n",
       "        vertical-align: top;\n",
       "    }\n",
       "\n",
       "    .dataframe thead th {\n",
       "        text-align: right;\n",
       "    }\n",
       "</style>\n",
       "<table border=\"1\" class=\"dataframe\">\n",
       "  <thead>\n",
       "    <tr style=\"text-align: right;\">\n",
       "      <th></th>\n",
       "      <th>Color</th>\n",
       "      <th>Fabric</th>\n",
       "      <th>Pattern</th>\n",
       "      <th>Sales Package</th>\n",
       "      <th>Style Code</th>\n",
       "      <th>Pack of</th>\n",
       "      <th>Type</th>\n",
       "      <th>Sleeve</th>\n",
       "      <th>Fit</th>\n",
       "      <th>Neck Type</th>\n",
       "      <th>...</th>\n",
       "      <th>Foot Coverage</th>\n",
       "      <th>Bust in inch</th>\n",
       "      <th>Shoulder in inch</th>\n",
       "      <th>Sleeve in inch</th>\n",
       "      <th>Pleated</th>\n",
       "      <th>Design</th>\n",
       "      <th>Weave type</th>\n",
       "      <th>Fabric care</th>\n",
       "      <th>Width</th>\n",
       "      <th>Height</th>\n",
       "    </tr>\n",
       "  </thead>\n",
       "  <tbody>\n",
       "    <tr>\n",
       "      <th>0</th>\n",
       "      <td>Dark Blue</td>\n",
       "      <td>Pure Cotton</td>\n",
       "      <td>Printed</td>\n",
       "      <td>1 boxer</td>\n",
       "      <td>EIBXCO053</td>\n",
       "      <td>1</td>\n",
       "      <td>NaN</td>\n",
       "      <td>NaN</td>\n",
       "      <td>NaN</td>\n",
       "      <td>NaN</td>\n",
       "      <td>...</td>\n",
       "      <td>NaN</td>\n",
       "      <td>NaN</td>\n",
       "      <td>NaN</td>\n",
       "      <td>NaN</td>\n",
       "      <td>NaN</td>\n",
       "      <td>NaN</td>\n",
       "      <td>NaN</td>\n",
       "      <td>NaN</td>\n",
       "      <td>NaN</td>\n",
       "      <td>NaN</td>\n",
       "    </tr>\n",
       "    <tr>\n",
       "      <th>1</th>\n",
       "      <td>NaN</td>\n",
       "      <td>Cotton Blend</td>\n",
       "      <td>Printed</td>\n",
       "      <td>pack of 1</td>\n",
       "      <td>orange</td>\n",
       "      <td>1</td>\n",
       "      <td>Round Neck</td>\n",
       "      <td>Short Sleeve</td>\n",
       "      <td>Regular</td>\n",
       "      <td>Round Neck</td>\n",
       "      <td>...</td>\n",
       "      <td>NaN</td>\n",
       "      <td>NaN</td>\n",
       "      <td>NaN</td>\n",
       "      <td>NaN</td>\n",
       "      <td>NaN</td>\n",
       "      <td>NaN</td>\n",
       "      <td>NaN</td>\n",
       "      <td>NaN</td>\n",
       "      <td>NaN</td>\n",
       "      <td>NaN</td>\n",
       "    </tr>\n",
       "    <tr>\n",
       "      <th>2</th>\n",
       "      <td>Yellow</td>\n",
       "      <td>Polycotton</td>\n",
       "      <td>Graphic Print</td>\n",
       "      <td>1 Terry Cotton Sweatshirt for Men</td>\n",
       "      <td>STY-20-21-001595</td>\n",
       "      <td>NaN</td>\n",
       "      <td>NaN</td>\n",
       "      <td>Full Sleeve</td>\n",
       "      <td>NaN</td>\n",
       "      <td>NaN</td>\n",
       "      <td>...</td>\n",
       "      <td>NaN</td>\n",
       "      <td>NaN</td>\n",
       "      <td>NaN</td>\n",
       "      <td>NaN</td>\n",
       "      <td>NaN</td>\n",
       "      <td>NaN</td>\n",
       "      <td>NaN</td>\n",
       "      <td>NaN</td>\n",
       "      <td>NaN</td>\n",
       "      <td>NaN</td>\n",
       "    </tr>\n",
       "    <tr>\n",
       "      <th>3</th>\n",
       "      <td>NaN</td>\n",
       "      <td>Cotton Blend</td>\n",
       "      <td>Solid</td>\n",
       "      <td>2 pc T-shirts</td>\n",
       "      <td>HU2002PO-HS-IB-WH</td>\n",
       "      <td>2</td>\n",
       "      <td>Polo Neck</td>\n",
       "      <td>Short Sleeve</td>\n",
       "      <td>Regular</td>\n",
       "      <td>Polo Neck</td>\n",
       "      <td>...</td>\n",
       "      <td>NaN</td>\n",
       "      <td>NaN</td>\n",
       "      <td>NaN</td>\n",
       "      <td>NaN</td>\n",
       "      <td>NaN</td>\n",
       "      <td>NaN</td>\n",
       "      <td>NaN</td>\n",
       "      <td>NaN</td>\n",
       "      <td>NaN</td>\n",
       "      <td>NaN</td>\n",
       "    </tr>\n",
       "    <tr>\n",
       "      <th>4</th>\n",
       "      <td>NaN</td>\n",
       "      <td>Cotton Blend</td>\n",
       "      <td>Printed</td>\n",
       "      <td>NaN</td>\n",
       "      <td>RC021_White</td>\n",
       "      <td>1</td>\n",
       "      <td>Round Neck</td>\n",
       "      <td>Short Sleeve</td>\n",
       "      <td>Regular</td>\n",
       "      <td>Round Neck</td>\n",
       "      <td>...</td>\n",
       "      <td>NaN</td>\n",
       "      <td>NaN</td>\n",
       "      <td>NaN</td>\n",
       "      <td>NaN</td>\n",
       "      <td>NaN</td>\n",
       "      <td>NaN</td>\n",
       "      <td>NaN</td>\n",
       "      <td>NaN</td>\n",
       "      <td>NaN</td>\n",
       "      <td>NaN</td>\n",
       "    </tr>\n",
       "  </tbody>\n",
       "</table>\n",
       "<p>5 rows × 125 columns</p>\n",
       "</div>"
      ],
      "text/plain": [
       "       Color        Fabric        Pattern                      Sales Package  \\\n",
       "0  Dark Blue   Pure Cotton        Printed                            1 boxer   \n",
       "1        NaN  Cotton Blend        Printed                          pack of 1   \n",
       "2     Yellow    Polycotton  Graphic Print  1 Terry Cotton Sweatshirt for Men   \n",
       "3        NaN  Cotton Blend          Solid                      2 pc T-shirts   \n",
       "4        NaN  Cotton Blend        Printed                                NaN   \n",
       "\n",
       "          Style Code Pack of        Type        Sleeve      Fit   Neck Type  \\\n",
       "0          EIBXCO053       1         NaN           NaN      NaN         NaN   \n",
       "1             orange       1  Round Neck  Short Sleeve  Regular  Round Neck   \n",
       "2   STY-20-21-001595     NaN         NaN   Full Sleeve      NaN         NaN   \n",
       "3  HU2002PO-HS-IB-WH       2   Polo Neck  Short Sleeve  Regular   Polo Neck   \n",
       "4        RC021_White       1  Round Neck  Short Sleeve  Regular  Round Neck   \n",
       "\n",
       "   ... Foot Coverage Bust in inch Shoulder in inch Sleeve in inch Pleated  \\\n",
       "0  ...           NaN          NaN              NaN            NaN     NaN   \n",
       "1  ...           NaN          NaN              NaN            NaN     NaN   \n",
       "2  ...           NaN          NaN              NaN            NaN     NaN   \n",
       "3  ...           NaN          NaN              NaN            NaN     NaN   \n",
       "4  ...           NaN          NaN              NaN            NaN     NaN   \n",
       "\n",
       "  Design Weave type Fabric care Width Height  \n",
       "0    NaN        NaN         NaN   NaN    NaN  \n",
       "1    NaN        NaN         NaN   NaN    NaN  \n",
       "2    NaN        NaN         NaN   NaN    NaN  \n",
       "3    NaN        NaN         NaN   NaN    NaN  \n",
       "4    NaN        NaN         NaN   NaN    NaN  \n",
       "\n",
       "[5 rows x 125 columns]"
      ]
     },
<<<<<<< HEAD
     "execution_count": 620,
=======
     "execution_count": 120,
>>>>>>> a62dfdcd665d30f43610ae656c29a51b2dda2c3f
     "metadata": {},
     "output_type": "execute_result"
    }
   ],
   "source": [
    "df_details.head()"
   ]
  },
  {
   "cell_type": "code",
   "execution_count": 121,
   "id": "3d19502a",
   "metadata": {},
   "outputs": [
    {
     "data": {
      "text/plain": [
       "['Color',\n",
       " 'Fabric',\n",
       " 'Pattern',\n",
       " 'Sales Package',\n",
       " 'Style Code',\n",
       " 'Pack of',\n",
       " 'Type',\n",
       " 'Sleeve',\n",
       " 'Fit',\n",
       " 'Neck Type',\n",
       " 'Ideal For',\n",
       " 'Size',\n",
       " 'Suitable For',\n",
       " 'Sleeve Type',\n",
       " 'Reversible',\n",
       " 'Fabric Care',\n",
       " 'Brand Color',\n",
       " 'Neck',\n",
       " 'Occasion',\n",
       " 'Hooded',\n",
       " 'Other Details',\n",
       " 'Brand Fit',\n",
       " 'Generic Name',\n",
       " 'Country of Origin',\n",
       " 'Model Name',\n",
       " 'Number of Contents in Sales Package',\n",
       " '',\n",
       " 'Collar',\n",
       " 'Pack Of',\n",
       " 'Faded',\n",
       " 'Rise',\n",
       " 'Distressed',\n",
       " 'Closure',\n",
       " 'Pockets',\n",
       " 'Hem',\n",
       " 'Secondary Color',\n",
       " 'Bottom Length',\n",
       " 'Dupatta Length',\n",
       " 'Top Length',\n",
       " 'Stitching Type',\n",
       " ' ',\n",
       " 'Waistband',\n",
       " 'Series',\n",
       " 'Warranty Service Type',\n",
       " 'Warranty Summary',\n",
       " 'Covered in Warranty',\n",
       " 'Not Covered in Warranty',\n",
       " 'Domestic Warranty',\n",
       " 'Fly',\n",
       " 'Other Dimensions',\n",
       " 'Top Fabric',\n",
       " 'Bottom Fabric',\n",
       " 'Top Type',\n",
       " 'Bottom Type',\n",
       " 'Length Type',\n",
       " 'Package contains',\n",
       " 'Care instructions',\n",
       " 'Sole Material',\n",
       " 'Inner Material',\n",
       " 'Outer Material',\n",
       " 'Weight',\n",
       " 'Care Instructions',\n",
       " 'Alteration Required',\n",
       " 'Belt Loops',\n",
       " 'Pleats',\n",
       " 'Fabric Details',\n",
       " 'Character',\n",
       " 'Pocket Type',\n",
       " 'Stretchable',\n",
       " 'Rise in inch',\n",
       " 'Hip in inch',\n",
       " 'Thigh in inch',\n",
       " 'Waist in inch',\n",
       " 'Inside Leg in inch',\n",
       " 'Style',\n",
       " 'Other Features',\n",
       " 'Upper Pattern',\n",
       " 'Inseam Length',\n",
       " 'International Warranty',\n",
       " 'Knit Type',\n",
       " 'Cuff',\n",
       " 'Weave Type',\n",
       " 'Top Closure',\n",
       " 'School Shoe',\n",
       " 'Lining',\n",
       " 'Length in inch',\n",
       " 'Width in inch',\n",
       " 'Model Number',\n",
       " 'Type for Flats',\n",
       " 'Brand',\n",
       " 'Shade',\n",
       " 'Material',\n",
       " 'Thumb Hole',\n",
       " 'Length',\n",
       " 'Strap Material',\n",
       " 'Minimum Age',\n",
       " 'Maximum Age',\n",
       " 'Heel Pattern',\n",
       " 'Leather Type',\n",
       " 'Shoe Length',\n",
       " 'Season',\n",
       " 'Tanning Process',\n",
       " 'Animal Source',\n",
       " 'Clasp Type',\n",
       " 'Clasp Material',\n",
       " 'Region',\n",
       " 'Lining Material',\n",
       " 'Fastener',\n",
       " 'Technology Used',\n",
       " 'Placket',\n",
       " 'Tip Shape',\n",
       " 'Coat Type',\n",
       " 'Model Details',\n",
       " 'Width at Base',\n",
       " 'Vents',\n",
       " 'Foot Coverage',\n",
       " 'Bust in inch',\n",
       " 'Shoulder in inch',\n",
       " 'Sleeve in inch',\n",
       " 'Pleated',\n",
       " 'Design',\n",
       " 'Weave type',\n",
       " 'Fabric care',\n",
       " 'Width',\n",
       " 'Height']"
      ]
     },
     "execution_count": 121,
     "metadata": {},
     "output_type": "execute_result"
    }
   ],
   "source": [
    "df_details.columns.tolist()"
   ]
  },
  {
   "cell_type": "code",
   "execution_count": 122,
   "id": "8865f380",
   "metadata": {},
   "outputs": [],
   "source": [
    "df_drop_columns = df_details.drop(columns=['', ' '])\n",
    "\n",
    "# Removendo valores faltantes acima de 50%\n",
    "limite_nulos = len(df_details) * 0.5  \n",
    "df_drop = df_details.dropna(thresh = limite_nulos, axis=1)\n",
    "df_new = df_drop.copy()"
   ]
  },
  {
   "cell_type": "code",
   "execution_count": 123,
   "id": "7116ab4e",
   "metadata": {},
   "outputs": [
    {
     "name": "stdout",
     "output_type": "stream",
     "text": [
      "<class 'pandas.core.frame.DataFrame'>\n",
      "RangeIndex: 23309 entries, 0 to 23308\n",
      "Data columns (total 11 columns):\n",
      " #   Column        Non-Null Count  Dtype \n",
      "---  ------        --------------  ----- \n",
      " 0   Fabric        21576 non-null  object\n",
      " 1   Pattern       21361 non-null  object\n",
      " 2   Style Code    21370 non-null  object\n",
      " 3   Pack of       15131 non-null  object\n",
      " 4   Type          14570 non-null  object\n",
      " 5   Sleeve        15858 non-null  object\n",
      " 6   Fit           14097 non-null  object\n",
      " 7   Ideal For     14342 non-null  object\n",
      " 8   Suitable For  16141 non-null  object\n",
      " 9   Reversible    12201 non-null  object\n",
      " 10  Fabric Care   18294 non-null  object\n",
      "dtypes: object(11)\n",
      "memory usage: 2.0+ MB\n"
     ]
    }
   ],
   "source": [
    "df_new.info()"
   ]
  },
  {
   "cell_type": "code",
   "execution_count": 124,
   "id": "2846b4ac",
   "metadata": {},
   "outputs": [
    {
     "data": {
      "text/html": [
       "<div>\n",
       "<style scoped>\n",
       "    .dataframe tbody tr th:only-of-type {\n",
       "        vertical-align: middle;\n",
       "    }\n",
       "\n",
       "    .dataframe tbody tr th {\n",
       "        vertical-align: top;\n",
       "    }\n",
       "\n",
       "    .dataframe thead th {\n",
       "        text-align: right;\n",
       "    }\n",
       "</style>\n",
       "<table border=\"1\" class=\"dataframe\">\n",
       "  <thead>\n",
       "    <tr style=\"text-align: right;\">\n",
       "      <th></th>\n",
       "      <th>Fabric</th>\n",
       "      <th>Pattern</th>\n",
       "      <th>Style Code</th>\n",
       "      <th>Pack of</th>\n",
       "      <th>Type</th>\n",
       "      <th>Sleeve</th>\n",
       "      <th>Fit</th>\n",
       "      <th>Ideal For</th>\n",
       "      <th>Suitable For</th>\n",
       "      <th>Reversible</th>\n",
       "      <th>Fabric Care</th>\n",
       "    </tr>\n",
       "  </thead>\n",
       "  <tbody>\n",
       "    <tr>\n",
       "      <th>0</th>\n",
       "      <td>Pure Cotton</td>\n",
       "      <td>Printed</td>\n",
       "      <td>EIBXCO053</td>\n",
       "      <td>1</td>\n",
       "      <td>outros</td>\n",
       "      <td>outros</td>\n",
       "      <td>outros</td>\n",
       "      <td>outros</td>\n",
       "      <td>outros</td>\n",
       "      <td>outros</td>\n",
       "      <td>outros</td>\n",
       "    </tr>\n",
       "    <tr>\n",
       "      <th>1</th>\n",
       "      <td>Cotton Blend</td>\n",
       "      <td>Printed</td>\n",
       "      <td>orange</td>\n",
       "      <td>1</td>\n",
       "      <td>Round Neck</td>\n",
       "      <td>Short Sleeve</td>\n",
       "      <td>Regular</td>\n",
       "      <td>Men</td>\n",
       "      <td>Western Wear</td>\n",
       "      <td>No</td>\n",
       "      <td>Do not Iron on print/embroidery/embellishment</td>\n",
       "    </tr>\n",
       "    <tr>\n",
       "      <th>2</th>\n",
       "      <td>Polycotton</td>\n",
       "      <td>Graphic Print</td>\n",
       "      <td>STY-20-21-001595</td>\n",
       "      <td>outros</td>\n",
       "      <td>outros</td>\n",
       "      <td>Full Sleeve</td>\n",
       "      <td>outros</td>\n",
       "      <td>outros</td>\n",
       "      <td>Western Wear</td>\n",
       "      <td>No</td>\n",
       "      <td>Hand Wash, Reverse and Dry</td>\n",
       "    </tr>\n",
       "    <tr>\n",
       "      <th>3</th>\n",
       "      <td>Cotton Blend</td>\n",
       "      <td>Solid</td>\n",
       "      <td>HU2002PO-HS-IB-WH</td>\n",
       "      <td>2</td>\n",
       "      <td>Polo Neck</td>\n",
       "      <td>Short Sleeve</td>\n",
       "      <td>Regular</td>\n",
       "      <td>Men</td>\n",
       "      <td>Western Wear</td>\n",
       "      <td>No</td>\n",
       "      <td>Gentle Machine Wash</td>\n",
       "    </tr>\n",
       "    <tr>\n",
       "      <th>4</th>\n",
       "      <td>Cotton Blend</td>\n",
       "      <td>Printed</td>\n",
       "      <td>RC021_White</td>\n",
       "      <td>1</td>\n",
       "      <td>Round Neck</td>\n",
       "      <td>Short Sleeve</td>\n",
       "      <td>Regular</td>\n",
       "      <td>Men</td>\n",
       "      <td>Western Wear</td>\n",
       "      <td>outros</td>\n",
       "      <td>Regular Machine Wash</td>\n",
       "    </tr>\n",
       "  </tbody>\n",
       "</table>\n",
       "</div>"
      ],
      "text/plain": [
       "         Fabric        Pattern         Style Code Pack of        Type  \\\n",
       "0   Pure Cotton        Printed          EIBXCO053       1      outros   \n",
       "1  Cotton Blend        Printed             orange       1  Round Neck   \n",
       "2    Polycotton  Graphic Print   STY-20-21-001595  outros      outros   \n",
       "3  Cotton Blend          Solid  HU2002PO-HS-IB-WH       2   Polo Neck   \n",
       "4  Cotton Blend        Printed        RC021_White       1  Round Neck   \n",
       "\n",
       "         Sleeve      Fit Ideal For  Suitable For Reversible  \\\n",
       "0        outros   outros    outros        outros     outros   \n",
       "1  Short Sleeve  Regular       Men  Western Wear         No   \n",
       "2   Full Sleeve   outros    outros  Western Wear         No   \n",
       "3  Short Sleeve  Regular       Men  Western Wear         No   \n",
       "4  Short Sleeve  Regular       Men  Western Wear     outros   \n",
       "\n",
       "                                     Fabric Care  \n",
       "0                                         outros  \n",
       "1  Do not Iron on print/embroidery/embellishment  \n",
       "2                     Hand Wash, Reverse and Dry  \n",
       "3                            Gentle Machine Wash  \n",
       "4                           Regular Machine Wash  "
      ]
     },
     "execution_count": 124,
     "metadata": {},
     "output_type": "execute_result"
    }
   ],
   "source": [
    "# Trocar os NaN por 'outros'\n",
    "\n",
    "df_new.loc[df_new['Fabric'].isnull(), 'Fabric'] = 'outros'\n",
    "df_new.loc[df_new['Pattern'].isnull(), 'Pattern'] = 'outros'\n",
    "df_new.loc[df_new['Style Code'].isnull(), 'Style Code'] = 'outros'\n",
    "df_new.loc[df_new['Pack of'].isnull(), 'Pack of'] = 'outros'\n",
    "df_new.loc[df_new['Type'].isnull(), 'Type'] = 'outros'\n",
    "df_new.loc[df_new['Sleeve'].isnull(), 'Sleeve'] = 'outros'\n",
    "df_new.loc[df_new['Fit'].isnull(), 'Fit'] = 'outros'\n",
    "df_new.loc[df_new['Ideal For'].isnull(), 'Ideal For'] = 'outros'\n",
    "df_new.loc[df_new['Suitable For'].isnull(), 'Suitable For'] = 'outros'\n",
    "df_new.loc[df_new['Reversible'].isnull(), 'Reversible'] = 'outros'\n",
    "df_new.loc[df_new['Fabric Care'].isnull(), 'Fabric Care'] = 'outros'\n",
    "\n",
    "df_new.head()\n"
   ]
  },
  {
   "cell_type": "code",
   "execution_count": 125,
   "id": "67902b3d",
   "metadata": {},
   "outputs": [],
   "source": [
    "# # Suponha que você tenha uma coluna chamada 'Fabric' com valores do tipo object\n",
    "# df_new['Fabric'] = df_new['Fabric'].astype(str)\n",
    "# df_new['Pattern'] = df_new['Pattern'].astype(str)\n",
    "# df_new['Style Code'] = df_new['Style Code'].astype(str)\n",
    "# df_new['Pack of'] = df_new['Pack of'].astype(str)\n",
    "# df_new['Type'] = df_new['Type'].astype(str)\n",
    "# df_new['Sleeve'] = df_new['Sleeve'].astype(str)\n",
    "# df_new['Fit'] = df_new['Fit'].astype(str)\n",
    "# df_new['Ideal For'] = df_new['Ideal For'].astype(str)\n",
    "# df_new['Suitable For'] = df_new['Suitable For'].astype(str)\n",
    "# df_new['Reversible'] = df_new['Reversible'].astype(str)\n",
    "# df_new['Fabric Care'] = df_new['Fabric Care'].astype(str)\n",
    "\n",
    "\n",
    "# # Agora você pode usar o método str.split para dividir os valores\n",
    "# df_new['Fabric'] = df_new['Fabric'].str.split(',')\n",
    "# df_new['Pattern'] = df_new['Pattern'].str.split(',')\n",
    "# df_new['Style Code'] = df_new['Style Code'].str.split(',')\n",
    "# df_new['Pack of'] = df_new['Pack of'].str.split(',')\n",
    "# df_new['Type'] = df_new['Type'].str.split(',')\n",
    "# df_new['Sleeve'] = df_new['Sleeve'].str.split(',')\n",
    "# df_new['Fit'] = df_new['Fit'].str.split(',')\n",
    "# df_new['Ideal For'] = df_new['Ideal For'].str.split(',')\n",
    "# df_new['Suitable For'] = df_new['Suitable For'].str.split(',')\n",
    "# df_new['Reversible'] = df_new['Reversible'].str.split(',')\n",
    "# df_new['Fabric Care'] = df_new['Fabric Care'].str.split(',')\n"
   ]
  },
  {
   "cell_type": "code",
   "execution_count": 126,
   "id": "7f18748a",
   "metadata": {},
   "outputs": [],
   "source": [
    "# Dados sem virgulas: Style Code, Pack of, Suitable For, Reversible, 'Ideal For'\n",
    "\n",
    "\n",
    "# Ideal for: 'Men', 'Men, Boys'/ 'Boys, Men' = 'all_ages',\n",
    "            # 'Boys, Girls, Men, Women' = 'unisex_all_ages', 'Women, Men' = 'Unisex'\n",
    "\n",
    "def type_sex(value):\n",
    "    if value == 'Men':\n",
    "        return 'Men'\n",
    "    elif value == 'Men, Boys':\n",
    "        return 'all_ages'\n",
    "    elif value == 'Boys, Men':\n",
    "        return 'all_ages'\n",
    "    elif value == 'Boys, Girls, Men, Women':\n",
    "        return 'unisex_all_ages'\n",
    "    elif value == 'Women, Men':\n",
    "        return 'Unisex'\n",
    "    else:\n",
    "        return 'outros'\n",
    "\n",
    "df_new['Ideal For'] = df_new['Ideal For'].map(type_sex)"
   ]
  },
  {
   "cell_type": "code",
   "execution_count": 127,
   "id": "3390b58d",
   "metadata": {},
   "outputs": [],
   "source": [
    "df_junto = pd.concat([data_train, df_new], axis=1)\n"
   ]
  },
  {
   "cell_type": "markdown",
   "id": "1a3a83f2",
   "metadata": {},
   "source": [
    "# Feature Engineering"
   ]
  },
  {
   "cell_type": "code",
<<<<<<< HEAD
   "execution_count": 621,
   "id": "cf0764da",
   "metadata": {
    "ExecuteTime": {
     "end_time": "2023-10-22T15:18:10.389072Z",
     "start_time": "2023-10-22T15:18:10.346088Z"
=======
   "execution_count": 128,
   "id": "cf0764da",
   "metadata": {
    "ExecuteTime": {
     "end_time": "2023-10-21T20:00:37.833363Z",
     "start_time": "2023-10-21T20:00:37.810290Z"
>>>>>>> a62dfdcd665d30f43610ae656c29a51b2dda2c3f
    }
   },
   "outputs": [],
   "source": [
    "df4 = df_junto.copy()"
   ]
  },
  {
   "cell_type": "code",
<<<<<<< HEAD
   "execution_count": 622,
   "id": "02173cbd",
   "metadata": {
    "ExecuteTime": {
     "end_time": "2023-10-22T15:18:11.198641Z",
     "start_time": "2023-10-22T15:18:10.399278Z"
=======
   "execution_count": 129,
   "id": "02173cbd",
   "metadata": {
    "ExecuteTime": {
     "end_time": "2023-10-21T20:00:38.608736Z",
     "start_time": "2023-10-21T20:00:37.836614Z"
>>>>>>> a62dfdcd665d30f43610ae656c29a51b2dda2c3f
    }
   },
   "outputs": [],
   "source": [
    "## out_of_stock - transformar para int \n",
    "df4['out_of_stock'] = df4['out_of_stock'].astype('int64')\n",
    "\n",
    "# brand - substituir por outros\n",
    "df4['brand'] = df4['brand'].apply(lambda x: x.lower())\n",
    "\n",
    "# criando feature product\n",
    "df4['product'] = df4[['category', 'sub_category']].apply(lambda x: x['category'] + '_' + x['sub_category'], axis = 1)"
   ]
  },
  {
<<<<<<< HEAD
   "cell_type": "code",
   "execution_count": 623,
   "id": "a808e599",
   "metadata": {
    "ExecuteTime": {
     "end_time": "2023-10-22T15:18:26.299877Z",
     "start_time": "2023-10-22T15:18:11.202087Z"
    }
   },
   "outputs": [],
   "source": [
    "import ast\n",
    "\n",
    "# pega string de dict e cria uma lista de dicionários\n",
    "def f(x):\n",
    "    try:\n",
    "        return ast.literal_eval(str(x))   \n",
    "    except Exception as e:\n",
    "        print(e)\n",
    "        return []\n",
    "\n",
    "\n",
    "\n",
    "def junta_dict(dict_list):\n",
    "    dicionario = {}\n",
    "    for d in dict_list:\n",
    "        for key, value in d.items():\n",
    "            dicionario[key] = value\n",
    "    return dicionario\n",
    "\n",
    "list = df4['product_details'].apply(lambda x: f(x))\n",
    "\n",
    "df_details = pd.DataFrame([junta_dict(row) for row in list], index = list.index)\n",
    "\n",
    "df_drop_columns = df_details.drop(columns=['', ' '])\n",
    "\n",
    "# Removendo valores faltantes acima de 50%\n",
    "limite_nulos = len(df_details) * 0.5  \n",
    "df_drop = df_details.dropna(thresh = limite_nulos, axis=1)\n",
    "df_new = df_drop.copy()\n",
    "\n",
    "# Trocar os NaN por 'outros'\n",
    "\n",
    "df_new.loc[df_new['Fabric'].isnull(), 'Fabric'] = 'outros'\n",
    "df_new.loc[df_new['Pattern'].isnull(), 'Pattern'] = 'outros'\n",
    "df_new.loc[df_new['Style Code'].isnull(), 'Style Code'] = 'outros'\n",
    "df_new.loc[df_new['Pack of'].isnull(), 'Pack of'] = 'outros'\n",
    "df_new.loc[df_new['Type'].isnull(), 'Type'] = 'outros'\n",
    "df_new.loc[df_new['Sleeve'].isnull(), 'Sleeve'] = 'outros'\n",
    "df_new.loc[df_new['Fit'].isnull(), 'Fit'] = 'outros'\n",
    "df_new.loc[df_new['Ideal For'].isnull(), 'Ideal For'] = 'outros'\n",
    "df_new.loc[df_new['Suitable For'].isnull(), 'Suitable For'] = 'outros'\n",
    "df_new.loc[df_new['Reversible'].isnull(), 'Reversible'] = 'outros'\n",
    "df_new.loc[df_new['Fabric Care'].isnull(), 'Fabric Care'] = 'outros'\n",
    "\n",
    "df_new.head()\n",
    "\n",
    "def type_sex(value):\n",
    "    if value == 'Men':\n",
    "        return 'Men'\n",
    "    elif value == 'Men, Boys':\n",
    "        return 'all_ages'\n",
    "    elif value == 'Boys, Men':\n",
    "        return 'all_ages'\n",
    "    elif value == 'Boys, Girls, Men, Women':\n",
    "        return 'unisex_all_ages'\n",
    "    elif value == 'Women, Men':\n",
    "        return 'Unisex'\n",
    "    else:\n",
    "        return 'outros'\n",
    "\n",
    "df_new['Ideal For'] = df_new['Ideal For'].map(type_sex)\n",
    "\n",
    "df4 = pd.concat([df4, df_new], axis=1)\n",
    "\n",
    "## Tratando variaveis respostas nulas\n",
    "prices = df4[['seller','pid', 'actual_price']].groupby('pid').max().reset_index()\n",
    "\n",
    "precos_nulos = df4.loc[df4['actual_price'].isna(), ['_id','pid']]\n",
    "\n",
    "precos_recuperados = pd.merge(precos_nulos, prices, how = 'inner', on = 'pid')\n",
    "\n",
    "df4_aux = pd.merge(df4, precos_recuperados[['_id', 'actual_price']], on = '_id', how = 'left')\n",
    "df4['actual_price'] = df4_aux['actual_price_x'].fillna(0) + df4_aux['actual_price_y'].fillna(0)\n",
    "\n",
    "df4 = df4.dropna(subset=['actual_price'])"
   ]
  },
  {
=======
>>>>>>> a62dfdcd665d30f43610ae656c29a51b2dda2c3f
   "cell_type": "markdown",
   "id": "e7467521",
   "metadata": {},
   "source": [
    "# EDA"
   ]
  },
  {
   "cell_type": "code",
<<<<<<< HEAD
   "execution_count": 624,
   "id": "f8715db2",
   "metadata": {
    "ExecuteTime": {
     "end_time": "2023-10-22T15:18:26.346511Z",
     "start_time": "2023-10-22T15:18:26.304111Z"
    }
   },
=======
   "execution_count": 130,
   "id": "ad5b72c6",
   "metadata": {},
>>>>>>> a62dfdcd665d30f43610ae656c29a51b2dda2c3f
   "outputs": [],
   "source": [
    "# # Assigning a reference to a running D-Tale process\n",
    "# d = dtale.show(df4)\n",
    "\n",
    "# # Accessing data associated with D-Tale process\n",
    "# tmp = d.data.copy()\n",
    "# tmp['d'] = 4\n",
    "\n",
    "# # Altering data associated with D-Tale process\n",
    "# # FYI: this will clear any front-end settings you have at the time for this process (filter, sorts, formatting)\n",
    "# d.data = tmp\n",
    "\n",
    "# # Shutting down D-Tale process\n",
    "# #d.kill()\n",
    "\n",
    "# # using Python's `webbrowser` package it will try and open your server's default browser to this process\n",
    "# d.open_browser()\n",
    "\n",
    "# # There is also some helpful metadata about the process\n",
    "# d._data_id  # the process's data identifier\n",
    "# d._url  # the url to access the process\n",
    "\n",
    "# d2 = dtale.get_instance(d._data_id)  # returns a new reference to the instance running at that data_id\n",
    "\n",
    "# dtale.instances()  # prints a list of all ids & urls of running D-Tale sessions"
   ]
  },
  {
   "cell_type": "markdown",
   "id": "5140daa9",
   "metadata": {},
   "source": [
    "# Data Preparation"
   ]
  },
  {
   "cell_type": "code",
<<<<<<< HEAD
   "execution_count": 625,
   "id": "68f43f40",
   "metadata": {
    "ExecuteTime": {
     "end_time": "2023-10-22T15:18:26.393220Z",
     "start_time": "2023-10-22T15:18:26.353504Z"
    }
   },
   "outputs": [],
   "source": [
    "df6 = df5.copy()"
   ]
  },
  {
   "cell_type": "code",
   "execution_count": 626,
   "id": "7781dc92",
   "metadata": {
    "ExecuteTime": {
     "end_time": "2023-10-22T15:18:26.595142Z",
     "start_time": "2023-10-22T15:18:26.397261Z"
=======
   "execution_count": 131,
   "id": "68f43f40",
   "metadata": {
    "ExecuteTime": {
     "end_time": "2023-10-21T20:00:43.016240Z",
     "start_time": "2023-10-21T20:00:42.994053Z"
>>>>>>> a62dfdcd665d30f43610ae656c29a51b2dda2c3f
    }
   },
   "outputs": [
    {
     "data": {
      "text/plain": [
       "_id                       0\n",
       "average_rating            0\n",
       "number_of_reviews         0\n",
       "brand                     0\n",
       "category                  0\n",
       "crawled_at                0\n",
       "out_of_stock              0\n",
       "avg_delivery_time_days    0\n",
       "pid                       0\n",
       "product_details           0\n",
       "seller                    0\n",
       "sub_category              0\n",
       "fabrication_time          0\n",
       "title                     0\n",
       "actual_price              0\n",
       "Fabric                    0\n",
       "Pattern                   0\n",
       "Style Code                0\n",
       "Pack of                   0\n",
       "Type                      0\n",
       "Sleeve                    0\n",
       "Fit                       0\n",
       "Ideal For                 0\n",
       "Suitable For              0\n",
       "Reversible                0\n",
       "Fabric Care               0\n",
       "product                   0\n",
       "Fabric                    0\n",
       "Pattern                   0\n",
       "Style Code                0\n",
       "Pack of                   0\n",
       "Type                      0\n",
       "Sleeve                    0\n",
       "Fit                       0\n",
       "Ideal For                 0\n",
       "Suitable For              0\n",
       "Reversible                0\n",
       "Fabric Care               0\n",
       "dtype: int64"
      ]
     },
<<<<<<< HEAD
     "execution_count": 626,
=======
     "execution_count": 131,
>>>>>>> a62dfdcd665d30f43610ae656c29a51b2dda2c3f
     "metadata": {},
     "output_type": "execute_result"
    }
   ],
   "source": [
    "df5 = df4.copy()\n",
    "df5.isna().sum()"
   ]
  },
  {
   "cell_type": "markdown",
   "id": "dddaf50a",
   "metadata": {},
   "source": [
    "## Split Dataset"
   ]
  },
  {
   "cell_type": "code",
<<<<<<< HEAD
   "execution_count": 627,
   "id": "5d90c1cd",
   "metadata": {
    "ExecuteTime": {
     "end_time": "2023-10-22T15:18:26.750706Z",
     "start_time": "2023-10-22T15:18:26.601853Z"
=======
   "execution_count": 132,
   "id": "5d90c1cd",
   "metadata": {
    "ExecuteTime": {
     "end_time": "2023-10-21T20:00:43.186523Z",
     "start_time": "2023-10-21T20:00:43.112366Z"
>>>>>>> a62dfdcd665d30f43610ae656c29a51b2dda2c3f
    }
   },
   "outputs": [],
   "source": [
    "X = df5.drop(['_id','pid','actual_price'], axis=1)\n",
    "y = df5['actual_price']\n",
    "\n",
    "X_train, X_test, y_train, y_test = ms.train_test_split(X, y, test_size=0.20)\n",
    "data_train = pd.concat([X_train, y_train], axis=1)\n",
    "data_test = pd.concat([X_test, y_test], axis=1)"
   ]
  },
  {
   "cell_type": "markdown",
   "id": "492ffd74",
   "metadata": {},
   "source": [
    "## Rescalling"
   ]
  },
  {
   "cell_type": "code",
<<<<<<< HEAD
   "execution_count": 628,
   "id": "254a41af",
   "metadata": {
    "ExecuteTime": {
     "end_time": "2023-10-22T15:18:26.781060Z",
     "start_time": "2023-10-22T15:18:26.757265Z"
=======
   "execution_count": 133,
   "id": "bd81b72b",
   "metadata": {
    "ExecuteTime": {
     "end_time": "2023-10-21T20:00:43.202349Z",
     "start_time": "2023-10-21T20:00:43.192498Z"
>>>>>>> a62dfdcd665d30f43610ae656c29a51b2dda2c3f
    }
   },
   "outputs": [
    {
     "data": {
      "text/plain": [
       "Index(['average_rating', 'number_of_reviews', 'brand', 'category',\n",
       "       'crawled_at', 'out_of_stock', 'avg_delivery_time_days',\n",
       "       'product_details', 'seller', 'sub_category', 'fabrication_time',\n",
<<<<<<< HEAD
       "       'title', 'product', 'Fabric', 'Pattern', 'Style Code', 'Pack of',\n",
       "       'Type', 'Sleeve', 'Fit', 'Ideal For', 'Suitable For', 'Reversible',\n",
       "       'Fabric Care'],\n",
       "      dtype='object')"
      ]
     },
     "execution_count": 628,
=======
       "       'title', 'Fabric', 'Pattern', 'Style Code', 'Pack of', 'Type', 'Sleeve',\n",
       "       'Fit', 'Ideal For', 'Suitable For', 'Reversible', 'Fabric Care',\n",
       "       'product'],\n",
       "      dtype='object')"
      ]
     },
     "execution_count": 133,
>>>>>>> a62dfdcd665d30f43610ae656c29a51b2dda2c3f
     "metadata": {},
     "output_type": "execute_result"
    }
   ],
   "source": [
    "X_train.columns"
   ]
  },
  {
   "cell_type": "markdown",
   "id": "7b5d3e4d",
   "metadata": {},
   "source": [
    "### Min Max Scaler"
   ]
  },
  {
   "cell_type": "code",
<<<<<<< HEAD
   "execution_count": 629,
   "id": "3211520b",
   "metadata": {
    "ExecuteTime": {
     "end_time": "2023-10-22T15:18:26.827169Z",
     "start_time": "2023-10-22T15:18:26.787976Z"
    }
   },
   "outputs": [
    {
     "name": "stderr",
     "output_type": "stream",
     "text": [
      "2023-10-22 12:18:26,809 [32596] WARNING  py.warnings:109: [JupyterRequire] C:\\Users\\Notebook\\AppData\\Local\\Temp/ipykernel_32596/2287114027.py:3: SettingWithCopyWarning:\n",
      "\n",
      "\n",
      "A value is trying to be set on a copy of a slice from a DataFrame.\n",
      "Try using .loc[row_indexer,col_indexer] = value instead\n",
      "\n",
      "See the caveats in the documentation: https://pandas.pydata.org/pandas-docs/stable/user_guide/indexing.html#returning-a-view-versus-a-copy\n",
      "\n",
      "\n"
     ]
    }
   ],
=======
   "execution_count": 134,
   "id": "3211520b",
   "metadata": {
    "ExecuteTime": {
     "end_time": "2023-10-21T20:01:06.734287Z",
     "start_time": "2023-10-21T20:01:06.711573Z"
    }
   },
   "outputs": [],
>>>>>>> a62dfdcd665d30f43610ae656c29a51b2dda2c3f
   "source": [
    "# 'avg_delivery_time_days',\n",
    "mm = pp.MinMaxScaler()\n",
    "\n",
    "X_train['avg_delivery_time_days'] = mm.fit_transform(X_train[['avg_delivery_time_days']])\n",
    "pickle.dump(mm, open('parameters/mm_avg_delivery_time_days.pkl','wb'))\n"
   ]
  },
  {
   "cell_type": "markdown",
   "id": "325cece4",
   "metadata": {},
   "source": [
    "### Robust Scaler"
   ]
  },
  {
   "cell_type": "code",
<<<<<<< HEAD
   "execution_count": 630,
   "id": "2155c696",
   "metadata": {
    "ExecuteTime": {
     "end_time": "2023-10-22T15:18:26.888715Z",
     "start_time": "2023-10-22T15:18:26.831078Z"
    }
   },
   "outputs": [
    {
     "name": "stderr",
     "output_type": "stream",
     "text": [
      "2023-10-22 12:18:26,854 [32596] WARNING  py.warnings:109: [JupyterRequire] C:\\Users\\Notebook\\AppData\\Local\\Temp/ipykernel_32596/3765211346.py:4: SettingWithCopyWarning:\n",
      "\n",
      "\n",
      "A value is trying to be set on a copy of a slice from a DataFrame.\n",
      "Try using .loc[row_indexer,col_indexer] = value instead\n",
      "\n",
      "See the caveats in the documentation: https://pandas.pydata.org/pandas-docs/stable/user_guide/indexing.html#returning-a-view-versus-a-copy\n",
      "\n",
      "\n",
      "2023-10-22 12:18:26,871 [32596] WARNING  py.warnings:109: [JupyterRequire] C:\\Users\\Notebook\\AppData\\Local\\Temp/ipykernel_32596/3765211346.py:7: SettingWithCopyWarning:\n",
      "\n",
      "\n",
      "A value is trying to be set on a copy of a slice from a DataFrame.\n",
      "Try using .loc[row_indexer,col_indexer] = value instead\n",
      "\n",
      "See the caveats in the documentation: https://pandas.pydata.org/pandas-docs/stable/user_guide/indexing.html#returning-a-view-versus-a-copy\n",
      "\n",
      "\n"
     ]
    }
   ],
=======
   "execution_count": 135,
   "id": "2155c696",
   "metadata": {
    "ExecuteTime": {
     "end_time": "2023-10-21T20:01:14.566543Z",
     "start_time": "2023-10-21T20:01:14.514114Z"
    }
   },
   "outputs": [],
>>>>>>> a62dfdcd665d30f43610ae656c29a51b2dda2c3f
   "source": [
    "rs_average_rating = pp.RobustScaler()\n",
    "rs_number_of_reviews = pp.RobustScaler()\n",
    "\n",
    "X_train['average_rating'] = rs_average_rating.fit_transform(X_train[['average_rating']])\n",
    "pickle.dump(rs_average_rating, open('parameters/rs_average_rating.pkl','wb'))\n",
    "\n",
    "X_train['number_of_reviews'] = rs_number_of_reviews.fit_transform(X_train[['number_of_reviews']])\n",
    "pickle.dump(rs_number_of_reviews, open('parameters/rs_number_of_reviews.pkl','wb'))\n",
    "\n",
    "##### Fazer Robust Scaler da variável resposta (??) #####\n"
   ]
  },
  {
   "cell_type": "markdown",
   "id": "c0c59710",
   "metadata": {},
   "source": [
    "## Transformation"
   ]
  },
  {
   "cell_type": "code",
   "execution_count": 136,
   "id": "2e488887",
   "metadata": {},
   "outputs": [],
   "source": [
    "# Label encoder: Suitable For, Reversible, Ideal For, out_of_stock\n",
    "\n",
    "le_suitable = pp.LabelEncoder()\n",
    "le_reversible = pp.LabelEncoder()\n",
    "le_ideal = pp.LabelEncoder()\n",
    "le_out = pp.LabelEncoder()\n",
    "\n",
    "\n",
    "X_train['Suitable For'] = le_suitable.fit_transform(X_train['Suitable For'])\n",
    "pickle.dump(le_suitable, open('parameters/le_suitable.pkl', 'wb'))\n",
    "\n",
    "X_train['Reversible'] = le_reversible.fit_transform(X_train['Reversible'])\n",
    "pickle.dump(le_reversible, open('parameters/le_reversible.pkl', 'wb'))\n",
    "\n",
    "X_train['Ideal For'] = le_ideal.fit_transform(X_train['Ideal For'])\n",
    "pickle.dump(le_ideal, open('parameters/le_ideal.pkl', 'wb'))\n",
    "\n",
    "X_train['out_of_stock'] = le_out.fit_transform(X_train['out_of_stock'])\n",
    "pickle.dump(le_out, open('parameters/le_out.pkl', 'wb'))\n",
    "\n"
   ]
  },
  {
   "cell_type": "code",
<<<<<<< HEAD
   "execution_count": 631,
   "id": "5c34f589",
   "metadata": {
    "ExecuteTime": {
     "end_time": "2023-10-22T15:18:26.903880Z",
     "start_time": "2023-10-22T15:18:26.892220Z"
    }
   },
   "outputs": [],
   "source": [
    "# 'out_of_stock'"
   ]
  },
  {
   "cell_type": "markdown",
   "id": "c1f9429b",
   "metadata": {},
   "source": [
    "### Target Encode"
   ]
  },
  {
   "cell_type": "code",
   "execution_count": 632,
   "id": "094130c6",
   "metadata": {
    "ExecuteTime": {
     "end_time": "2023-10-22T15:18:26.919409Z",
     "start_time": "2023-10-22T15:18:26.907142Z"
    }
   },
=======
   "execution_count": 137,
   "id": "8bbdc7de",
   "metadata": {},
>>>>>>> a62dfdcd665d30f43610ae656c29a51b2dda2c3f
   "outputs": [],
   "source": [
    "# Instancie o codificador alvo para 'Style Code'\n",
    "encoder_style_code = ce.TargetEncoder()\n",
    "X_train['Style Code'] = encoder_style_code.fit_transform(X_train['Style Code'], y_train) \n",
    "pickle.dump(encoder_style_code, open('parameters/encoder_style_code.pkl', 'wb'))\n",
    "\n",
    "# Instancie o codificador alvo para 'Pack of'\n",
    "encoder_pack_of = ce.TargetEncoder()\n",
    "X_train['Pack of'] = encoder_pack_of.fit_transform(X_train['Pack of'], y_train) \n",
    "pickle.dump(encoder_pack_of, open('parameters/encoder_pack_of.pkl', 'wb'))\n",
    "\n"
   ]
  },
  {
   "cell_type": "markdown",
   "id": "527eaecc",
   "metadata": {},
   "source": [
    "### Frequency Encode"
   ]
  },
  {
   "cell_type": "code",
<<<<<<< HEAD
   "execution_count": 633,
   "id": "f1ce9035",
   "metadata": {
    "ExecuteTime": {
     "end_time": "2023-10-22T15:18:29.762180Z",
     "start_time": "2023-10-22T15:18:26.924672Z"
=======
   "execution_count": 138,
   "id": "f1ce9035",
   "metadata": {
    "ExecuteTime": {
     "end_time": "2023-10-21T20:01:28.697935Z",
     "start_time": "2023-10-21T20:01:28.252288Z"
>>>>>>> a62dfdcd665d30f43610ae656c29a51b2dda2c3f
    }
   },
   "outputs": [],
   "source": [
<<<<<<< HEAD
    "for att in ['brand', 'product', 'seller','Style Code','Pack of','Ideal For','Suitable For','Reversible']:\n",
=======
    "for att in ['brand', 'product', 'seller', 'category']:\n",
>>>>>>> a62dfdcd665d30f43610ae656c29a51b2dda2c3f
    "    fe =  ce.CountEncoder(cols=[att], normalize=True).fit(X_train)\n",
    "    pickle.dump(fe,open(f'parameters/fe_{att}.pkl', 'wb'))\n",
    "    X_train = fe.transform(X_train)"
   ]
  },
  {
   "cell_type": "markdown",
   "id": "c8b601c7",
   "metadata": {},
   "source": [
    "### Response Variable"
   ]
  },
  {
   "cell_type": "code",
<<<<<<< HEAD
   "execution_count": 634,
   "id": "cf5917e1",
   "metadata": {
    "ExecuteTime": {
     "end_time": "2023-10-22T15:18:29.777684Z",
     "start_time": "2023-10-22T15:18:29.765750Z"
=======
   "execution_count": 139,
   "id": "cf5917e1",
   "metadata": {
    "ExecuteTime": {
     "end_time": "2023-10-21T20:01:34.855624Z",
     "start_time": "2023-10-21T20:01:34.843795Z"
>>>>>>> a62dfdcd665d30f43610ae656c29a51b2dda2c3f
    }
   },
   "outputs": [],
   "source": [
    "# Tranformando a variável resposta em logaritmica\n",
    "\n",
    "y_train = np.log1p(y_train)"
   ]
  },
  {
   "cell_type": "markdown",
<<<<<<< HEAD
   "id": "3788f05a",
   "metadata": {},
   "source": [
    "## Test Preparation"
   ]
  },
  {
   "cell_type": "code",
   "execution_count": 635,
   "id": "c6c40a02",
   "metadata": {
    "ExecuteTime": {
     "end_time": "2023-10-22T15:18:30.085595Z",
     "start_time": "2023-10-22T15:18:29.786359Z"
    },
    "scrolled": true
   },
   "outputs": [
    {
     "name": "stderr",
     "output_type": "stream",
     "text": [
      "2023-10-22 12:18:29,810 [32596] WARNING  py.warnings:109: [JupyterRequire] C:\\Users\\Notebook\\AppData\\Local\\Temp/ipykernel_32596/257558416.py:12: SettingWithCopyWarning:\n",
      "\n",
      "\n",
      "A value is trying to be set on a copy of a slice from a DataFrame.\n",
      "Try using .loc[row_indexer,col_indexer] = value instead\n",
      "\n",
      "See the caveats in the documentation: https://pandas.pydata.org/pandas-docs/stable/user_guide/indexing.html#returning-a-view-versus-a-copy\n",
      "\n",
      "\n",
      "2023-10-22 12:18:29,828 [32596] WARNING  py.warnings:109: [JupyterRequire] C:\\Users\\Notebook\\AppData\\Local\\Temp/ipykernel_32596/257558416.py:16: SettingWithCopyWarning:\n",
      "\n",
      "\n",
      "A value is trying to be set on a copy of a slice from a DataFrame.\n",
      "Try using .loc[row_indexer,col_indexer] = value instead\n",
      "\n",
      "See the caveats in the documentation: https://pandas.pydata.org/pandas-docs/stable/user_guide/indexing.html#returning-a-view-versus-a-copy\n",
      "\n",
      "\n",
      "2023-10-22 12:18:29,844 [32596] WARNING  py.warnings:109: [JupyterRequire] C:\\Users\\Notebook\\AppData\\Local\\Temp/ipykernel_32596/257558416.py:20: SettingWithCopyWarning:\n",
      "\n",
      "\n",
      "A value is trying to be set on a copy of a slice from a DataFrame.\n",
      "Try using .loc[row_indexer,col_indexer] = value instead\n",
      "\n",
      "See the caveats in the documentation: https://pandas.pydata.org/pandas-docs/stable/user_guide/indexing.html#returning-a-view-versus-a-copy\n",
      "\n",
      "\n"
     ]
    }
   ],
   "source": [
    "X_test_mod, y_test_mod = test_preparation(X_test, y_test)"
   ]
  },
  {
   "cell_type": "markdown",
=======
>>>>>>> a62dfdcd665d30f43610ae656c29a51b2dda2c3f
   "id": "1d0cc108",
   "metadata": {},
   "source": [
    "# Feature Selection"
   ]
  },
  {
   "cell_type": "code",
<<<<<<< HEAD
   "execution_count": 636,
   "id": "3b98ad6a",
   "metadata": {
    "ExecuteTime": {
     "end_time": "2023-10-22T15:18:30.101967Z",
     "start_time": "2023-10-22T15:18:30.090394Z"
=======
   "execution_count": 140,
   "id": "3b98ad6a",
   "metadata": {
    "ExecuteTime": {
     "end_time": "2023-10-21T20:01:53.560109Z",
     "start_time": "2023-10-21T20:01:53.532222Z"
>>>>>>> a62dfdcd665d30f43610ae656c29a51b2dda2c3f
    }
   },
   "outputs": [
    {
     "data": {
      "text/plain": [
       "['average_rating',\n",
       " 'number_of_reviews',\n",
       " 'brand',\n",
       " 'category',\n",
       " 'crawled_at',\n",
       " 'out_of_stock',\n",
       " 'avg_delivery_time_days',\n",
       " 'product_details',\n",
       " 'seller',\n",
       " 'sub_category',\n",
       " 'fabrication_time',\n",
       " 'title',\n",
<<<<<<< HEAD
       " 'product',\n",
=======
>>>>>>> a62dfdcd665d30f43610ae656c29a51b2dda2c3f
       " 'Fabric',\n",
       " 'Pattern',\n",
       " 'Style Code',\n",
       " 'Pack of',\n",
       " 'Type',\n",
       " 'Sleeve',\n",
       " 'Fit',\n",
       " 'Ideal For',\n",
       " 'Suitable For',\n",
       " 'Reversible',\n",
<<<<<<< HEAD
       " 'Fabric Care']"
      ]
     },
     "execution_count": 636,
=======
       " 'Fabric Care',\n",
       " 'product']"
      ]
     },
     "execution_count": 140,
>>>>>>> a62dfdcd665d30f43610ae656c29a51b2dda2c3f
     "metadata": {},
     "output_type": "execute_result"
    }
   ],
   "source": [
    "X_train.columns.tolist()"
   ]
  },
  {
   "cell_type": "code",
<<<<<<< HEAD
   "execution_count": 637,
   "id": "a400968d",
   "metadata": {
    "ExecuteTime": {
     "end_time": "2023-10-22T15:18:30.133329Z",
     "start_time": "2023-10-22T15:18:30.106967Z"
    }
   },
   "outputs": [
    {
     "data": {
      "text/plain": [
       "('Style Code', 'Pack of', 'Ideal For', 'Suitable For', 'Reversible')"
      ]
     },
     "execution_count": 637,
     "metadata": {},
     "output_type": "execute_result"
    }
   ],
   "source": [
    "'Style Code','Pack of','Ideal For','Suitable For','Reversible',"
   ]
  },
  {
   "cell_type": "code",
   "execution_count": 638,
   "id": "cfd36892",
   "metadata": {
    "ExecuteTime": {
     "end_time": "2023-10-22T15:18:30.163161Z",
     "start_time": "2023-10-22T15:18:30.143370Z"
=======
   "execution_count": 141,
   "id": "cfd36892",
   "metadata": {
    "ExecuteTime": {
     "end_time": "2023-10-21T20:02:00.382421Z",
     "start_time": "2023-10-21T20:02:00.370492Z"
>>>>>>> a62dfdcd665d30f43610ae656c29a51b2dda2c3f
    }
   },
   "outputs": [],
   "source": [
<<<<<<< HEAD
    "features_selected = [\n",
    "'average_rating',\n",
    "# 'number_of_reviews',\n",
    "'brand',\n",
    "# 'category',\n",
    "# 'crawled_at',\n",
    "'out_of_stock',\n",
    "'avg_delivery_time_days',\n",
    "#  'product_details',\n",
    "'seller',\n",
=======
    "features_selected = ['average_rating',\n",
    " 'number_of_reviews',\n",
    " 'brand',\n",
    " # 'category',\n",
    " # 'crawled_at',\n",
    " 'out_of_stock',\n",
    " 'avg_delivery_time_days',\n",
    "#  'product_details',\n",
    " 'seller',\n",
>>>>>>> a62dfdcd665d30f43610ae656c29a51b2dda2c3f
    "#  'sub_category',\n",
    "#  'fabrication_time',\n",
    "#  'title',\n",
    "#  'Fabric',\n",
    "#  'Pattern',\n",
<<<<<<< HEAD
    "'Style Code',\n",
    "'Pack of',\n",
    "#  'Type',\n",
    "#  'Sleeve',\n",
    "#  'Fit',\n",
    "'Ideal For',\n",
    "'Suitable For',\n",
    "'Reversible',\n",
    "#  'Fabric Care',\n",
    "'product'\n",
    "]"
=======
    " 'Style Code',\n",
    " 'Pack of',\n",
    "#  'Type',\n",
    "#  'Sleeve',\n",
    "#  'Fit',\n",
    " 'Ideal For',\n",
    " 'Suitable For',\n",
    " 'Reversible',\n",
    "#  'Fabric Care',\n",
    " 'product']\n",
    "\n"
>>>>>>> a62dfdcd665d30f43610ae656c29a51b2dda2c3f
   ]
  },
  {
   "cell_type": "markdown",
   "id": "aacbd368",
   "metadata": {},
   "source": [
    "## Importancia das árvores"
   ]
  },
  {
   "cell_type": "code",
<<<<<<< HEAD
   "execution_count": 639,
   "id": "712f20ba",
   "metadata": {
    "ExecuteTime": {
     "end_time": "2023-10-22T15:18:30.724857Z",
     "start_time": "2023-10-22T15:18:30.170387Z"
=======
   "execution_count": 142,
   "id": "67f8ac65",
   "metadata": {
    "ExecuteTime": {
     "end_time": "2023-10-21T20:02:07.333306Z",
     "start_time": "2023-10-21T20:02:07.013110Z"
>>>>>>> a62dfdcd665d30f43610ae656c29a51b2dda2c3f
    }
   },
   "outputs": [
    {
     "name": "stdout",
     "output_type": "stream",
     "text": [
      "[LightGBM] [Warning] Found whitespace in feature_names, replace with underlines\n",
      "[LightGBM] [Info] Auto-choosing row-wise multi-threading, the overhead of testing was 0.001908 seconds.\n",
      "You can set `force_row_wise=true` to remove the overhead.\n",
      "And if memory is not enough, you can set `force_col_wise=true`.\n",
      "[LightGBM] [Info] Total Bins 609\n",
      "[LightGBM] [Info] Number of data points in the train set: 18647, number of used features: 12\n",
      "[LightGBM] [Info] Start training from score 6.155615\n",
      "Feature ranking\n",
      "                  feature  importance\n",
<<<<<<< HEAD
      "0          average_rating         750\n",
      "0                   brand         715\n",
      "0                  seller         537\n",
      "0              Style Code         281\n",
      "0                 product         245\n",
      "0                 Pack of         182\n",
      "0               Ideal For         116\n",
      "0              Reversible          89\n",
      "0            Suitable For          53\n",
      "0            out_of_stock          20\n",
      "0  avg_delivery_time_days          12\n"
=======
      "0              Style Code        1132\n",
      "0          average_rating         507\n",
      "0                   brand         422\n",
      "0                  seller         397\n",
      "0                 product         225\n",
      "0                 Pack of         136\n",
      "0            Suitable For          58\n",
      "0               Ideal For          57\n",
      "0              Reversible          50\n",
      "0  avg_delivery_time_days           9\n",
      "0            out_of_stock           7\n",
      "0       number_of_reviews           0\n"
>>>>>>> a62dfdcd665d30f43610ae656c29a51b2dda2c3f
     ]
    }
   ],
   "source": [
    "# Crie e treine o modelo LGBMClassifier\n",
    "lgb_model = LGBMRegressor(n_jobs=-1, random_state=42)\n",
    "X_train_sel = X_train[features_selected]\n",
    "lgb_model.fit(X_train_sel, y_train)\n",
    "\n",
    "# Obtenha as importâncias das características do modelo\n",
    "importances = lgb_model.feature_importances_\n",
    "\n",
    "# Ordene as características por importância decrescente\n",
    "indices = np.argsort(importances)[::-1]\n",
    "\n",
    "# Imprima o ranking das características\n",
    "print('Feature ranking')\n",
    "df = pd.DataFrame()\n",
    "\n",
    "for i, j in zip(X_train_sel.columns, importances):\n",
    "    aux = pd.DataFrame({'feature': i, 'importance': j}, index=[0])\n",
    "    df = pd.concat([df, aux], axis=0)\n",
    "\n",
    "print(df.sort_values('importance', ascending=False))"
   ]
  },
  {
   "cell_type": "code",
   "execution_count": 143,
   "id": "32de5db8",
   "metadata": {},
   "outputs": [
    {
     "data": {
      "text/html": [
       "<div>\n",
       "<style scoped>\n",
       "    .dataframe tbody tr th:only-of-type {\n",
       "        vertical-align: middle;\n",
       "    }\n",
       "\n",
       "    .dataframe tbody tr th {\n",
       "        vertical-align: top;\n",
       "    }\n",
       "\n",
       "    .dataframe thead th {\n",
       "        text-align: right;\n",
       "    }\n",
       "</style>\n",
       "<table border=\"1\" class=\"dataframe\">\n",
       "  <thead>\n",
       "    <tr style=\"text-align: right;\">\n",
       "      <th></th>\n",
       "      <th>average_rating</th>\n",
       "      <th>number_of_reviews</th>\n",
       "      <th>brand</th>\n",
       "      <th>out_of_stock</th>\n",
       "      <th>avg_delivery_time_days</th>\n",
       "      <th>seller</th>\n",
       "      <th>Style Code</th>\n",
       "      <th>Pack of</th>\n",
       "      <th>Ideal For</th>\n",
       "      <th>Suitable For</th>\n",
       "      <th>Reversible</th>\n",
       "      <th>product</th>\n",
       "    </tr>\n",
       "  </thead>\n",
       "  <tbody>\n",
       "    <tr>\n",
       "      <th>18392</th>\n",
       "      <td>-0.7</td>\n",
       "      <td>-0.750</td>\n",
       "      <td>0.004183</td>\n",
       "      <td>0</td>\n",
       "      <td>0.2500</td>\n",
       "      <td>0.004183</td>\n",
       "      <td>1229.973876</td>\n",
       "      <td>1188.749877</td>\n",
       "      <td>0</td>\n",
       "      <td>3</td>\n",
       "      <td>2</td>\n",
       "      <td>0.553762</td>\n",
       "    </tr>\n",
       "    <tr>\n",
       "      <th>3891</th>\n",
       "      <td>-1.0</td>\n",
       "      <td>-1.125</td>\n",
       "      <td>0.013836</td>\n",
       "      <td>0</td>\n",
       "      <td>0.1875</td>\n",
       "      <td>0.013836</td>\n",
       "      <td>1268.061407</td>\n",
       "      <td>1188.749877</td>\n",
       "      <td>0</td>\n",
       "      <td>3</td>\n",
       "      <td>0</td>\n",
       "      <td>0.553762</td>\n",
       "    </tr>\n",
       "    <tr>\n",
       "      <th>14179</th>\n",
       "      <td>-1.2</td>\n",
       "      <td>-1.250</td>\n",
       "      <td>0.031855</td>\n",
       "      <td>0</td>\n",
       "      <td>0.1250</td>\n",
       "      <td>0.029871</td>\n",
       "      <td>1242.984723</td>\n",
       "      <td>1188.749877</td>\n",
       "      <td>3</td>\n",
       "      <td>3</td>\n",
       "      <td>0</td>\n",
       "      <td>0.553762</td>\n",
       "    </tr>\n",
       "    <tr>\n",
       "      <th>12351</th>\n",
       "      <td>-0.3</td>\n",
       "      <td>-0.375</td>\n",
       "      <td>0.017161</td>\n",
       "      <td>0</td>\n",
       "      <td>0.3750</td>\n",
       "      <td>0.016678</td>\n",
       "      <td>1243.114832</td>\n",
       "      <td>1188.749877</td>\n",
       "      <td>0</td>\n",
       "      <td>3</td>\n",
       "      <td>2</td>\n",
       "      <td>0.553762</td>\n",
       "    </tr>\n",
       "    <tr>\n",
       "      <th>18252</th>\n",
       "      <td>0.3</td>\n",
       "      <td>0.250</td>\n",
       "      <td>0.005792</td>\n",
       "      <td>0</td>\n",
       "      <td>0.5625</td>\n",
       "      <td>0.002521</td>\n",
       "      <td>1269.006418</td>\n",
       "      <td>1188.749877</td>\n",
       "      <td>0</td>\n",
       "      <td>3</td>\n",
       "      <td>0</td>\n",
       "      <td>0.553762</td>\n",
       "    </tr>\n",
       "  </tbody>\n",
       "</table>\n",
       "</div>"
      ],
      "text/plain": [
       "       average_rating  number_of_reviews     brand  out_of_stock  \\\n",
       "18392            -0.7             -0.750  0.004183             0   \n",
       "3891             -1.0             -1.125  0.013836             0   \n",
       "14179            -1.2             -1.250  0.031855             0   \n",
       "12351            -0.3             -0.375  0.017161             0   \n",
       "18252             0.3              0.250  0.005792             0   \n",
       "\n",
       "       avg_delivery_time_days    seller   Style Code      Pack of  Ideal For  \\\n",
       "18392                  0.2500  0.004183  1229.973876  1188.749877          0   \n",
       "3891                   0.1875  0.013836  1268.061407  1188.749877          0   \n",
       "14179                  0.1250  0.029871  1242.984723  1188.749877          3   \n",
       "12351                  0.3750  0.016678  1243.114832  1188.749877          0   \n",
       "18252                  0.5625  0.002521  1269.006418  1188.749877          0   \n",
       "\n",
       "       Suitable For  Reversible   product  \n",
       "18392             3           2  0.553762  \n",
       "3891              3           0  0.553762  \n",
       "14179             3           0  0.553762  \n",
       "12351             3           2  0.553762  \n",
       "18252             3           0  0.553762  "
      ]
     },
     "execution_count": 143,
     "metadata": {},
     "output_type": "execute_result"
    }
   ],
   "source": [
    "X_train[features_selected].head()"
   ]
  },
  {
   "cell_type": "markdown",
   "id": "6da465a6",
   "metadata": {},
   "source": [
    "# Machine Learning"
   ]
  },
  {
   "cell_type": "markdown",
   "id": "fe93dfd7",
   "metadata": {},
   "source": [
    "#### Test Preparation"
   ]
  },
  {
   "cell_type": "code",
<<<<<<< HEAD
   "execution_count": 640,
   "id": "c0ef7c24",
   "metadata": {
    "ExecuteTime": {
     "end_time": "2023-10-22T15:18:30.756440Z",
     "start_time": "2023-10-22T15:18:30.727854Z"
=======
   "execution_count": 144,
   "id": "7d896712",
   "metadata": {},
   "outputs": [],
   "source": [
    "X_test_mod, y_test_mod = test_preparation(X_test, y_test)"
   ]
  },
  {
   "cell_type": "code",
   "execution_count": 152,
   "id": "4d9437aa",
   "metadata": {},
   "outputs": [
    {
     "data": {
      "text/html": [
       "<div>\n",
       "<style scoped>\n",
       "    .dataframe tbody tr th:only-of-type {\n",
       "        vertical-align: middle;\n",
       "    }\n",
       "\n",
       "    .dataframe tbody tr th {\n",
       "        vertical-align: top;\n",
       "    }\n",
       "\n",
       "    .dataframe thead th {\n",
       "        text-align: right;\n",
       "    }\n",
       "</style>\n",
       "<table border=\"1\" class=\"dataframe\">\n",
       "  <thead>\n",
       "    <tr style=\"text-align: right;\">\n",
       "      <th></th>\n",
       "      <th>average_rating</th>\n",
       "      <th>number_of_reviews</th>\n",
       "      <th>brand</th>\n",
       "      <th>out_of_stock</th>\n",
       "      <th>avg_delivery_time_days</th>\n",
       "      <th>seller</th>\n",
       "      <th>Style Code</th>\n",
       "      <th>Pack of</th>\n",
       "      <th>Ideal For</th>\n",
       "      <th>Suitable For</th>\n",
       "      <th>Reversible</th>\n",
       "      <th>product</th>\n",
       "    </tr>\n",
       "  </thead>\n",
       "  <tbody>\n",
       "    <tr>\n",
       "      <th>18392</th>\n",
       "      <td>-0.7</td>\n",
       "      <td>-0.750</td>\n",
       "      <td>0.004183</td>\n",
       "      <td>0</td>\n",
       "      <td>0.2500</td>\n",
       "      <td>0.004183</td>\n",
       "      <td>1229.973876</td>\n",
       "      <td>1188.749877</td>\n",
       "      <td>0</td>\n",
       "      <td>3</td>\n",
       "      <td>2</td>\n",
       "      <td>0.553762</td>\n",
       "    </tr>\n",
       "    <tr>\n",
       "      <th>3891</th>\n",
       "      <td>-1.0</td>\n",
       "      <td>-1.125</td>\n",
       "      <td>0.013836</td>\n",
       "      <td>0</td>\n",
       "      <td>0.1875</td>\n",
       "      <td>0.013836</td>\n",
       "      <td>1268.061407</td>\n",
       "      <td>1188.749877</td>\n",
       "      <td>0</td>\n",
       "      <td>3</td>\n",
       "      <td>0</td>\n",
       "      <td>0.553762</td>\n",
       "    </tr>\n",
       "    <tr>\n",
       "      <th>14179</th>\n",
       "      <td>-1.2</td>\n",
       "      <td>-1.250</td>\n",
       "      <td>0.031855</td>\n",
       "      <td>0</td>\n",
       "      <td>0.1250</td>\n",
       "      <td>0.029871</td>\n",
       "      <td>1242.984723</td>\n",
       "      <td>1188.749877</td>\n",
       "      <td>3</td>\n",
       "      <td>3</td>\n",
       "      <td>0</td>\n",
       "      <td>0.553762</td>\n",
       "    </tr>\n",
       "    <tr>\n",
       "      <th>12351</th>\n",
       "      <td>-0.3</td>\n",
       "      <td>-0.375</td>\n",
       "      <td>0.017161</td>\n",
       "      <td>0</td>\n",
       "      <td>0.3750</td>\n",
       "      <td>0.016678</td>\n",
       "      <td>1243.114832</td>\n",
       "      <td>1188.749877</td>\n",
       "      <td>0</td>\n",
       "      <td>3</td>\n",
       "      <td>2</td>\n",
       "      <td>0.553762</td>\n",
       "    </tr>\n",
       "    <tr>\n",
       "      <th>18252</th>\n",
       "      <td>0.3</td>\n",
       "      <td>0.250</td>\n",
       "      <td>0.005792</td>\n",
       "      <td>0</td>\n",
       "      <td>0.5625</td>\n",
       "      <td>0.002521</td>\n",
       "      <td>1269.006418</td>\n",
       "      <td>1188.749877</td>\n",
       "      <td>0</td>\n",
       "      <td>3</td>\n",
       "      <td>0</td>\n",
       "      <td>0.553762</td>\n",
       "    </tr>\n",
       "    <tr>\n",
       "      <th>...</th>\n",
       "      <td>...</td>\n",
       "      <td>...</td>\n",
       "      <td>...</td>\n",
       "      <td>...</td>\n",
       "      <td>...</td>\n",
       "      <td>...</td>\n",
       "      <td>...</td>\n",
       "      <td>...</td>\n",
       "      <td>...</td>\n",
       "      <td>...</td>\n",
       "      <td>...</td>\n",
       "      <td>...</td>\n",
       "    </tr>\n",
       "    <tr>\n",
       "      <th>15699</th>\n",
       "      <td>-3.7</td>\n",
       "      <td>-3.875</td>\n",
       "      <td>0.009170</td>\n",
       "      <td>1</td>\n",
       "      <td>0.0625</td>\n",
       "      <td>0.057972</td>\n",
       "      <td>1724.386078</td>\n",
       "      <td>1353.242229</td>\n",
       "      <td>0</td>\n",
       "      <td>3</td>\n",
       "      <td>0</td>\n",
       "      <td>0.127152</td>\n",
       "    </tr>\n",
       "    <tr>\n",
       "      <th>19034</th>\n",
       "      <td>-0.9</td>\n",
       "      <td>-1.000</td>\n",
       "      <td>0.008366</td>\n",
       "      <td>0</td>\n",
       "      <td>0.1875</td>\n",
       "      <td>0.006703</td>\n",
       "      <td>1503.201672</td>\n",
       "      <td>1188.749877</td>\n",
       "      <td>3</td>\n",
       "      <td>3</td>\n",
       "      <td>0</td>\n",
       "      <td>0.553762</td>\n",
       "    </tr>\n",
       "    <tr>\n",
       "      <th>6202</th>\n",
       "      <td>-3.7</td>\n",
       "      <td>-3.875</td>\n",
       "      <td>0.003808</td>\n",
       "      <td>0</td>\n",
       "      <td>0.0625</td>\n",
       "      <td>0.003808</td>\n",
       "      <td>1282.017265</td>\n",
       "      <td>1188.749877</td>\n",
       "      <td>0</td>\n",
       "      <td>3</td>\n",
       "      <td>2</td>\n",
       "      <td>0.553762</td>\n",
       "    </tr>\n",
       "    <tr>\n",
       "      <th>17094</th>\n",
       "      <td>0.8</td>\n",
       "      <td>0.750</td>\n",
       "      <td>0.002896</td>\n",
       "      <td>0</td>\n",
       "      <td>0.7500</td>\n",
       "      <td>0.002145</td>\n",
       "      <td>1242.984723</td>\n",
       "      <td>1188.749877</td>\n",
       "      <td>0</td>\n",
       "      <td>3</td>\n",
       "      <td>2</td>\n",
       "      <td>0.553762</td>\n",
       "    </tr>\n",
       "    <tr>\n",
       "      <th>12305</th>\n",
       "      <td>-0.9</td>\n",
       "      <td>-1.000</td>\n",
       "      <td>0.007776</td>\n",
       "      <td>0</td>\n",
       "      <td>0.1875</td>\n",
       "      <td>0.006703</td>\n",
       "      <td>1242.984723</td>\n",
       "      <td>1188.749877</td>\n",
       "      <td>0</td>\n",
       "      <td>3</td>\n",
       "      <td>0</td>\n",
       "      <td>0.553762</td>\n",
       "    </tr>\n",
       "  </tbody>\n",
       "</table>\n",
       "<p>18647 rows × 12 columns</p>\n",
       "</div>"
      ],
      "text/plain": [
       "       average_rating  number_of_reviews     brand  out_of_stock  \\\n",
       "18392            -0.7             -0.750  0.004183             0   \n",
       "3891             -1.0             -1.125  0.013836             0   \n",
       "14179            -1.2             -1.250  0.031855             0   \n",
       "12351            -0.3             -0.375  0.017161             0   \n",
       "18252             0.3              0.250  0.005792             0   \n",
       "...               ...                ...       ...           ...   \n",
       "15699            -3.7             -3.875  0.009170             1   \n",
       "19034            -0.9             -1.000  0.008366             0   \n",
       "6202             -3.7             -3.875  0.003808             0   \n",
       "17094             0.8              0.750  0.002896             0   \n",
       "12305            -0.9             -1.000  0.007776             0   \n",
       "\n",
       "       avg_delivery_time_days    seller   Style Code      Pack of  Ideal For  \\\n",
       "18392                  0.2500  0.004183  1229.973876  1188.749877          0   \n",
       "3891                   0.1875  0.013836  1268.061407  1188.749877          0   \n",
       "14179                  0.1250  0.029871  1242.984723  1188.749877          3   \n",
       "12351                  0.3750  0.016678  1243.114832  1188.749877          0   \n",
       "18252                  0.5625  0.002521  1269.006418  1188.749877          0   \n",
       "...                       ...       ...          ...          ...        ...   \n",
       "15699                  0.0625  0.057972  1724.386078  1353.242229          0   \n",
       "19034                  0.1875  0.006703  1503.201672  1188.749877          3   \n",
       "6202                   0.0625  0.003808  1282.017265  1188.749877          0   \n",
       "17094                  0.7500  0.002145  1242.984723  1188.749877          0   \n",
       "12305                  0.1875  0.006703  1242.984723  1188.749877          0   \n",
       "\n",
       "       Suitable For  Reversible   product  \n",
       "18392             3           2  0.553762  \n",
       "3891              3           0  0.553762  \n",
       "14179             3           0  0.553762  \n",
       "12351             3           2  0.553762  \n",
       "18252             3           0  0.553762  \n",
       "...             ...         ...       ...  \n",
       "15699             3           0  0.127152  \n",
       "19034             3           0  0.553762  \n",
       "6202              3           2  0.553762  \n",
       "17094             3           2  0.553762  \n",
       "12305             3           0  0.553762  \n",
       "\n",
       "[18647 rows x 12 columns]"
      ]
     },
     "execution_count": 152,
     "metadata": {},
     "output_type": "execute_result"
    }
   ],
   "source": [
    "X_train[features_selected]"
   ]
  },
  {
   "cell_type": "code",
   "execution_count": 151,
   "id": "6591ce31",
   "metadata": {},
   "outputs": [
    {
     "data": {
      "text/html": [
       "<div>\n",
       "<style scoped>\n",
       "    .dataframe tbody tr th:only-of-type {\n",
       "        vertical-align: middle;\n",
       "    }\n",
       "\n",
       "    .dataframe tbody tr th {\n",
       "        vertical-align: top;\n",
       "    }\n",
       "\n",
       "    .dataframe thead th {\n",
       "        text-align: right;\n",
       "    }\n",
       "</style>\n",
       "<table border=\"1\" class=\"dataframe\">\n",
       "  <thead>\n",
       "    <tr style=\"text-align: right;\">\n",
       "      <th></th>\n",
       "      <th>average_rating</th>\n",
       "      <th>number_of_reviews</th>\n",
       "      <th>brand</th>\n",
       "      <th>out_of_stock</th>\n",
       "      <th>avg_delivery_time_days</th>\n",
       "      <th>seller</th>\n",
       "      <th>Style Code</th>\n",
       "      <th>Pack of</th>\n",
       "      <th>Ideal For</th>\n",
       "      <th>Suitable For</th>\n",
       "      <th>Reversible</th>\n",
       "      <th>product</th>\n",
       "    </tr>\n",
       "  </thead>\n",
       "  <tbody>\n",
       "    <tr>\n",
       "      <th>17231</th>\n",
       "      <td>0.2</td>\n",
       "      <td>0.125</td>\n",
       "      <td>0.021719</td>\n",
       "      <td>0</td>\n",
       "      <td>0.5000</td>\n",
       "      <td>0.021719</td>\n",
       "      <td>1279.477181</td>\n",
       "      <td>1188.749877</td>\n",
       "      <td>0</td>\n",
       "      <td>3</td>\n",
       "      <td>0</td>\n",
       "      <td>0.553762</td>\n",
       "    </tr>\n",
       "    <tr>\n",
       "      <th>4605</th>\n",
       "      <td>0.3</td>\n",
       "      <td>0.250</td>\n",
       "      <td>0.006114</td>\n",
       "      <td>0</td>\n",
       "      <td>0.5625</td>\n",
       "      <td>0.006060</td>\n",
       "      <td>1279.477181</td>\n",
       "      <td>1353.242229</td>\n",
       "      <td>3</td>\n",
       "      <td>4</td>\n",
       "      <td>2</td>\n",
       "      <td>0.127152</td>\n",
       "    </tr>\n",
       "    <tr>\n",
       "      <th>14651</th>\n",
       "      <td>0.2</td>\n",
       "      <td>0.125</td>\n",
       "      <td>0.027511</td>\n",
       "      <td>0</td>\n",
       "      <td>0.5000</td>\n",
       "      <td>0.027082</td>\n",
       "      <td>1190.941333</td>\n",
       "      <td>1188.749877</td>\n",
       "      <td>0</td>\n",
       "      <td>3</td>\n",
       "      <td>2</td>\n",
       "      <td>0.553762</td>\n",
       "    </tr>\n",
       "    <tr>\n",
       "      <th>15296</th>\n",
       "      <td>0.2</td>\n",
       "      <td>0.125</td>\n",
       "      <td>0.002467</td>\n",
       "      <td>0</td>\n",
       "      <td>0.5000</td>\n",
       "      <td>0.002413</td>\n",
       "      <td>1210.068432</td>\n",
       "      <td>1188.749877</td>\n",
       "      <td>0</td>\n",
       "      <td>3</td>\n",
       "      <td>0</td>\n",
       "      <td>0.553762</td>\n",
       "    </tr>\n",
       "    <tr>\n",
       "      <th>23158</th>\n",
       "      <td>-0.1</td>\n",
       "      <td>-0.125</td>\n",
       "      <td>0.036038</td>\n",
       "      <td>0</td>\n",
       "      <td>0.4375</td>\n",
       "      <td>0.015391</td>\n",
       "      <td>1279.477181</td>\n",
       "      <td>1188.749877</td>\n",
       "      <td>0</td>\n",
       "      <td>3</td>\n",
       "      <td>0</td>\n",
       "      <td>0.093205</td>\n",
       "    </tr>\n",
       "    <tr>\n",
       "      <th>...</th>\n",
       "      <td>...</td>\n",
       "      <td>...</td>\n",
       "      <td>...</td>\n",
       "      <td>...</td>\n",
       "      <td>...</td>\n",
       "      <td>...</td>\n",
       "      <td>...</td>\n",
       "      <td>...</td>\n",
       "      <td>...</td>\n",
       "      <td>...</td>\n",
       "      <td>...</td>\n",
       "      <td>...</td>\n",
       "    </tr>\n",
       "    <tr>\n",
       "      <th>17710</th>\n",
       "      <td>0.8</td>\n",
       "      <td>0.750</td>\n",
       "      <td>0.014587</td>\n",
       "      <td>0</td>\n",
       "      <td>0.7500</td>\n",
       "      <td>0.014640</td>\n",
       "      <td>1279.477181</td>\n",
       "      <td>1353.242229</td>\n",
       "      <td>3</td>\n",
       "      <td>4</td>\n",
       "      <td>2</td>\n",
       "      <td>0.059688</td>\n",
       "    </tr>\n",
       "    <tr>\n",
       "      <th>7684</th>\n",
       "      <td>0.5</td>\n",
       "      <td>0.500</td>\n",
       "      <td>0.033732</td>\n",
       "      <td>0</td>\n",
       "      <td>0.6250</td>\n",
       "      <td>0.055130</td>\n",
       "      <td>1279.477181</td>\n",
       "      <td>1353.242229</td>\n",
       "      <td>3</td>\n",
       "      <td>4</td>\n",
       "      <td>2</td>\n",
       "      <td>0.127152</td>\n",
       "    </tr>\n",
       "    <tr>\n",
       "      <th>22683</th>\n",
       "      <td>-0.1</td>\n",
       "      <td>-0.125</td>\n",
       "      <td>0.012495</td>\n",
       "      <td>0</td>\n",
       "      <td>0.4375</td>\n",
       "      <td>0.012495</td>\n",
       "      <td>1279.477181</td>\n",
       "      <td>1656.440327</td>\n",
       "      <td>0</td>\n",
       "      <td>3</td>\n",
       "      <td>0</td>\n",
       "      <td>0.553762</td>\n",
       "    </tr>\n",
       "    <tr>\n",
       "      <th>2160</th>\n",
       "      <td>-1.5</td>\n",
       "      <td>-1.625</td>\n",
       "      <td>0.008956</td>\n",
       "      <td>0</td>\n",
       "      <td>0.0625</td>\n",
       "      <td>0.002306</td>\n",
       "      <td>1279.477181</td>\n",
       "      <td>1188.749877</td>\n",
       "      <td>3</td>\n",
       "      <td>3</td>\n",
       "      <td>0</td>\n",
       "      <td>0.553762</td>\n",
       "    </tr>\n",
       "    <tr>\n",
       "      <th>8606</th>\n",
       "      <td>0.4</td>\n",
       "      <td>0.375</td>\n",
       "      <td>0.008527</td>\n",
       "      <td>0</td>\n",
       "      <td>0.6250</td>\n",
       "      <td>0.007722</td>\n",
       "      <td>1279.477181</td>\n",
       "      <td>1587.176887</td>\n",
       "      <td>0</td>\n",
       "      <td>3</td>\n",
       "      <td>0</td>\n",
       "      <td>0.553762</td>\n",
       "    </tr>\n",
       "  </tbody>\n",
       "</table>\n",
       "<p>4662 rows × 12 columns</p>\n",
       "</div>"
      ],
      "text/plain": [
       "       average_rating  number_of_reviews     brand  out_of_stock  \\\n",
       "17231             0.2              0.125  0.021719             0   \n",
       "4605              0.3              0.250  0.006114             0   \n",
       "14651             0.2              0.125  0.027511             0   \n",
       "15296             0.2              0.125  0.002467             0   \n",
       "23158            -0.1             -0.125  0.036038             0   \n",
       "...               ...                ...       ...           ...   \n",
       "17710             0.8              0.750  0.014587             0   \n",
       "7684              0.5              0.500  0.033732             0   \n",
       "22683            -0.1             -0.125  0.012495             0   \n",
       "2160             -1.5             -1.625  0.008956             0   \n",
       "8606              0.4              0.375  0.008527             0   \n",
       "\n",
       "       avg_delivery_time_days    seller   Style Code      Pack of  Ideal For  \\\n",
       "17231                  0.5000  0.021719  1279.477181  1188.749877          0   \n",
       "4605                   0.5625  0.006060  1279.477181  1353.242229          3   \n",
       "14651                  0.5000  0.027082  1190.941333  1188.749877          0   \n",
       "15296                  0.5000  0.002413  1210.068432  1188.749877          0   \n",
       "23158                  0.4375  0.015391  1279.477181  1188.749877          0   \n",
       "...                       ...       ...          ...          ...        ...   \n",
       "17710                  0.7500  0.014640  1279.477181  1353.242229          3   \n",
       "7684                   0.6250  0.055130  1279.477181  1353.242229          3   \n",
       "22683                  0.4375  0.012495  1279.477181  1656.440327          0   \n",
       "2160                   0.0625  0.002306  1279.477181  1188.749877          3   \n",
       "8606                   0.6250  0.007722  1279.477181  1587.176887          0   \n",
       "\n",
       "       Suitable For  Reversible   product  \n",
       "17231             3           0  0.553762  \n",
       "4605              4           2  0.127152  \n",
       "14651             3           2  0.553762  \n",
       "15296             3           0  0.553762  \n",
       "23158             3           0  0.093205  \n",
       "...             ...         ...       ...  \n",
       "17710             4           2  0.059688  \n",
       "7684              4           2  0.127152  \n",
       "22683             3           0  0.553762  \n",
       "2160              3           0  0.553762  \n",
       "8606              3           0  0.553762  \n",
       "\n",
       "[4662 rows x 12 columns]"
      ]
     },
     "execution_count": 151,
     "metadata": {},
     "output_type": "execute_result"
    }
   ],
   "source": [
    "X_test_mod[features_selected]"
   ]
  },
  {
   "cell_type": "code",
   "execution_count": 146,
   "id": "6b5bba4e",
   "metadata": {
    "ExecuteTime": {
     "end_time": "2023-10-21T20:04:00.738912Z",
     "start_time": "2023-10-21T20:04:00.706395Z"
>>>>>>> a62dfdcd665d30f43610ae656c29a51b2dda2c3f
    }
   },
   "outputs": [],
   "source": [
    "def MachineLearning(X_train, y_train, X_test, y_test, features_selected):\n",
    "    SEED = 42\n",
    "\n",
    "    lista_de_medidas = ['SMAPE']\n",
    "    nome_das_medidas = ['SMAPE']\n",
    "\n",
    "    lista_de_modelos = [XGBRegressor(learning_rate=0.1, n_estimators=100, max_depth=3),\n",
    "                        SGDRegressor(random_state=SEED), \n",
    "                        LGBMRegressor(random_state=SEED, n_jobs=-1, force_row_wise=True, ),\n",
    "                        DecisionTreeRegressor(random_state=SEED),\n",
    "                        KNeighborsRegressor(n_neighbors=5,  weights='distance',n_jobs=-1),\n",
    "                        BaggingRegressor(),\n",
    "                        RandomForestRegressor(random_state=SEED)]\n",
    "\n",
    "    nome_dos_modelos = ['XGBoost', \n",
    "                        'SGD', \n",
    "                        'LGBM', \n",
    "                        'DecisionTree',\n",
    "                        'KNN',\n",
    "                        'Bagging',\n",
    "                        'RandomForest']\n",
    "\n",
    "    resultados0 = {}\n",
    "    \n",
    "    X_train_selected = X_train[features_selected]\n",
    "    X_test_selected = X_test[features_selected]\n",
    "\n",
    "\n",
    "    for i in range(len(lista_de_modelos)):\n",
    "        print('Rodando modelo: ' + nome_dos_modelos[i])\n",
    "        \n",
    "        model = lista_de_modelos[i]\n",
    "        \n",
    "        model.fit(X_train_selected, y_train)\n",
    "        \n",
    "        y_pred = model.predict(X_test_selected)\n",
    "        \n",
    "        smape = 100 / len(y_test) * np.sum(2 * np.abs(np.expm1(y_pred) - np.expm1(y_test)) / (np.abs(np.expm1(y_test)) + np.abs(np.expm1(y_pred))))\n",
    "        # Calculo meigarom: 100 / len(y_test) * np.sum(2 * np.abs(y_pred - y_test) / (np.abs(y_test) + np.abs(y_pred)))\n",
    "\n",
    "        resultados0[nome_dos_modelos[i]] = [smape]\n",
    "    \n",
    "    resultados = pd.DataFrame(resultados0, index = nome_das_medidas).T\n",
    "\n",
    "    return resultados"
   ]
  },
  {
   "cell_type": "code",
<<<<<<< HEAD
   "execution_count": 641,
   "id": "3b963159",
   "metadata": {
    "ExecuteTime": {
     "end_time": "2023-10-22T15:18:42.969941Z",
     "start_time": "2023-10-22T15:18:30.761971Z"
    }
   },
=======
   "execution_count": 147,
   "id": "26ccec43",
   "metadata": {},
>>>>>>> a62dfdcd665d30f43610ae656c29a51b2dda2c3f
   "outputs": [
    {
     "name": "stdout",
     "output_type": "stream",
     "text": [
      "Rodando modelo: XGBoost\n",
      "Rodando modelo: SGD\n"
     ]
    },
    {
     "name": "stdout",
     "output_type": "stream",
     "text": [
      "Rodando modelo: LGBM\n",
      "[LightGBM] [Warning] Found whitespace in feature_names, replace with underlines\n",
      "[LightGBM] [Info] Total Bins 609\n",
      "[LightGBM] [Info] Number of data points in the train set: 18647, number of used features: 12\n",
      "[LightGBM] [Info] Start training from score 6.155615\n",
      "Rodando modelo: DecisionTree\n",
      "Rodando modelo: KNN\n",
      "Rodando modelo: Bagging\n",
      "Rodando modelo: RandomForest\n"
     ]
    },
    {
     "data": {
      "text/html": [
       "<div>\n",
       "<style scoped>\n",
       "    .dataframe tbody tr th:only-of-type {\n",
       "        vertical-align: middle;\n",
       "    }\n",
       "\n",
       "    .dataframe tbody tr th {\n",
       "        vertical-align: top;\n",
       "    }\n",
       "\n",
       "    .dataframe thead th {\n",
       "        text-align: right;\n",
       "    }\n",
       "</style>\n",
       "<table border=\"1\" class=\"dataframe\">\n",
       "  <thead>\n",
       "    <tr style=\"text-align: right;\">\n",
       "      <th></th>\n",
       "      <th>SMAPE</th>\n",
       "    </tr>\n",
       "  </thead>\n",
       "  <tbody>\n",
       "    <tr>\n",
       "      <th>XGBoost</th>\n",
<<<<<<< HEAD
       "      <td>42.098601</td>\n",
       "    </tr>\n",
       "    <tr>\n",
       "      <th>SGD</th>\n",
       "      <td>43.443718</td>\n",
       "    </tr>\n",
       "    <tr>\n",
       "      <th>LGBM</th>\n",
       "      <td>42.794034</td>\n",
       "    </tr>\n",
       "    <tr>\n",
       "      <th>DecisionTree</th>\n",
       "      <td>45.990865</td>\n",
       "    </tr>\n",
       "    <tr>\n",
       "      <th>KNN</th>\n",
       "      <td>46.542386</td>\n",
       "    </tr>\n",
       "    <tr>\n",
       "      <th>Bagging</th>\n",
       "      <td>44.267168</td>\n",
       "    </tr>\n",
       "    <tr>\n",
       "      <th>RandomForest</th>\n",
       "      <td>43.572691</td>\n",
=======
       "      <td>69.138286</td>\n",
       "    </tr>\n",
       "    <tr>\n",
       "      <th>SGD</th>\n",
       "      <td>200.000000</td>\n",
       "    </tr>\n",
       "    <tr>\n",
       "      <th>LGBM</th>\n",
       "      <td>70.303567</td>\n",
       "    </tr>\n",
       "    <tr>\n",
       "      <th>DecisionTree</th>\n",
       "      <td>71.082815</td>\n",
       "    </tr>\n",
       "    <tr>\n",
       "      <th>KNN</th>\n",
       "      <td>69.069873</td>\n",
       "    </tr>\n",
       "    <tr>\n",
       "      <th>Bagging</th>\n",
       "      <td>88.117189</td>\n",
       "    </tr>\n",
       "    <tr>\n",
       "      <th>RandomForest</th>\n",
       "      <td>88.040976</td>\n",
>>>>>>> a62dfdcd665d30f43610ae656c29a51b2dda2c3f
       "    </tr>\n",
       "  </tbody>\n",
       "</table>\n",
       "</div>"
      ],
      "text/plain": [
<<<<<<< HEAD
       "                  SMAPE\n",
       "XGBoost       42.098601\n",
       "SGD           43.443718\n",
       "LGBM          42.794034\n",
       "DecisionTree  45.990865\n",
       "KNN           46.542386\n",
       "Bagging       44.267168\n",
       "RandomForest  43.572691"
      ]
     },
     "execution_count": 641,
=======
       "                   SMAPE\n",
       "XGBoost        69.138286\n",
       "SGD           200.000000\n",
       "LGBM           70.303567\n",
       "DecisionTree   71.082815\n",
       "KNN            69.069873\n",
       "Bagging        88.117189\n",
       "RandomForest   88.040976"
      ]
     },
     "execution_count": 147,
>>>>>>> a62dfdcd665d30f43610ae656c29a51b2dda2c3f
     "metadata": {},
     "output_type": "execute_result"
    }
   ],
   "source": [
    "MachineLearning(X_train, y_train, X_test_mod, y_test_mod, features_selected)"
   ]
  },
  {
   "cell_type": "markdown",
   "id": "f5a71e16",
   "metadata": {},
   "source": [
    "# Fine Tuning"
   ]
  },
  {
   "cell_type": "code",
<<<<<<< HEAD
   "execution_count": 583,
   "id": "1d015085",
   "metadata": {
    "ExecuteTime": {
     "end_time": "2023-10-22T15:13:02.293106Z",
     "start_time": "2023-10-22T15:13:02.272991Z"
=======
   "execution_count": 148,
   "id": "75033930",
   "metadata": {
    "ExecuteTime": {
     "end_time": "2023-10-21T20:04:48.606967Z",
     "start_time": "2023-10-21T20:04:48.175525Z"
>>>>>>> a62dfdcd665d30f43610ae656c29a51b2dda2c3f
    }
   },
   "outputs": [],
   "source": [
<<<<<<< HEAD
    "# def objective_cv(trial):  \n",
    "    \n",
    "#     n_estimators = trial.suggest_int('n_estimators',20, 100)\n",
    "#     eta = trial.suggest_float('eta',0.01, 0.05)\n",
    "#     max_depth = trial.suggest_int('max_depth', 3, 9)\n",
    "#     subsample = trial.suggest_float('subsample',0.1, 0.9)\n",
    "#     colsample_bytree = trial.suggest_float('colsample_bytree',0.1,0.9)\n",
    "\n",
    "#     # model definition\n",
    "#     xgb_model = XGBRegressor( n_estimators    = n_estimators, \n",
    "#                               eta              = eta, \n",
    "#                               max_depth        = max_depth, \n",
    "#                               subsample        = subsample,\n",
    "#                               colsample_bytree = colsample_bytree\n",
    "#                              )\n",
    "    \n",
    "#     xgb_model.fit(X_train[features_selected], y_train)\n",
    "    \n",
    "#     # Model Prediction \n",
    "#     y_pred = xgb_model.predict(X_test_mod[features_selected])\n",
    "\n",
    "#     # calculando rmse\n",
    "#     smape = 100 / len(y_test_mod) * np.sum(2 * np.abs(np.expm1(y_pred) - np.expm1(y_test_mod)) / (np.abs(np.expm1(y_test_mod)) + np.abs(np.expm1(y_pred))))\n",
    "\n",
    "#     return smape"
   ]
  },
  {
   "cell_type": "code",
   "execution_count": 584,
   "id": "d4a6f9f5",
   "metadata": {
    "ExecuteTime": {
     "end_time": "2023-10-22T15:14:11.945528Z",
     "start_time": "2023-10-22T15:13:02.301114Z"
    }
   },
   "outputs": [
    {
     "name": "stderr",
     "output_type": "stream",
     "text": [
      "[I 2023-10-22 12:13:02,310] A new study created in memory with name: no-name-b446f611-3929-4a5a-ae79-792fa10aaecf\n",
      "[I 2023-10-22 12:13:03,632] Trial 0 finished with value: 92.20713033879997 and parameters: {'n_estimators': 99, 'eta': 0.01859040444788452, 'max_depth': 6, 'subsample': 0.790123784953477, 'colsample_bytree': 0.2692136148922196}. Best is trial 0 with value: 92.20713033879997.\n",
      "[I 2023-10-22 12:13:05,308] Trial 1 finished with value: 51.972385113135196 and parameters: {'n_estimators': 67, 'eta': 0.03878872959436273, 'max_depth': 4, 'subsample': 0.13244512083963694, 'colsample_bytree': 0.8932924532840313}. Best is trial 1 with value: 51.972385113135196.\n",
      "[I 2023-10-22 12:13:06,190] Trial 2 finished with value: 72.88257113401903 and parameters: {'n_estimators': 43, 'eta': 0.04878155245402561, 'max_depth': 6, 'subsample': 0.2071016730158456, 'colsample_bytree': 0.849612828100148}. Best is trial 1 with value: 51.972385113135196.\n",
      "[I 2023-10-22 12:13:06,517] Trial 3 finished with value: 197.69235714551638 and parameters: {'n_estimators': 26, 'eta': 0.010010078250914463, 'max_depth': 9, 'subsample': 0.13134073917562894, 'colsample_bytree': 0.3512553200379347}. Best is trial 1 with value: 51.972385113135196.\n",
      "[I 2023-10-22 12:13:07,819] Trial 4 finished with value: 97.29064485675453 and parameters: {'n_estimators': 100, 'eta': 0.017764034874040373, 'max_depth': 3, 'subsample': 0.2990783509418403, 'colsample_bytree': 0.5400581206928717}. Best is trial 1 with value: 51.972385113135196.\n",
      "[I 2023-10-22 12:13:08,359] Trial 5 finished with value: 114.79812549598559 and parameters: {'n_estimators': 77, 'eta': 0.02037666251594981, 'max_depth': 6, 'subsample': 0.3379654261701007, 'colsample_bytree': 0.11216136734528917}. Best is trial 1 with value: 51.972385113135196.\n",
      "[I 2023-10-22 12:13:10,482] Trial 6 finished with value: 39.31414261478797 and parameters: {'n_estimators': 95, 'eta': 0.0390663536745, 'max_depth': 3, 'subsample': 0.16038249284519435, 'colsample_bytree': 0.8421353394505153}. Best is trial 6 with value: 39.31414261478797.\n",
      "[I 2023-10-22 12:13:10,973] Trial 7 finished with value: 137.4442257435823 and parameters: {'n_estimators': 65, 'eta': 0.02030279803761744, 'max_depth': 4, 'subsample': 0.6877191839579527, 'colsample_bytree': 0.2786243255934312}. Best is trial 6 with value: 39.31414261478797.\n",
      "[I 2023-10-22 12:13:11,253] Trial 8 finished with value: 174.83827566562317 and parameters: {'n_estimators': 20, 'eta': 0.04262338766614573, 'max_depth': 5, 'subsample': 0.24707906329686244, 'colsample_bytree': 0.18329080454643265}. Best is trial 6 with value: 39.31414261478797.\n",
      "[I 2023-10-22 12:13:13,275] Trial 9 finished with value: 54.19340925620508 and parameters: {'n_estimators': 87, 'eta': 0.029138108976599138, 'max_depth': 8, 'subsample': 0.6436010936007592, 'colsample_bytree': 0.6626345782048217}. Best is trial 6 with value: 39.31414261478797.\n",
      "[I 2023-10-22 12:13:13,797] Trial 10 finished with value: 105.10181277226988 and parameters: {'n_estimators': 49, 'eta': 0.034056282099927095, 'max_depth': 3, 'subsample': 0.4364928712188086, 'colsample_bytree': 0.7162030062369874}. Best is trial 6 with value: 39.31414261478797.\n",
      "[I 2023-10-22 12:13:14,559] Trial 11 finished with value: 44.04277036205261 and parameters: {'n_estimators': 76, 'eta': 0.039491295441555, 'max_depth': 4, 'subsample': 0.11177340140794892, 'colsample_bytree': 0.8940276655937075}. Best is trial 6 with value: 39.31414261478797.\n",
      "[I 2023-10-22 12:13:15,998] Trial 12 finished with value: 39.454516151444864 and parameters: {'n_estimators': 84, 'eta': 0.042855554405954586, 'max_depth': 4, 'subsample': 0.3740605945756079, 'colsample_bytree': 0.7886316556240199}. Best is trial 6 with value: 39.31414261478797.\n",
      "[I 2023-10-22 12:13:17,210] Trial 13 finished with value: 38.50661128854651 and parameters: {'n_estimators': 89, 'eta': 0.04898534135795038, 'max_depth': 3, 'subsample': 0.4123136295612617, 'colsample_bytree': 0.7442078573854009}. Best is trial 13 with value: 38.50661128854651.\n",
      "[I 2023-10-22 12:13:20,576] Trial 14 finished with value: 38.692337733203054 and parameters: {'n_estimators': 89, 'eta': 0.04838798290880856, 'max_depth': 3, 'subsample': 0.5039484570453041, 'colsample_bytree': 0.6577024505371664}. Best is trial 13 with value: 38.50661128854651.\n",
      "[I 2023-10-22 12:13:21,584] Trial 15 finished with value: 46.8191088955402 and parameters: {'n_estimators': 56, 'eta': 0.04998243422613692, 'max_depth': 5, 'subsample': 0.5315045444811235, 'colsample_bytree': 0.5891810203964674}. Best is trial 13 with value: 38.50661128854651.\n",
      "[I 2023-10-22 12:13:24,511] Trial 16 finished with value: 38.652716693095186 and parameters: {'n_estimators': 87, 'eta': 0.04652963871352894, 'max_depth': 8, 'subsample': 0.47560315267588293, 'colsample_bytree': 0.47507150261721576}. Best is trial 13 with value: 38.50661128854651.\n",
      "[I 2023-10-22 12:13:25,686] Trial 17 finished with value: 39.945478666465576 and parameters: {'n_estimators': 76, 'eta': 0.04541062722217063, 'max_depth': 7, 'subsample': 0.41379574919328055, 'colsample_bytree': 0.4933974160634604}. Best is trial 13 with value: 38.50661128854651.\n",
      "[I 2023-10-22 12:13:27,330] Trial 18 finished with value: 39.16357267697227 and parameters: {'n_estimators': 82, 'eta': 0.0451023200535191, 'max_depth': 9, 'subsample': 0.5446696221431211, 'colsample_bytree': 0.4430548080091395}. Best is trial 13 with value: 38.50661128854651.\n",
      "[I 2023-10-22 12:13:28,278] Trial 19 finished with value: 39.94301505779568 and parameters: {'n_estimators': 69, 'eta': 0.0496944655493607, 'max_depth': 8, 'subsample': 0.4464369240439255, 'colsample_bytree': 0.40545050663198356}. Best is trial 13 with value: 38.50661128854651.\n",
      "[I 2023-10-22 12:13:31,074] Trial 20 finished with value: 42.24985775684843 and parameters: {'n_estimators': 92, 'eta': 0.034153707396465414, 'max_depth': 8, 'subsample': 0.33129619094527085, 'colsample_bytree': 0.5950017737586911}. Best is trial 13 with value: 38.50661128854651.\n",
      "[I 2023-10-22 12:13:32,514] Trial 21 finished with value: 38.6548651718139 and parameters: {'n_estimators': 90, 'eta': 0.04644051802612585, 'max_depth': 5, 'subsample': 0.5216699980609067, 'colsample_bytree': 0.7114730377696385}. Best is trial 13 with value: 38.50661128854651.\n",
      "[I 2023-10-22 12:13:34,272] Trial 22 finished with value: 38.72059697945475 and parameters: {'n_estimators': 92, 'eta': 0.04543804152533954, 'max_depth': 7, 'subsample': 0.5680971767882402, 'colsample_bytree': 0.7532407203173748}. Best is trial 13 with value: 38.50661128854651.\n",
      "[I 2023-10-22 12:13:35,510] Trial 23 finished with value: 39.057966422418595 and parameters: {'n_estimators': 81, 'eta': 0.04642140448258607, 'max_depth': 5, 'subsample': 0.4650245770706678, 'colsample_bytree': 0.6850805523190878}. Best is trial 13 with value: 38.50661128854651.\n",
      "[I 2023-10-22 12:13:36,531] Trial 24 finished with value: 42.26744321824983 and parameters: {'n_estimators': 73, 'eta': 0.04276868500105163, 'max_depth': 7, 'subsample': 0.39345167188779295, 'colsample_bytree': 0.6024206524709872}. Best is trial 13 with value: 38.50661128854651.\n",
      "[I 2023-10-22 12:13:37,389] Trial 25 finished with value: 45.99217153323183 and parameters: {'n_estimators': 57, 'eta': 0.04999365859583851, 'max_depth': 5, 'subsample': 0.5978779131610229, 'colsample_bytree': 0.7670865174018304}. Best is trial 13 with value: 38.50661128854651.\n",
      "[I 2023-10-22 12:13:38,938] Trial 26 finished with value: 38.37330477482512 and parameters: {'n_estimators': 95, 'eta': 0.046216908133135226, 'max_depth': 7, 'subsample': 0.47847419750794157, 'colsample_bytree': 0.5177463282246642}. Best is trial 26 with value: 38.37330477482512.\n",
      "[I 2023-10-22 12:13:39,326] Trial 27 finished with value: 108.79044368045703 and parameters: {'n_estimators': 39, 'eta': 0.04154016751487927, 'max_depth': 7, 'subsample': 0.43784084056019257, 'colsample_bytree': 0.5303568424768963}. Best is trial 26 with value: 38.37330477482512.\n",
      "[I 2023-10-22 12:13:41,174] Trial 28 finished with value: 38.31550884111289 and parameters: {'n_estimators': 96, 'eta': 0.04635337317489767, 'max_depth': 8, 'subsample': 0.4666515428678535, 'colsample_bytree': 0.4741829326797601}. Best is trial 28 with value: 38.31550884111289.\n"
     ]
    },
    {
     "name": "stderr",
     "output_type": "stream",
     "text": [
      "[I 2023-10-22 12:13:42,402] Trial 29 finished with value: 39.22044992823669 and parameters: {'n_estimators': 100, 'eta': 0.036654248977630366, 'max_depth': 9, 'subsample': 0.8000008171537041, 'colsample_bytree': 0.40510937225478605}. Best is trial 28 with value: 38.31550884111289.\n",
      "[I 2023-10-22 12:13:43,532] Trial 30 finished with value: 38.46473957427875 and parameters: {'n_estimators': 98, 'eta': 0.04346282777254415, 'max_depth': 7, 'subsample': 0.8844212326536539, 'colsample_bytree': 0.5266865781246111}. Best is trial 28 with value: 38.31550884111289.\n",
      "[I 2023-10-22 12:13:44,812] Trial 31 finished with value: 38.579194411918884 and parameters: {'n_estimators': 96, 'eta': 0.0438687472701772, 'max_depth': 7, 'subsample': 0.7085867331631717, 'colsample_bytree': 0.5485655087756972}. Best is trial 28 with value: 38.31550884111289.\n",
      "[I 2023-10-22 12:13:46,032] Trial 32 finished with value: 38.82649263031917 and parameters: {'n_estimators': 96, 'eta': 0.041188436878236694, 'max_depth': 8, 'subsample': 0.8862177974982874, 'colsample_bytree': 0.4789504223899056}. Best is trial 28 with value: 38.31550884111289.\n",
      "[I 2023-10-22 12:13:47,202] Trial 33 finished with value: 38.38478299795289 and parameters: {'n_estimators': 95, 'eta': 0.047377311139969056, 'max_depth': 6, 'subsample': 0.4895456887070479, 'colsample_bytree': 0.6350984535952967}. Best is trial 28 with value: 38.31550884111289.\n",
      "[I 2023-10-22 12:13:48,310] Trial 34 finished with value: 38.37700588459312 and parameters: {'n_estimators': 95, 'eta': 0.04718750281858459, 'max_depth': 6, 'subsample': 0.577816627965964, 'colsample_bytree': 0.6250611082903905}. Best is trial 28 with value: 38.31550884111289.\n",
      "[I 2023-10-22 12:13:50,096] Trial 35 finished with value: 38.86755140782286 and parameters: {'n_estimators': 82, 'eta': 0.047404667666250275, 'max_depth': 6, 'subsample': 0.49701663129309426, 'colsample_bytree': 0.6262623784354417}. Best is trial 28 with value: 38.31550884111289.\n",
      "[I 2023-10-22 12:13:51,588] Trial 36 finished with value: 38.449841709340646 and parameters: {'n_estimators': 94, 'eta': 0.0473562003047602, 'max_depth': 6, 'subsample': 0.6005499712310631, 'colsample_bytree': 0.5706821819824489}. Best is trial 28 with value: 38.31550884111289.\n",
      "[I 2023-10-22 12:13:52,040] Trial 37 finished with value: 123.42950852102564 and parameters: {'n_estimators': 36, 'eta': 0.04051858103019823, 'max_depth': 6, 'subsample': 0.4805052054347653, 'colsample_bytree': 0.6300529670004501}. Best is trial 28 with value: 38.31550884111289.\n",
      "[I 2023-10-22 12:13:53,248] Trial 38 finished with value: 38.86335247599588 and parameters: {'n_estimators': 86, 'eta': 0.04447069369541853, 'max_depth': 6, 'subsample': 0.5574524656134198, 'colsample_bytree': 0.5723688449766068}. Best is trial 28 with value: 38.31550884111289.\n",
      "[I 2023-10-22 12:13:54,974] Trial 39 finished with value: 38.16514359283611 and parameters: {'n_estimators': 100, 'eta': 0.04746681415617855, 'max_depth': 6, 'subsample': 0.34779424701329453, 'colsample_bytree': 0.5225879199571893}. Best is trial 39 with value: 38.16514359283611.\n",
      "[I 2023-10-22 12:13:57,043] Trial 40 finished with value: 39.504991721341874 and parameters: {'n_estimators': 79, 'eta': 0.04438883012386328, 'max_depth': 7, 'subsample': 0.28201827593748163, 'colsample_bytree': 0.5134397814333201}. Best is trial 39 with value: 38.16514359283611.\n",
      "[I 2023-10-22 12:13:59,031] Trial 41 finished with value: 38.20298723511695 and parameters: {'n_estimators': 100, 'eta': 0.04785989167864555, 'max_depth': 6, 'subsample': 0.36504420830065365, 'colsample_bytree': 0.5494997045848302}. Best is trial 39 with value: 38.16514359283611.\n",
      "[I 2023-10-22 12:14:01,035] Trial 42 finished with value: 38.24854727363318 and parameters: {'n_estimators': 100, 'eta': 0.0474435808259861, 'max_depth': 6, 'subsample': 0.3557878651629945, 'colsample_bytree': 0.542866324922008}. Best is trial 39 with value: 38.16514359283611.\n",
      "[I 2023-10-22 12:14:02,274] Trial 43 finished with value: 38.59353028360856 and parameters: {'n_estimators': 100, 'eta': 0.041603963472723444, 'max_depth': 6, 'subsample': 0.35850745989793564, 'colsample_bytree': 0.44821615294475387}. Best is trial 39 with value: 38.16514359283611.\n",
      "[I 2023-10-22 12:14:04,272] Trial 44 finished with value: 38.007251634605964 and parameters: {'n_estimators': 100, 'eta': 0.04847968659990019, 'max_depth': 7, 'subsample': 0.31355832178198495, 'colsample_bytree': 0.5456941887941139}. Best is trial 44 with value: 38.007251634605964.\n",
      "[I 2023-10-22 12:14:05,945] Trial 45 finished with value: 38.229575289604796 and parameters: {'n_estimators': 100, 'eta': 0.04805479108372834, 'max_depth': 5, 'subsample': 0.2908816388840409, 'colsample_bytree': 0.556370211208264}. Best is trial 44 with value: 38.007251634605964.\n",
      "[I 2023-10-22 12:14:07,575] Trial 46 finished with value: 38.1441889741355 and parameters: {'n_estimators': 100, 'eta': 0.048702618184370744, 'max_depth': 5, 'subsample': 0.22440286082880656, 'colsample_bytree': 0.5386969502970657}. Best is trial 44 with value: 38.007251634605964.\n",
      "[I 2023-10-22 12:14:08,916] Trial 47 finished with value: 38.3779601983741 and parameters: {'n_estimators': 91, 'eta': 0.04830687083246399, 'max_depth': 5, 'subsample': 0.19947789388126302, 'colsample_bytree': 0.5547057026474181}. Best is trial 44 with value: 38.007251634605964.\n",
      "[I 2023-10-22 12:14:11,126] Trial 48 finished with value: 38.4636090306179 and parameters: {'n_estimators': 85, 'eta': 0.04989507852065742, 'max_depth': 4, 'subsample': 0.25823667305559445, 'colsample_bytree': 0.5556171309777184}. Best is trial 44 with value: 38.007251634605964.\n",
      "[I 2023-10-22 12:14:11,934] Trial 49 finished with value: 59.24776437509109 and parameters: {'n_estimators': 49, 'eta': 0.04850823736968782, 'max_depth': 5, 'subsample': 0.3148859680439525, 'colsample_bytree': 0.5083454454655922}. Best is trial 44 with value: 38.007251634605964.\n"
     ]
    }
   ],
   "source": [
    "# import optuna\n",
    "# study = optuna.create_study(direction='minimize')\n",
    "# study.optimize(objective_cv, n_trials=50)"
   ]
  },
  {
   "cell_type": "code",
   "execution_count": 642,
   "id": "9cd1c5ae",
   "metadata": {
    "ExecuteTime": {
     "end_time": "2023-10-22T15:19:18.753006Z",
     "start_time": "2023-10-22T15:19:18.727939Z"
    }
   },
   "outputs": [],
   "source": [
    "# best_params = study.best_params\n",
    "best_params = {'n_estimators': 100,\n",
    " 'eta': 0.04847968659990019,\n",
    " 'max_depth': 7,\n",
    " 'subsample': 0.31355832178198495,\n",
    " 'colsample_bytree': 0.5456941887941139}"
   ]
  },
  {
   "cell_type": "code",
   "execution_count": 643,
   "id": "534319d1",
   "metadata": {
    "ExecuteTime": {
     "end_time": "2023-10-22T15:19:27.645914Z",
     "start_time": "2023-10-22T15:19:26.006547Z"
    }
   },
   "outputs": [
    {
     "data": {
      "text/plain": [
       "XGBRegressor(base_score=None, booster=None, callbacks=None,\n",
       "             colsample_bylevel=None, colsample_bynode=None,\n",
       "             colsample_bytree=0.5456941887941139, early_stopping_rounds=None,\n",
       "             enable_categorical=False, eta=0.04847968659990019,\n",
       "             eval_metric=None, feature_types=None, gamma=None, gpu_id=None,\n",
       "             grow_policy=None, importance_type=None,\n",
       "             interaction_constraints=None, learning_rate=None, max_bin=None,\n",
       "             max_cat_threshold=None, max_cat_to_onehot=None,\n",
       "             max_delta_step=None, max_depth=7, max_leaves=None,\n",
       "             min_child_weight=None, missing=nan, monotone_constraints=None,\n",
       "             n_estimators=100, n_jobs=-1, num_parallel_tree=None,\n",
       "             predictor=None, ...)"
      ]
     },
     "execution_count": 643,
     "metadata": {},
     "output_type": "execute_result"
    }
   ],
   "source": [
    "best_model = XGBRegressor(n_jobs = -1 , \n",
    "                                 random_state=0,\n",
    "                                 n_estimators = best_params['n_estimators'],\n",
    "                                 eta = best_params['eta'],\n",
    "                                 max_depth = best_params['max_depth'],\n",
    "                                 subsample = best_params['subsample'],\n",
    "                                 colsample_bytree = best_params['colsample_bytree'])\n",
    "\n",
    "# model fit\n",
    "best_model.fit(X_train[features_selected], y_train)"
=======
    "best_model = XGBRegressor(learning_rate=0.1, n_estimators=100, max_depth=3).fit(X_train[features_selected], y_train)"
>>>>>>> a62dfdcd665d30f43610ae656c29a51b2dda2c3f
   ]
  },
  {
   "cell_type": "markdown",
   "id": "29c4d111",
   "metadata": {},
   "source": [
    "# Submission"
   ]
  },
  {
   "cell_type": "markdown",
   "id": "9966dbd8",
   "metadata": {},
   "source": [
    "### Carregar os dados"
   ]
  },
  {
   "cell_type": "code",
<<<<<<< HEAD
   "execution_count": 644,
   "id": "4bd9ac56",
   "metadata": {
    "ExecuteTime": {
     "end_time": "2023-10-22T15:19:33.042417Z",
     "start_time": "2023-10-22T15:19:32.828065Z"
=======
   "execution_count": 149,
   "id": "06839809",
   "metadata": {
    "ExecuteTime": {
     "end_time": "2023-10-21T20:06:04.727367Z",
     "start_time": "2023-10-21T20:06:04.474054Z"
>>>>>>> a62dfdcd665d30f43610ae656c29a51b2dda2c3f
    }
   },
   "outputs": [
    {
     "data": {
      "text/plain": [
       "(5600, 16)"
      ]
     },
<<<<<<< HEAD
     "execution_count": 644,
=======
     "execution_count": 149,
>>>>>>> a62dfdcd665d30f43610ae656c29a51b2dda2c3f
     "metadata": {},
     "output_type": "execute_result"
    }
   ],
   "source": [
    "# Opening JSON file\n",
    "sub = open('dataset/raw/test.json')\n",
    " \n",
    "# returns JSON object as \n",
    "# a dictionary\n",
    "data_sub_aux = json.load(sub)\n",
    "\n",
    "data_sub = pd.json_normalize(data_sub_aux, record_path = 'data')\n",
    "data_sub.columns = data_sub_aux['columns']\n",
    "data_sub.shape"
   ]
  },
  {
   "cell_type": "markdown",
   "id": "c81422b5",
   "metadata": {},
   "source": [
    "### Aplicar ML no teste e submissão"
   ]
  },
  {
   "cell_type": "code",
<<<<<<< HEAD
   "execution_count": 645,
   "id": "4bb94ac9",
   "metadata": {
    "ExecuteTime": {
     "end_time": "2023-10-22T15:19:37.214667Z",
     "start_time": "2023-10-22T15:19:37.205644Z"
    }
   },
   "outputs": [],
   "source": [
    "def submission_preparation(df, features_selected):\n",
    "    \n",
    "    df = limpeza(df)\n",
    "    df = feature_engen(df)\n",
    "    df = rescalling(df)\n",
    "    df = transform(df)\n",
    "    \n",
    "    return df[features_selected]"
   ]
  },
  {
   "cell_type": "markdown",
   "id": "27cf669a",
   "metadata": {},
   "source": [
    "### Aplicar sobre os dados de teste"
   ]
  },
  {
   "cell_type": "code",
   "execution_count": 646,
   "id": "ddb4a659",
   "metadata": {
    "ExecuteTime": {
     "end_time": "2023-10-22T15:19:42.198487Z",
     "start_time": "2023-10-22T15:19:42.175633Z"
    }
   },
   "outputs": [
    {
     "data": {
      "text/plain": [
       "(5600, 16)"
      ]
     },
     "execution_count": 646,
     "metadata": {},
     "output_type": "execute_result"
    }
   ],
   "source": [
    "data_sub.shape"
   ]
  },
  {
   "cell_type": "code",
   "execution_count": 647,
   "id": "08382f4b",
   "metadata": {
    "ExecuteTime": {
     "end_time": "2023-10-22T15:19:48.072376Z",
     "start_time": "2023-10-22T15:19:46.156654Z"
=======
   "execution_count": 150,
   "id": "e767b802",
   "metadata": {
    "ExecuteTime": {
     "end_time": "2023-10-21T20:06:22.283446Z",
     "start_time": "2023-10-21T20:06:21.761791Z"
    }
   },
   "outputs": [
    {
     "ename": "ValueError",
     "evalue": "Unexpected input dimension 13, expected 24",
     "output_type": "error",
     "traceback": [
      "\u001b[1;31m---------------------------------------------------------------------------\u001b[0m",
      "\u001b[1;31mValueError\u001b[0m                                Traceback (most recent call last)",
      "\u001b[1;32mc:\\1_git\\2_projects\\6_Hackday\\hd6\\notebook_hackday_06.ipynb Cell 73\u001b[0m line \u001b[0;36m2\n\u001b[0;32m      <a href='vscode-notebook-cell:/c%3A/1_git/2_projects/6_Hackday/hd6/notebook_hackday_06.ipynb#Z2405sZmlsZQ%3D%3D?line=0'>1</a>\u001b[0m \u001b[39m# Aplicando funções nos dados de teste\u001b[39;00m\n\u001b[1;32m----> <a href='vscode-notebook-cell:/c%3A/1_git/2_projects/6_Hackday/hd6/notebook_hackday_06.ipynb#Z2405sZmlsZQ%3D%3D?line=1'>2</a>\u001b[0m data_sub_mod \u001b[39m=\u001b[39m submission_preparation(data_sub, features_selected)\n\u001b[0;32m      <a href='vscode-notebook-cell:/c%3A/1_git/2_projects/6_Hackday/hd6/notebook_hackday_06.ipynb#Z2405sZmlsZQ%3D%3D?line=3'>4</a>\u001b[0m \u001b[39m# Aplicando o modelo nos dados de teste\u001b[39;00m\n\u001b[0;32m      <a href='vscode-notebook-cell:/c%3A/1_git/2_projects/6_Hackday/hd6/notebook_hackday_06.ipynb#Z2405sZmlsZQ%3D%3D?line=4'>5</a>\u001b[0m y_hat \u001b[39m=\u001b[39m np\u001b[39m.\u001b[39mexpm1(best_model\u001b[39m.\u001b[39mpredict(data_sub_mod))\n",
      "\u001b[1;32mc:\\1_git\\2_projects\\6_Hackday\\hd6\\notebook_hackday_06.ipynb Cell 73\u001b[0m line \u001b[0;36m2\n\u001b[0;32m     <a href='vscode-notebook-cell:/c%3A/1_git/2_projects/6_Hackday/hd6/notebook_hackday_06.ipynb#Z2405sZmlsZQ%3D%3D?line=24'>25</a>\u001b[0m df \u001b[39m=\u001b[39m feature_engen(df)\n\u001b[0;32m     <a href='vscode-notebook-cell:/c%3A/1_git/2_projects/6_Hackday/hd6/notebook_hackday_06.ipynb#Z2405sZmlsZQ%3D%3D?line=25'>26</a>\u001b[0m df \u001b[39m=\u001b[39m rescalling(df)\n\u001b[1;32m---> <a href='vscode-notebook-cell:/c%3A/1_git/2_projects/6_Hackday/hd6/notebook_hackday_06.ipynb#Z2405sZmlsZQ%3D%3D?line=26'>27</a>\u001b[0m df \u001b[39m=\u001b[39m transform(df)\n\u001b[0;32m     <a href='vscode-notebook-cell:/c%3A/1_git/2_projects/6_Hackday/hd6/notebook_hackday_06.ipynb#Z2405sZmlsZQ%3D%3D?line=28'>29</a>\u001b[0m \u001b[39mreturn\u001b[39;00m df[features_selected]\n",
      "\u001b[1;32mc:\\1_git\\2_projects\\6_Hackday\\hd6\\notebook_hackday_06.ipynb Cell 73\u001b[0m line \u001b[0;36m1\n\u001b[0;32m     <a href='vscode-notebook-cell:/c%3A/1_git/2_projects/6_Hackday/hd6/notebook_hackday_06.ipynb#Z2405sZmlsZQ%3D%3D?line=15'>16</a>\u001b[0m \u001b[39mfor\u001b[39;00m att \u001b[39min\u001b[39;00m [\u001b[39m'\u001b[39m\u001b[39mbrand\u001b[39m\u001b[39m'\u001b[39m, \u001b[39m'\u001b[39m\u001b[39mproduct\u001b[39m\u001b[39m'\u001b[39m, \u001b[39m'\u001b[39m\u001b[39mseller\u001b[39m\u001b[39m'\u001b[39m]:\n\u001b[0;32m     <a href='vscode-notebook-cell:/c%3A/1_git/2_projects/6_Hackday/hd6/notebook_hackday_06.ipynb#Z2405sZmlsZQ%3D%3D?line=16'>17</a>\u001b[0m     fe \u001b[39m=\u001b[39m pickle\u001b[39m.\u001b[39mload(\u001b[39mopen\u001b[39m(\u001b[39mf\u001b[39m\u001b[39m'\u001b[39m\u001b[39mparameters/fe_\u001b[39m\u001b[39m{\u001b[39;00matt\u001b[39m}\u001b[39;00m\u001b[39m.pkl\u001b[39m\u001b[39m'\u001b[39m, \u001b[39m'\u001b[39m\u001b[39mrb\u001b[39m\u001b[39m'\u001b[39m))\n\u001b[1;32m---> <a href='vscode-notebook-cell:/c%3A/1_git/2_projects/6_Hackday/hd6/notebook_hackday_06.ipynb#Z2405sZmlsZQ%3D%3D?line=17'>18</a>\u001b[0m     X_test \u001b[39m=\u001b[39m fe\u001b[39m.\u001b[39;49mtransform(X_test)\n\u001b[0;32m     <a href='vscode-notebook-cell:/c%3A/1_git/2_projects/6_Hackday/hd6/notebook_hackday_06.ipynb#Z2405sZmlsZQ%3D%3D?line=19'>20</a>\u001b[0m \u001b[39mreturn\u001b[39;00m X_test\n",
      "File \u001b[1;32m~\\AppData\\Roaming\\Python\\Python311\\site-packages\\sklearn\\utils\\_set_output.py:157\u001b[0m, in \u001b[0;36m_wrap_method_output.<locals>.wrapped\u001b[1;34m(self, X, *args, **kwargs)\u001b[0m\n\u001b[0;32m    155\u001b[0m \u001b[39m@wraps\u001b[39m(f)\n\u001b[0;32m    156\u001b[0m \u001b[39mdef\u001b[39;00m \u001b[39mwrapped\u001b[39m(\u001b[39mself\u001b[39m, X, \u001b[39m*\u001b[39margs, \u001b[39m*\u001b[39m\u001b[39m*\u001b[39mkwargs):\n\u001b[1;32m--> 157\u001b[0m     data_to_wrap \u001b[39m=\u001b[39m f(\u001b[39mself\u001b[39;49m, X, \u001b[39m*\u001b[39;49margs, \u001b[39m*\u001b[39;49m\u001b[39m*\u001b[39;49mkwargs)\n\u001b[0;32m    158\u001b[0m     \u001b[39mif\u001b[39;00m \u001b[39misinstance\u001b[39m(data_to_wrap, \u001b[39mtuple\u001b[39m):\n\u001b[0;32m    159\u001b[0m         \u001b[39m# only wrap the first output for cross decomposition\u001b[39;00m\n\u001b[0;32m    160\u001b[0m         return_tuple \u001b[39m=\u001b[39m (\n\u001b[0;32m    161\u001b[0m             _wrap_data_with_container(method, data_to_wrap[\u001b[39m0\u001b[39m], X, \u001b[39mself\u001b[39m),\n\u001b[0;32m    162\u001b[0m             \u001b[39m*\u001b[39mdata_to_wrap[\u001b[39m1\u001b[39m:],\n\u001b[0;32m    163\u001b[0m         )\n",
      "File \u001b[1;32m~\\AppData\\Roaming\\Python\\Python311\\site-packages\\category_encoders\\utils.py:479\u001b[0m, in \u001b[0;36mUnsupervisedTransformerMixin.transform\u001b[1;34m(self, X, override_return_df)\u001b[0m\n\u001b[0;32m    477\u001b[0m \u001b[39m# first check the type\u001b[39;00m\n\u001b[0;32m    478\u001b[0m X \u001b[39m=\u001b[39m convert_input(X, deep\u001b[39m=\u001b[39m\u001b[39mTrue\u001b[39;00m)\n\u001b[1;32m--> 479\u001b[0m \u001b[39mself\u001b[39;49m\u001b[39m.\u001b[39;49m_check_transform_inputs(X)\n\u001b[0;32m    481\u001b[0m \u001b[39mif\u001b[39;00m \u001b[39mnot\u001b[39;00m \u001b[39mlist\u001b[39m(\u001b[39mself\u001b[39m\u001b[39m.\u001b[39mcols):\n\u001b[0;32m    482\u001b[0m     \u001b[39mreturn\u001b[39;00m X\n",
      "File \u001b[1;32m~\\AppData\\Roaming\\Python\\Python311\\site-packages\\category_encoders\\utils.py:336\u001b[0m, in \u001b[0;36mBaseEncoder._check_transform_inputs\u001b[1;34m(self, X)\u001b[0m\n\u001b[0;32m    334\u001b[0m \u001b[39m# then make sure that it is the right size\u001b[39;00m\n\u001b[0;32m    335\u001b[0m \u001b[39mif\u001b[39;00m X\u001b[39m.\u001b[39mshape[\u001b[39m1\u001b[39m] \u001b[39m!=\u001b[39m \u001b[39mself\u001b[39m\u001b[39m.\u001b[39m_dim:\n\u001b[1;32m--> 336\u001b[0m     \u001b[39mraise\u001b[39;00m \u001b[39mValueError\u001b[39;00m(\u001b[39mf\u001b[39m\u001b[39m'\u001b[39m\u001b[39mUnexpected input dimension \u001b[39m\u001b[39m{\u001b[39;00mX\u001b[39m.\u001b[39mshape[\u001b[39m1\u001b[39m]\u001b[39m}\u001b[39;00m\u001b[39m, expected \u001b[39m\u001b[39m{\u001b[39;00m\u001b[39mself\u001b[39m\u001b[39m.\u001b[39m_dim\u001b[39m}\u001b[39;00m\u001b[39m'\u001b[39m)\n",
      "\u001b[1;31mValueError\u001b[0m: Unexpected input dimension 13, expected 24"
     ]
>>>>>>> a62dfdcd665d30f43610ae656c29a51b2dda2c3f
    }
   ],
   "source": [
    "# Aplicando funções nos dados de teste\n",
    "data_sub_mod = submission_preparation(data_sub, features_selected)\n",
    "\n",
    "# Aplicando o modelo nos dados de teste\n",
    "y_hat = np.expm1(best_model.predict(data_sub_mod))"
   ]
  },
  {
   "cell_type": "code",
<<<<<<< HEAD
   "execution_count": 648,
   "id": "4d7c92d3",
   "metadata": {
    "ExecuteTime": {
     "end_time": "2023-10-22T15:19:51.662204Z",
     "start_time": "2023-10-22T15:19:51.651927Z"
    }
   },
   "outputs": [
    {
     "data": {
      "text/plain": [
       "(5600, 11)"
      ]
     },
     "execution_count": 648,
     "metadata": {},
     "output_type": "execute_result"
    }
   ],
   "source": [
    "data_sub_mod.shape"
   ]
  },
  {
   "cell_type": "code",
   "execution_count": 649,
   "id": "245aadce",
   "metadata": {
    "ExecuteTime": {
     "end_time": "2023-10-22T15:19:55.789529Z",
     "start_time": "2023-10-22T15:19:55.748380Z"
=======
   "execution_count": null,
   "id": "84f32be7",
   "metadata": {
    "ExecuteTime": {
     "end_time": "2023-10-21T20:07:38.504683Z",
     "start_time": "2023-10-21T20:07:38.478946Z"
>>>>>>> a62dfdcd665d30f43610ae656c29a51b2dda2c3f
    },
    "run_control": {
     "marked": true
    }
   },
   "outputs": [],
   "source": [
<<<<<<< HEAD
    "y_hat = np.expm1(best_model.predict(data_sub_mod))"
   ]
  },
  {
   "cell_type": "code",
   "execution_count": 652,
   "id": "903121ac",
   "metadata": {
    "ExecuteTime": {
     "end_time": "2023-10-22T15:20:19.523888Z",
     "start_time": "2023-10-22T15:20:19.495419Z"
    }
   },
   "outputs": [],
   "source": [
    "df_submission = pd.DataFrame()\n",
    "df_submission['pid'] = data_sub['pid']\n",
    "df_submission['actual_price'] = y_hat"
   ]
  },
  {
   "cell_type": "code",
   "execution_count": 653,
   "id": "56c44141",
   "metadata": {
    "ExecuteTime": {
     "end_time": "2023-10-22T15:20:24.988133Z",
     "start_time": "2023-10-22T15:20:24.914365Z"
    }
   },
   "outputs": [],
   "source": [
    "df_submission.to_csv('submissions/submission_5.csv', index=False)"
   ]
  },
  {
   "cell_type": "markdown",
   "id": "0e88511f",
   "metadata": {},
   "source": [
    "------\n",
    "# 10 Help Functions"
   ]
  },
  {
   "cell_type": "code",
   "execution_count": 327,
   "id": "9533b7df",
   "metadata": {
    "ExecuteTime": {
     "end_time": "2023-10-21T20:25:39.789072Z",
     "start_time": "2023-10-21T20:25:39.775592Z"
    }
   },
   "outputs": [],
   "source": [
    "def f(x):\n",
    "    try:\n",
    "        return ast.literal_eval(str(x))   \n",
    "    except Exception as e:\n",
    "        print(e)\n",
    "        return []"
   ]
  },
  {
   "cell_type": "code",
   "execution_count": 328,
   "id": "3362a80d",
   "metadata": {
    "ExecuteTime": {
     "end_time": "2023-10-21T20:25:39.804600Z",
     "start_time": "2023-10-21T20:25:39.791073Z"
    }
   },
   "outputs": [],
   "source": [
    "def junta_dict(dict_list):\n",
    "    dicionario = {}\n",
    "    for d in dict_list:\n",
    "        for key, value in d.items():\n",
    "            dicionario[key] = value\n",
    "    return dicionario"
   ]
  },
  {
   "cell_type": "code",
   "execution_count": 329,
   "id": "5ed13f01",
   "metadata": {
    "ExecuteTime": {
     "end_time": "2023-10-21T20:25:39.820039Z",
     "start_time": "2023-10-21T20:25:39.806521Z"
    }
   },
   "outputs": [],
   "source": [
    "def feature_engen(df):\n",
    "    ## out_of_stock - transformar para int \n",
    "    df['out_of_stock'] = df['out_of_stock'].astype('int64')\n",
=======
    "# Preparando os dados para a submissão\n",
    "\n",
    "df_submission = pd.DataFrame()\n",
    "df_submission['pid'] = data_sub['pid']\n",
    "df_submission['actual_price'] = y_hat\n",
>>>>>>> a62dfdcd665d30f43610ae656c29a51b2dda2c3f
    "\n",
    "# Exportando como CSV\n",
    "\n",
    "df_submission.to_csv('submissions/submission_1.csv', index=False)"
   ]
  }
 ],
 "metadata": {
  "kernelspec": {
   "display_name": "Python 3 (ipykernel)",
   "language": "python",
   "name": "python3"
  },
  "language_info": {
   "codemirror_mode": {
    "name": "ipython",
    "version": 3
   },
   "file_extension": ".py",
   "mimetype": "text/x-python",
   "name": "python",
   "nbconvert_exporter": "python",
   "pygments_lexer": "ipython3",
   "version": "3.9.7"
  },
  "toc": {
   "base_numbering": 1,
   "nav_menu": {},
   "number_sections": true,
   "sideBar": true,
   "skip_h1_title": false,
   "title_cell": "Table of Contents",
   "title_sidebar": "Contents",
   "toc_cell": false,
   "toc_position": {
    "height": "calc(100% - 180px)",
    "left": "10px",
    "top": "150px",
    "width": "345.994px"
   },
   "toc_section_display": true,
   "toc_window_display": true
  },
  "varInspector": {
   "cols": {
    "lenName": 16,
    "lenType": 16,
    "lenVar": 40
   },
   "kernels_config": {
    "python": {
     "delete_cmd_postfix": "",
     "delete_cmd_prefix": "del ",
     "library": "var_list.py",
     "varRefreshCmd": "print(var_dic_list())"
    },
    "r": {
     "delete_cmd_postfix": ") ",
     "delete_cmd_prefix": "rm(",
     "library": "var_list.r",
     "varRefreshCmd": "cat(var_dic_list()) "
    }
   },
   "types_to_exclude": [
    "module",
    "function",
    "builtin_function_or_method",
    "instance",
    "_Feature"
   ],
   "window_display": false
  },
  "vscode": {
   "interpreter": {
    "hash": "892e5ff5783333d733f0bd2e0068297de9409e96214f7e68af4469f351f76fae"
   }
  }
 },
 "nbformat": 4,
 "nbformat_minor": 5
}
