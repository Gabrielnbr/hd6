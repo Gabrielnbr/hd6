{
 "cells": [
  {
   "cell_type": "markdown",
   "id": "23e57af8",
   "metadata": {},
   "source": [
    "# Imports"
   ]
  },
  {
   "cell_type": "code",
   "execution_count": 1,
   "id": "403b1b50",
   "metadata": {
    "ExecuteTime": {
     "end_time": "2023-10-22T13:52:58.688129Z",
     "start_time": "2023-10-22T13:52:50.244613Z"
    }
   },
   "outputs": [],
   "source": [
    "import pandas as pd\n",
    "import numpy as np\n",
    "import json\n",
    "import datetime\n",
    "import ast\n",
    "import dtale\n",
    "\n",
    "from sklearn import preprocessing as pp\n",
    "import pickle\n",
    "\n",
    "from sklearn import model_selection as ms\n",
    "import category_encoders as ce\n",
    "# from dataprep.datasets  import load_dataset\n",
    "# from dataprep.eda       import create_report\n",
    "\n",
    "#from boruta   import BorutaPy\n",
    "from lightgbm import LGBMClassifier\n",
    "\n",
    "from sklearn.ensemble        import RandomForestClassifier, BaggingClassifier, GradientBoostingClassifier\n",
    "from xgboost                 import XGBRegressor\n",
    "from sklearn.linear_model    import LogisticRegression, SGDRegressor\n",
    "from sklearn.neighbors       import KNeighborsRegressor\n",
    "from sklearn.tree            import DecisionTreeRegressor\n",
    "from sklearn.ensemble        import RandomForestRegressor, BaggingRegressor\n",
    "from sklearn.metrics         import accuracy_score, recall_score, precision_score, balanced_accuracy_score, f1_score, roc_curve, confusion_matrix\n",
    "from sklearn.model_selection import GridSearchCV, RandomizedSearchCV\n",
    "from sklearn.naive_bayes     import GaussianNB\n",
    "from lightgbm                import LGBMRegressor\n",
    "\n",
    "# from category_encoders import TargetEncoder, CountEncoder as ce"
   ]
  },
  {
   "cell_type": "markdown",
   "id": "3f2f5333",
   "metadata": {},
   "source": [
    "## Helper Functions"
   ]
  },
  {
   "cell_type": "code",
   "execution_count": 2,
   "id": "549a296a",
   "metadata": {
    "ExecuteTime": {
     "end_time": "2023-10-22T13:52:58.718897Z",
     "start_time": "2023-10-22T13:52:58.690304Z"
    }
   },
   "outputs": [],
   "source": [
    "def rescalling (X_test):\n",
    "    \n",
    "    mm = pickle.load(open('parameters/mm_avg_delivery_time_days.pkl','rb'))\n",
    "    X_test['avg_delivery_time_days'] = mm.transform(X_test[['avg_delivery_time_days']])\n",
    "    \n",
    "    rs_ar = pickle.load(open('parameters/rs_average_rating.pkl','rb'))\n",
    "    X_test['average_rating'] = rs_ar.transform(X_test[['average_rating']])\n",
    "    \n",
    "    rs_nr = pickle.load(open('parameters/rs_number_of_reviews.pkl','rb'))\n",
    "    X_test['number_of_reviews'] = rs_nr.transform(X_test[['number_of_reviews']])\n",
    "    \n",
    "    return X_test\n",
    "\n",
    "def transform (X_test):\n",
    "    \n",
    "    for att in ['brand', 'seller', 'category', 'Suitable For', 'Reversible', 'Ideal For', 'out_of_stock', 'product']:\n",
    "        fe = pickle.load(open(f'parameters/fe_{att}.pkl', 'rb'))\n",
    "        X_test = fe.transform(X_test)\n",
    "    \n",
    "    return X_test\n",
    "\n",
    "\n",
    "def transf_cat(X_test):\n",
    "\n",
    "    le_suitable = pickle.load(open('parameters/le_suitable.pkl','rb'))\n",
    "    X_test['Suitable For'] = le_suitable.transform(X_test['Suitable For'])\n",
    "\n",
    "    le_reversible = pickle.load(open('parameters/le_reversible.pkl','rb'))\n",
    "    X_test['Reversible'] = le_reversible.transform(X_test['Reversible'])\n",
    "\n",
    "    le_ideal = pickle.load(open('parameters/le_ideal.pkl','rb'))\n",
    "    X_test['Ideal For'] = le_ideal.transform(X_test['Ideal For'])\n",
    "\n",
    "    le_out = pickle.load(open('parameters/le_out.pkl','rb'))\n",
    "    X_test['out_of_stock'] = le_out.transform(X_test['out_of_stock'])\n",
    "\n",
    "    return X_test\n",
    "\n",
    "\n",
    "def target(X_test):\n",
    "    encoder_style_code = pickle.load(open('parameters/encoder_style_code.pkl','rb'))\n",
    "    X_test['Style Code'] = encoder_style_code.transform(X_test['Style Code']) \n",
    "\n",
    "    encoder_pack_of = pickle.load(open('parameters/encoder_pack_of.pkl','rb'))\n",
    "    X_test['Pack of'] = encoder_pack_of.transform(X_test['Pack of']) \n",
    "\n",
    "    return X_test\n",
    "\n",
    "def test_preparation(X_test, y_test):\n",
    "    X_test = rescalling(X_test)\n",
    "    X_test = transform(X_test)\n",
    "#     X_test = transf_cat(X_test)\n",
    "    X_test = target(X_test)\n",
    "    y_test = log_var_resposta(y_test)\n",
    "    \n",
    "    return X_test, y_test\n",
    "\n",
    "\n",
    "def log_var_resposta(df):\n",
    "    df = np.log1p(df)\n",
    "    return df\n",
    "\n",
    "\n",
    "def feature_selection(df):\n",
    "    features_selected = ['average_rating',\n",
    "    'number_of_reviews',\n",
    "    'brand',\n",
    "    # 'category',\n",
    "    # 'crawled_at',\n",
    "    'out_of_stock',\n",
    "    'avg_delivery_time_days',\n",
    "    #  'product_details',\n",
    "    'seller',\n",
    "    #  'sub_category',\n",
    "    #  'fabrication_time',\n",
    "    #  'title',\n",
    "    #  'Fabric',\n",
    "    #  'Pattern',\n",
    "    'Style Code',\n",
    "    'Pack of',\n",
    "    #  'Type',\n",
    "    #  'Sleeve',\n",
    "    #  'Fit',\n",
    "    'Ideal For',\n",
    "    'Suitable For',\n",
    "    'Reversible',\n",
    "    #  'Fabric Care',\n",
    "    'product']\n",
    "    \n",
    "    return df[features_selected]\n"
   ]
  },
  {
   "cell_type": "code",
   "execution_count": 3,
   "id": "1e1b689c",
   "metadata": {
    "ExecuteTime": {
     "end_time": "2023-10-22T13:52:58.749945Z",
     "start_time": "2023-10-22T13:52:58.725004Z"
    }
   },
   "outputs": [],
   "source": [
    "# Funções para limpeza dos dados de teste\n",
    "\n",
    "def limpeza (df):\n",
    "    df = df.drop(columns=['_id', 'pid','description', 'images'])\n",
    "    # transformando de string para data\n",
    "    df['crawled_at'] = pd.to_datetime(df['crawled_at']).dt.date\n",
    "\n",
    "    return df\n",
    "\n",
    "def feature_engen(df):\n",
    "    ## out_of_stock - transformar para int \n",
    "    df['out_of_stock'] = df['out_of_stock'].astype('int64')\n",
    "\n",
    "    # brand - substituir por outros\n",
    "    df['brand'] = df['brand'].apply(lambda x: x.lower())\n",
    "\n",
    "    # criando feature product\n",
    "    df['product'] = df[['category', 'sub_category']].apply(lambda x: x['category'] + '_' + x['sub_category'], axis = 1)\n",
    "    \n",
    "    list = df['product_details'].apply(lambda x: f(x))\n",
    "    df_details = pd.DataFrame([junta_dict(row) for row in list])\n",
    "\n",
    "    df_drop_columns = df_details.drop(columns=['', ' '])\n",
    "\n",
    "    # Removendo valores faltantes acima de 50%\n",
    "    limite_nulos = len(df_details) * 0.5  \n",
    "    df_drop = df_details.dropna(thresh = limite_nulos, axis=1)\n",
    "    df_new = df_drop.copy()\n",
    "\n",
    "    # Trocar os NaN por 'outros'\n",
    "\n",
    "    df_new.loc[df_new['Fabric'].isnull(), 'Fabric'] = 'outros'\n",
    "    df_new.loc[df_new['Pattern'].isnull(), 'Pattern'] = 'outros'\n",
    "    df_new.loc[df_new['Style Code'].isnull(), 'Style Code'] = 'outros'\n",
    "    df_new.loc[df_new['Pack of'].isnull(), 'Pack of'] = 'outros'\n",
    "    df_new.loc[df_new['Type'].isnull(), 'Type'] = 'outros'\n",
    "    df_new.loc[df_new['Sleeve'].isnull(), 'Sleeve'] = 'outros'\n",
    "    df_new.loc[df_new['Fit'].isnull(), 'Fit'] = 'outros'\n",
    "    df_new.loc[df_new['Ideal For'].isnull(), 'Ideal For'] = 'outros'\n",
    "    df_new.loc[df_new['Suitable For'].isnull(), 'Suitable For'] = 'outros'\n",
    "    df_new.loc[df_new['Reversible'].isnull(), 'Reversible'] = 'outros'\n",
    "    df_new.loc[df_new['Fabric Care'].isnull(), 'Fabric Care'] = 'outros'\n",
    "\n",
    "\n",
    "    # Dados sem virgulas: Style Code, Pack of, Suitable For, Reversible, 'Ideal For'\n",
    "\n",
    "\n",
    "    # Ideal for: 'Men', 'Men, Boys'/ 'Boys, Men' = 'all_ages',\n",
    "                # 'Boys, Girls, Men, Women' = 'unisex_all_ages', 'Women, Men' = 'Unisex'\n",
    "\n",
    "    def type_sex(value):\n",
    "        if value == 'Men':\n",
    "            return 'Men'\n",
    "        elif value == 'Men, Boys':\n",
    "            return 'all_ages'\n",
    "        elif value == 'Boys, Men':\n",
    "            return 'all_ages'\n",
    "        elif value == 'Boys, Girls, Men, Women':\n",
    "            return 'unisex_all_ages'\n",
    "        elif value == 'Women, Men':\n",
    "            return 'Unisex'\n",
    "        else:\n",
    "            return 'outros'\n",
    "\n",
    "    df_new['Ideal For'] = df_new['Ideal For'].map(type_sex)\n",
    "\n",
    "    df_junto = pd.concat([df, df_new], axis=1)\n",
    "    \n",
    "    return df_junto\n",
    "\n",
    "def submission_preparation(df, features_selected):\n",
    "    \n",
    "    df = limpeza(df)\n",
    "    df = feature_engen(df)\n",
    "    df = rescalling(df)\n",
    "    df = transform(df)\n",
    "    df = target(df)\n",
    "    \n",
    "    return df[features_selected]"
   ]
  },
  {
   "cell_type": "code",
   "execution_count": 4,
   "id": "ab40e6bf",
   "metadata": {
    "ExecuteTime": {
     "end_time": "2023-10-22T13:52:58.781211Z",
     "start_time": "2023-10-22T13:52:58.759579Z"
    }
   },
   "outputs": [],
   "source": [
    "# ????\n",
    "\n",
    "def f(x):\n",
    "    try:\n",
    "        return ast.literal_eval(str(x))   \n",
    "    except Exception as e:\n",
    "        print(e)\n",
    "        return []\n",
    "    \n",
    "def junta_dict(dict_list):\n",
    "    dicionario = {}\n",
    "    for d in dict_list:\n",
    "        for key, value in d.items():\n",
    "            dicionario[key] = value\n",
    "    return dicionario"
   ]
  },
  {
   "cell_type": "markdown",
   "id": "1c83d907",
   "metadata": {},
   "source": [
    "# Load Data"
   ]
  },
  {
   "cell_type": "code",
   "execution_count": 5,
   "id": "d0d2e3d5",
   "metadata": {
    "ExecuteTime": {
     "end_time": "2023-10-22T13:52:59.675204Z",
     "start_time": "2023-10-22T13:52:58.787121Z"
    }
   },
   "outputs": [
    {
     "data": {
      "text/html": [
       "<div>\n",
       "<style scoped>\n",
       "    .dataframe tbody tr th:only-of-type {\n",
       "        vertical-align: middle;\n",
       "    }\n",
       "\n",
       "    .dataframe tbody tr th {\n",
       "        vertical-align: top;\n",
       "    }\n",
       "\n",
       "    .dataframe thead th {\n",
       "        text-align: right;\n",
       "    }\n",
       "</style>\n",
       "<table border=\"1\" class=\"dataframe\">\n",
       "  <thead>\n",
       "    <tr style=\"text-align: right;\">\n",
       "      <th></th>\n",
       "      <th>_id</th>\n",
       "      <th>average_rating</th>\n",
       "      <th>number_of_reviews</th>\n",
       "      <th>brand</th>\n",
       "      <th>category</th>\n",
       "      <th>crawled_at</th>\n",
       "      <th>description</th>\n",
       "      <th>images</th>\n",
       "      <th>out_of_stock</th>\n",
       "      <th>avg_delivery_time_days</th>\n",
       "      <th>pid</th>\n",
       "      <th>product_details</th>\n",
       "      <th>seller</th>\n",
       "      <th>sub_category</th>\n",
       "      <th>fabrication_time</th>\n",
       "      <th>title</th>\n",
       "      <th>actual_price</th>\n",
       "    </tr>\n",
       "  </thead>\n",
       "  <tbody>\n",
       "    <tr>\n",
       "      <th>0</th>\n",
       "      <td>53df9662-e500-569c-946e-0c8d215a72cd</td>\n",
       "      <td>3.2</td>\n",
       "      <td>26</td>\n",
       "      <td>East I</td>\n",
       "      <td>Clothing and Accessories</td>\n",
       "      <td>2021-02-10 21:17:28</td>\n",
       "      <td>Navy Blue Printed Boxers Has  An Inner  Elasti...</td>\n",
       "      <td>['https://rukminim1.flixcart.com/image/128/128...</td>\n",
       "      <td>False</td>\n",
       "      <td>8</td>\n",
       "      <td>BXRFTZF7JGX75DAW</td>\n",
       "      <td>[{'Color': 'Dark Blue'}, {'Fabric': 'Pure Cott...</td>\n",
       "      <td>ZIYAA</td>\n",
       "      <td>Innerwear and Swimwear</td>\n",
       "      <td>653</td>\n",
       "      <td>Printed Men Boxer  (Pack of 1)</td>\n",
       "      <td>849.0</td>\n",
       "    </tr>\n",
       "    <tr>\n",
       "      <th>1</th>\n",
       "      <td>d0142842-84f7-537d-a06f-d85b76488a5f</td>\n",
       "      <td>4.0</td>\n",
       "      <td>33</td>\n",
       "      <td>dream o</td>\n",
       "      <td>Clothing and Accessories</td>\n",
       "      <td>2021-02-11 01:02:46</td>\n",
       "      <td>smiley printed tshirt on round neck cotton tshirt</td>\n",
       "      <td>['https://rukminim1.flixcart.com/image/128/128...</td>\n",
       "      <td>False</td>\n",
       "      <td>12</td>\n",
       "      <td>TSHFWQM96UHR6A4Q</td>\n",
       "      <td>[{'Type': 'Round Neck'}, {'Sleeve': 'Short Sle...</td>\n",
       "      <td>Dream Onn Creations</td>\n",
       "      <td>Topwear</td>\n",
       "      <td>668</td>\n",
       "      <td>Printed Men Round Neck Orange T-Shirt</td>\n",
       "      <td>699.0</td>\n",
       "    </tr>\n",
       "    <tr>\n",
       "      <th>2</th>\n",
       "      <td>79c8f0d7-30b1-5dd4-9f2f-2fe97782b027</td>\n",
       "      <td>3.9</td>\n",
       "      <td>32</td>\n",
       "      <td>Free Authori</td>\n",
       "      <td>Clothing and Accessories</td>\n",
       "      <td>2021-02-11 00:43:37</td>\n",
       "      <td>Free Authority Presents this Crew Neck Yellow ...</td>\n",
       "      <td>['https://rukminim1.flixcart.com/image/128/128...</td>\n",
       "      <td>False</td>\n",
       "      <td>11</td>\n",
       "      <td>SWSFWCXH2WF6ZYRB</td>\n",
       "      <td>[{'Color': 'Yellow'}, {'Fabric': 'Polycotton'}...</td>\n",
       "      <td>BioworldMerchandising</td>\n",
       "      <td>Winter Wear</td>\n",
       "      <td>53</td>\n",
       "      <td>Full Sleeve Graphic Print Men Sweatshirt</td>\n",
       "      <td>1499.0</td>\n",
       "    </tr>\n",
       "    <tr>\n",
       "      <th>3</th>\n",
       "      <td>0531c28c-7c50-5fbd-9ce3-a7cae3243ad5</td>\n",
       "      <td>3.8</td>\n",
       "      <td>31</td>\n",
       "      <td>HUMBE</td>\n",
       "      <td>Clothing and Accessories</td>\n",
       "      <td>2021-02-10 21:22:10</td>\n",
       "      <td>Cotton Blend FabricCollar / Polo Neck White &amp; ...</td>\n",
       "      <td>['https://rukminim1.flixcart.com/image/128/128...</td>\n",
       "      <td>False</td>\n",
       "      <td>11</td>\n",
       "      <td>TSHFHQH3HKDAGGK9</td>\n",
       "      <td>[{'Type': 'Polo Neck'}, {'Sleeve': 'Short Slee...</td>\n",
       "      <td>HUMBERT</td>\n",
       "      <td>Topwear</td>\n",
       "      <td>510</td>\n",
       "      <td>Solid Men Polo Neck Light Blue, White T-Shirt ...</td>\n",
       "      <td>1699.0</td>\n",
       "    </tr>\n",
       "    <tr>\n",
       "      <th>4</th>\n",
       "      <td>d604baad-472e-5c18-86a3-7b46d4a890c2</td>\n",
       "      <td>2.4</td>\n",
       "      <td>20</td>\n",
       "      <td>Rose We</td>\n",
       "      <td>Clothing and Accessories</td>\n",
       "      <td>2021-02-10 23:36:36</td>\n",
       "      <td>undefined</td>\n",
       "      <td>['https://rukminim1.flixcart.com/image/128/128...</td>\n",
       "      <td>False</td>\n",
       "      <td>5</td>\n",
       "      <td>TSHFW9CJZSYUU6UX</td>\n",
       "      <td>[{'Type': 'Round Neck'}, {'Sleeve': 'Short Sle...</td>\n",
       "      <td>Rupalcollectionjaipur</td>\n",
       "      <td>Topwear</td>\n",
       "      <td>496</td>\n",
       "      <td>Printed Men Round Neck White T-Shirt</td>\n",
       "      <td>599.0</td>\n",
       "    </tr>\n",
       "  </tbody>\n",
       "</table>\n",
       "</div>"
      ],
      "text/plain": [
       "                                    _id  average_rating  number_of_reviews  \\\n",
       "0  53df9662-e500-569c-946e-0c8d215a72cd             3.2                 26   \n",
       "1  d0142842-84f7-537d-a06f-d85b76488a5f             4.0                 33   \n",
       "2  79c8f0d7-30b1-5dd4-9f2f-2fe97782b027             3.9                 32   \n",
       "3  0531c28c-7c50-5fbd-9ce3-a7cae3243ad5             3.8                 31   \n",
       "4  d604baad-472e-5c18-86a3-7b46d4a890c2             2.4                 20   \n",
       "\n",
       "          brand                  category           crawled_at  \\\n",
       "0        East I  Clothing and Accessories  2021-02-10 21:17:28   \n",
       "1       dream o  Clothing and Accessories  2021-02-11 01:02:46   \n",
       "2  Free Authori  Clothing and Accessories  2021-02-11 00:43:37   \n",
       "3         HUMBE  Clothing and Accessories  2021-02-10 21:22:10   \n",
       "4       Rose We  Clothing and Accessories  2021-02-10 23:36:36   \n",
       "\n",
       "                                         description  \\\n",
       "0  Navy Blue Printed Boxers Has  An Inner  Elasti...   \n",
       "1  smiley printed tshirt on round neck cotton tshirt   \n",
       "2  Free Authority Presents this Crew Neck Yellow ...   \n",
       "3  Cotton Blend FabricCollar / Polo Neck White & ...   \n",
       "4                                          undefined   \n",
       "\n",
       "                                              images  out_of_stock  \\\n",
       "0  ['https://rukminim1.flixcart.com/image/128/128...         False   \n",
       "1  ['https://rukminim1.flixcart.com/image/128/128...         False   \n",
       "2  ['https://rukminim1.flixcart.com/image/128/128...         False   \n",
       "3  ['https://rukminim1.flixcart.com/image/128/128...         False   \n",
       "4  ['https://rukminim1.flixcart.com/image/128/128...         False   \n",
       "\n",
       "   avg_delivery_time_days               pid  \\\n",
       "0                       8  BXRFTZF7JGX75DAW   \n",
       "1                      12  TSHFWQM96UHR6A4Q   \n",
       "2                      11  SWSFWCXH2WF6ZYRB   \n",
       "3                      11  TSHFHQH3HKDAGGK9   \n",
       "4                       5  TSHFW9CJZSYUU6UX   \n",
       "\n",
       "                                     product_details                 seller  \\\n",
       "0  [{'Color': 'Dark Blue'}, {'Fabric': 'Pure Cott...                  ZIYAA   \n",
       "1  [{'Type': 'Round Neck'}, {'Sleeve': 'Short Sle...    Dream Onn Creations   \n",
       "2  [{'Color': 'Yellow'}, {'Fabric': 'Polycotton'}...  BioworldMerchandising   \n",
       "3  [{'Type': 'Polo Neck'}, {'Sleeve': 'Short Slee...                HUMBERT   \n",
       "4  [{'Type': 'Round Neck'}, {'Sleeve': 'Short Sle...  Rupalcollectionjaipur   \n",
       "\n",
       "             sub_category  fabrication_time  \\\n",
       "0  Innerwear and Swimwear               653   \n",
       "1                 Topwear               668   \n",
       "2             Winter Wear                53   \n",
       "3                 Topwear               510   \n",
       "4                 Topwear               496   \n",
       "\n",
       "                                               title  actual_price  \n",
       "0                     Printed Men Boxer  (Pack of 1)         849.0  \n",
       "1              Printed Men Round Neck Orange T-Shirt         699.0  \n",
       "2           Full Sleeve Graphic Print Men Sweatshirt        1499.0  \n",
       "3  Solid Men Polo Neck Light Blue, White T-Shirt ...        1699.0  \n",
       "4               Printed Men Round Neck White T-Shirt         599.0  "
      ]
     },
     "execution_count": 5,
     "metadata": {},
     "output_type": "execute_result"
    }
   ],
   "source": [
    "# Opening JSON file\n",
    "train = open('dataset/raw/train.json')\n",
    " \n",
    "# returns JSON object as a dictionary\n",
    "data_train_aux = json.load(train)\n",
    "\n",
    "data_train = pd.json_normalize(data_train_aux, record_path = 'data')\n",
    "data_train.columns = data_train_aux['columns']\n",
    "data_train.head()"
   ]
  },
  {
   "cell_type": "markdown",
   "id": "0ea9e857",
   "metadata": {},
   "source": [
    "# Data Description"
   ]
  },
  {
   "cell_type": "code",
   "execution_count": 6,
   "id": "343e4620",
   "metadata": {
    "ExecuteTime": {
     "end_time": "2023-10-22T13:52:59.689992Z",
     "start_time": "2023-10-22T13:52:59.678266Z"
    }
   },
   "outputs": [],
   "source": [
    "# retirar descrição\n",
    "# retirar imagem\n",
    "# verificar ids duplicados em id produto\n",
    "# Verificar outliers no price"
   ]
  },
  {
   "cell_type": "markdown",
   "id": "8616ae01",
   "metadata": {},
   "source": [
    "## Removendo colunas"
   ]
  },
  {
   "cell_type": "code",
   "execution_count": 7,
   "id": "4cf08145",
   "metadata": {
    "ExecuteTime": {
     "end_time": "2023-10-22T13:52:59.721038Z",
     "start_time": "2023-10-22T13:52:59.692863Z"
    }
   },
   "outputs": [],
   "source": [
    "data_train = data_train.drop(columns=['description', 'images'])"
   ]
  },
  {
   "cell_type": "markdown",
   "id": "625226f3",
   "metadata": {},
   "source": [
    "## Transformando tipo de dados"
   ]
  },
  {
   "cell_type": "code",
   "execution_count": 8,
   "id": "1ad79624",
   "metadata": {
    "ExecuteTime": {
     "end_time": "2023-10-22T13:52:59.736547Z",
     "start_time": "2023-10-22T13:52:59.723980Z"
    }
   },
   "outputs": [
    {
     "data": {
      "text/plain": [
       "_id                        object\n",
       "average_rating            float64\n",
       "number_of_reviews           int64\n",
       "brand                      object\n",
       "category                   object\n",
       "crawled_at                 object\n",
       "out_of_stock                 bool\n",
       "avg_delivery_time_days      int64\n",
       "pid                        object\n",
       "product_details            object\n",
       "seller                     object\n",
       "sub_category               object\n",
       "fabrication_time            int64\n",
       "title                      object\n",
       "actual_price              float64\n",
       "dtype: object"
      ]
     },
     "execution_count": 8,
     "metadata": {},
     "output_type": "execute_result"
    }
   ],
   "source": [
    "data_train.dtypes"
   ]
  },
  {
   "cell_type": "code",
   "execution_count": 9,
   "id": "0072097b",
   "metadata": {
    "ExecuteTime": {
     "end_time": "2023-10-22T13:52:59.828154Z",
     "start_time": "2023-10-22T13:52:59.739745Z"
    }
   },
   "outputs": [],
   "source": [
    "# transformando de string para data\n",
    "data_train['crawled_at'] = pd.to_datetime(data_train['crawled_at']).dt.date"
   ]
  },
  {
   "cell_type": "markdown",
   "id": "cdb9369e",
   "metadata": {},
   "source": [
    "## Tratando valores nulos"
   ]
  },
  {
   "cell_type": "code",
   "execution_count": 10,
   "id": "1c041d78",
   "metadata": {
    "ExecuteTime": {
     "end_time": "2023-10-22T13:52:59.935740Z",
     "start_time": "2023-10-22T13:52:59.831147Z"
    }
   },
   "outputs": [
    {
     "data": {
      "text/plain": [
       "_id                       0.000000\n",
       "average_rating            0.000000\n",
       "number_of_reviews         0.000000\n",
       "brand                     0.000000\n",
       "category                  0.000000\n",
       "crawled_at                0.000000\n",
       "out_of_stock              0.000000\n",
       "avg_delivery_time_days    0.000000\n",
       "pid                       0.000000\n",
       "product_details           0.000000\n",
       "seller                    0.000000\n",
       "sub_category              0.000000\n",
       "fabrication_time          0.000000\n",
       "title                     0.000000\n",
       "actual_price              0.149985\n",
       "dtype: float64"
      ]
     },
     "execution_count": 10,
     "metadata": {},
     "output_type": "execute_result"
    }
   ],
   "source": [
    "data_train.isna().sum()/data_train.shape[0]"
   ]
  },
  {
   "cell_type": "code",
   "execution_count": 11,
   "id": "5a54e630",
   "metadata": {
    "ExecuteTime": {
     "end_time": "2023-10-22T13:53:00.059934Z",
     "start_time": "2023-10-22T13:52:59.940281Z"
    },
    "scrolled": true
   },
   "outputs": [
    {
     "data": {
      "text/plain": [
       "_id                       0.000000\n",
       "average_rating            0.000000\n",
       "number_of_reviews         0.000000\n",
       "brand                     0.000000\n",
       "category                  0.000000\n",
       "crawled_at                0.000000\n",
       "out_of_stock              0.000000\n",
       "avg_delivery_time_days    0.000000\n",
       "pid                       0.000000\n",
       "product_details           0.000000\n",
       "seller                    0.000000\n",
       "sub_category              0.000000\n",
       "fabrication_time          0.000000\n",
       "title                     0.000000\n",
       "actual_price              0.149985\n",
       "dtype: float64"
      ]
     },
     "execution_count": 11,
     "metadata": {},
     "output_type": "execute_result"
    }
   ],
   "source": [
    "data_train.isna().sum()/data_train.shape[0]"
   ]
  },
  {
   "cell_type": "code",
   "execution_count": 12,
   "id": "3fd3597b",
   "metadata": {
    "ExecuteTime": {
     "end_time": "2023-10-22T13:53:04.922478Z",
     "start_time": "2023-10-22T13:53:00.067887Z"
    }
   },
   "outputs": [],
   "source": [
    "## Tratando variaveis respostas nulas\n",
    "prices = data_train[['seller','pid', 'actual_price']].groupby('pid').max().reset_index()\n",
    "\n",
    "precos_nulos = data_train.loc[data_train['actual_price'].isna(), ['_id','pid']]\n",
    "\n",
    "precos_recuperados = pd.merge(precos_nulos, prices, how = 'inner', on = 'pid')\n",
    "\n",
    "data_train_aux = pd.merge(data_train, precos_recuperados[['_id', 'actual_price']], on = '_id', how = 'left')\n",
    "data_train['actual_price'] = data_train_aux['actual_price_x'].fillna(0) + data_train_aux['actual_price_y'].fillna(0)\n",
    "\n",
    "data_train = data_train.dropna(subset=['actual_price'])"
   ]
  },
  {
   "cell_type": "markdown",
   "id": "f8e8fae6",
   "metadata": {},
   "source": [
    "## Entendendo product Details"
   ]
  },
  {
   "cell_type": "code",
   "execution_count": 13,
   "id": "2e976671",
   "metadata": {
    "ExecuteTime": {
     "end_time": "2023-10-22T13:53:05.030153Z",
     "start_time": "2023-10-22T13:53:04.927710Z"
    }
   },
   "outputs": [
    {
     "name": "stdout",
     "output_type": "stream",
     "text": [
      "<class 'pandas.core.frame.DataFrame'>\n",
      "RangeIndex: 23309 entries, 0 to 23308\n",
      "Data columns (total 15 columns):\n",
      " #   Column                  Non-Null Count  Dtype  \n",
      "---  ------                  --------------  -----  \n",
      " 0   _id                     23309 non-null  object \n",
      " 1   average_rating          23309 non-null  float64\n",
      " 2   number_of_reviews       23309 non-null  int64  \n",
      " 3   brand                   23309 non-null  object \n",
      " 4   category                23309 non-null  object \n",
      " 5   crawled_at              23309 non-null  object \n",
      " 6   out_of_stock            23309 non-null  bool   \n",
      " 7   avg_delivery_time_days  23309 non-null  int64  \n",
      " 8   pid                     23309 non-null  object \n",
      " 9   product_details         23309 non-null  object \n",
      " 10  seller                  23309 non-null  object \n",
      " 11  sub_category            23309 non-null  object \n",
      " 12  fabrication_time        23309 non-null  int64  \n",
      " 13  title                   23309 non-null  object \n",
      " 14  actual_price            23309 non-null  float64\n",
      "dtypes: bool(1), float64(2), int64(3), object(9)\n",
      "memory usage: 2.5+ MB\n"
     ]
    }
   ],
   "source": [
    "data_train.info()"
   ]
  },
  {
   "cell_type": "code",
   "execution_count": 14,
   "id": "70c98420",
   "metadata": {
    "ExecuteTime": {
     "end_time": "2023-10-22T13:53:05.046016Z",
     "start_time": "2023-10-22T13:53:05.034170Z"
    }
   },
   "outputs": [],
   "source": [
    "# def is_valid_dict(x):\n",
    "#     return isinstance(x, dict)\n",
    "\n",
    "# invalid_dict_rows = data_train[~data_train['product_details'].apply(is_valid_dict)]\n",
    "# print(invalid_dict_rows)\n"
   ]
  },
  {
   "cell_type": "code",
   "execution_count": 15,
   "id": "404003fe",
   "metadata": {
    "ExecuteTime": {
     "end_time": "2023-10-22T13:53:05.061077Z",
     "start_time": "2023-10-22T13:53:05.049027Z"
    }
   },
   "outputs": [],
   "source": [
    "# # Função para analisar strings JSON\n",
    "# def parse_json(x):\n",
    "#     try:\n",
    "#         return json.loads(x)\n",
    "#     except Exception as e:\n",
    "#         print(e)\n",
    "#         return {}\n",
    "\n",
    "# # Aplicar a função de análise a cada linha da coluna 'product_details'\n",
    "# data_train['product_details'] = data_train['product_details'].apply(parse_json)\n",
    "\n",
    "# # Converter o dicionário em várias colunas\n",
    "# df_details = data_train['product_details'].apply(pd.Series)\n",
    "\n",
    "# # Verifique o DataFrame resultante\n",
    "# print(df_details.head())"
   ]
  },
  {
   "cell_type": "markdown",
   "id": "1a3a83f2",
   "metadata": {},
   "source": [
    "# Feature Engineering"
   ]
  },
  {
   "cell_type": "code",
   "execution_count": 16,
   "id": "cf0764da",
   "metadata": {
    "ExecuteTime": {
     "end_time": "2023-10-22T13:53:05.092546Z",
     "start_time": "2023-10-22T13:53:05.063609Z"
    }
   },
   "outputs": [],
   "source": [
    "df4 = data_train.copy()"
   ]
  },
  {
   "cell_type": "code",
   "execution_count": 17,
   "id": "02173cbd",
   "metadata": {
    "ExecuteTime": {
     "end_time": "2023-10-22T13:53:05.880648Z",
     "start_time": "2023-10-22T13:53:05.094592Z"
    }
   },
   "outputs": [],
   "source": [
    "## out_of_stock - transformar para int \n",
    "df4['out_of_stock'] = df4['out_of_stock'].astype('int64')\n",
    "\n",
    "# brand - substituir por outros\n",
    "df4['brand'] = df4['brand'].apply(lambda x: x.lower())\n",
    "\n",
    "# criando feature product\n",
    "df4['product'] = df4[['category', 'sub_category']].apply(lambda x: x['category'] + '_' + x['sub_category'], axis = 1)"
   ]
  },
  {
   "cell_type": "code",
   "execution_count": 18,
   "id": "277e00f7",
   "metadata": {
    "ExecuteTime": {
     "end_time": "2023-10-22T13:53:11.112846Z",
     "start_time": "2023-10-22T13:53:05.886045Z"
    }
   },
   "outputs": [],
   "source": [
    "import ast\n",
    "\n",
    "# pega string de dict e cria uma lista de dicionários\n",
    "def f(x):\n",
    "    try:\n",
    "        return ast.literal_eval(str(x))   \n",
    "    except Exception as e:\n",
    "        print(e)\n",
    "        return []\n",
    "\n",
    "\n",
    "\n",
    "def junta_dict(dict_list):\n",
    "    dicionario = {}\n",
    "    for d in dict_list:\n",
    "        for key, value in d.items():\n",
    "            dicionario[key] = value\n",
    "    return dicionario\n",
    "\n",
    "list = data_train['product_details'].apply(lambda x: f(x))\n",
    "df_details = pd.DataFrame([junta_dict(row) for row in list])\n",
    "\n",
    "df_drop_columns = df_details.drop(columns=['', ' '])\n",
    "\n",
    "# Removendo valores faltantes acima de 50%\n",
    "limite_nulos = len(df_details) * 0.5  \n",
    "df_drop = df_details.dropna(thresh = limite_nulos, axis=1)\n",
    "df_new = df_drop.copy()\n",
    "\n",
    "# Trocar os NaN por 'outros'\n",
    "\n",
    "df_new.loc[df_new['Fabric'].isnull(), 'Fabric'] = 'outros'\n",
    "df_new.loc[df_new['Pattern'].isnull(), 'Pattern'] = 'outros'\n",
    "df_new.loc[df_new['Style Code'].isnull(), 'Style Code'] = 'outros'\n",
    "df_new.loc[df_new['Pack of'].isnull(), 'Pack of'] = 'outros'\n",
    "df_new.loc[df_new['Type'].isnull(), 'Type'] = 'outros'\n",
    "df_new.loc[df_new['Sleeve'].isnull(), 'Sleeve'] = 'outros'\n",
    "df_new.loc[df_new['Fit'].isnull(), 'Fit'] = 'outros'\n",
    "df_new.loc[df_new['Ideal For'].isnull(), 'Ideal For'] = 'outros'\n",
    "df_new.loc[df_new['Suitable For'].isnull(), 'Suitable For'] = 'outros'\n",
    "df_new.loc[df_new['Reversible'].isnull(), 'Reversible'] = 'outros'\n",
    "df_new.loc[df_new['Fabric Care'].isnull(), 'Fabric Care'] = 'outros'\n",
    "\n",
    "df_new.head()\n",
    "\n",
    "\n",
    "# # Suponha que você tenha uma coluna chamada 'Fabric' com valores do tipo object\n",
    "# df_new['Fabric'] = df_new['Fabric'].astype(str)\n",
    "# df_new['Pattern'] = df_new['Pattern'].astype(str)\n",
    "# df_new['Style Code'] = df_new['Style Code'].astype(str)\n",
    "# df_new['Pack of'] = df_new['Pack of'].astype(str)\n",
    "# df_new['Type'] = df_new['Type'].astype(str)\n",
    "# df_new['Sleeve'] = df_new['Sleeve'].astype(str)\n",
    "# df_new['Fit'] = df_new['Fit'].astype(str)\n",
    "# df_new['Ideal For'] = df_new['Ideal For'].astype(str)\n",
    "# df_new['Suitable For'] = df_new['Suitable For'].astype(str)\n",
    "# df_new['Reversible'] = df_new['Reversible'].astype(str)\n",
    "# df_new['Fabric Care'] = df_new['Fabric Care'].astype(str)\n",
    "\n",
    "\n",
    "# # Agora você pode usar o método str.split para dividir os valores\n",
    "# df_new['Fabric'] = df_new['Fabric'].str.split(',')\n",
    "# df_new['Pattern'] = df_new['Pattern'].str.split(',')\n",
    "# df_new['Style Code'] = df_new['Style Code'].str.split(',')\n",
    "# df_new['Pack of'] = df_new['Pack of'].str.split(',')\n",
    "# df_new['Type'] = df_new['Type'].str.split(',')\n",
    "# df_new['Sleeve'] = df_new['Sleeve'].str.split(',')\n",
    "# df_new['Fit'] = df_new['Fit'].str.split(',')\n",
    "# df_new['Ideal For'] = df_new['Ideal For'].str.split(',')\n",
    "# df_new['Suitable For'] = df_new['Suitable For'].str.split(',')\n",
    "# df_new['Reversible'] = df_new['Reversible'].str.split(',')\n",
    "# df_new['Fabric Care'] = df_new['Fabric Care'].str.split(',')\n",
    "\n",
    "\n",
    "# Dados sem virgulas: Style Code, Pack of, Suitable For, Reversible, 'Ideal For'\n",
    "\n",
    "\n",
    "# Ideal for: 'Men', 'Men, Boys'/ 'Boys, Men' = 'all_ages',\n",
    "            # 'Boys, Girls, Men, Women' = 'unisex_all_ages', 'Women, Men' = 'Unisex'\n",
    "\n",
    "def type_sex(value):\n",
    "    if value == 'Men':\n",
    "        return 'Men'\n",
    "    elif value == 'Men, Boys':\n",
    "        return 'all_ages'\n",
    "    elif value == 'Boys, Men':\n",
    "        return 'all_ages'\n",
    "    elif value == 'Boys, Girls, Men, Women':\n",
    "        return 'unisex_all_ages'\n",
    "    elif value == 'Women, Men':\n",
    "        return 'Unisex'\n",
    "    else:\n",
    "        return 'outros'\n",
    "\n",
    "df_new['Ideal For'] = df_new['Ideal For'].map(type_sex)\n",
    "\n",
    "df_junto = pd.concat([df4, df_new], axis=1)"
   ]
  },
  {
   "cell_type": "markdown",
   "id": "e7467521",
   "metadata": {},
   "source": [
    "# EDA"
   ]
  },
  {
   "cell_type": "code",
   "execution_count": 19,
   "id": "ad5b72c6",
   "metadata": {
    "ExecuteTime": {
     "end_time": "2023-10-22T13:53:11.128324Z",
     "start_time": "2023-10-22T13:53:11.115842Z"
    }
   },
   "outputs": [],
   "source": [
    "# # Assigning a reference to a running D-Tale process\n",
    "# d = dtale.show(df4)\n",
    "\n",
    "# # Accessing data associated with D-Tale process\n",
    "# tmp = d.data.copy()\n",
    "# tmp['d'] = 4\n",
    "\n",
    "# # Altering data associated with D-Tale process\n",
    "# # FYI: this will clear any front-end settings you have at the time for this process (filter, sorts, formatting)\n",
    "# d.data = tmp\n",
    "\n",
    "# # Shutting down D-Tale process\n",
    "# #d.kill()\n",
    "\n",
    "# # using Python's `webbrowser` package it will try and open your server's default browser to this process\n",
    "# d.open_browser()\n",
    "\n",
    "# # There is also some helpful metadata about the process\n",
    "# d._data_id  # the process's data identifier\n",
    "# d._url  # the url to access the process\n",
    "\n",
    "# d2 = dtale.get_instance(d._data_id)  # returns a new reference to the instance running at that data_id\n",
    "\n",
    "# dtale.instances()  # prints a list of all ids & urls of running D-Tale sessions"
   ]
  },
  {
   "cell_type": "markdown",
   "id": "5140daa9",
   "metadata": {},
   "source": [
    "# Data Preparation"
   ]
  },
  {
   "cell_type": "code",
   "execution_count": 20,
   "id": "68f43f40",
   "metadata": {
    "ExecuteTime": {
     "end_time": "2023-10-22T13:53:11.439808Z",
     "start_time": "2023-10-22T13:53:11.131127Z"
    }
   },
   "outputs": [
    {
     "data": {
      "text/plain": [
       "_id                       0\n",
       "average_rating            0\n",
       "number_of_reviews         0\n",
       "brand                     0\n",
       "category                  0\n",
       "crawled_at                0\n",
       "out_of_stock              0\n",
       "avg_delivery_time_days    0\n",
       "pid                       0\n",
       "product_details           0\n",
       "seller                    0\n",
       "sub_category              0\n",
       "fabrication_time          0\n",
       "title                     0\n",
       "actual_price              0\n",
       "product                   0\n",
       "Fabric                    0\n",
       "Pattern                   0\n",
       "Style Code                0\n",
       "Pack of                   0\n",
       "Type                      0\n",
       "Sleeve                    0\n",
       "Fit                       0\n",
       "Ideal For                 0\n",
       "Suitable For              0\n",
       "Reversible                0\n",
       "Fabric Care               0\n",
       "dtype: int64"
      ]
     },
     "execution_count": 20,
     "metadata": {},
     "output_type": "execute_result"
    }
   ],
   "source": [
    "df5 = df_junto.copy()\n",
    "df5.isna().sum()"
   ]
  },
  {
   "cell_type": "markdown",
   "id": "dddaf50a",
   "metadata": {},
   "source": [
    "## Split Dataset"
   ]
  },
  {
   "cell_type": "code",
   "execution_count": 21,
   "id": "5d90c1cd",
   "metadata": {
    "ExecuteTime": {
     "end_time": "2023-10-22T13:53:11.579845Z",
     "start_time": "2023-10-22T13:53:11.442824Z"
    }
   },
   "outputs": [],
   "source": [
    "X = df5.drop(['_id','pid','actual_price'], axis=1)\n",
    "y = df5['actual_price']\n",
    "\n",
    "X_train, X_test, y_train, y_test = ms.train_test_split(X, y, test_size=0.20, random_state = 0)\n",
    "data_train = pd.concat([X_train, y_train], axis=1)\n",
    "data_test = pd.concat([X_test, y_test], axis=1)"
   ]
  },
  {
   "cell_type": "markdown",
   "id": "492ffd74",
   "metadata": {},
   "source": [
    "## Rescalling"
   ]
  },
  {
   "cell_type": "code",
   "execution_count": 22,
   "id": "bd81b72b",
   "metadata": {
    "ExecuteTime": {
     "end_time": "2023-10-22T13:53:11.594989Z",
     "start_time": "2023-10-22T13:53:11.583855Z"
    }
   },
   "outputs": [
    {
     "data": {
      "text/plain": [
       "Index(['average_rating', 'number_of_reviews', 'brand', 'category',\n",
       "       'crawled_at', 'out_of_stock', 'avg_delivery_time_days',\n",
       "       'product_details', 'seller', 'sub_category', 'fabrication_time',\n",
       "       'title', 'product', 'Fabric', 'Pattern', 'Style Code', 'Pack of',\n",
       "       'Type', 'Sleeve', 'Fit', 'Ideal For', 'Suitable For', 'Reversible',\n",
       "       'Fabric Care'],\n",
       "      dtype='object')"
      ]
     },
     "execution_count": 22,
     "metadata": {},
     "output_type": "execute_result"
    }
   ],
   "source": [
    "X_train.columns"
   ]
  },
  {
   "cell_type": "markdown",
   "id": "7b5d3e4d",
   "metadata": {},
   "source": [
    "### Min Max Scaler"
   ]
  },
  {
   "cell_type": "code",
   "execution_count": 23,
   "id": "3211520b",
   "metadata": {
    "ExecuteTime": {
     "end_time": "2023-10-22T13:53:11.626641Z",
     "start_time": "2023-10-22T13:53:11.599001Z"
    }
   },
   "outputs": [
    {
     "name": "stderr",
     "output_type": "stream",
     "text": [
      "C:\\Users\\Notebook\\AppData\\Local\\Temp/ipykernel_32596/1476139685.py:4: SettingWithCopyWarning:\n",
      "\n",
      "\n",
      "A value is trying to be set on a copy of a slice from a DataFrame.\n",
      "Try using .loc[row_indexer,col_indexer] = value instead\n",
      "\n",
      "See the caveats in the documentation: https://pandas.pydata.org/pandas-docs/stable/user_guide/indexing.html#returning-a-view-versus-a-copy\n",
      "\n"
     ]
    }
   ],
   "source": [
    "# 'avg_delivery_time_days',\n",
    "mm = pp.MinMaxScaler()\n",
    "\n",
    "X_train['avg_delivery_time_days'] = mm.fit_transform(X_train[['avg_delivery_time_days']])\n",
    "pickle.dump(mm, open('parameters/mm_avg_delivery_time_days.pkl','wb'))\n"
   ]
  },
  {
   "cell_type": "markdown",
   "id": "325cece4",
   "metadata": {},
   "source": [
    "### Robust Scaler"
   ]
  },
  {
   "cell_type": "code",
   "execution_count": 24,
   "id": "2155c696",
   "metadata": {
    "ExecuteTime": {
     "end_time": "2023-10-22T13:53:11.673731Z",
     "start_time": "2023-10-22T13:53:11.629634Z"
    }
   },
   "outputs": [
    {
     "name": "stderr",
     "output_type": "stream",
     "text": [
      "C:\\Users\\Notebook\\AppData\\Local\\Temp/ipykernel_32596/1727199491.py:4: SettingWithCopyWarning:\n",
      "\n",
      "\n",
      "A value is trying to be set on a copy of a slice from a DataFrame.\n",
      "Try using .loc[row_indexer,col_indexer] = value instead\n",
      "\n",
      "See the caveats in the documentation: https://pandas.pydata.org/pandas-docs/stable/user_guide/indexing.html#returning-a-view-versus-a-copy\n",
      "\n",
      "C:\\Users\\Notebook\\AppData\\Local\\Temp/ipykernel_32596/1727199491.py:7: SettingWithCopyWarning:\n",
      "\n",
      "\n",
      "A value is trying to be set on a copy of a slice from a DataFrame.\n",
      "Try using .loc[row_indexer,col_indexer] = value instead\n",
      "\n",
      "See the caveats in the documentation: https://pandas.pydata.org/pandas-docs/stable/user_guide/indexing.html#returning-a-view-versus-a-copy\n",
      "\n"
     ]
    }
   ],
   "source": [
    "rs_average_rating = pp.RobustScaler()\n",
    "rs_number_of_reviews = pp.RobustScaler()\n",
    "\n",
    "X_train['average_rating'] = rs_average_rating.fit_transform(X_train[['average_rating']])\n",
    "pickle.dump(rs_average_rating, open('parameters/rs_average_rating.pkl','wb'))\n",
    "\n",
    "X_train['number_of_reviews'] = rs_number_of_reviews.fit_transform(X_train[['number_of_reviews']])\n",
    "pickle.dump(rs_number_of_reviews, open('parameters/rs_number_of_reviews.pkl','wb'))\n",
    "\n",
    "##### Fazer Robust Scaler da variável resposta (??) #####\n"
   ]
  },
  {
   "cell_type": "markdown",
   "id": "c0c59710",
   "metadata": {},
   "source": [
    "## Transformation"
   ]
  },
  {
   "cell_type": "markdown",
   "id": "9ace92e6",
   "metadata": {},
   "source": [
    "### Label Encode"
   ]
  },
  {
   "cell_type": "code",
   "execution_count": 25,
   "id": "2e488887",
   "metadata": {
    "ExecuteTime": {
     "end_time": "2023-10-22T13:53:11.688991Z",
     "start_time": "2023-10-22T13:53:11.676727Z"
    }
   },
   "outputs": [],
   "source": [
    "# # Label encoder: Suitable For, Reversible, Ideal For, out_of_stock\n",
    "\n",
    "# le_suitable = pp.LabelEncoder()\n",
    "# le_reversible = pp.LabelEncoder()\n",
    "# le_ideal = pp.LabelEncoder()\n",
    "# le_out = pp.LabelEncoder()\n",
    "\n",
    "# X_train['Suitable For'] = le_suitable.fit_transform(X_train['Suitable For'])\n",
    "# pickle.dump(le_suitable, open('parameters/le_suitable.pkl', 'wb'))\n",
    "\n",
    "# X_train['Reversible'] = le_reversible.fit_transform(X_train['Reversible'])\n",
    "# pickle.dump(le_reversible, open('parameters/le_reversible.pkl', 'wb'))\n",
    "\n",
    "# X_train['Ideal For'] = le_ideal.fit_transform(X_train['Ideal For'])\n",
    "# pickle.dump(le_ideal, open('parameters/le_ideal.pkl', 'wb'))\n",
    "\n",
    "# X_train['out_of_stock'] = le_out.fit_transform(X_train['out_of_stock'])\n",
    "# pickle.dump(le_out, open('parameters/le_out.pkl', 'wb'))"
   ]
  },
  {
   "cell_type": "markdown",
   "id": "47bf7529",
   "metadata": {},
   "source": [
    "### Target enconde"
   ]
  },
  {
   "cell_type": "code",
   "execution_count": 26,
   "id": "8bbdc7de",
   "metadata": {
    "ExecuteTime": {
     "end_time": "2023-10-22T13:53:12.028567Z",
     "start_time": "2023-10-22T13:53:11.693030Z"
    }
   },
   "outputs": [
    {
     "name": "stderr",
     "output_type": "stream",
     "text": [
      "C:\\Users\\Notebook\\AppData\\Local\\Temp/ipykernel_32596/2613778701.py:3: SettingWithCopyWarning:\n",
      "\n",
      "\n",
      "A value is trying to be set on a copy of a slice from a DataFrame.\n",
      "Try using .loc[row_indexer,col_indexer] = value instead\n",
      "\n",
      "See the caveats in the documentation: https://pandas.pydata.org/pandas-docs/stable/user_guide/indexing.html#returning-a-view-versus-a-copy\n",
      "\n",
      "C:\\Users\\Notebook\\AppData\\Local\\Temp/ipykernel_32596/2613778701.py:8: SettingWithCopyWarning:\n",
      "\n",
      "\n",
      "A value is trying to be set on a copy of a slice from a DataFrame.\n",
      "Try using .loc[row_indexer,col_indexer] = value instead\n",
      "\n",
      "See the caveats in the documentation: https://pandas.pydata.org/pandas-docs/stable/user_guide/indexing.html#returning-a-view-versus-a-copy\n",
      "\n"
     ]
    }
   ],
   "source": [
    "# Instancie o codificador alvo para 'Style Code'\n",
    "encoder_style_code = ce.TargetEncoder()\n",
    "X_train['Style Code'] = encoder_style_code.fit_transform(X_train['Style Code'], y_train) \n",
    "pickle.dump(encoder_style_code, open('parameters/encoder_style_code.pkl', 'wb'))\n",
    "\n",
    "# Instancie o codificador alvo para 'Pack of'\n",
    "encoder_pack_of = ce.TargetEncoder()\n",
    "X_train['Pack of'] = encoder_pack_of.fit_transform(X_train['Pack of'], y_train) \n",
    "pickle.dump(encoder_pack_of, open('parameters/encoder_pack_of.pkl', 'wb'))"
   ]
  },
  {
   "cell_type": "markdown",
   "id": "527eaecc",
   "metadata": {},
   "source": [
    "### Frequency Encode"
   ]
  },
  {
   "cell_type": "code",
   "execution_count": 27,
   "id": "f1ce9035",
   "metadata": {
    "ExecuteTime": {
     "end_time": "2023-10-22T13:53:14.196789Z",
     "start_time": "2023-10-22T13:53:12.031250Z"
    }
   },
   "outputs": [],
   "source": [
    "for att in ['brand', 'seller', 'category', 'Suitable For', 'Reversible', 'Ideal For', 'out_of_stock', 'product']:\n",
    "    fe =  ce.CountEncoder(cols=[att], normalize=True).fit(X_train)\n",
    "    pickle.dump(fe,open(f'parameters/fe_{att}.pkl', 'wb'))\n",
    "    X_train = fe.transform(X_train)"
   ]
  },
  {
   "cell_type": "markdown",
   "id": "c8b601c7",
   "metadata": {},
   "source": [
    "### Response Variable"
   ]
  },
  {
   "cell_type": "code",
   "execution_count": 28,
   "id": "cf5917e1",
   "metadata": {
    "ExecuteTime": {
     "end_time": "2023-10-22T13:53:14.212579Z",
     "start_time": "2023-10-22T13:53:14.200749Z"
    }
   },
   "outputs": [],
   "source": [
    "# Tranformando a variável resposta em logaritmica\n",
    "\n",
    "y_train = np.log1p(y_train)"
   ]
  },
  {
   "cell_type": "markdown",
   "id": "1d0cc108",
   "metadata": {},
   "source": [
    "# Feature Selection"
   ]
  },
  {
   "cell_type": "code",
   "execution_count": 29,
   "id": "3b98ad6a",
   "metadata": {
    "ExecuteTime": {
     "end_time": "2023-10-22T13:53:14.242943Z",
     "start_time": "2023-10-22T13:53:14.225277Z"
    }
   },
   "outputs": [
    {
     "data": {
      "text/plain": [
       "['average_rating',\n",
       " 'number_of_reviews',\n",
       " 'brand',\n",
       " 'category',\n",
       " 'crawled_at',\n",
       " 'out_of_stock',\n",
       " 'avg_delivery_time_days',\n",
       " 'product_details',\n",
       " 'seller',\n",
       " 'sub_category',\n",
       " 'fabrication_time',\n",
       " 'title',\n",
       " 'product',\n",
       " 'Fabric',\n",
       " 'Pattern',\n",
       " 'Style Code',\n",
       " 'Pack of',\n",
       " 'Type',\n",
       " 'Sleeve',\n",
       " 'Fit',\n",
       " 'Ideal For',\n",
       " 'Suitable For',\n",
       " 'Reversible',\n",
       " 'Fabric Care']"
      ]
     },
     "execution_count": 29,
     "metadata": {},
     "output_type": "execute_result"
    }
   ],
   "source": [
    "X_train.columns.tolist()"
   ]
  },
  {
   "cell_type": "code",
   "execution_count": 30,
   "id": "cfd36892",
   "metadata": {
    "ExecuteTime": {
     "end_time": "2023-10-22T13:53:14.258680Z",
     "start_time": "2023-10-22T13:53:14.247451Z"
    }
   },
   "outputs": [],
   "source": [
    "features_selected = ['average_rating',\n",
    " 'number_of_reviews',\n",
    " 'brand',\n",
    " # 'category',\n",
    " # 'crawled_at',\n",
    " 'out_of_stock',\n",
    " 'avg_delivery_time_days',\n",
    "#  'product_details',\n",
    " 'seller',\n",
    "'product'\n",
    "#  'sub_category',\n",
    "#  'fabrication_time',\n",
    "#  'title',\n",
    "#  'Fabric',\n",
    "#  'Pattern',\n",
    "#  'Type',\n",
    "#  'Sleeve',\n",
    "#  'Fit',\n",
    "#  'Style Code',\n",
    "#  'Pack of',\n",
    "#  'Ideal For',\n",
    "#  'Suitable For',\n",
    "#  'Reversible'\n",
    "]\n",
    "\n"
   ]
  },
  {
   "cell_type": "markdown",
   "id": "aacbd368",
   "metadata": {},
   "source": [
    "## Importancia das árvores"
   ]
  },
  {
   "cell_type": "code",
   "execution_count": 31,
   "id": "67f8ac65",
   "metadata": {
    "ExecuteTime": {
     "end_time": "2023-10-22T13:53:15.017100Z",
     "start_time": "2023-10-22T13:53:14.261672Z"
    }
   },
   "outputs": [
    {
     "name": "stdout",
     "output_type": "stream",
     "text": [
      "Feature ranking\n",
      "                  feature  importance\n",
      "0          average_rating         913\n",
      "0                   brand         879\n",
      "0                  seller         738\n",
      "0                 product         428\n",
      "0            out_of_stock          38\n",
      "0  avg_delivery_time_days           4\n",
      "0       number_of_reviews           0\n"
     ]
    }
   ],
   "source": [
    "# Crie e treine o modelo LGBMClassifier\n",
    "lgb_model = LGBMRegressor(n_jobs=-1, random_state=42)\n",
    "X_train_sel = X_train[features_selected]\n",
    "lgb_model.fit(X_train_sel, y_train)\n",
    "\n",
    "# Obtenha as importâncias das características do modelo\n",
    "importances = lgb_model.feature_importances_\n",
    "\n",
    "# Ordene as características por importância decrescente\n",
    "indices = np.argsort(importances)[::-1]\n",
    "\n",
    "# Imprima o ranking das características\n",
    "print('Feature ranking')\n",
    "df = pd.DataFrame()\n",
    "\n",
    "for i, j in zip(X_train_sel.columns, importances):\n",
    "    aux = pd.DataFrame({'feature': i, 'importance': j}, index=[0])\n",
    "    df = pd.concat([df, aux], axis=0)\n",
    "\n",
    "print(df.sort_values('importance', ascending=False))"
   ]
  },
  {
   "cell_type": "code",
   "execution_count": 32,
   "id": "32de5db8",
   "metadata": {
    "ExecuteTime": {
     "end_time": "2023-10-22T13:53:15.078037Z",
     "start_time": "2023-10-22T13:53:15.021332Z"
    }
   },
   "outputs": [
    {
     "data": {
      "text/html": [
       "<div>\n",
       "<style scoped>\n",
       "    .dataframe tbody tr th:only-of-type {\n",
       "        vertical-align: middle;\n",
       "    }\n",
       "\n",
       "    .dataframe tbody tr th {\n",
       "        vertical-align: top;\n",
       "    }\n",
       "\n",
       "    .dataframe thead th {\n",
       "        text-align: right;\n",
       "    }\n",
       "</style>\n",
       "<table border=\"1\" class=\"dataframe\">\n",
       "  <thead>\n",
       "    <tr style=\"text-align: right;\">\n",
       "      <th></th>\n",
       "      <th>average_rating</th>\n",
       "      <th>number_of_reviews</th>\n",
       "      <th>brand</th>\n",
       "      <th>out_of_stock</th>\n",
       "      <th>avg_delivery_time_days</th>\n",
       "      <th>seller</th>\n",
       "      <th>product</th>\n",
       "    </tr>\n",
       "  </thead>\n",
       "  <tbody>\n",
       "    <tr>\n",
       "      <th>16175</th>\n",
       "      <td>-1.1</td>\n",
       "      <td>-1.250</td>\n",
       "      <td>0.034483</td>\n",
       "      <td>0.943101</td>\n",
       "      <td>0.1875</td>\n",
       "      <td>0.018448</td>\n",
       "      <td>0.552797</td>\n",
       "    </tr>\n",
       "    <tr>\n",
       "      <th>1002</th>\n",
       "      <td>-1.0</td>\n",
       "      <td>-1.125</td>\n",
       "      <td>0.009975</td>\n",
       "      <td>0.943101</td>\n",
       "      <td>0.1875</td>\n",
       "      <td>0.009975</td>\n",
       "      <td>0.552797</td>\n",
       "    </tr>\n",
       "    <tr>\n",
       "      <th>4585</th>\n",
       "      <td>0.4</td>\n",
       "      <td>0.375</td>\n",
       "      <td>0.034215</td>\n",
       "      <td>0.943101</td>\n",
       "      <td>0.6250</td>\n",
       "      <td>0.055022</td>\n",
       "      <td>0.552797</td>\n",
       "    </tr>\n",
       "    <tr>\n",
       "      <th>15305</th>\n",
       "      <td>0.4</td>\n",
       "      <td>0.375</td>\n",
       "      <td>0.066981</td>\n",
       "      <td>0.943101</td>\n",
       "      <td>0.6250</td>\n",
       "      <td>0.009331</td>\n",
       "      <td>0.055505</td>\n",
       "    </tr>\n",
       "    <tr>\n",
       "      <th>17542</th>\n",
       "      <td>0.5</td>\n",
       "      <td>0.500</td>\n",
       "      <td>0.015177</td>\n",
       "      <td>0.943101</td>\n",
       "      <td>0.6250</td>\n",
       "      <td>0.014319</td>\n",
       "      <td>0.552797</td>\n",
       "    </tr>\n",
       "  </tbody>\n",
       "</table>\n",
       "</div>"
      ],
      "text/plain": [
       "       average_rating  number_of_reviews     brand  out_of_stock  \\\n",
       "16175            -1.1             -1.250  0.034483      0.943101   \n",
       "1002             -1.0             -1.125  0.009975      0.943101   \n",
       "4585              0.4              0.375  0.034215      0.943101   \n",
       "15305             0.4              0.375  0.066981      0.943101   \n",
       "17542             0.5              0.500  0.015177      0.943101   \n",
       "\n",
       "       avg_delivery_time_days    seller   product  \n",
       "16175                  0.1875  0.018448  0.552797  \n",
       "1002                   0.1875  0.009975  0.552797  \n",
       "4585                   0.6250  0.055022  0.552797  \n",
       "15305                  0.6250  0.009331  0.055505  \n",
       "17542                  0.6250  0.014319  0.552797  "
      ]
     },
     "execution_count": 32,
     "metadata": {},
     "output_type": "execute_result"
    }
   ],
   "source": [
    "X_train[features_selected].head()"
   ]
  },
  {
   "cell_type": "markdown",
   "id": "6da465a6",
   "metadata": {},
   "source": [
    "# Machine Learning"
   ]
  },
  {
   "cell_type": "markdown",
   "id": "fe93dfd7",
   "metadata": {},
   "source": [
    "#### Test Preparation"
   ]
  },
  {
   "cell_type": "code",
   "execution_count": 33,
   "id": "7d896712",
   "metadata": {
    "ExecuteTime": {
     "end_time": "2023-10-22T13:53:32.100117Z",
     "start_time": "2023-10-22T13:53:31.658574Z"
    }
   },
   "outputs": [
    {
     "name": "stderr",
     "output_type": "stream",
     "text": [
      "2023-10-22 10:53:31,673 [32596] WARNING  py.warnings:109: [JupyterRequire] C:\\Users\\Notebook\\AppData\\Local\\Temp/ipykernel_32596/4139850245.py:4: SettingWithCopyWarning:\n",
      "\n",
      "\n",
      "A value is trying to be set on a copy of a slice from a DataFrame.\n",
      "Try using .loc[row_indexer,col_indexer] = value instead\n",
      "\n",
      "See the caveats in the documentation: https://pandas.pydata.org/pandas-docs/stable/user_guide/indexing.html#returning-a-view-versus-a-copy\n",
      "\n",
      "\n",
      "2023-10-22 10:53:31,684 [32596] WARNING  py.warnings:109: [JupyterRequire] C:\\Users\\Notebook\\AppData\\Local\\Temp/ipykernel_32596/4139850245.py:7: SettingWithCopyWarning:\n",
      "\n",
      "\n",
      "A value is trying to be set on a copy of a slice from a DataFrame.\n",
      "Try using .loc[row_indexer,col_indexer] = value instead\n",
      "\n",
      "See the caveats in the documentation: https://pandas.pydata.org/pandas-docs/stable/user_guide/indexing.html#returning-a-view-versus-a-copy\n",
      "\n",
      "\n",
      "2023-10-22 10:53:31,694 [32596] WARNING  py.warnings:109: [JupyterRequire] C:\\Users\\Notebook\\AppData\\Local\\Temp/ipykernel_32596/4139850245.py:10: SettingWithCopyWarning:\n",
      "\n",
      "\n",
      "A value is trying to be set on a copy of a slice from a DataFrame.\n",
      "Try using .loc[row_indexer,col_indexer] = value instead\n",
      "\n",
      "See the caveats in the documentation: https://pandas.pydata.org/pandas-docs/stable/user_guide/indexing.html#returning-a-view-versus-a-copy\n",
      "\n",
      "\n"
     ]
    }
   ],
   "source": [
    "X_test_mod, y_test_mod = test_preparation(X_test, y_test)"
   ]
  },
  {
   "cell_type": "code",
   "execution_count": 34,
   "id": "4d9437aa",
   "metadata": {
    "ExecuteTime": {
     "end_time": "2023-10-22T13:53:35.606736Z",
     "start_time": "2023-10-22T13:53:35.563737Z"
    }
   },
   "outputs": [
    {
     "data": {
      "text/html": [
       "<div>\n",
       "<style scoped>\n",
       "    .dataframe tbody tr th:only-of-type {\n",
       "        vertical-align: middle;\n",
       "    }\n",
       "\n",
       "    .dataframe tbody tr th {\n",
       "        vertical-align: top;\n",
       "    }\n",
       "\n",
       "    .dataframe thead th {\n",
       "        text-align: right;\n",
       "    }\n",
       "</style>\n",
       "<table border=\"1\" class=\"dataframe\">\n",
       "  <thead>\n",
       "    <tr style=\"text-align: right;\">\n",
       "      <th></th>\n",
       "      <th>average_rating</th>\n",
       "      <th>number_of_reviews</th>\n",
       "      <th>brand</th>\n",
       "      <th>out_of_stock</th>\n",
       "      <th>avg_delivery_time_days</th>\n",
       "      <th>seller</th>\n",
       "      <th>product</th>\n",
       "    </tr>\n",
       "  </thead>\n",
       "  <tbody>\n",
       "    <tr>\n",
       "      <th>16175</th>\n",
       "      <td>-1.1</td>\n",
       "      <td>-1.250</td>\n",
       "      <td>0.034483</td>\n",
       "      <td>0.943101</td>\n",
       "      <td>0.1875</td>\n",
       "      <td>0.018448</td>\n",
       "      <td>0.552797</td>\n",
       "    </tr>\n",
       "    <tr>\n",
       "      <th>1002</th>\n",
       "      <td>-1.0</td>\n",
       "      <td>-1.125</td>\n",
       "      <td>0.009975</td>\n",
       "      <td>0.943101</td>\n",
       "      <td>0.1875</td>\n",
       "      <td>0.009975</td>\n",
       "      <td>0.552797</td>\n",
       "    </tr>\n",
       "    <tr>\n",
       "      <th>4585</th>\n",
       "      <td>0.4</td>\n",
       "      <td>0.375</td>\n",
       "      <td>0.034215</td>\n",
       "      <td>0.943101</td>\n",
       "      <td>0.6250</td>\n",
       "      <td>0.055022</td>\n",
       "      <td>0.552797</td>\n",
       "    </tr>\n",
       "    <tr>\n",
       "      <th>15305</th>\n",
       "      <td>0.4</td>\n",
       "      <td>0.375</td>\n",
       "      <td>0.066981</td>\n",
       "      <td>0.943101</td>\n",
       "      <td>0.6250</td>\n",
       "      <td>0.009331</td>\n",
       "      <td>0.055505</td>\n",
       "    </tr>\n",
       "    <tr>\n",
       "      <th>17542</th>\n",
       "      <td>0.5</td>\n",
       "      <td>0.500</td>\n",
       "      <td>0.015177</td>\n",
       "      <td>0.943101</td>\n",
       "      <td>0.6250</td>\n",
       "      <td>0.014319</td>\n",
       "      <td>0.552797</td>\n",
       "    </tr>\n",
       "    <tr>\n",
       "      <th>...</th>\n",
       "      <td>...</td>\n",
       "      <td>...</td>\n",
       "      <td>...</td>\n",
       "      <td>...</td>\n",
       "      <td>...</td>\n",
       "      <td>...</td>\n",
       "      <td>...</td>\n",
       "    </tr>\n",
       "    <tr>\n",
       "      <th>13123</th>\n",
       "      <td>-3.7</td>\n",
       "      <td>-3.875</td>\n",
       "      <td>0.000375</td>\n",
       "      <td>0.943101</td>\n",
       "      <td>0.0625</td>\n",
       "      <td>0.000375</td>\n",
       "      <td>0.055505</td>\n",
       "    </tr>\n",
       "    <tr>\n",
       "      <th>19648</th>\n",
       "      <td>0.0</td>\n",
       "      <td>0.000</td>\n",
       "      <td>0.004827</td>\n",
       "      <td>0.943101</td>\n",
       "      <td>0.4375</td>\n",
       "      <td>0.004987</td>\n",
       "      <td>0.094171</td>\n",
       "    </tr>\n",
       "    <tr>\n",
       "      <th>9845</th>\n",
       "      <td>-0.3</td>\n",
       "      <td>-0.375</td>\n",
       "      <td>0.008259</td>\n",
       "      <td>0.943101</td>\n",
       "      <td>0.3750</td>\n",
       "      <td>0.001716</td>\n",
       "      <td>0.055505</td>\n",
       "    </tr>\n",
       "    <tr>\n",
       "      <th>10799</th>\n",
       "      <td>0.3</td>\n",
       "      <td>0.250</td>\n",
       "      <td>0.009975</td>\n",
       "      <td>0.943101</td>\n",
       "      <td>0.5625</td>\n",
       "      <td>0.009975</td>\n",
       "      <td>0.552797</td>\n",
       "    </tr>\n",
       "    <tr>\n",
       "      <th>2732</th>\n",
       "      <td>1.0</td>\n",
       "      <td>1.000</td>\n",
       "      <td>0.002467</td>\n",
       "      <td>0.943101</td>\n",
       "      <td>0.8750</td>\n",
       "      <td>0.002467</td>\n",
       "      <td>0.552797</td>\n",
       "    </tr>\n",
       "  </tbody>\n",
       "</table>\n",
       "<p>18647 rows × 7 columns</p>\n",
       "</div>"
      ],
      "text/plain": [
       "       average_rating  number_of_reviews     brand  out_of_stock  \\\n",
       "16175            -1.1             -1.250  0.034483      0.943101   \n",
       "1002             -1.0             -1.125  0.009975      0.943101   \n",
       "4585              0.4              0.375  0.034215      0.943101   \n",
       "15305             0.4              0.375  0.066981      0.943101   \n",
       "17542             0.5              0.500  0.015177      0.943101   \n",
       "...               ...                ...       ...           ...   \n",
       "13123            -3.7             -3.875  0.000375      0.943101   \n",
       "19648             0.0              0.000  0.004827      0.943101   \n",
       "9845             -0.3             -0.375  0.008259      0.943101   \n",
       "10799             0.3              0.250  0.009975      0.943101   \n",
       "2732              1.0              1.000  0.002467      0.943101   \n",
       "\n",
       "       avg_delivery_time_days    seller   product  \n",
       "16175                  0.1875  0.018448  0.552797  \n",
       "1002                   0.1875  0.009975  0.552797  \n",
       "4585                   0.6250  0.055022  0.552797  \n",
       "15305                  0.6250  0.009331  0.055505  \n",
       "17542                  0.6250  0.014319  0.552797  \n",
       "...                       ...       ...       ...  \n",
       "13123                  0.0625  0.000375  0.055505  \n",
       "19648                  0.4375  0.004987  0.094171  \n",
       "9845                   0.3750  0.001716  0.055505  \n",
       "10799                  0.5625  0.009975  0.552797  \n",
       "2732                   0.8750  0.002467  0.552797  \n",
       "\n",
       "[18647 rows x 7 columns]"
      ]
     },
     "execution_count": 34,
     "metadata": {},
     "output_type": "execute_result"
    }
   ],
   "source": [
    "X_train[features_selected]"
   ]
  },
  {
   "cell_type": "code",
   "execution_count": 35,
   "id": "6591ce31",
   "metadata": {
    "ExecuteTime": {
     "end_time": "2023-10-22T13:53:38.114965Z",
     "start_time": "2023-10-22T13:53:38.070822Z"
    }
   },
   "outputs": [
    {
     "data": {
      "text/html": [
       "<div>\n",
       "<style scoped>\n",
       "    .dataframe tbody tr th:only-of-type {\n",
       "        vertical-align: middle;\n",
       "    }\n",
       "\n",
       "    .dataframe tbody tr th {\n",
       "        vertical-align: top;\n",
       "    }\n",
       "\n",
       "    .dataframe thead th {\n",
       "        text-align: right;\n",
       "    }\n",
       "</style>\n",
       "<table border=\"1\" class=\"dataframe\">\n",
       "  <thead>\n",
       "    <tr style=\"text-align: right;\">\n",
       "      <th></th>\n",
       "      <th>average_rating</th>\n",
       "      <th>number_of_reviews</th>\n",
       "      <th>brand</th>\n",
       "      <th>out_of_stock</th>\n",
       "      <th>avg_delivery_time_days</th>\n",
       "      <th>seller</th>\n",
       "      <th>product</th>\n",
       "    </tr>\n",
       "  </thead>\n",
       "  <tbody>\n",
       "    <tr>\n",
       "      <th>13455</th>\n",
       "      <td>0.3</td>\n",
       "      <td>0.250</td>\n",
       "      <td>0.022363</td>\n",
       "      <td>0.943101</td>\n",
       "      <td>0.5625</td>\n",
       "      <td>0.022363</td>\n",
       "      <td>0.552797</td>\n",
       "    </tr>\n",
       "    <tr>\n",
       "      <th>7004</th>\n",
       "      <td>0.6</td>\n",
       "      <td>0.500</td>\n",
       "      <td>0.032713</td>\n",
       "      <td>0.943101</td>\n",
       "      <td>0.6875</td>\n",
       "      <td>0.032123</td>\n",
       "      <td>0.552797</td>\n",
       "    </tr>\n",
       "    <tr>\n",
       "      <th>8562</th>\n",
       "      <td>0.3</td>\n",
       "      <td>0.250</td>\n",
       "      <td>0.009117</td>\n",
       "      <td>0.943101</td>\n",
       "      <td>0.5625</td>\n",
       "      <td>0.008312</td>\n",
       "      <td>0.552797</td>\n",
       "    </tr>\n",
       "    <tr>\n",
       "      <th>16573</th>\n",
       "      <td>-3.7</td>\n",
       "      <td>-3.875</td>\n",
       "      <td>0.003218</td>\n",
       "      <td>0.943101</td>\n",
       "      <td>0.0625</td>\n",
       "      <td>0.003271</td>\n",
       "      <td>0.552797</td>\n",
       "    </tr>\n",
       "    <tr>\n",
       "      <th>5334</th>\n",
       "      <td>1.0</td>\n",
       "      <td>1.000</td>\n",
       "      <td>0.009224</td>\n",
       "      <td>0.943101</td>\n",
       "      <td>0.8750</td>\n",
       "      <td>0.009331</td>\n",
       "      <td>0.552797</td>\n",
       "    </tr>\n",
       "    <tr>\n",
       "      <th>...</th>\n",
       "      <td>...</td>\n",
       "      <td>...</td>\n",
       "      <td>...</td>\n",
       "      <td>...</td>\n",
       "      <td>...</td>\n",
       "      <td>...</td>\n",
       "      <td>...</td>\n",
       "    </tr>\n",
       "    <tr>\n",
       "      <th>19520</th>\n",
       "      <td>0.3</td>\n",
       "      <td>0.250</td>\n",
       "      <td>0.000107</td>\n",
       "      <td>0.943101</td>\n",
       "      <td>0.5625</td>\n",
       "      <td>0.000107</td>\n",
       "      <td>0.552797</td>\n",
       "    </tr>\n",
       "    <tr>\n",
       "      <th>14125</th>\n",
       "      <td>-2.7</td>\n",
       "      <td>-2.875</td>\n",
       "      <td>0.022363</td>\n",
       "      <td>0.943101</td>\n",
       "      <td>0.0000</td>\n",
       "      <td>0.022363</td>\n",
       "      <td>0.552797</td>\n",
       "    </tr>\n",
       "    <tr>\n",
       "      <th>1619</th>\n",
       "      <td>-0.5</td>\n",
       "      <td>-0.625</td>\n",
       "      <td>0.017804</td>\n",
       "      <td>0.943101</td>\n",
       "      <td>0.3125</td>\n",
       "      <td>0.013032</td>\n",
       "      <td>0.018877</td>\n",
       "    </tr>\n",
       "    <tr>\n",
       "      <th>725</th>\n",
       "      <td>-0.7</td>\n",
       "      <td>-0.750</td>\n",
       "      <td>0.000644</td>\n",
       "      <td>0.943101</td>\n",
       "      <td>0.2500</td>\n",
       "      <td>0.000644</td>\n",
       "      <td>0.127527</td>\n",
       "    </tr>\n",
       "    <tr>\n",
       "      <th>2414</th>\n",
       "      <td>-0.8</td>\n",
       "      <td>-0.875</td>\n",
       "      <td>0.009975</td>\n",
       "      <td>0.943101</td>\n",
       "      <td>0.2500</td>\n",
       "      <td>0.009975</td>\n",
       "      <td>0.552797</td>\n",
       "    </tr>\n",
       "  </tbody>\n",
       "</table>\n",
       "<p>4662 rows × 7 columns</p>\n",
       "</div>"
      ],
      "text/plain": [
       "       average_rating  number_of_reviews     brand  out_of_stock  \\\n",
       "13455             0.3              0.250  0.022363      0.943101   \n",
       "7004              0.6              0.500  0.032713      0.943101   \n",
       "8562              0.3              0.250  0.009117      0.943101   \n",
       "16573            -3.7             -3.875  0.003218      0.943101   \n",
       "5334              1.0              1.000  0.009224      0.943101   \n",
       "...               ...                ...       ...           ...   \n",
       "19520             0.3              0.250  0.000107      0.943101   \n",
       "14125            -2.7             -2.875  0.022363      0.943101   \n",
       "1619             -0.5             -0.625  0.017804      0.943101   \n",
       "725              -0.7             -0.750  0.000644      0.943101   \n",
       "2414             -0.8             -0.875  0.009975      0.943101   \n",
       "\n",
       "       avg_delivery_time_days    seller   product  \n",
       "13455                  0.5625  0.022363  0.552797  \n",
       "7004                   0.6875  0.032123  0.552797  \n",
       "8562                   0.5625  0.008312  0.552797  \n",
       "16573                  0.0625  0.003271  0.552797  \n",
       "5334                   0.8750  0.009331  0.552797  \n",
       "...                       ...       ...       ...  \n",
       "19520                  0.5625  0.000107  0.552797  \n",
       "14125                  0.0000  0.022363  0.552797  \n",
       "1619                   0.3125  0.013032  0.018877  \n",
       "725                    0.2500  0.000644  0.127527  \n",
       "2414                   0.2500  0.009975  0.552797  \n",
       "\n",
       "[4662 rows x 7 columns]"
      ]
     },
     "execution_count": 35,
     "metadata": {},
     "output_type": "execute_result"
    }
   ],
   "source": [
    "X_test_mod[features_selected]"
   ]
  },
  {
   "cell_type": "code",
   "execution_count": 36,
   "id": "6b5bba4e",
   "metadata": {
    "ExecuteTime": {
     "end_time": "2023-10-22T13:53:40.445713Z",
     "start_time": "2023-10-22T13:53:40.420342Z"
    }
   },
   "outputs": [],
   "source": [
    "def MachineLearning(X_train, y_train, X_test, y_test, features_selected):\n",
    "    SEED = 42\n",
    "\n",
    "    lista_de_medidas = ['SMAPE']\n",
    "    nome_das_medidas = ['SMAPE']\n",
    "\n",
    "    lista_de_modelos = [XGBRegressor(learning_rate=0.1, n_estimators=100, max_depth=3),\n",
    "                        SGDRegressor(random_state=SEED), \n",
    "                        LGBMRegressor(random_state=SEED, n_jobs=-1, force_row_wise=True, ),\n",
    "                        DecisionTreeRegressor(random_state=SEED),\n",
    "                        KNeighborsRegressor(n_neighbors=5,  weights='distance',n_jobs=-1),\n",
    "                        BaggingRegressor(),\n",
    "                        RandomForestRegressor(random_state=SEED)]\n",
    "\n",
    "    nome_dos_modelos = ['XGBoost', \n",
    "                        'SGD', \n",
    "                        'LGBM', \n",
    "                        'DecisionTree',\n",
    "                        'KNN',\n",
    "                        'Bagging',\n",
    "                        'RandomForest']\n",
    "\n",
    "    resultados0 = {}\n",
    "    \n",
    "    X_train_selected = X_train[features_selected]\n",
    "    X_test_selected = X_test[features_selected]\n",
    "\n",
    "    for i in range(len(lista_de_modelos)):\n",
    "        print('Rodando modelo: ' + nome_dos_modelos[i])\n",
    "        \n",
    "        model = lista_de_modelos[i]\n",
    "        \n",
    "        model.fit(X_train_selected, y_train)\n",
    "        \n",
    "        y_pred = model.predict(X_test_selected)\n",
    "        \n",
    "        smape = 100 / len(y_test) * np.sum(2 * np.abs(np.expm1(y_pred) - np.expm1(y_test)) / (np.abs(np.expm1(y_test)) + np.abs(np.expm1(y_pred))))\n",
    "        # Calculo meigarom: 100 / len(y_test) * np.sum(2 * np.abs(y_pred - y_test) / (np.abs(y_test) + np.abs(y_pred)))\n",
    "\n",
    "        resultados0[nome_dos_modelos[i]] = [smape]\n",
    "    \n",
    "    resultados = pd.DataFrame(resultados0, index = nome_das_medidas).T\n",
    "\n",
    "    return resultados"
   ]
  },
  {
   "cell_type": "code",
   "execution_count": 37,
   "id": "26ccec43",
   "metadata": {
    "ExecuteTime": {
     "end_time": "2023-10-22T13:53:50.908380Z",
     "start_time": "2023-10-22T13:53:42.861798Z"
    }
   },
   "outputs": [
    {
     "name": "stdout",
     "output_type": "stream",
     "text": [
      "Rodando modelo: XGBoost\n",
      "Rodando modelo: SGD\n",
      "Rodando modelo: LGBM\n",
      "Rodando modelo: DecisionTree\n",
      "Rodando modelo: KNN\n",
      "Rodando modelo: Bagging\n",
      "Rodando modelo: RandomForest\n"
     ]
    },
    {
     "data": {
      "text/html": [
       "<div>\n",
       "<style scoped>\n",
       "    .dataframe tbody tr th:only-of-type {\n",
       "        vertical-align: middle;\n",
       "    }\n",
       "\n",
       "    .dataframe tbody tr th {\n",
       "        vertical-align: top;\n",
       "    }\n",
       "\n",
       "    .dataframe thead th {\n",
       "        text-align: right;\n",
       "    }\n",
       "</style>\n",
       "<table border=\"1\" class=\"dataframe\">\n",
       "  <thead>\n",
       "    <tr style=\"text-align: right;\">\n",
       "      <th></th>\n",
       "      <th>SMAPE</th>\n",
       "    </tr>\n",
       "  </thead>\n",
       "  <tbody>\n",
       "    <tr>\n",
       "      <th>XGBoost</th>\n",
       "      <td>104.737471</td>\n",
       "    </tr>\n",
       "    <tr>\n",
       "      <th>SGD</th>\n",
       "      <td>101.425824</td>\n",
       "    </tr>\n",
       "    <tr>\n",
       "      <th>LGBM</th>\n",
       "      <td>104.309112</td>\n",
       "    </tr>\n",
       "    <tr>\n",
       "      <th>DecisionTree</th>\n",
       "      <td>96.791573</td>\n",
       "    </tr>\n",
       "    <tr>\n",
       "      <th>KNN</th>\n",
       "      <td>94.813314</td>\n",
       "    </tr>\n",
       "    <tr>\n",
       "      <th>Bagging</th>\n",
       "      <td>100.409359</td>\n",
       "    </tr>\n",
       "    <tr>\n",
       "      <th>RandomForest</th>\n",
       "      <td>100.381049</td>\n",
       "    </tr>\n",
       "  </tbody>\n",
       "</table>\n",
       "</div>"
      ],
      "text/plain": [
       "                   SMAPE\n",
       "XGBoost       104.737471\n",
       "SGD           101.425824\n",
       "LGBM          104.309112\n",
       "DecisionTree   96.791573\n",
       "KNN            94.813314\n",
       "Bagging       100.409359\n",
       "RandomForest  100.381049"
      ]
     },
     "execution_count": 37,
     "metadata": {},
     "output_type": "execute_result"
    }
   ],
   "source": [
    "MachineLearning(X_train, y_train, X_test_mod, y_test_mod, features_selected)"
   ]
  },
  {
   "cell_type": "markdown",
   "id": "f5a71e16",
   "metadata": {},
   "source": [
    "# Fine Tuning"
   ]
  },
  {
   "cell_type": "code",
   "execution_count": 459,
   "id": "75033930",
   "metadata": {
    "ExecuteTime": {
     "end_time": "2023-10-22T13:45:43.786390Z",
     "start_time": "2023-10-22T13:45:43.309443Z"
    }
   },
   "outputs": [],
   "source": [
    "best_model = XGBRegressor(learning_rate=0.1, n_estimators=100, max_depth=3).fit(X_train[features_selected], y_train)"
   ]
  },
  {
   "cell_type": "markdown",
   "id": "29c4d111",
   "metadata": {},
   "source": [
    "# Submission"
   ]
  },
  {
   "cell_type": "markdown",
   "id": "9966dbd8",
   "metadata": {},
   "source": [
    "### Carregar os dados"
   ]
  },
  {
   "cell_type": "code",
   "execution_count": 460,
   "id": "06839809",
   "metadata": {
    "ExecuteTime": {
     "end_time": "2023-10-22T13:45:43.988273Z",
     "start_time": "2023-10-22T13:45:43.789872Z"
    }
   },
   "outputs": [
    {
     "data": {
      "text/html": [
       "<div>\n",
       "<style scoped>\n",
       "    .dataframe tbody tr th:only-of-type {\n",
       "        vertical-align: middle;\n",
       "    }\n",
       "\n",
       "    .dataframe tbody tr th {\n",
       "        vertical-align: top;\n",
       "    }\n",
       "\n",
       "    .dataframe thead th {\n",
       "        text-align: right;\n",
       "    }\n",
       "</style>\n",
       "<table border=\"1\" class=\"dataframe\">\n",
       "  <thead>\n",
       "    <tr style=\"text-align: right;\">\n",
       "      <th></th>\n",
       "      <th>_id</th>\n",
       "      <th>average_rating</th>\n",
       "      <th>number_of_reviews</th>\n",
       "      <th>brand</th>\n",
       "      <th>category</th>\n",
       "      <th>crawled_at</th>\n",
       "      <th>description</th>\n",
       "      <th>images</th>\n",
       "      <th>out_of_stock</th>\n",
       "      <th>avg_delivery_time_days</th>\n",
       "      <th>pid</th>\n",
       "      <th>product_details</th>\n",
       "      <th>seller</th>\n",
       "      <th>sub_category</th>\n",
       "      <th>fabrication_time</th>\n",
       "      <th>title</th>\n",
       "    </tr>\n",
       "  </thead>\n",
       "  <tbody>\n",
       "    <tr>\n",
       "      <th>0</th>\n",
       "      <td>35d28961-170f-515d-90d4-55ee978a8afa</td>\n",
       "      <td>4.8</td>\n",
       "      <td>40</td>\n",
       "      <td>Mo</td>\n",
       "      <td>Clothing and Accessories</td>\n",
       "      <td>2021-02-10 21:18:47</td>\n",
       "      <td>Accentuate your formal wardrobe by buying this...</td>\n",
       "      <td>['https://rukminim1.flixcart.com/image/128/128...</td>\n",
       "      <td>False</td>\n",
       "      <td>17</td>\n",
       "      <td>SHTFDYZGEXPED7YS</td>\n",
       "      <td>[{'Pack of': '1'}, {'Model Name': 'Mods Slim f...</td>\n",
       "      <td>KKSONS</td>\n",
       "      <td>Topwear</td>\n",
       "      <td>32</td>\n",
       "      <td>Men Slim Fit Printed Button Down Collar Casual...</td>\n",
       "    </tr>\n",
       "    <tr>\n",
       "      <th>1</th>\n",
       "      <td>5089618f-7eec-571b-84b6-41c3b43a2ed4</td>\n",
       "      <td>3.7</td>\n",
       "      <td>31</td>\n",
       "      <td>True Bl</td>\n",
       "      <td>Clothing and Accessories</td>\n",
       "      <td>2021-02-10 22:12:20</td>\n",
       "      <td>undefined</td>\n",
       "      <td>['https://rukminim1.flixcart.com/image/128/128...</td>\n",
       "      <td>False</td>\n",
       "      <td>10</td>\n",
       "      <td>TROFM47EVWRYK7ZU</td>\n",
       "      <td>[{'Fit': 'Slim Fit'}, {'Occasion': 'Casual'}, ...</td>\n",
       "      <td>KAPSONSRETAILPVTLTD</td>\n",
       "      <td>Bottomwear</td>\n",
       "      <td>318</td>\n",
       "      <td>Slim Fit Men Brown Cotton Blend Trousers</td>\n",
       "    </tr>\n",
       "    <tr>\n",
       "      <th>2</th>\n",
       "      <td>84716375-2ea3-5376-bca1-ecef76b0aa87</td>\n",
       "      <td>3.2</td>\n",
       "      <td>26</td>\n",
       "      <td>vims rai</td>\n",
       "      <td>Clothing and Accessories</td>\n",
       "      <td>2021-02-11 01:16:36</td>\n",
       "      <td>undefined</td>\n",
       "      <td>['https://rukminim1.flixcart.com/image/128/128...</td>\n",
       "      <td>False</td>\n",
       "      <td>8</td>\n",
       "      <td>FABFZAMPGDW3BKGX</td>\n",
       "      <td>[{'Type': 'Shirt Fabric'}, {'Sales Package': '...</td>\n",
       "      <td>WHITE SKY</td>\n",
       "      <td>Fabrics</td>\n",
       "      <td>411</td>\n",
       "      <td>Rayon Printed Shirt Fabric  (Unstitched)</td>\n",
       "    </tr>\n",
       "    <tr>\n",
       "      <th>3</th>\n",
       "      <td>84120873-2b67-5f2c-9074-803e52e278f7</td>\n",
       "      <td>3.6</td>\n",
       "      <td>30</td>\n",
       "      <td>True Bl</td>\n",
       "      <td>Clothing and Accessories</td>\n",
       "      <td>2021-02-10 22:21:32</td>\n",
       "      <td>undefined</td>\n",
       "      <td>['https://rukminim1.flixcart.com/image/128/128...</td>\n",
       "      <td>False</td>\n",
       "      <td>10</td>\n",
       "      <td>BZRFNMGPNBQTYHMG</td>\n",
       "      <td>[{'Color': 'Blue'}, {'Fabric': 'Polyester'}, {...</td>\n",
       "      <td>KAPSONSRETAILPVTLTD</td>\n",
       "      <td>Blazers, Waistcoats and Suits</td>\n",
       "      <td>431</td>\n",
       "      <td>Solid Single Breasted Formal Men Full Sleeve B...</td>\n",
       "    </tr>\n",
       "    <tr>\n",
       "      <th>4</th>\n",
       "      <td>96238f84-3bb8-5ec1-b2f4-fe481ba35faa</td>\n",
       "      <td>2.5</td>\n",
       "      <td>21</td>\n",
       "      <td>ECKO Unl</td>\n",
       "      <td>Clothing and Accessories</td>\n",
       "      <td>2021-02-10 22:32:00</td>\n",
       "      <td>ECKO Unltd YD CHECK  Cotton Woven Slim Fit IND...</td>\n",
       "      <td>['https://rukminim1.flixcart.com/image/128/128...</td>\n",
       "      <td>False</td>\n",
       "      <td>5</td>\n",
       "      <td>SHTFV5G6PZDQZEVZ</td>\n",
       "      <td>[{'Pack of': '1'}, {'Style Code': 'EKSH001497'...</td>\n",
       "      <td>SandSMarketing</td>\n",
       "      <td>Topwear</td>\n",
       "      <td>512</td>\n",
       "      <td>Men Slim Fit Checkered Cut Away Collar Casual ...</td>\n",
       "    </tr>\n",
       "  </tbody>\n",
       "</table>\n",
       "</div>"
      ],
      "text/plain": [
       "                                    _id  average_rating  number_of_reviews  \\\n",
       "0  35d28961-170f-515d-90d4-55ee978a8afa             4.8                 40   \n",
       "1  5089618f-7eec-571b-84b6-41c3b43a2ed4             3.7                 31   \n",
       "2  84716375-2ea3-5376-bca1-ecef76b0aa87             3.2                 26   \n",
       "3  84120873-2b67-5f2c-9074-803e52e278f7             3.6                 30   \n",
       "4  96238f84-3bb8-5ec1-b2f4-fe481ba35faa             2.5                 21   \n",
       "\n",
       "      brand                  category           crawled_at  \\\n",
       "0        Mo  Clothing and Accessories  2021-02-10 21:18:47   \n",
       "1   True Bl  Clothing and Accessories  2021-02-10 22:12:20   \n",
       "2  vims rai  Clothing and Accessories  2021-02-11 01:16:36   \n",
       "3   True Bl  Clothing and Accessories  2021-02-10 22:21:32   \n",
       "4  ECKO Unl  Clothing and Accessories  2021-02-10 22:32:00   \n",
       "\n",
       "                                         description  \\\n",
       "0  Accentuate your formal wardrobe by buying this...   \n",
       "1                                          undefined   \n",
       "2                                          undefined   \n",
       "3                                          undefined   \n",
       "4  ECKO Unltd YD CHECK  Cotton Woven Slim Fit IND...   \n",
       "\n",
       "                                              images  out_of_stock  \\\n",
       "0  ['https://rukminim1.flixcart.com/image/128/128...         False   \n",
       "1  ['https://rukminim1.flixcart.com/image/128/128...         False   \n",
       "2  ['https://rukminim1.flixcart.com/image/128/128...         False   \n",
       "3  ['https://rukminim1.flixcart.com/image/128/128...         False   \n",
       "4  ['https://rukminim1.flixcart.com/image/128/128...         False   \n",
       "\n",
       "   avg_delivery_time_days               pid  \\\n",
       "0                      17  SHTFDYZGEXPED7YS   \n",
       "1                      10  TROFM47EVWRYK7ZU   \n",
       "2                       8  FABFZAMPGDW3BKGX   \n",
       "3                      10  BZRFNMGPNBQTYHMG   \n",
       "4                       5  SHTFV5G6PZDQZEVZ   \n",
       "\n",
       "                                     product_details               seller  \\\n",
       "0  [{'Pack of': '1'}, {'Model Name': 'Mods Slim f...               KKSONS   \n",
       "1  [{'Fit': 'Slim Fit'}, {'Occasion': 'Casual'}, ...  KAPSONSRETAILPVTLTD   \n",
       "2  [{'Type': 'Shirt Fabric'}, {'Sales Package': '...            WHITE SKY   \n",
       "3  [{'Color': 'Blue'}, {'Fabric': 'Polyester'}, {...  KAPSONSRETAILPVTLTD   \n",
       "4  [{'Pack of': '1'}, {'Style Code': 'EKSH001497'...       SandSMarketing   \n",
       "\n",
       "                    sub_category  fabrication_time  \\\n",
       "0                        Topwear                32   \n",
       "1                     Bottomwear               318   \n",
       "2                        Fabrics               411   \n",
       "3  Blazers, Waistcoats and Suits               431   \n",
       "4                        Topwear               512   \n",
       "\n",
       "                                               title  \n",
       "0  Men Slim Fit Printed Button Down Collar Casual...  \n",
       "1           Slim Fit Men Brown Cotton Blend Trousers  \n",
       "2           Rayon Printed Shirt Fabric  (Unstitched)  \n",
       "3  Solid Single Breasted Formal Men Full Sleeve B...  \n",
       "4  Men Slim Fit Checkered Cut Away Collar Casual ...  "
      ]
     },
     "execution_count": 460,
     "metadata": {},
     "output_type": "execute_result"
    }
   ],
   "source": [
    "# Opening JSON file\n",
    "sub = open('dataset/raw/test.json')\n",
    " \n",
    "# returns JSON object as \n",
    "# a dictionary\n",
    "data_sub_aux = json.load(sub)\n",
    "\n",
    "data_sub = pd.json_normalize(data_sub_aux, record_path = 'data')\n",
    "data_sub.columns = data_sub_aux['columns']\n",
    "data_sub.head()"
   ]
  },
  {
   "cell_type": "code",
   "execution_count": 461,
   "id": "80cbb109",
   "metadata": {
    "ExecuteTime": {
     "end_time": "2023-10-22T13:45:44.003038Z",
     "start_time": "2023-10-22T13:45:43.991022Z"
    }
   },
   "outputs": [
    {
     "data": {
      "text/plain": [
       "(5600, 16)"
      ]
     },
     "execution_count": 461,
     "metadata": {},
     "output_type": "execute_result"
    }
   ],
   "source": [
    "data_sub.shape"
   ]
  },
  {
   "cell_type": "markdown",
   "id": "c81422b5",
   "metadata": {},
   "source": [
    "### Aplicar ML no teste e submissão"
   ]
  },
  {
   "cell_type": "code",
   "execution_count": 462,
   "id": "e767b802",
   "metadata": {
    "ExecuteTime": {
     "end_time": "2023-10-22T13:45:45.852039Z",
     "start_time": "2023-10-22T13:45:44.006353Z"
    }
   },
   "outputs": [],
   "source": [
    "# Aplicando funções nos dados de teste\n",
    "data_sub_mod = submission_preparation(data_sub, features_selected)\n",
    "\n",
    "# Aplicando o modelo nos dados de teste\n",
    "y_hat = np.expm1(best_model.predict(data_sub_mod))"
   ]
  },
  {
   "cell_type": "code",
   "execution_count": 463,
   "id": "84f32be7",
   "metadata": {
    "ExecuteTime": {
     "end_time": "2023-10-22T13:46:25.457771Z",
     "start_time": "2023-10-22T13:46:25.388389Z"
    },
    "run_control": {
     "marked": true
    }
   },
   "outputs": [],
   "source": [
    "# Preparando os dados para a submissão\n",
    "\n",
    "df_submission = pd.DataFrame()\n",
    "df_submission['pid'] = data_sub['pid']\n",
    "df_submission['actual_price'] = y_hat\n",
    "\n",
    "# Exportando como CSV\n",
    "\n",
    "df_submission.to_csv('submissions/submission_6.csv', index=False)"
   ]
  },
  {
   "cell_type": "code",
   "execution_count": null,
   "id": "cb37c57b",
   "metadata": {},
   "outputs": [],
   "source": []
  }
 ],
 "metadata": {
  "kernelspec": {
   "display_name": "Python 3 (ipykernel)",
   "language": "python",
   "name": "python3"
  },
  "language_info": {
   "codemirror_mode": {
    "name": "ipython",
    "version": 3
   },
   "file_extension": ".py",
   "mimetype": "text/x-python",
   "name": "python",
   "nbconvert_exporter": "python",
   "pygments_lexer": "ipython3",
   "version": "3.9.7"
  },
  "toc": {
   "base_numbering": 1,
   "nav_menu": {},
   "number_sections": true,
   "sideBar": true,
   "skip_h1_title": false,
   "title_cell": "Table of Contents",
   "title_sidebar": "Contents",
   "toc_cell": false,
   "toc_position": {
    "height": "calc(100% - 180px)",
    "left": "10px",
    "top": "150px",
    "width": "345.994px"
   },
   "toc_section_display": true,
   "toc_window_display": true
  },
  "varInspector": {
   "cols": {
    "lenName": 16,
    "lenType": 16,
    "lenVar": 40
   },
   "kernels_config": {
    "python": {
     "delete_cmd_postfix": "",
     "delete_cmd_prefix": "del ",
     "library": "var_list.py",
     "varRefreshCmd": "print(var_dic_list())"
    },
    "r": {
     "delete_cmd_postfix": ") ",
     "delete_cmd_prefix": "rm(",
     "library": "var_list.r",
     "varRefreshCmd": "cat(var_dic_list()) "
    }
   },
   "types_to_exclude": [
    "module",
    "function",
    "builtin_function_or_method",
    "instance",
    "_Feature"
   ],
   "window_display": false
  },
  "vscode": {
   "interpreter": {
    "hash": "892e5ff5783333d733f0bd2e0068297de9409e96214f7e68af4469f351f76fae"
   }
  }
 },
 "nbformat": 4,
 "nbformat_minor": 5
}
