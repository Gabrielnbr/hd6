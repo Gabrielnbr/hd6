{
 "cells": [
  {
   "cell_type": "markdown",
   "id": "23e57af8",
   "metadata": {},
   "source": [
    "# Imports"
   ]
  },
  {
   "cell_type": "code",
   "execution_count": 1,
   "id": "403b1b50",
   "metadata": {
    "ExecuteTime": {
     "end_time": "2023-10-21T20:00:23.494266Z",
     "start_time": "2023-10-21T20:00:23.470513Z"
    }
   },
   "outputs": [],
   "source": [
    "import pandas as pd\n",
    "import numpy as np\n",
    "import json\n",
    "import datetime\n",
    "import ast\n",
    "import dtale\n",
    "\n",
    "from sklearn import preprocessing as pp\n",
    "import pickle\n",
    "\n",
    "from sklearn import model_selection as ms\n",
    "import category_encoders as ce\n",
    "# from dataprep.datasets  import load_dataset\n",
    "# from dataprep.eda       import create_report\n",
    "\n",
    "#from boruta   import BorutaPy\n",
    "from lightgbm import LGBMClassifier\n",
    "\n",
    "from sklearn.ensemble        import RandomForestClassifier, BaggingClassifier, GradientBoostingClassifier\n",
    "from xgboost                 import XGBRegressor\n",
    "from sklearn.linear_model    import LogisticRegression, SGDRegressor\n",
    "from sklearn.neighbors       import KNeighborsRegressor\n",
    "from sklearn.tree            import DecisionTreeRegressor\n",
    "from sklearn.ensemble        import RandomForestRegressor, BaggingRegressor\n",
    "from sklearn.metrics         import accuracy_score, recall_score, precision_score, balanced_accuracy_score, f1_score, roc_curve, confusion_matrix\n",
    "from sklearn.model_selection import GridSearchCV, RandomizedSearchCV\n",
    "from sklearn.naive_bayes     import GaussianNB\n",
    "from lightgbm                import LGBMRegressor"
   ]
  },
  {
   "cell_type": "markdown",
   "id": "3f2f5333",
   "metadata": {},
   "source": [
    "## Helper Functions"
   ]
  },
  {
   "cell_type": "code",
   "execution_count": 2,
   "id": "549a296a",
   "metadata": {
    "ExecuteTime": {
     "end_time": "2023-10-21T20:00:23.588557Z",
     "start_time": "2023-10-21T20:00:23.563505Z"
    }
   },
   "outputs": [],
   "source": [
    "def test_preparation(X_test, y_test):\n",
    "    X_test = rescalling(X_test)\n",
    "    X_test = transform(X_test)\n",
    "    y_test = log_var_resposta(y_test)\n",
    "    \n",
    "    return X_test, y_test\n",
    "\n",
    "\n",
    "def rescalling (X_test):\n",
    "    \n",
    "    mm = pickle.load(open('parameters/mm_avg_delivery_time_days.pkl','rb'))\n",
    "    X_test['avg_delivery_time_days'] = mm.transform(X_test[['avg_delivery_time_days']])\n",
    "    \n",
    "    rs_ar = pickle.load(open('parameters/rs_average_rating.pkl','rb'))\n",
    "    \n",
    "    X_test['average_rating'] = rs_ar.transform(X_test[['average_rating']])\n",
    "    \n",
    "    rs_nr = pickle.load(open('parameters/rs_number_of_reviews.pkl','rb'))\n",
    "    \n",
    "    X_test['number_of_reviews'] = rs_nr.transform(X_test[['number_of_reviews']])\n",
    "    \n",
    "    return X_test\n",
    "\n",
    "def transform (X_test):\n",
    "    \n",
    "    for att in ['brand', 'product', 'seller']:\n",
    "        fe = pickle.load(open(f'parameters/fe_{att}.pkl', 'rb'))\n",
    "        X_test = fe.transform(X_test)\n",
    "    \n",
    "    return X_test\n",
    "\n",
    "def log_var_resposta(df):\n",
    "    df = np.log1p(df)\n",
    "    return df\n",
    "\n",
    "def feature_selection(df):\n",
    "    features_selected = [\n",
    "    'average_rating',\n",
    "    'number_of_reviews',\n",
    "    'brand',\n",
    "    # 'category',\n",
    "    # 'crawled_at',\n",
    "    'out_of_stock',\n",
    "    'avg_delivery_time_days',\n",
    "    # 'product_details',\n",
    "    'seller',\n",
    "    # 'sub_category',\n",
    "    # 'fabrication_time',\n",
    "    # 'title',\n",
    "    'product'\n",
    "    ]\n",
    "    \n",
    "    return df[features_selected]\n"
   ]
  },
  {
   "cell_type": "markdown",
   "id": "1c83d907",
   "metadata": {},
   "source": [
    "# Load Data"
   ]
  },
  {
   "cell_type": "code",
   "execution_count": 3,
   "id": "d0d2e3d5",
   "metadata": {
    "ExecuteTime": {
     "end_time": "2023-10-21T20:00:24.593527Z",
     "start_time": "2023-10-21T20:00:23.661828Z"
    }
   },
   "outputs": [
    {
     "data": {
      "text/html": [
       "<div>\n",
       "<style scoped>\n",
       "    .dataframe tbody tr th:only-of-type {\n",
       "        vertical-align: middle;\n",
       "    }\n",
       "\n",
       "    .dataframe tbody tr th {\n",
       "        vertical-align: top;\n",
       "    }\n",
       "\n",
       "    .dataframe thead th {\n",
       "        text-align: right;\n",
       "    }\n",
       "</style>\n",
       "<table border=\"1\" class=\"dataframe\">\n",
       "  <thead>\n",
       "    <tr style=\"text-align: right;\">\n",
       "      <th></th>\n",
       "      <th>_id</th>\n",
       "      <th>average_rating</th>\n",
       "      <th>number_of_reviews</th>\n",
       "      <th>brand</th>\n",
       "      <th>category</th>\n",
       "      <th>crawled_at</th>\n",
       "      <th>description</th>\n",
       "      <th>images</th>\n",
       "      <th>out_of_stock</th>\n",
       "      <th>avg_delivery_time_days</th>\n",
       "      <th>pid</th>\n",
       "      <th>product_details</th>\n",
       "      <th>seller</th>\n",
       "      <th>sub_category</th>\n",
       "      <th>fabrication_time</th>\n",
       "      <th>title</th>\n",
       "      <th>actual_price</th>\n",
       "    </tr>\n",
       "  </thead>\n",
       "  <tbody>\n",
       "    <tr>\n",
       "      <th>0</th>\n",
       "      <td>53df9662-e500-569c-946e-0c8d215a72cd</td>\n",
       "      <td>3.2</td>\n",
       "      <td>26</td>\n",
       "      <td>East I</td>\n",
       "      <td>Clothing and Accessories</td>\n",
       "      <td>2021-02-10 21:17:28</td>\n",
       "      <td>Navy Blue Printed Boxers Has  An Inner  Elasti...</td>\n",
       "      <td>['https://rukminim1.flixcart.com/image/128/128...</td>\n",
       "      <td>False</td>\n",
       "      <td>8</td>\n",
       "      <td>BXRFTZF7JGX75DAW</td>\n",
       "      <td>[{'Color': 'Dark Blue'}, {'Fabric': 'Pure Cott...</td>\n",
       "      <td>ZIYAA</td>\n",
       "      <td>Innerwear and Swimwear</td>\n",
       "      <td>653</td>\n",
       "      <td>Printed Men Boxer  (Pack of 1)</td>\n",
       "      <td>849.0</td>\n",
       "    </tr>\n",
       "    <tr>\n",
       "      <th>1</th>\n",
       "      <td>d0142842-84f7-537d-a06f-d85b76488a5f</td>\n",
       "      <td>4.0</td>\n",
       "      <td>33</td>\n",
       "      <td>dream o</td>\n",
       "      <td>Clothing and Accessories</td>\n",
       "      <td>2021-02-11 01:02:46</td>\n",
       "      <td>smiley printed tshirt on round neck cotton tshirt</td>\n",
       "      <td>['https://rukminim1.flixcart.com/image/128/128...</td>\n",
       "      <td>False</td>\n",
       "      <td>12</td>\n",
       "      <td>TSHFWQM96UHR6A4Q</td>\n",
       "      <td>[{'Type': 'Round Neck'}, {'Sleeve': 'Short Sle...</td>\n",
       "      <td>Dream Onn Creations</td>\n",
       "      <td>Topwear</td>\n",
       "      <td>668</td>\n",
       "      <td>Printed Men Round Neck Orange T-Shirt</td>\n",
       "      <td>699.0</td>\n",
       "    </tr>\n",
       "    <tr>\n",
       "      <th>2</th>\n",
       "      <td>79c8f0d7-30b1-5dd4-9f2f-2fe97782b027</td>\n",
       "      <td>3.9</td>\n",
       "      <td>32</td>\n",
       "      <td>Free Authori</td>\n",
       "      <td>Clothing and Accessories</td>\n",
       "      <td>2021-02-11 00:43:37</td>\n",
       "      <td>Free Authority Presents this Crew Neck Yellow ...</td>\n",
       "      <td>['https://rukminim1.flixcart.com/image/128/128...</td>\n",
       "      <td>False</td>\n",
       "      <td>11</td>\n",
       "      <td>SWSFWCXH2WF6ZYRB</td>\n",
       "      <td>[{'Color': 'Yellow'}, {'Fabric': 'Polycotton'}...</td>\n",
       "      <td>BioworldMerchandising</td>\n",
       "      <td>Winter Wear</td>\n",
       "      <td>53</td>\n",
       "      <td>Full Sleeve Graphic Print Men Sweatshirt</td>\n",
       "      <td>1499.0</td>\n",
       "    </tr>\n",
       "    <tr>\n",
       "      <th>3</th>\n",
       "      <td>0531c28c-7c50-5fbd-9ce3-a7cae3243ad5</td>\n",
       "      <td>3.8</td>\n",
       "      <td>31</td>\n",
       "      <td>HUMBE</td>\n",
       "      <td>Clothing and Accessories</td>\n",
       "      <td>2021-02-10 21:22:10</td>\n",
       "      <td>Cotton Blend FabricCollar / Polo Neck White &amp; ...</td>\n",
       "      <td>['https://rukminim1.flixcart.com/image/128/128...</td>\n",
       "      <td>False</td>\n",
       "      <td>11</td>\n",
       "      <td>TSHFHQH3HKDAGGK9</td>\n",
       "      <td>[{'Type': 'Polo Neck'}, {'Sleeve': 'Short Slee...</td>\n",
       "      <td>HUMBERT</td>\n",
       "      <td>Topwear</td>\n",
       "      <td>510</td>\n",
       "      <td>Solid Men Polo Neck Light Blue, White T-Shirt ...</td>\n",
       "      <td>1699.0</td>\n",
       "    </tr>\n",
       "    <tr>\n",
       "      <th>4</th>\n",
       "      <td>d604baad-472e-5c18-86a3-7b46d4a890c2</td>\n",
       "      <td>2.4</td>\n",
       "      <td>20</td>\n",
       "      <td>Rose We</td>\n",
       "      <td>Clothing and Accessories</td>\n",
       "      <td>2021-02-10 23:36:36</td>\n",
       "      <td>undefined</td>\n",
       "      <td>['https://rukminim1.flixcart.com/image/128/128...</td>\n",
       "      <td>False</td>\n",
       "      <td>5</td>\n",
       "      <td>TSHFW9CJZSYUU6UX</td>\n",
       "      <td>[{'Type': 'Round Neck'}, {'Sleeve': 'Short Sle...</td>\n",
       "      <td>Rupalcollectionjaipur</td>\n",
       "      <td>Topwear</td>\n",
       "      <td>496</td>\n",
       "      <td>Printed Men Round Neck White T-Shirt</td>\n",
       "      <td>599.0</td>\n",
       "    </tr>\n",
       "  </tbody>\n",
       "</table>\n",
       "</div>"
      ],
      "text/plain": [
       "                                    _id  average_rating  number_of_reviews  \\\n",
       "0  53df9662-e500-569c-946e-0c8d215a72cd             3.2                 26   \n",
       "1  d0142842-84f7-537d-a06f-d85b76488a5f             4.0                 33   \n",
       "2  79c8f0d7-30b1-5dd4-9f2f-2fe97782b027             3.9                 32   \n",
       "3  0531c28c-7c50-5fbd-9ce3-a7cae3243ad5             3.8                 31   \n",
       "4  d604baad-472e-5c18-86a3-7b46d4a890c2             2.4                 20   \n",
       "\n",
       "          brand                  category           crawled_at  \\\n",
       "0        East I  Clothing and Accessories  2021-02-10 21:17:28   \n",
       "1       dream o  Clothing and Accessories  2021-02-11 01:02:46   \n",
       "2  Free Authori  Clothing and Accessories  2021-02-11 00:43:37   \n",
       "3         HUMBE  Clothing and Accessories  2021-02-10 21:22:10   \n",
       "4       Rose We  Clothing and Accessories  2021-02-10 23:36:36   \n",
       "\n",
       "                                         description  \\\n",
       "0  Navy Blue Printed Boxers Has  An Inner  Elasti...   \n",
       "1  smiley printed tshirt on round neck cotton tshirt   \n",
       "2  Free Authority Presents this Crew Neck Yellow ...   \n",
       "3  Cotton Blend FabricCollar / Polo Neck White & ...   \n",
       "4                                          undefined   \n",
       "\n",
       "                                              images  out_of_stock  \\\n",
       "0  ['https://rukminim1.flixcart.com/image/128/128...         False   \n",
       "1  ['https://rukminim1.flixcart.com/image/128/128...         False   \n",
       "2  ['https://rukminim1.flixcart.com/image/128/128...         False   \n",
       "3  ['https://rukminim1.flixcart.com/image/128/128...         False   \n",
       "4  ['https://rukminim1.flixcart.com/image/128/128...         False   \n",
       "\n",
       "   avg_delivery_time_days               pid  \\\n",
       "0                       8  BXRFTZF7JGX75DAW   \n",
       "1                      12  TSHFWQM96UHR6A4Q   \n",
       "2                      11  SWSFWCXH2WF6ZYRB   \n",
       "3                      11  TSHFHQH3HKDAGGK9   \n",
       "4                       5  TSHFW9CJZSYUU6UX   \n",
       "\n",
       "                                     product_details                 seller  \\\n",
       "0  [{'Color': 'Dark Blue'}, {'Fabric': 'Pure Cott...                  ZIYAA   \n",
       "1  [{'Type': 'Round Neck'}, {'Sleeve': 'Short Sle...    Dream Onn Creations   \n",
       "2  [{'Color': 'Yellow'}, {'Fabric': 'Polycotton'}...  BioworldMerchandising   \n",
       "3  [{'Type': 'Polo Neck'}, {'Sleeve': 'Short Slee...                HUMBERT   \n",
       "4  [{'Type': 'Round Neck'}, {'Sleeve': 'Short Sle...  Rupalcollectionjaipur   \n",
       "\n",
       "             sub_category  fabrication_time  \\\n",
       "0  Innerwear and Swimwear               653   \n",
       "1                 Topwear               668   \n",
       "2             Winter Wear                53   \n",
       "3                 Topwear               510   \n",
       "4                 Topwear               496   \n",
       "\n",
       "                                               title  actual_price  \n",
       "0                     Printed Men Boxer  (Pack of 1)         849.0  \n",
       "1              Printed Men Round Neck Orange T-Shirt         699.0  \n",
       "2           Full Sleeve Graphic Print Men Sweatshirt        1499.0  \n",
       "3  Solid Men Polo Neck Light Blue, White T-Shirt ...        1699.0  \n",
       "4               Printed Men Round Neck White T-Shirt         599.0  "
      ]
     },
     "execution_count": 3,
     "metadata": {},
     "output_type": "execute_result"
    }
   ],
   "source": [
    "# Opening JSON file\n",
    "train = open('dataset/raw/train.json')\n",
    " \n",
    "# returns JSON object as \n",
    "# a dictionary\n",
    "data_train_aux = json.load(train)\n",
    "\n",
    "data_train = pd.json_normalize(data_train_aux, record_path = 'data')\n",
    "data_train.columns = data_train_aux['columns']\n",
    "data_train.head()"
   ]
  },
  {
   "cell_type": "markdown",
   "id": "0ea9e857",
   "metadata": {},
   "source": [
    "# Data Description"
   ]
  },
  {
   "cell_type": "code",
   "execution_count": 4,
   "id": "343e4620",
   "metadata": {
    "ExecuteTime": {
     "end_time": "2023-10-21T20:00:24.609075Z",
     "start_time": "2023-10-21T20:00:24.597901Z"
    }
   },
   "outputs": [],
   "source": [
    "# retirar descrição\n",
    "# retirar imagem\n",
    "# verificar ids duplicados em id produto\n",
    "# Verificar outliers no price"
   ]
  },
  {
   "cell_type": "markdown",
   "id": "8616ae01",
   "metadata": {},
   "source": [
    "## Removendo colunas"
   ]
  },
  {
   "cell_type": "code",
   "execution_count": 5,
   "id": "4cf08145",
   "metadata": {
    "ExecuteTime": {
     "end_time": "2023-10-21T20:00:24.655132Z",
     "start_time": "2023-10-21T20:00:24.613081Z"
    }
   },
   "outputs": [],
   "source": [
    "data_train = data_train.drop(columns=['description', 'images'])"
   ]
  },
  {
   "cell_type": "markdown",
   "id": "625226f3",
   "metadata": {},
   "source": [
    "## Transformando tipo de dados"
   ]
  },
  {
   "cell_type": "code",
   "execution_count": 6,
   "id": "1ad79624",
   "metadata": {
    "ExecuteTime": {
     "end_time": "2023-10-21T20:00:24.685329Z",
     "start_time": "2023-10-21T20:00:24.662838Z"
    }
   },
   "outputs": [
    {
     "data": {
      "text/plain": [
       "_id                        object\n",
       "average_rating            float64\n",
       "number_of_reviews           int64\n",
       "brand                      object\n",
       "category                   object\n",
       "crawled_at                 object\n",
       "out_of_stock                 bool\n",
       "avg_delivery_time_days      int64\n",
       "pid                        object\n",
       "product_details            object\n",
       "seller                     object\n",
       "sub_category               object\n",
       "fabrication_time            int64\n",
       "title                      object\n",
       "actual_price              float64\n",
       "dtype: object"
      ]
     },
     "execution_count": 6,
     "metadata": {},
     "output_type": "execute_result"
    }
   ],
   "source": [
    "data_train.dtypes"
   ]
  },
  {
   "cell_type": "code",
   "execution_count": 7,
   "id": "0072097b",
   "metadata": {
    "ExecuteTime": {
     "end_time": "2023-10-21T20:00:24.777360Z",
     "start_time": "2023-10-21T20:00:24.693586Z"
    }
   },
   "outputs": [],
   "source": [
    "# transformando de string para data\n",
    "data_train['crawled_at'] = pd.to_datetime(data_train['crawled_at']).dt.date"
   ]
  },
  {
   "cell_type": "markdown",
   "id": "cdb9369e",
   "metadata": {},
   "source": [
    "## Tratando valores nulos"
   ]
  },
  {
   "cell_type": "code",
   "execution_count": 8,
   "id": "1c041d78",
   "metadata": {
    "ExecuteTime": {
     "end_time": "2023-10-21T20:00:24.903489Z",
     "start_time": "2023-10-21T20:00:24.781441Z"
    }
   },
   "outputs": [
    {
     "data": {
      "text/plain": [
       "_id                       0.000000\n",
       "average_rating            0.000000\n",
       "number_of_reviews         0.000000\n",
       "brand                     0.000000\n",
       "category                  0.000000\n",
       "crawled_at                0.000000\n",
       "out_of_stock              0.000000\n",
       "avg_delivery_time_days    0.000000\n",
       "pid                       0.000000\n",
       "product_details           0.000000\n",
       "seller                    0.000000\n",
       "sub_category              0.000000\n",
       "fabrication_time          0.000000\n",
       "title                     0.000000\n",
       "actual_price              0.149985\n",
       "dtype: float64"
      ]
     },
     "execution_count": 8,
     "metadata": {},
     "output_type": "execute_result"
    }
   ],
   "source": [
    "data_train.isna().sum()/data_train.shape[0]"
   ]
  },
  {
   "cell_type": "code",
   "execution_count": 9,
   "id": "26f84127",
   "metadata": {
    "ExecuteTime": {
     "end_time": "2023-10-21T20:00:24.993922Z",
     "start_time": "2023-10-21T20:00:24.910882Z"
    }
   },
   "outputs": [],
   "source": [
    "data_train = data_train.dropna(subset=['actual_price'])"
   ]
  },
  {
   "cell_type": "code",
   "execution_count": 10,
   "id": "5a54e630",
   "metadata": {
    "ExecuteTime": {
     "end_time": "2023-10-21T20:00:25.088377Z",
     "start_time": "2023-10-21T20:00:24.996134Z"
    },
    "scrolled": true
   },
   "outputs": [
    {
     "data": {
      "text/plain": [
       "_id                       0.0\n",
       "average_rating            0.0\n",
       "number_of_reviews         0.0\n",
       "brand                     0.0\n",
       "category                  0.0\n",
       "crawled_at                0.0\n",
       "out_of_stock              0.0\n",
       "avg_delivery_time_days    0.0\n",
       "pid                       0.0\n",
       "product_details           0.0\n",
       "seller                    0.0\n",
       "sub_category              0.0\n",
       "fabrication_time          0.0\n",
       "title                     0.0\n",
       "actual_price              0.0\n",
       "dtype: float64"
      ]
     },
     "execution_count": 10,
     "metadata": {},
     "output_type": "execute_result"
    }
   ],
   "source": [
    "data_train.isna().sum()/data_train.shape[0]"
   ]
  },
  {
   "cell_type": "markdown",
   "id": "f8e8fae6",
   "metadata": {},
   "source": [
    "## Entendendo product Details"
   ]
  },
  {
   "cell_type": "code",
   "execution_count": 11,
   "id": "277e00f7",
   "metadata": {
    "ExecuteTime": {
     "end_time": "2023-10-21T20:00:35.817103Z",
     "start_time": "2023-10-21T20:00:25.092984Z"
    }
   },
   "outputs": [],
   "source": [
    "import ast\n",
    "\n",
    "# pega string de dict e cria uma lista de dicionários\n",
    "def f(x):\n",
    "    try:\n",
    "        return ast.literal_eval(str(x))   \n",
    "    except Exception as e:\n",
    "        print(e)\n",
    "        return []\n",
    "\n",
    "\n",
    "\n",
    "def junta_dict(dict_list):\n",
    "    dicionario = {}\n",
    "    for d in dict_list:\n",
    "        for key, value in d.items():\n",
    "            dicionario[key] = value\n",
    "    return dicionario\n",
    "\n",
    "list = data_train['product_details'].apply(lambda x: f(x))\n",
    "df_details = pd.DataFrame([junta_dict(row) for row in list])\n",
    "df_feat = pd.concat([data_train, df_details], axis=1)\n"
   ]
  },
  {
   "cell_type": "code",
   "execution_count": 12,
   "id": "3d19502a",
   "metadata": {},
   "outputs": [
    {
     "data": {
      "text/plain": [
       "['Color',\n",
       " 'Fabric',\n",
       " 'Pattern',\n",
       " 'Sales Package',\n",
       " 'Style Code',\n",
       " 'Pack of',\n",
       " 'Type',\n",
       " 'Sleeve',\n",
       " 'Fit',\n",
       " 'Neck Type',\n",
       " 'Ideal For',\n",
       " 'Size',\n",
       " 'Suitable For',\n",
       " 'Sleeve Type',\n",
       " 'Reversible',\n",
       " 'Fabric Care',\n",
       " 'Brand Color',\n",
       " 'Neck',\n",
       " 'Occasion',\n",
       " 'Hooded',\n",
       " 'Other Details',\n",
       " 'Brand Fit',\n",
       " 'Generic Name',\n",
       " 'Country of Origin',\n",
       " 'Model Name',\n",
       " 'Number of Contents in Sales Package',\n",
       " '',\n",
       " 'Collar',\n",
       " 'Pack Of',\n",
       " 'Faded',\n",
       " 'Rise',\n",
       " 'Distressed',\n",
       " 'Closure',\n",
       " 'Pockets',\n",
       " 'Hem',\n",
       " 'Secondary Color',\n",
       " 'Bottom Length',\n",
       " 'Dupatta Length',\n",
       " 'Top Length',\n",
       " 'Stitching Type',\n",
       " ' ',\n",
       " 'Waistband',\n",
       " 'Series',\n",
       " 'Warranty Service Type',\n",
       " 'Warranty Summary',\n",
       " 'Covered in Warranty',\n",
       " 'Not Covered in Warranty',\n",
       " 'Domestic Warranty',\n",
       " 'Fly',\n",
       " 'Other Dimensions',\n",
       " 'Top Fabric',\n",
       " 'Bottom Fabric',\n",
       " 'Top Type',\n",
       " 'Bottom Type',\n",
       " 'Length Type',\n",
       " 'Package contains',\n",
       " 'Care instructions',\n",
       " 'Sole Material',\n",
       " 'Alteration Required',\n",
       " 'Belt Loops',\n",
       " 'Pleats',\n",
       " 'Fabric Details',\n",
       " 'Character',\n",
       " 'Pocket Type',\n",
       " 'Stretchable',\n",
       " 'Rise in inch',\n",
       " 'Hip in inch',\n",
       " 'Thigh in inch',\n",
       " 'Waist in inch',\n",
       " 'Inside Leg in inch',\n",
       " 'Other Features',\n",
       " 'Outer Material',\n",
       " 'Upper Pattern',\n",
       " 'Inseam Length',\n",
       " 'International Warranty',\n",
       " 'Weight',\n",
       " 'Care Instructions',\n",
       " 'Knit Type',\n",
       " 'Cuff',\n",
       " 'Weave Type',\n",
       " 'Top Closure',\n",
       " 'Inner Material',\n",
       " 'School Shoe',\n",
       " 'Style',\n",
       " 'Lining',\n",
       " 'Length in inch',\n",
       " 'Width in inch',\n",
       " 'Model Number',\n",
       " 'Type for Flats',\n",
       " 'Brand',\n",
       " 'Shade',\n",
       " 'Material',\n",
       " 'Thumb Hole',\n",
       " 'Length',\n",
       " 'Strap Material',\n",
       " 'Minimum Age',\n",
       " 'Maximum Age',\n",
       " 'Clasp Type',\n",
       " 'Clasp Material',\n",
       " 'Heel Pattern',\n",
       " 'Leather Type',\n",
       " 'Shoe Length',\n",
       " 'Season',\n",
       " 'Tanning Process',\n",
       " 'Animal Source',\n",
       " 'Lining Material',\n",
       " 'Technology Used',\n",
       " 'Placket',\n",
       " 'Tip Shape',\n",
       " 'Fastener',\n",
       " 'Coat Type',\n",
       " 'Model Details',\n",
       " 'Width at Base',\n",
       " 'Bust in inch',\n",
       " 'Shoulder in inch',\n",
       " 'Sleeve in inch',\n",
       " 'Vents',\n",
       " 'Pleated',\n",
       " 'Region',\n",
       " 'Design',\n",
       " 'Weave type',\n",
       " 'Fabric care',\n",
       " 'Width',\n",
       " 'Height']"
      ]
     },
     "execution_count": 12,
     "metadata": {},
     "output_type": "execute_result"
    }
   ],
   "source": [
    "df_details.columns.tolist()"
   ]
  },
  {
   "cell_type": "code",
   "execution_count": 13,
   "id": "8865f380",
   "metadata": {},
   "outputs": [],
   "source": [
    "df_drop_columns = df_details.drop(columns=['', ' '])\n",
    "\n",
    "# Removendo valores faltantes acima de 50%\n",
    "limite_nulos = len(df_details) * 0.5  # Define o limite de valores nulos (50%)\n",
    "df_drop = df_details.dropna(thresh = limite_nulos, axis=1)\n",
    "df_new = df_drop.copy()"
   ]
  },
  {
   "cell_type": "code",
   "execution_count": 14,
   "id": "7116ab4e",
   "metadata": {},
   "outputs": [
    {
     "data": {
      "text/html": [
       "<div>\n",
       "<style scoped>\n",
       "    .dataframe tbody tr th:only-of-type {\n",
       "        vertical-align: middle;\n",
       "    }\n",
       "\n",
       "    .dataframe tbody tr th {\n",
       "        vertical-align: top;\n",
       "    }\n",
       "\n",
       "    .dataframe thead th {\n",
       "        text-align: right;\n",
       "    }\n",
       "</style>\n",
       "<table border=\"1\" class=\"dataframe\">\n",
       "  <thead>\n",
       "    <tr style=\"text-align: right;\">\n",
       "      <th></th>\n",
       "      <th>Fabric</th>\n",
       "      <th>Pattern</th>\n",
       "      <th>Style Code</th>\n",
       "      <th>Pack of</th>\n",
       "      <th>Type</th>\n",
       "      <th>Sleeve</th>\n",
       "      <th>Fit</th>\n",
       "      <th>Ideal For</th>\n",
       "      <th>Suitable For</th>\n",
       "      <th>Reversible</th>\n",
       "      <th>Fabric Care</th>\n",
       "    </tr>\n",
       "  </thead>\n",
       "  <tbody>\n",
       "    <tr>\n",
       "      <th>0</th>\n",
       "      <td>Pure Cotton</td>\n",
       "      <td>Printed</td>\n",
       "      <td>EIBXCO053</td>\n",
       "      <td>1</td>\n",
       "      <td>NaN</td>\n",
       "      <td>NaN</td>\n",
       "      <td>NaN</td>\n",
       "      <td>NaN</td>\n",
       "      <td>NaN</td>\n",
       "      <td>NaN</td>\n",
       "      <td>NaN</td>\n",
       "    </tr>\n",
       "    <tr>\n",
       "      <th>1</th>\n",
       "      <td>Cotton Blend</td>\n",
       "      <td>Printed</td>\n",
       "      <td>orange</td>\n",
       "      <td>1</td>\n",
       "      <td>Round Neck</td>\n",
       "      <td>Short Sleeve</td>\n",
       "      <td>Regular</td>\n",
       "      <td>Men</td>\n",
       "      <td>Western Wear</td>\n",
       "      <td>No</td>\n",
       "      <td>Do not Iron on print/embroidery/embellishment</td>\n",
       "    </tr>\n",
       "    <tr>\n",
       "      <th>2</th>\n",
       "      <td>Polycotton</td>\n",
       "      <td>Graphic Print</td>\n",
       "      <td>STY-20-21-001595</td>\n",
       "      <td>NaN</td>\n",
       "      <td>NaN</td>\n",
       "      <td>Full Sleeve</td>\n",
       "      <td>NaN</td>\n",
       "      <td>NaN</td>\n",
       "      <td>Western Wear</td>\n",
       "      <td>No</td>\n",
       "      <td>Hand Wash, Reverse and Dry</td>\n",
       "    </tr>\n",
       "    <tr>\n",
       "      <th>3</th>\n",
       "      <td>Cotton Blend</td>\n",
       "      <td>Solid</td>\n",
       "      <td>HU2002PO-HS-IB-WH</td>\n",
       "      <td>2</td>\n",
       "      <td>Polo Neck</td>\n",
       "      <td>Short Sleeve</td>\n",
       "      <td>Regular</td>\n",
       "      <td>Men</td>\n",
       "      <td>Western Wear</td>\n",
       "      <td>No</td>\n",
       "      <td>Gentle Machine Wash</td>\n",
       "    </tr>\n",
       "    <tr>\n",
       "      <th>4</th>\n",
       "      <td>Cotton Blend</td>\n",
       "      <td>Printed</td>\n",
       "      <td>RC021_White</td>\n",
       "      <td>1</td>\n",
       "      <td>Round Neck</td>\n",
       "      <td>Short Sleeve</td>\n",
       "      <td>Regular</td>\n",
       "      <td>Men</td>\n",
       "      <td>Western Wear</td>\n",
       "      <td>NaN</td>\n",
       "      <td>Regular Machine Wash</td>\n",
       "    </tr>\n",
       "  </tbody>\n",
       "</table>\n",
       "</div>"
      ],
      "text/plain": [
       "         Fabric        Pattern         Style Code Pack of        Type  \\\n",
       "0   Pure Cotton        Printed          EIBXCO053       1         NaN   \n",
       "1  Cotton Blend        Printed             orange       1  Round Neck   \n",
       "2    Polycotton  Graphic Print   STY-20-21-001595     NaN         NaN   \n",
       "3  Cotton Blend          Solid  HU2002PO-HS-IB-WH       2   Polo Neck   \n",
       "4  Cotton Blend        Printed        RC021_White       1  Round Neck   \n",
       "\n",
       "         Sleeve      Fit Ideal For  Suitable For Reversible  \\\n",
       "0           NaN      NaN       NaN           NaN        NaN   \n",
       "1  Short Sleeve  Regular       Men  Western Wear         No   \n",
       "2   Full Sleeve      NaN       NaN  Western Wear         No   \n",
       "3  Short Sleeve  Regular       Men  Western Wear         No   \n",
       "4  Short Sleeve  Regular       Men  Western Wear        NaN   \n",
       "\n",
       "                                     Fabric Care  \n",
       "0                                            NaN  \n",
       "1  Do not Iron on print/embroidery/embellishment  \n",
       "2                     Hand Wash, Reverse and Dry  \n",
       "3                            Gentle Machine Wash  \n",
       "4                           Regular Machine Wash  "
      ]
     },
     "execution_count": 14,
     "metadata": {},
     "output_type": "execute_result"
    }
   ],
   "source": [
    "df_new.head()"
   ]
  },
  {
   "cell_type": "code",
   "execution_count": 15,
   "id": "2846b4ac",
   "metadata": {},
   "outputs": [
    {
     "data": {
      "text/html": [
       "<div>\n",
       "<style scoped>\n",
       "    .dataframe tbody tr th:only-of-type {\n",
       "        vertical-align: middle;\n",
       "    }\n",
       "\n",
       "    .dataframe tbody tr th {\n",
       "        vertical-align: top;\n",
       "    }\n",
       "\n",
       "    .dataframe thead th {\n",
       "        text-align: right;\n",
       "    }\n",
       "</style>\n",
       "<table border=\"1\" class=\"dataframe\">\n",
       "  <thead>\n",
       "    <tr style=\"text-align: right;\">\n",
       "      <th></th>\n",
       "      <th>Fabric</th>\n",
       "      <th>Pattern</th>\n",
       "      <th>Style Code</th>\n",
       "      <th>Pack of</th>\n",
       "      <th>Type</th>\n",
       "      <th>Sleeve</th>\n",
       "      <th>Fit</th>\n",
       "      <th>Ideal For</th>\n",
       "      <th>Suitable For</th>\n",
       "      <th>Reversible</th>\n",
       "      <th>Fabric Care</th>\n",
       "    </tr>\n",
       "  </thead>\n",
       "  <tbody>\n",
       "    <tr>\n",
       "      <th>0</th>\n",
       "      <td>Pure Cotton</td>\n",
       "      <td>Printed</td>\n",
       "      <td>EIBXCO053</td>\n",
       "      <td>1</td>\n",
       "      <td>outros</td>\n",
       "      <td>outros</td>\n",
       "      <td>outros</td>\n",
       "      <td>outros</td>\n",
       "      <td>outros</td>\n",
       "      <td>outros</td>\n",
       "      <td>outros</td>\n",
       "    </tr>\n",
       "    <tr>\n",
       "      <th>1</th>\n",
       "      <td>Cotton Blend</td>\n",
       "      <td>Printed</td>\n",
       "      <td>orange</td>\n",
       "      <td>1</td>\n",
       "      <td>Round Neck</td>\n",
       "      <td>Short Sleeve</td>\n",
       "      <td>Regular</td>\n",
       "      <td>Men</td>\n",
       "      <td>Western Wear</td>\n",
       "      <td>No</td>\n",
       "      <td>Do not Iron on print/embroidery/embellishment</td>\n",
       "    </tr>\n",
       "    <tr>\n",
       "      <th>2</th>\n",
       "      <td>Polycotton</td>\n",
       "      <td>Graphic Print</td>\n",
       "      <td>STY-20-21-001595</td>\n",
       "      <td>outros</td>\n",
       "      <td>outros</td>\n",
       "      <td>Full Sleeve</td>\n",
       "      <td>outros</td>\n",
       "      <td>outros</td>\n",
       "      <td>Western Wear</td>\n",
       "      <td>No</td>\n",
       "      <td>Hand Wash, Reverse and Dry</td>\n",
       "    </tr>\n",
       "    <tr>\n",
       "      <th>3</th>\n",
       "      <td>Cotton Blend</td>\n",
       "      <td>Solid</td>\n",
       "      <td>HU2002PO-HS-IB-WH</td>\n",
       "      <td>2</td>\n",
       "      <td>Polo Neck</td>\n",
       "      <td>Short Sleeve</td>\n",
       "      <td>Regular</td>\n",
       "      <td>Men</td>\n",
       "      <td>Western Wear</td>\n",
       "      <td>No</td>\n",
       "      <td>Gentle Machine Wash</td>\n",
       "    </tr>\n",
       "    <tr>\n",
       "      <th>4</th>\n",
       "      <td>Cotton Blend</td>\n",
       "      <td>Printed</td>\n",
       "      <td>RC021_White</td>\n",
       "      <td>1</td>\n",
       "      <td>Round Neck</td>\n",
       "      <td>Short Sleeve</td>\n",
       "      <td>Regular</td>\n",
       "      <td>Men</td>\n",
       "      <td>Western Wear</td>\n",
       "      <td>outros</td>\n",
       "      <td>Regular Machine Wash</td>\n",
       "    </tr>\n",
       "  </tbody>\n",
       "</table>\n",
       "</div>"
      ],
      "text/plain": [
       "         Fabric        Pattern         Style Code Pack of        Type  \\\n",
       "0   Pure Cotton        Printed          EIBXCO053       1      outros   \n",
       "1  Cotton Blend        Printed             orange       1  Round Neck   \n",
       "2    Polycotton  Graphic Print   STY-20-21-001595  outros      outros   \n",
       "3  Cotton Blend          Solid  HU2002PO-HS-IB-WH       2   Polo Neck   \n",
       "4  Cotton Blend        Printed        RC021_White       1  Round Neck   \n",
       "\n",
       "         Sleeve      Fit Ideal For  Suitable For Reversible  \\\n",
       "0        outros   outros    outros        outros     outros   \n",
       "1  Short Sleeve  Regular       Men  Western Wear         No   \n",
       "2   Full Sleeve   outros    outros  Western Wear         No   \n",
       "3  Short Sleeve  Regular       Men  Western Wear         No   \n",
       "4  Short Sleeve  Regular       Men  Western Wear     outros   \n",
       "\n",
       "                                     Fabric Care  \n",
       "0                                         outros  \n",
       "1  Do not Iron on print/embroidery/embellishment  \n",
       "2                     Hand Wash, Reverse and Dry  \n",
       "3                            Gentle Machine Wash  \n",
       "4                           Regular Machine Wash  "
      ]
     },
     "execution_count": 15,
     "metadata": {},
     "output_type": "execute_result"
    }
   ],
   "source": [
    "# Trocar os NaN por 'outros'\n",
    "\n",
    "df_new.loc[df_new['Fabric'].isnull(), 'Fabric'] = 'outros'\n",
    "df_new.loc[df_new['Pattern'].isnull(), 'Pattern'] = 'outros'\n",
    "df_new.loc[df_new['Style Code'].isnull(), 'Style Code'] = 'outros'\n",
    "df_new.loc[df_new['Pack of'].isnull(), 'Pack of'] = 'outros'\n",
    "df_new.loc[df_new['Type'].isnull(), 'Type'] = 'outros'\n",
    "df_new.loc[df_new['Sleeve'].isnull(), 'Sleeve'] = 'outros'\n",
    "df_new.loc[df_new['Fit'].isnull(), 'Fit'] = 'outros'\n",
    "df_new.loc[df_new['Ideal For'].isnull(), 'Ideal For'] = 'outros'\n",
    "df_new.loc[df_new['Suitable For'].isnull(), 'Suitable For'] = 'outros'\n",
    "df_new.loc[df_new['Reversible'].isnull(), 'Reversible'] = 'outros'\n",
    "df_new.loc[df_new['Fabric Care'].isnull(), 'Fabric Care'] = 'outros'\n",
    "\n",
    "df_new.head()\n"
   ]
  },
  {
   "cell_type": "code",
   "execution_count": 16,
   "id": "67902b3d",
   "metadata": {},
   "outputs": [],
   "source": [
    "# # Suponha que você tenha uma coluna chamada 'Fabric' com valores do tipo object\n",
    "# df_new['Fabric'] = df_new['Fabric'].astype(str)\n",
    "# df_new['Pattern'] = df_new['Pattern'].astype(str)\n",
    "# df_new['Style Code'] = df_new['Style Code'].astype(str)\n",
    "# df_new['Pack of'] = df_new['Pack of'].astype(str)\n",
    "# df_new['Type'] = df_new['Type'].astype(str)\n",
    "# df_new['Sleeve'] = df_new['Sleeve'].astype(str)\n",
    "# df_new['Fit'] = df_new['Fit'].astype(str)\n",
    "# df_new['Ideal For'] = df_new['Ideal For'].astype(str)\n",
    "# df_new['Suitable For'] = df_new['Suitable For'].astype(str)\n",
    "# df_new['Reversible'] = df_new['Reversible'].astype(str)\n",
    "# df_new['Fabric Care'] = df_new['Fabric Care'].astype(str)\n",
    "\n",
    "\n",
    "# # Agora você pode usar o método str.split para dividir os valores\n",
    "# df_new['Fabric'] = df_new['Fabric'].str.split(',')\n",
    "# df_new['Pattern'] = df_new['Pattern'].str.split(',')\n",
    "# df_new['Style Code'] = df_new['Style Code'].str.split(',')\n",
    "# df_new['Pack of'] = df_new['Pack of'].str.split(',')\n",
    "# df_new['Type'] = df_new['Type'].str.split(',')\n",
    "# df_new['Sleeve'] = df_new['Sleeve'].str.split(',')\n",
    "# df_new['Fit'] = df_new['Fit'].str.split(',')\n",
    "# df_new['Ideal For'] = df_new['Ideal For'].str.split(',')\n",
    "# df_new['Suitable For'] = df_new['Suitable For'].str.split(',')\n",
    "# df_new['Reversible'] = df_new['Reversible'].str.split(',')\n",
    "# df_new['Fabric Care'] = df_new['Fabric Care'].str.split(',')\n"
   ]
  },
  {
   "cell_type": "code",
   "execution_count": 17,
   "id": "7f18748a",
   "metadata": {},
   "outputs": [],
   "source": [
    "# Dados sem virgulas: Style Code, Pack of, Suitable For, Reversible, 'Ideal For'\n",
    "\n",
    "\n",
    "# Ideal for: 'Men', 'Men, Boys'/ 'Boys, Men' = 'all_ages',\n",
    "            # 'Boys, Girls, Men, Women' = 'unisex_all_ages', 'Women, Men' = 'Unisex'\n",
    "\n",
    "def type_sex(value):\n",
    "    if value == 'Men':\n",
    "        return 'Men'\n",
    "    elif value == 'Men, Boys':\n",
    "        return 'all_ages'\n",
    "    elif value == 'Boys, Men':\n",
    "        return 'all_ages'\n",
    "    elif value == 'Boys, Girls, Men, Women':\n",
    "        return 'unisex_all_ages'\n",
    "    elif value == 'Women, Men':\n",
    "        return 'Unisex'\n",
    "    else:\n",
    "        return 'outros'\n",
    "\n",
    "df_new['Ideal For'] = df_new['Ideal For'].map(type_sex)"
   ]
  },
  {
   "cell_type": "code",
   "execution_count": 18,
   "id": "3390b58d",
   "metadata": {},
   "outputs": [],
   "source": [
    "df_junto = pd.concat([data_train, df_new], axis=1)\n"
   ]
  },
  {
   "cell_type": "markdown",
   "id": "1a3a83f2",
   "metadata": {},
   "source": [
    "# Feature Engineering"
   ]
  },
  {
   "cell_type": "code",
   "execution_count": 19,
   "id": "cf0764da",
   "metadata": {
    "ExecuteTime": {
     "end_time": "2023-10-21T20:00:37.833363Z",
     "start_time": "2023-10-21T20:00:37.810290Z"
    }
   },
   "outputs": [],
   "source": [
    "df4 = df_junto.copy()"
   ]
  },
  {
   "cell_type": "code",
   "execution_count": 23,
   "id": "e82b9cc7",
   "metadata": {},
   "outputs": [
    {
     "data": {
      "text/plain": [
       "2957"
      ]
     },
     "execution_count": 23,
     "metadata": {},
     "output_type": "execute_result"
    }
   ],
   "source": [
    "df4['out_of_stock'].isna().sum()"
   ]
  },
  {
   "cell_type": "code",
   "execution_count": 20,
   "id": "02173cbd",
   "metadata": {
    "ExecuteTime": {
     "end_time": "2023-10-21T20:00:38.608736Z",
     "start_time": "2023-10-21T20:00:37.836614Z"
    }
   },
   "outputs": [
    {
     "ename": "ValueError",
     "evalue": "cannot convert float NaN to integer",
     "output_type": "error",
     "traceback": [
      "\u001b[1;31m---------------------------------------------------------------------------\u001b[0m",
      "\u001b[1;31mValueError\u001b[0m                                Traceback (most recent call last)",
      "\u001b[1;32mc:\\1_git\\2_projects\\6_Hackday\\hd6\\notebook_hackday_06.ipynb Cell 29\u001b[0m line \u001b[0;36m2\n\u001b[0;32m      <a href='vscode-notebook-cell:/c%3A/1_git/2_projects/6_Hackday/hd6/notebook_hackday_06.ipynb#Z2320sZmlsZQ%3D%3D?line=0'>1</a>\u001b[0m \u001b[39m## out_of_stock - transformar para int \u001b[39;00m\n\u001b[1;32m----> <a href='vscode-notebook-cell:/c%3A/1_git/2_projects/6_Hackday/hd6/notebook_hackday_06.ipynb#Z2320sZmlsZQ%3D%3D?line=1'>2</a>\u001b[0m df4[\u001b[39m'\u001b[39m\u001b[39mout_of_stock\u001b[39m\u001b[39m'\u001b[39m] \u001b[39m=\u001b[39m df4[\u001b[39m'\u001b[39;49m\u001b[39mout_of_stock\u001b[39;49m\u001b[39m'\u001b[39;49m]\u001b[39m.\u001b[39;49mastype(\u001b[39m'\u001b[39;49m\u001b[39mint64\u001b[39;49m\u001b[39m'\u001b[39;49m)\n\u001b[0;32m      <a href='vscode-notebook-cell:/c%3A/1_git/2_projects/6_Hackday/hd6/notebook_hackday_06.ipynb#Z2320sZmlsZQ%3D%3D?line=3'>4</a>\u001b[0m \u001b[39m# brand - substituir por outros\u001b[39;00m\n\u001b[0;32m      <a href='vscode-notebook-cell:/c%3A/1_git/2_projects/6_Hackday/hd6/notebook_hackday_06.ipynb#Z2320sZmlsZQ%3D%3D?line=4'>5</a>\u001b[0m df4[\u001b[39m'\u001b[39m\u001b[39mbrand\u001b[39m\u001b[39m'\u001b[39m] \u001b[39m=\u001b[39m df4[\u001b[39m'\u001b[39m\u001b[39mbrand\u001b[39m\u001b[39m'\u001b[39m]\u001b[39m.\u001b[39mapply(\u001b[39mlambda\u001b[39;00m x: x\u001b[39m.\u001b[39mlower())\n",
      "File \u001b[1;32mc:\\ProgramData\\anaconda3\\envs\\azcorp\\Lib\\site-packages\\pandas\\core\\generic.py:6324\u001b[0m, in \u001b[0;36mNDFrame.astype\u001b[1;34m(self, dtype, copy, errors)\u001b[0m\n\u001b[0;32m   6317\u001b[0m     results \u001b[39m=\u001b[39m [\n\u001b[0;32m   6318\u001b[0m         \u001b[39mself\u001b[39m\u001b[39m.\u001b[39miloc[:, i]\u001b[39m.\u001b[39mastype(dtype, copy\u001b[39m=\u001b[39mcopy)\n\u001b[0;32m   6319\u001b[0m         \u001b[39mfor\u001b[39;00m i \u001b[39min\u001b[39;00m \u001b[39mrange\u001b[39m(\u001b[39mlen\u001b[39m(\u001b[39mself\u001b[39m\u001b[39m.\u001b[39mcolumns))\n\u001b[0;32m   6320\u001b[0m     ]\n\u001b[0;32m   6322\u001b[0m \u001b[39melse\u001b[39;00m:\n\u001b[0;32m   6323\u001b[0m     \u001b[39m# else, only a single dtype is given\u001b[39;00m\n\u001b[1;32m-> 6324\u001b[0m     new_data \u001b[39m=\u001b[39m \u001b[39mself\u001b[39;49m\u001b[39m.\u001b[39;49m_mgr\u001b[39m.\u001b[39;49mastype(dtype\u001b[39m=\u001b[39;49mdtype, copy\u001b[39m=\u001b[39;49mcopy, errors\u001b[39m=\u001b[39;49merrors)\n\u001b[0;32m   6325\u001b[0m     \u001b[39mreturn\u001b[39;00m \u001b[39mself\u001b[39m\u001b[39m.\u001b[39m_constructor(new_data)\u001b[39m.\u001b[39m__finalize__(\u001b[39mself\u001b[39m, method\u001b[39m=\u001b[39m\u001b[39m\"\u001b[39m\u001b[39mastype\u001b[39m\u001b[39m\"\u001b[39m)\n\u001b[0;32m   6327\u001b[0m \u001b[39m# GH 33113: handle empty frame or series\u001b[39;00m\n",
      "File \u001b[1;32mc:\\ProgramData\\anaconda3\\envs\\azcorp\\Lib\\site-packages\\pandas\\core\\internals\\managers.py:451\u001b[0m, in \u001b[0;36mBaseBlockManager.astype\u001b[1;34m(self, dtype, copy, errors)\u001b[0m\n\u001b[0;32m    448\u001b[0m \u001b[39melif\u001b[39;00m using_copy_on_write():\n\u001b[0;32m    449\u001b[0m     copy \u001b[39m=\u001b[39m \u001b[39mFalse\u001b[39;00m\n\u001b[1;32m--> 451\u001b[0m \u001b[39mreturn\u001b[39;00m \u001b[39mself\u001b[39;49m\u001b[39m.\u001b[39;49mapply(\n\u001b[0;32m    452\u001b[0m     \u001b[39m\"\u001b[39;49m\u001b[39mastype\u001b[39;49m\u001b[39m\"\u001b[39;49m,\n\u001b[0;32m    453\u001b[0m     dtype\u001b[39m=\u001b[39;49mdtype,\n\u001b[0;32m    454\u001b[0m     copy\u001b[39m=\u001b[39;49mcopy,\n\u001b[0;32m    455\u001b[0m     errors\u001b[39m=\u001b[39;49merrors,\n\u001b[0;32m    456\u001b[0m     using_cow\u001b[39m=\u001b[39;49musing_copy_on_write(),\n\u001b[0;32m    457\u001b[0m )\n",
      "File \u001b[1;32mc:\\ProgramData\\anaconda3\\envs\\azcorp\\Lib\\site-packages\\pandas\\core\\internals\\managers.py:352\u001b[0m, in \u001b[0;36mBaseBlockManager.apply\u001b[1;34m(self, f, align_keys, **kwargs)\u001b[0m\n\u001b[0;32m    350\u001b[0m         applied \u001b[39m=\u001b[39m b\u001b[39m.\u001b[39mapply(f, \u001b[39m*\u001b[39m\u001b[39m*\u001b[39mkwargs)\n\u001b[0;32m    351\u001b[0m     \u001b[39melse\u001b[39;00m:\n\u001b[1;32m--> 352\u001b[0m         applied \u001b[39m=\u001b[39m \u001b[39mgetattr\u001b[39;49m(b, f)(\u001b[39m*\u001b[39;49m\u001b[39m*\u001b[39;49mkwargs)\n\u001b[0;32m    353\u001b[0m     result_blocks \u001b[39m=\u001b[39m extend_blocks(applied, result_blocks)\n\u001b[0;32m    355\u001b[0m out \u001b[39m=\u001b[39m \u001b[39mtype\u001b[39m(\u001b[39mself\u001b[39m)\u001b[39m.\u001b[39mfrom_blocks(result_blocks, \u001b[39mself\u001b[39m\u001b[39m.\u001b[39maxes)\n",
      "File \u001b[1;32mc:\\ProgramData\\anaconda3\\envs\\azcorp\\Lib\\site-packages\\pandas\\core\\internals\\blocks.py:511\u001b[0m, in \u001b[0;36mBlock.astype\u001b[1;34m(self, dtype, copy, errors, using_cow)\u001b[0m\n\u001b[0;32m    491\u001b[0m \u001b[39m\u001b[39m\u001b[39m\"\"\"\u001b[39;00m\n\u001b[0;32m    492\u001b[0m \u001b[39mCoerce to the new dtype.\u001b[39;00m\n\u001b[0;32m    493\u001b[0m \n\u001b[1;32m   (...)\u001b[0m\n\u001b[0;32m    507\u001b[0m \u001b[39mBlock\u001b[39;00m\n\u001b[0;32m    508\u001b[0m \u001b[39m\"\"\"\u001b[39;00m\n\u001b[0;32m    509\u001b[0m values \u001b[39m=\u001b[39m \u001b[39mself\u001b[39m\u001b[39m.\u001b[39mvalues\n\u001b[1;32m--> 511\u001b[0m new_values \u001b[39m=\u001b[39m astype_array_safe(values, dtype, copy\u001b[39m=\u001b[39;49mcopy, errors\u001b[39m=\u001b[39;49merrors)\n\u001b[0;32m    513\u001b[0m new_values \u001b[39m=\u001b[39m maybe_coerce_values(new_values)\n\u001b[0;32m    515\u001b[0m refs \u001b[39m=\u001b[39m \u001b[39mNone\u001b[39;00m\n",
      "File \u001b[1;32mc:\\ProgramData\\anaconda3\\envs\\azcorp\\Lib\\site-packages\\pandas\\core\\dtypes\\astype.py:242\u001b[0m, in \u001b[0;36mastype_array_safe\u001b[1;34m(values, dtype, copy, errors)\u001b[0m\n\u001b[0;32m    239\u001b[0m     dtype \u001b[39m=\u001b[39m dtype\u001b[39m.\u001b[39mnumpy_dtype\n\u001b[0;32m    241\u001b[0m \u001b[39mtry\u001b[39;00m:\n\u001b[1;32m--> 242\u001b[0m     new_values \u001b[39m=\u001b[39m astype_array(values, dtype, copy\u001b[39m=\u001b[39;49mcopy)\n\u001b[0;32m    243\u001b[0m \u001b[39mexcept\u001b[39;00m (\u001b[39mValueError\u001b[39;00m, \u001b[39mTypeError\u001b[39;00m):\n\u001b[0;32m    244\u001b[0m     \u001b[39m# e.g. _astype_nansafe can fail on object-dtype of strings\u001b[39;00m\n\u001b[0;32m    245\u001b[0m     \u001b[39m#  trying to convert to float\u001b[39;00m\n\u001b[0;32m    246\u001b[0m     \u001b[39mif\u001b[39;00m errors \u001b[39m==\u001b[39m \u001b[39m\"\u001b[39m\u001b[39mignore\u001b[39m\u001b[39m\"\u001b[39m:\n",
      "File \u001b[1;32mc:\\ProgramData\\anaconda3\\envs\\azcorp\\Lib\\site-packages\\pandas\\core\\dtypes\\astype.py:187\u001b[0m, in \u001b[0;36mastype_array\u001b[1;34m(values, dtype, copy)\u001b[0m\n\u001b[0;32m    184\u001b[0m     values \u001b[39m=\u001b[39m values\u001b[39m.\u001b[39mastype(dtype, copy\u001b[39m=\u001b[39mcopy)\n\u001b[0;32m    186\u001b[0m \u001b[39melse\u001b[39;00m:\n\u001b[1;32m--> 187\u001b[0m     values \u001b[39m=\u001b[39m _astype_nansafe(values, dtype, copy\u001b[39m=\u001b[39;49mcopy)\n\u001b[0;32m    189\u001b[0m \u001b[39m# in pandas we don't store numpy str dtypes, so convert to object\u001b[39;00m\n\u001b[0;32m    190\u001b[0m \u001b[39mif\u001b[39;00m \u001b[39misinstance\u001b[39m(dtype, np\u001b[39m.\u001b[39mdtype) \u001b[39mand\u001b[39;00m \u001b[39missubclass\u001b[39m(values\u001b[39m.\u001b[39mdtype\u001b[39m.\u001b[39mtype, \u001b[39mstr\u001b[39m):\n",
      "File \u001b[1;32mc:\\ProgramData\\anaconda3\\envs\\azcorp\\Lib\\site-packages\\pandas\\core\\dtypes\\astype.py:138\u001b[0m, in \u001b[0;36m_astype_nansafe\u001b[1;34m(arr, dtype, copy, skipna)\u001b[0m\n\u001b[0;32m    134\u001b[0m     \u001b[39mraise\u001b[39;00m \u001b[39mValueError\u001b[39;00m(msg)\n\u001b[0;32m    136\u001b[0m \u001b[39mif\u001b[39;00m copy \u001b[39mor\u001b[39;00m is_object_dtype(arr\u001b[39m.\u001b[39mdtype) \u001b[39mor\u001b[39;00m is_object_dtype(dtype):\n\u001b[0;32m    137\u001b[0m     \u001b[39m# Explicit copy, or required since NumPy can't view from / to object.\u001b[39;00m\n\u001b[1;32m--> 138\u001b[0m     \u001b[39mreturn\u001b[39;00m arr\u001b[39m.\u001b[39;49mastype(dtype, copy\u001b[39m=\u001b[39;49m\u001b[39mTrue\u001b[39;49;00m)\n\u001b[0;32m    140\u001b[0m \u001b[39mreturn\u001b[39;00m arr\u001b[39m.\u001b[39mastype(dtype, copy\u001b[39m=\u001b[39mcopy)\n",
      "\u001b[1;31mValueError\u001b[0m: cannot convert float NaN to integer"
     ]
    }
   ],
   "source": [
    "## out_of_stock - transformar para int \n",
    "df4['out_of_stock'] = df4['out_of_stock'].astype('int64')\n",
    "\n",
    "# brand - substituir por outros\n",
    "df4['brand'] = df4['brand'].apply(lambda x: x.lower())\n",
    "\n",
    "# criando feature product\n",
    "df4['product'] = df4[['category', 'sub_category']].apply(lambda x: x['category'] + '_' + x['sub_category'], axis = 1)"
   ]
  },
  {
   "cell_type": "code",
   "execution_count": null,
   "id": "01861ec7",
   "metadata": {
    "ExecuteTime": {
     "end_time": "2023-10-21T20:00:42.955672Z",
     "start_time": "2023-10-21T20:00:38.610946Z"
    }
   },
   "outputs": [],
   "source": [
    "## Tratando variaveis respostas nulas\n",
    "prices = df4[['seller','pid', 'actual_price']].groupby('pid').max().reset_index()\n",
    "\n",
    "precos_nulos = df4.loc[df4['actual_price'].isna(), ['_id','pid']]\n",
    "\n",
    "precos_recuperados = pd.merge(precos_nulos, prices, how = 'inner', on = 'pid')\n",
    "\n",
    "df4_aux = pd.merge(df4, precos_recuperados[['_id', 'actual_price']], on = '_id', how = 'left')\n",
    "df4['actual_price'] = df4_aux['actual_price_x'].fillna(0) + df4_aux['actual_price_y'].fillna(0)\n",
    "\n",
    "df4 = df4.dropna(subset=['actual_price'])"
   ]
  },
  {
   "cell_type": "markdown",
   "id": "e7467521",
   "metadata": {},
   "source": [
    "# EDA"
   ]
  },
  {
   "cell_type": "code",
   "execution_count": null,
   "id": "f8715db2",
   "metadata": {
    "ExecuteTime": {
     "end_time": "2023-10-21T20:00:42.986156Z",
     "start_time": "2023-10-21T20:00:42.959191Z"
    }
   },
   "outputs": [],
   "source": [
    "df5 = df4.copy()"
   ]
  },
  {
   "cell_type": "code",
   "execution_count": null,
   "id": "ad5b72c6",
   "metadata": {},
   "outputs": [
    {
     "name": "stdout",
     "output_type": "stream",
     "text": [
      "To gain access to an instance object simply pass the value from 'ID' to dtale.get_instance(ID)\n",
      "\n",
      "ID Name                                URL\n",
      " 1      http://AZ-CD-02:40000/dtale/main/1\n",
      "        http://AZ-CD-02:40000/dtale/main/1\n",
      " 2      http://AZ-CD-02:40000/dtale/main/2\n",
      "        http://AZ-CD-02:40000/dtale/main/2\n",
      " 3      http://AZ-CD-02:40000/dtale/main/3\n",
      "        http://AZ-CD-02:40000/dtale/main/3\n"
     ]
    }
   ],
   "source": [
    "# Assigning a reference to a running D-Tale process\n",
    "d = dtale.show(df_new)\n",
    "\n",
    "# Accessing data associated with D-Tale process\n",
    "tmp = d.data.copy()\n",
    "tmp['d'] = 4\n",
    "\n",
    "# Altering data associated with D-Tale process\n",
    "# FYI: this will clear any front-end settings you have at the time for this process (filter, sorts, formatting)\n",
    "d.data = tmp\n",
    "\n",
    "# Shutting down D-Tale process\n",
    "#d.kill()\n",
    "\n",
    "# using Python's `webbrowser` package it will try and open your server's default browser to this process\n",
    "d.open_browser()\n",
    "\n",
    "# There is also some helpful metadata about the process\n",
    "d._data_id  # the process's data identifier\n",
    "d._url  # the url to access the process\n",
    "\n",
    "d2 = dtale.get_instance(d._data_id)  # returns a new reference to the instance running at that data_id\n",
    "\n",
    "dtale.instances()  # prints a list of all ids & urls of running D-Tale sessions"
   ]
  },
  {
   "cell_type": "markdown",
   "id": "5140daa9",
   "metadata": {},
   "source": [
    "# Data Preparation"
   ]
  },
  {
   "cell_type": "code",
   "execution_count": null,
   "id": "68f43f40",
   "metadata": {
    "ExecuteTime": {
     "end_time": "2023-10-21T20:00:43.016240Z",
     "start_time": "2023-10-21T20:00:42.994053Z"
    }
   },
   "outputs": [],
   "source": [
    "df6 = df5.copy()"
   ]
  },
  {
   "cell_type": "code",
   "execution_count": null,
   "id": "ee32032d",
   "metadata": {
    "ExecuteTime": {
     "end_time": "2023-10-21T20:00:43.110091Z",
     "start_time": "2023-10-21T20:00:43.024228Z"
    }
   },
   "outputs": [
    {
     "data": {
      "text/plain": [
       "_id                       0\n",
       "average_rating            0\n",
       "number_of_reviews         0\n",
       "brand                     0\n",
       "category                  0\n",
       "crawled_at                0\n",
       "out_of_stock              0\n",
       "avg_delivery_time_days    0\n",
       "pid                       0\n",
       "product_details           0\n",
       "seller                    0\n",
       "sub_category              0\n",
       "fabrication_time          0\n",
       "title                     0\n",
       "actual_price              0\n",
       "product                   0\n",
       "dtype: int64"
      ]
     },
     "execution_count": 24,
     "metadata": {},
     "output_type": "execute_result"
    }
   ],
   "source": [
    "df6.isna().sum()"
   ]
  },
  {
   "cell_type": "markdown",
   "id": "dddaf50a",
   "metadata": {},
   "source": [
    "## Split Dataset"
   ]
  },
  {
   "cell_type": "code",
   "execution_count": null,
   "id": "5d90c1cd",
   "metadata": {
    "ExecuteTime": {
     "end_time": "2023-10-21T20:00:43.186523Z",
     "start_time": "2023-10-21T20:00:43.112366Z"
    }
   },
   "outputs": [],
   "source": [
    "X = df6.drop(['_id','pid','actual_price'], axis=1)\n",
    "y = df6['actual_price']\n",
    "\n",
    "X_train, X_test, y_train, y_test = ms.train_test_split(X, y, test_size=0.20)\n",
    "data_train = pd.concat([X_train, y_train], axis=1)\n",
    "data_test = pd.concat([X_test, y_test], axis=1)"
   ]
  },
  {
   "cell_type": "markdown",
   "id": "492ffd74",
   "metadata": {},
   "source": [
    "## Rescalling"
   ]
  },
  {
   "cell_type": "code",
   "execution_count": null,
   "id": "bd81b72b",
   "metadata": {
    "ExecuteTime": {
     "end_time": "2023-10-21T20:00:43.202349Z",
     "start_time": "2023-10-21T20:00:43.192498Z"
    }
   },
   "outputs": [
    {
     "data": {
      "text/plain": [
       "Index(['average_rating', 'number_of_reviews', 'brand', 'category',\n",
       "       'crawled_at', 'out_of_stock', 'avg_delivery_time_days',\n",
       "       'product_details', 'seller', 'sub_category', 'fabrication_time',\n",
       "       'title', 'product'],\n",
       "      dtype='object')"
      ]
     },
     "execution_count": 26,
     "metadata": {},
     "output_type": "execute_result"
    }
   ],
   "source": [
    "X_train.columns"
   ]
  },
  {
   "cell_type": "markdown",
   "id": "7b5d3e4d",
   "metadata": {},
   "source": [
    "### Min Max Scaler"
   ]
  },
  {
   "cell_type": "code",
   "execution_count": null,
   "id": "3211520b",
   "metadata": {
    "ExecuteTime": {
     "end_time": "2023-10-21T20:01:06.734287Z",
     "start_time": "2023-10-21T20:01:06.711573Z"
    }
   },
   "outputs": [],
   "source": [
    "'avg_delivery_time_days',\n",
    "mm = pp.MinMaxScaler()\n",
    "\n",
    "X_train['avg_delivery_time_days'] = mm.fit_transform(X_train[['avg_delivery_time_days']])\n",
    "pickle.dump(mm, open('parameters/mm_avg_delivery_time_days.pkl','wb'))"
   ]
  },
  {
   "cell_type": "markdown",
   "id": "325cece4",
   "metadata": {},
   "source": [
    "### Robust Scaler"
   ]
  },
  {
   "cell_type": "code",
   "execution_count": null,
   "id": "7f7f9383",
   "metadata": {},
   "outputs": [],
   "source": [
    "## fazer com a variavel resposta"
   ]
  },
  {
   "cell_type": "code",
   "execution_count": null,
   "id": "2155c696",
   "metadata": {
    "ExecuteTime": {
     "end_time": "2023-10-21T20:01:14.566543Z",
     "start_time": "2023-10-21T20:01:14.514114Z"
    }
   },
   "outputs": [],
   "source": [
    "rs_average_rating   = pp.RobustScaler()\n",
    "rs_number_of_reviews = pp.RobustScaler()\n",
    "\n",
    "X_train['average_rating'] = rs_average_rating.fit_transform(X_train[['average_rating']])\n",
    "pickle.dump(rs_average_rating, open('parameters/rs_average_rating.pkl','wb'))\n",
    "\n",
    "X_train['number_of_reviews'] = rs_number_of_reviews.fit_transform(X_train[['number_of_reviews']])\n",
    "pickle.dump(rs_number_of_reviews, open('parameters/rs_number_of_reviews.pkl','wb'))"
   ]
  },
  {
   "cell_type": "markdown",
   "id": "c0c59710",
   "metadata": {},
   "source": [
    "## Transformation"
   ]
  },
  {
   "cell_type": "code",
   "execution_count": null,
   "id": "8bbdc7de",
   "metadata": {},
   "outputs": [
    {
     "ename": "KeyError",
     "evalue": "\"None of [Index(['Suitable For'], dtype='object')] are in the [columns]\"",
     "output_type": "error",
     "traceback": [
      "\u001b[1;31m---------------------------------------------------------------------------\u001b[0m",
      "\u001b[1;31mKeyError\u001b[0m                                  Traceback (most recent call last)",
      "\u001b[1;32mc:\\1_git\\2_projects\\6_Hackday\\hd6\\notebook_hackday_06.ipynb Cell 48\u001b[0m line \u001b[0;36m3\n\u001b[0;32m      <a href='vscode-notebook-cell:/c%3A/1_git/2_projects/6_Hackday/hd6/notebook_hackday_06.ipynb#Z2514sZmlsZQ%3D%3D?line=0'>1</a>\u001b[0m \u001b[39m# Label encoder: Suitable For, Reversible, Ideal For\u001b[39;00m\n\u001b[0;32m      <a href='vscode-notebook-cell:/c%3A/1_git/2_projects/6_Hackday/hd6/notebook_hackday_06.ipynb#Z2514sZmlsZQ%3D%3D?line=1'>2</a>\u001b[0m le_suitable \u001b[39m=\u001b[39m pp\u001b[39m.\u001b[39mLabelEncoder()\n\u001b[1;32m----> <a href='vscode-notebook-cell:/c%3A/1_git/2_projects/6_Hackday/hd6/notebook_hackday_06.ipynb#Z2514sZmlsZQ%3D%3D?line=2'>3</a>\u001b[0m X_train[\u001b[39m'\u001b[39m\u001b[39mSuitable For\u001b[39m\u001b[39m'\u001b[39m] \u001b[39m=\u001b[39m le_suitable\u001b[39m.\u001b[39mfit_transform(X_train[[\u001b[39m'\u001b[39;49m\u001b[39mSuitable For\u001b[39;49m\u001b[39m'\u001b[39;49m]])\n\u001b[0;32m      <a href='vscode-notebook-cell:/c%3A/1_git/2_projects/6_Hackday/hd6/notebook_hackday_06.ipynb#Z2514sZmlsZQ%3D%3D?line=3'>4</a>\u001b[0m pickle\u001b[39m.\u001b[39mdump(le_suitable, \u001b[39mopen\u001b[39m(\u001b[39m'\u001b[39m\u001b[39mparameters/le_suitable.pkl\u001b[39m\u001b[39m'\u001b[39m,\u001b[39m'\u001b[39m\u001b[39mwb\u001b[39m\u001b[39m'\u001b[39m))\n\u001b[0;32m      <a href='vscode-notebook-cell:/c%3A/1_git/2_projects/6_Hackday/hd6/notebook_hackday_06.ipynb#Z2514sZmlsZQ%3D%3D?line=5'>6</a>\u001b[0m le_reversible \u001b[39m=\u001b[39m pp\u001b[39m.\u001b[39mLabelEncoder()\n",
      "File \u001b[1;32mc:\\ProgramData\\anaconda3\\envs\\azcorp\\Lib\\site-packages\\pandas\\core\\frame.py:3767\u001b[0m, in \u001b[0;36mDataFrame.__getitem__\u001b[1;34m(self, key)\u001b[0m\n\u001b[0;32m   3765\u001b[0m     \u001b[39mif\u001b[39;00m is_iterator(key):\n\u001b[0;32m   3766\u001b[0m         key \u001b[39m=\u001b[39m \u001b[39mlist\u001b[39m(key)\n\u001b[1;32m-> 3767\u001b[0m     indexer \u001b[39m=\u001b[39m \u001b[39mself\u001b[39;49m\u001b[39m.\u001b[39;49mcolumns\u001b[39m.\u001b[39;49m_get_indexer_strict(key, \u001b[39m\"\u001b[39;49m\u001b[39mcolumns\u001b[39;49m\u001b[39m\"\u001b[39;49m)[\u001b[39m1\u001b[39m]\n\u001b[0;32m   3769\u001b[0m \u001b[39m# take() does not accept boolean indexers\u001b[39;00m\n\u001b[0;32m   3770\u001b[0m \u001b[39mif\u001b[39;00m \u001b[39mgetattr\u001b[39m(indexer, \u001b[39m\"\u001b[39m\u001b[39mdtype\u001b[39m\u001b[39m\"\u001b[39m, \u001b[39mNone\u001b[39;00m) \u001b[39m==\u001b[39m \u001b[39mbool\u001b[39m:\n",
      "File \u001b[1;32mc:\\ProgramData\\anaconda3\\envs\\azcorp\\Lib\\site-packages\\pandas\\core\\indexes\\base.py:5877\u001b[0m, in \u001b[0;36mIndex._get_indexer_strict\u001b[1;34m(self, key, axis_name)\u001b[0m\n\u001b[0;32m   5874\u001b[0m \u001b[39melse\u001b[39;00m:\n\u001b[0;32m   5875\u001b[0m     keyarr, indexer, new_indexer \u001b[39m=\u001b[39m \u001b[39mself\u001b[39m\u001b[39m.\u001b[39m_reindex_non_unique(keyarr)\n\u001b[1;32m-> 5877\u001b[0m \u001b[39mself\u001b[39;49m\u001b[39m.\u001b[39;49m_raise_if_missing(keyarr, indexer, axis_name)\n\u001b[0;32m   5879\u001b[0m keyarr \u001b[39m=\u001b[39m \u001b[39mself\u001b[39m\u001b[39m.\u001b[39mtake(indexer)\n\u001b[0;32m   5880\u001b[0m \u001b[39mif\u001b[39;00m \u001b[39misinstance\u001b[39m(key, Index):\n\u001b[0;32m   5881\u001b[0m     \u001b[39m# GH 42790 - Preserve name from an Index\u001b[39;00m\n",
      "File \u001b[1;32mc:\\ProgramData\\anaconda3\\envs\\azcorp\\Lib\\site-packages\\pandas\\core\\indexes\\base.py:5938\u001b[0m, in \u001b[0;36mIndex._raise_if_missing\u001b[1;34m(self, key, indexer, axis_name)\u001b[0m\n\u001b[0;32m   5936\u001b[0m     \u001b[39mif\u001b[39;00m use_interval_msg:\n\u001b[0;32m   5937\u001b[0m         key \u001b[39m=\u001b[39m \u001b[39mlist\u001b[39m(key)\n\u001b[1;32m-> 5938\u001b[0m     \u001b[39mraise\u001b[39;00m \u001b[39mKeyError\u001b[39;00m(\u001b[39mf\u001b[39m\u001b[39m\"\u001b[39m\u001b[39mNone of [\u001b[39m\u001b[39m{\u001b[39;00mkey\u001b[39m}\u001b[39;00m\u001b[39m] are in the [\u001b[39m\u001b[39m{\u001b[39;00maxis_name\u001b[39m}\u001b[39;00m\u001b[39m]\u001b[39m\u001b[39m\"\u001b[39m)\n\u001b[0;32m   5940\u001b[0m not_found \u001b[39m=\u001b[39m \u001b[39mlist\u001b[39m(ensure_index(key)[missing_mask\u001b[39m.\u001b[39mnonzero()[\u001b[39m0\u001b[39m]]\u001b[39m.\u001b[39munique())\n\u001b[0;32m   5941\u001b[0m \u001b[39mraise\u001b[39;00m \u001b[39mKeyError\u001b[39;00m(\u001b[39mf\u001b[39m\u001b[39m\"\u001b[39m\u001b[39m{\u001b[39;00mnot_found\u001b[39m}\u001b[39;00m\u001b[39m not in index\u001b[39m\u001b[39m\"\u001b[39m)\n",
      "\u001b[1;31mKeyError\u001b[0m: \"None of [Index(['Suitable For'], dtype='object')] are in the [columns]\""
     ]
    }
   ],
   "source": [
    "# Label encoder: Suitable For, Reversible, Ideal For\n",
    "le_suitable = pp.LabelEncoder()\n",
    "X_train['Suitable For'] = le_suitable.fit_transform(X_train[['Suitable For']])\n",
    "pickle.dump(le_suitable, open('parameters/le_suitable.pkl','wb'))\n",
    "\n",
    "le_reversible = pp.LabelEncoder()\n",
    "X_train['Reversible'] = le_reversible.fit_transform(X_train[['Suitable For']])\n",
    "pickle.dump(le_reversible, open('parameters/le_reversible.pkl','wb'))\n",
    "\n",
    "le_ideal = pp.LabelEncoder()\n",
    "X_train['Ideal For'] = le_ideal.fit_transform(X_train[['Suitable For']])\n",
    "pickle.dump(le_ideal, open('parameters/le_ideal.pkl','wb'))\n",
    "\n",
    "\n",
    "\n",
    "# Target Encoder: Style Code, Pack of"
   ]
  },
  {
   "cell_type": "markdown",
   "id": "ff788903",
   "metadata": {},
   "source": [
    "### One Hot Enconde"
   ]
  },
  {
   "cell_type": "code",
   "execution_count": null,
   "id": "5c34f589",
   "metadata": {
    "ExecuteTime": {
     "end_time": "2023-10-21T20:01:22.248222Z",
     "start_time": "2023-10-21T20:01:22.238133Z"
    }
   },
   "outputs": [],
   "source": [
    "# 'out_of_stock'"
   ]
  },
  {
   "cell_type": "markdown",
   "id": "527eaecc",
   "metadata": {},
   "source": [
    "### Frequency Encode"
   ]
  },
  {
   "cell_type": "code",
   "execution_count": null,
   "id": "f1ce9035",
   "metadata": {
    "ExecuteTime": {
     "end_time": "2023-10-21T20:01:28.697935Z",
     "start_time": "2023-10-21T20:01:28.252288Z"
    }
   },
   "outputs": [],
   "source": [
    "for att in ['brand', 'product', 'seller']:\n",
    "    fe =  ce.CountEncoder(cols=[att], normalize=True).fit(X_train)\n",
    "    pickle.dump(fe,open(f'parameters/fe_{att}.pkl', 'wb'))\n",
    "    X_train = fe.transform(X_train)"
   ]
  },
  {
   "cell_type": "markdown",
   "id": "c8b601c7",
   "metadata": {},
   "source": [
    "### Response Variable"
   ]
  },
  {
   "cell_type": "code",
   "execution_count": null,
   "id": "cf5917e1",
   "metadata": {
    "ExecuteTime": {
     "end_time": "2023-10-21T20:01:34.855624Z",
     "start_time": "2023-10-21T20:01:34.843795Z"
    }
   },
   "outputs": [],
   "source": [
    "y_train = np.log1p(y_train)"
   ]
  },
  {
   "cell_type": "markdown",
   "id": "026f9780",
   "metadata": {},
   "source": [
    "## Test Preparation"
   ]
  },
  {
   "cell_type": "code",
   "execution_count": null,
   "id": "e8aebb17",
   "metadata": {
    "ExecuteTime": {
     "end_time": "2023-10-21T20:01:43.106183Z",
     "start_time": "2023-10-21T20:01:42.912173Z"
    },
    "scrolled": true
   },
   "outputs": [],
   "source": [
    "X_test_mod, y_test_mod = test_preparation(X_test, y_test)"
   ]
  },
  {
   "cell_type": "markdown",
   "id": "1d0cc108",
   "metadata": {},
   "source": [
    "# Feature Selection"
   ]
  },
  {
   "cell_type": "code",
   "execution_count": null,
   "id": "3b98ad6a",
   "metadata": {
    "ExecuteTime": {
     "end_time": "2023-10-21T20:01:53.560109Z",
     "start_time": "2023-10-21T20:01:53.532222Z"
    }
   },
   "outputs": [
    {
     "data": {
      "text/plain": [
       "['average_rating',\n",
       " 'number_of_reviews',\n",
       " 'brand',\n",
       " 'category',\n",
       " 'crawled_at',\n",
       " 'out_of_stock',\n",
       " 'avg_delivery_time_days',\n",
       " 'product_details',\n",
       " 'seller',\n",
       " 'sub_category',\n",
       " 'fabrication_time',\n",
       " 'title',\n",
       " 'product']"
      ]
     },
     "execution_count": 34,
     "metadata": {},
     "output_type": "execute_result"
    }
   ],
   "source": [
    "X_train.columns.tolist()"
   ]
  },
  {
   "cell_type": "code",
   "execution_count": null,
   "id": "cfd36892",
   "metadata": {
    "ExecuteTime": {
     "end_time": "2023-10-21T20:02:00.382421Z",
     "start_time": "2023-10-21T20:02:00.370492Z"
    }
   },
   "outputs": [],
   "source": [
    "features_selected = [\n",
    "'average_rating',\n",
    "'number_of_reviews',\n",
    "'brand',\n",
    "# 'category',\n",
    "# 'crawled_at',\n",
    "'out_of_stock',\n",
    "'avg_delivery_time_days',\n",
    "# 'product_details',\n",
    "'seller',\n",
    "# 'sub_category',\n",
    "# 'fabrication_time',\n",
    "# 'title',\n",
    "'product'\n",
    "]"
   ]
  },
  {
   "cell_type": "markdown",
   "id": "aacbd368",
   "metadata": {},
   "source": [
    "## Importancia das árvores"
   ]
  },
  {
   "cell_type": "code",
   "execution_count": null,
   "id": "67f8ac65",
   "metadata": {
    "ExecuteTime": {
     "end_time": "2023-10-21T20:02:07.333306Z",
     "start_time": "2023-10-21T20:02:07.013110Z"
    }
   },
   "outputs": [
    {
     "name": "stdout",
     "output_type": "stream",
     "text": [
      "[LightGBM] [Info] Auto-choosing row-wise multi-threading, the overhead of testing was 0.001555 seconds.\n",
      "You can set `force_row_wise=true` to remove the overhead.\n",
      "And if memory is not enough, you can set `force_col_wise=true`.\n",
      "[LightGBM] [Info] Total Bins 312\n",
      "[LightGBM] [Info] Number of data points in the train set: 13484, number of used features: 7\n",
      "[LightGBM] [Info] Start training from score 7.144035\n",
      "Feature ranking\n",
      "                  feature  importance\n",
      "0          average_rating         985\n",
      "0                   brand         805\n",
      "0                  seller         746\n",
      "0                 product         437\n",
      "0            out_of_stock          14\n",
      "0  avg_delivery_time_days          13\n",
      "0       number_of_reviews           0\n"
     ]
    }
   ],
   "source": [
    "# Crie e treine o modelo LGBMClassifier\n",
    "lgb_model = LGBMRegressor(n_jobs=-1, random_state=42)\n",
    "X_train_sel = X_train[features_selected]\n",
    "lgb_model.fit(X_train_sel, y_train)\n",
    "\n",
    "# Obtenha as importâncias das características do modelo\n",
    "importances = lgb_model.feature_importances_\n",
    "\n",
    "# Ordene as características por importância decrescente\n",
    "indices = np.argsort(importances)[::-1]\n",
    "\n",
    "# Imprima o ranking das características\n",
    "print('Feature ranking')\n",
    "df = pd.DataFrame()\n",
    "\n",
    "for i, j in zip(X_train_sel.columns, importances):\n",
    "    aux = pd.DataFrame({'feature': i, 'importance': j}, index=[0])\n",
    "    df = pd.concat([df, aux], axis=0)\n",
    "\n",
    "print(df.sort_values('importance', ascending=False))"
   ]
  },
  {
   "cell_type": "markdown",
   "id": "6da465a6",
   "metadata": {},
   "source": [
    "# Machine Learning"
   ]
  },
  {
   "cell_type": "code",
   "execution_count": null,
   "id": "6b5bba4e",
   "metadata": {
    "ExecuteTime": {
     "end_time": "2023-10-21T20:04:00.738912Z",
     "start_time": "2023-10-21T20:04:00.706395Z"
    }
   },
   "outputs": [],
   "source": [
    "def MachineLearning(X_train, y_train, X_test, y_test, features_selected):\n",
    "    SEED = 42\n",
    "\n",
    "    lista_de_medidas = ['SMAPE']\n",
    "    nome_das_medidas = ['SMAPE']\n",
    "\n",
    "    lista_de_modelos = [XGBRegressor(learning_rate=0.1, n_estimators=100, max_depth=3),\n",
    "                        SGDRegressor(random_state=SEED), \n",
    "                        LGBMRegressor(random_state=SEED, n_jobs=-1, force_row_wise=True, ),\n",
    "                        DecisionTreeRegressor(random_state=SEED),\n",
    "                        KNeighborsRegressor(n_neighbors=5,  weights='distance',n_jobs=-1),\n",
    "                        BaggingRegressor(),\n",
    "                        RandomForestRegressor(random_state=SEED)]\n",
    "\n",
    "    nome_dos_modelos = ['XGBoost', \n",
    "                        'SGD', \n",
    "                        'LGBM', \n",
    "                        'DecisionTree',\n",
    "                        'KNN',\n",
    "                        'Bagging',\n",
    "                        'RandomForest']\n",
    "\n",
    "    resultados0 = {}\n",
    "    \n",
    "    X_train_selected = X_train[features_selected]\n",
    "    X_test_selected = X_test[features_selected]\n",
    "\n",
    "\n",
    "    for i in range(len(lista_de_modelos)):\n",
    "        print('Rodando modelo: ' + nome_dos_modelos[i])\n",
    "        \n",
    "        model = lista_de_modelos[i]\n",
    "        \n",
    "        model.fit(X_train_selected, y_train)\n",
    "        \n",
    "        y_pred = model.predict(X_test_selected)\n",
    "        \n",
    "        smape = 100 / len(y_test) * np.sum(2 * np.abs(np.expm1(y_pred) - np.expm1(y_test)) / (np.abs(np.expm1(y_test)) + np.abs(np.expm1(y_pred))))\n",
    "                # 100 / len(y_test) * np.sum(2 * np.abs(y_pred - y_test) / (np.abs(y_test) + np.abs(y_pred)))\n",
    "\n",
    "        resultados0[nome_dos_modelos[i]] = [smape]\n",
    "    \n",
    "    resultados = pd.DataFrame(resultados0, index = nome_das_medidas).T\n",
    "\n",
    "    return resultados"
   ]
  },
  {
   "cell_type": "code",
   "execution_count": null,
   "id": "03da32a4",
   "metadata": {},
   "outputs": [],
   "source": [
    "import seaborn as sns"
   ]
  },
  {
   "cell_type": "code",
   "execution_count": null,
   "id": "f68043ba",
   "metadata": {},
   "outputs": [
    {
     "data": {
      "text/plain": [
       "<Axes: xlabel='actual_price', ylabel='Count'>"
      ]
     },
     "execution_count": 39,
     "metadata": {},
     "output_type": "execute_result"
    },
    {
     "data": {
      "image/png": "[encoded data removed]",
      "text/plain": [
       "<Figure size 640x480 with 1 Axes>"
      ]
     },
     "metadata": {},
     "output_type": "display_data"
    }
   ],
   "source": [
    "sns.histplot(data_train['actual_price'])"
   ]
  },
  {
   "cell_type": "code",
   "execution_count": null,
   "id": "9df8b30a",
   "metadata": {},
   "outputs": [
    {
     "data": {
      "text/plain": [
       "<Axes: xlabel='actual_price', ylabel='Count'>"
      ]
     },
     "execution_count": 40,
     "metadata": {},
     "output_type": "execute_result"
    },
    {
     "data": {
      "image/png": "[encoded data removed]",
      "text/plain": [
       "<Figure size 640x480 with 1 Axes>"
      ]
     },
     "metadata": {},
     "output_type": "display_data"
    }
   ],
   "source": [
    "sns.histplot(y_test)"
   ]
  },
  {
   "cell_type": "code",
   "execution_count": null,
   "id": "5c4ec9e9",
   "metadata": {
    "ExecuteTime": {
     "end_time": "2023-10-21T20:04:19.751410Z",
     "start_time": "2023-10-21T20:04:08.200205Z"
    }
   },
   "outputs": [
    {
     "name": "stdout",
     "output_type": "stream",
     "text": [
      "Rodando modelo: XGBoost\n"
     ]
    },
    {
     "name": "stdout",
     "output_type": "stream",
     "text": [
      "Rodando modelo: SGD\n",
      "Rodando modelo: LGBM\n",
      "[LightGBM] [Info] Total Bins 312\n",
      "[LightGBM] [Info] Number of data points in the train set: 13484, number of used features: 7\n",
      "[LightGBM] [Info] Start training from score 7.144035\n",
      "Rodando modelo: DecisionTree\n",
      "Rodando modelo: KNN\n",
      "Rodando modelo: Bagging\n",
      "Rodando modelo: RandomForest\n"
     ]
    },
    {
     "data": {
      "text/html": [
       "<div>\n",
       "<style scoped>\n",
       "    .dataframe tbody tr th:only-of-type {\n",
       "        vertical-align: middle;\n",
       "    }\n",
       "\n",
       "    .dataframe tbody tr th {\n",
       "        vertical-align: top;\n",
       "    }\n",
       "\n",
       "    .dataframe thead th {\n",
       "        text-align: right;\n",
       "    }\n",
       "</style>\n",
       "<table border=\"1\" class=\"dataframe\">\n",
       "  <thead>\n",
       "    <tr style=\"text-align: right;\">\n",
       "      <th></th>\n",
       "      <th>SMAPE</th>\n",
       "    </tr>\n",
       "  </thead>\n",
       "  <tbody>\n",
       "    <tr>\n",
       "      <th>XGBoost</th>\n",
       "      <td>41.740091</td>\n",
       "    </tr>\n",
       "    <tr>\n",
       "      <th>SGD</th>\n",
       "      <td>41.945403</td>\n",
       "    </tr>\n",
       "    <tr>\n",
       "      <th>LGBM</th>\n",
       "      <td>41.959996</td>\n",
       "    </tr>\n",
       "    <tr>\n",
       "      <th>DecisionTree</th>\n",
       "      <td>45.034237</td>\n",
       "    </tr>\n",
       "    <tr>\n",
       "      <th>KNN</th>\n",
       "      <td>46.028108</td>\n",
       "    </tr>\n",
       "    <tr>\n",
       "      <th>Bagging</th>\n",
       "      <td>43.737931</td>\n",
       "    </tr>\n",
       "    <tr>\n",
       "      <th>RandomForest</th>\n",
       "      <td>43.389711</td>\n",
       "    </tr>\n",
       "  </tbody>\n",
       "</table>\n",
       "</div>"
      ],
      "text/plain": [
       "                  SMAPE\n",
       "XGBoost       41.740091\n",
       "SGD           41.945403\n",
       "LGBM          41.959996\n",
       "DecisionTree  45.034237\n",
       "KNN           46.028108\n",
       "Bagging       43.737931\n",
       "RandomForest  43.389711"
      ]
     },
     "execution_count": 41,
     "metadata": {},
     "output_type": "execute_result"
    }
   ],
   "source": [
    "MachineLearning(X_train, y_train, X_test_mod, y_test_mod, features_selected)"
   ]
  },
  {
   "cell_type": "markdown",
   "id": "f5a71e16",
   "metadata": {},
   "source": [
    "# Fine Tuning"
   ]
  },
  {
   "cell_type": "code",
   "execution_count": null,
   "id": "75033930",
   "metadata": {
    "ExecuteTime": {
     "end_time": "2023-10-21T20:04:48.606967Z",
     "start_time": "2023-10-21T20:04:48.175525Z"
    }
   },
   "outputs": [],
   "source": [
    "best_model = XGBRegressor(learning_rate=0.1, n_estimators=100, max_depth=3).fit(X_train[features_selected], y_train)"
   ]
  },
  {
   "cell_type": "markdown",
   "id": "29c4d111",
   "metadata": {},
   "source": [
    "## Submission"
   ]
  },
  {
   "cell_type": "markdown",
   "id": "9966dbd8",
   "metadata": {},
   "source": [
    "### Carregar os dados"
   ]
  },
  {
   "cell_type": "code",
   "execution_count": null,
   "id": "06839809",
   "metadata": {
    "ExecuteTime": {
     "end_time": "2023-10-21T20:06:04.727367Z",
     "start_time": "2023-10-21T20:06:04.474054Z"
    }
   },
   "outputs": [
    {
     "data": {
      "text/html": [
       "<div>\n",
       "<style scoped>\n",
       "    .dataframe tbody tr th:only-of-type {\n",
       "        vertical-align: middle;\n",
       "    }\n",
       "\n",
       "    .dataframe tbody tr th {\n",
       "        vertical-align: top;\n",
       "    }\n",
       "\n",
       "    .dataframe thead th {\n",
       "        text-align: right;\n",
       "    }\n",
       "</style>\n",
       "<table border=\"1\" class=\"dataframe\">\n",
       "  <thead>\n",
       "    <tr style=\"text-align: right;\">\n",
       "      <th></th>\n",
       "      <th>_id</th>\n",
       "      <th>average_rating</th>\n",
       "      <th>number_of_reviews</th>\n",
       "      <th>brand</th>\n",
       "      <th>category</th>\n",
       "      <th>crawled_at</th>\n",
       "      <th>description</th>\n",
       "      <th>images</th>\n",
       "      <th>out_of_stock</th>\n",
       "      <th>avg_delivery_time_days</th>\n",
       "      <th>pid</th>\n",
       "      <th>product_details</th>\n",
       "      <th>seller</th>\n",
       "      <th>sub_category</th>\n",
       "      <th>fabrication_time</th>\n",
       "      <th>title</th>\n",
       "    </tr>\n",
       "  </thead>\n",
       "  <tbody>\n",
       "    <tr>\n",
       "      <th>0</th>\n",
       "      <td>35d28961-170f-515d-90d4-55ee978a8afa</td>\n",
       "      <td>4.8</td>\n",
       "      <td>40</td>\n",
       "      <td>Mo</td>\n",
       "      <td>Clothing and Accessories</td>\n",
       "      <td>2021-02-10 21:18:47</td>\n",
       "      <td>Accentuate your formal wardrobe by buying this...</td>\n",
       "      <td>['https://rukminim1.flixcart.com/image/128/128...</td>\n",
       "      <td>False</td>\n",
       "      <td>17</td>\n",
       "      <td>SHTFDYZGEXPED7YS</td>\n",
       "      <td>[{'Pack of': '1'}, {'Model Name': 'Mods Slim f...</td>\n",
       "      <td>KKSONS</td>\n",
       "      <td>Topwear</td>\n",
       "      <td>32</td>\n",
       "      <td>Men Slim Fit Printed Button Down Collar Casual...</td>\n",
       "    </tr>\n",
       "    <tr>\n",
       "      <th>1</th>\n",
       "      <td>5089618f-7eec-571b-84b6-41c3b43a2ed4</td>\n",
       "      <td>3.7</td>\n",
       "      <td>31</td>\n",
       "      <td>True Bl</td>\n",
       "      <td>Clothing and Accessories</td>\n",
       "      <td>2021-02-10 22:12:20</td>\n",
       "      <td>undefined</td>\n",
       "      <td>['https://rukminim1.flixcart.com/image/128/128...</td>\n",
       "      <td>False</td>\n",
       "      <td>10</td>\n",
       "      <td>TROFM47EVWRYK7ZU</td>\n",
       "      <td>[{'Fit': 'Slim Fit'}, {'Occasion': 'Casual'}, ...</td>\n",
       "      <td>KAPSONSRETAILPVTLTD</td>\n",
       "      <td>Bottomwear</td>\n",
       "      <td>318</td>\n",
       "      <td>Slim Fit Men Brown Cotton Blend Trousers</td>\n",
       "    </tr>\n",
       "    <tr>\n",
       "      <th>2</th>\n",
       "      <td>84716375-2ea3-5376-bca1-ecef76b0aa87</td>\n",
       "      <td>3.2</td>\n",
       "      <td>26</td>\n",
       "      <td>vims rai</td>\n",
       "      <td>Clothing and Accessories</td>\n",
       "      <td>2021-02-11 01:16:36</td>\n",
       "      <td>undefined</td>\n",
       "      <td>['https://rukminim1.flixcart.com/image/128/128...</td>\n",
       "      <td>False</td>\n",
       "      <td>8</td>\n",
       "      <td>FABFZAMPGDW3BKGX</td>\n",
       "      <td>[{'Type': 'Shirt Fabric'}, {'Sales Package': '...</td>\n",
       "      <td>WHITE SKY</td>\n",
       "      <td>Fabrics</td>\n",
       "      <td>411</td>\n",
       "      <td>Rayon Printed Shirt Fabric  (Unstitched)</td>\n",
       "    </tr>\n",
       "    <tr>\n",
       "      <th>3</th>\n",
       "      <td>84120873-2b67-5f2c-9074-803e52e278f7</td>\n",
       "      <td>3.6</td>\n",
       "      <td>30</td>\n",
       "      <td>True Bl</td>\n",
       "      <td>Clothing and Accessories</td>\n",
       "      <td>2021-02-10 22:21:32</td>\n",
       "      <td>undefined</td>\n",
       "      <td>['https://rukminim1.flixcart.com/image/128/128...</td>\n",
       "      <td>False</td>\n",
       "      <td>10</td>\n",
       "      <td>BZRFNMGPNBQTYHMG</td>\n",
       "      <td>[{'Color': 'Blue'}, {'Fabric': 'Polyester'}, {...</td>\n",
       "      <td>KAPSONSRETAILPVTLTD</td>\n",
       "      <td>Blazers, Waistcoats and Suits</td>\n",
       "      <td>431</td>\n",
       "      <td>Solid Single Breasted Formal Men Full Sleeve B...</td>\n",
       "    </tr>\n",
       "    <tr>\n",
       "      <th>4</th>\n",
       "      <td>96238f84-3bb8-5ec1-b2f4-fe481ba35faa</td>\n",
       "      <td>2.5</td>\n",
       "      <td>21</td>\n",
       "      <td>ECKO Unl</td>\n",
       "      <td>Clothing and Accessories</td>\n",
       "      <td>2021-02-10 22:32:00</td>\n",
       "      <td>ECKO Unltd YD CHECK  Cotton Woven Slim Fit IND...</td>\n",
       "      <td>['https://rukminim1.flixcart.com/image/128/128...</td>\n",
       "      <td>False</td>\n",
       "      <td>5</td>\n",
       "      <td>SHTFV5G6PZDQZEVZ</td>\n",
       "      <td>[{'Pack of': '1'}, {'Style Code': 'EKSH001497'...</td>\n",
       "      <td>SandSMarketing</td>\n",
       "      <td>Topwear</td>\n",
       "      <td>512</td>\n",
       "      <td>Men Slim Fit Checkered Cut Away Collar Casual ...</td>\n",
       "    </tr>\n",
       "  </tbody>\n",
       "</table>\n",
       "</div>"
      ],
      "text/plain": [
       "                                    _id  average_rating  number_of_reviews  \\\n",
       "0  35d28961-170f-515d-90d4-55ee978a8afa             4.8                 40   \n",
       "1  5089618f-7eec-571b-84b6-41c3b43a2ed4             3.7                 31   \n",
       "2  84716375-2ea3-5376-bca1-ecef76b0aa87             3.2                 26   \n",
       "3  84120873-2b67-5f2c-9074-803e52e278f7             3.6                 30   \n",
       "4  96238f84-3bb8-5ec1-b2f4-fe481ba35faa             2.5                 21   \n",
       "\n",
       "      brand                  category           crawled_at  \\\n",
       "0        Mo  Clothing and Accessories  2021-02-10 21:18:47   \n",
       "1   True Bl  Clothing and Accessories  2021-02-10 22:12:20   \n",
       "2  vims rai  Clothing and Accessories  2021-02-11 01:16:36   \n",
       "3   True Bl  Clothing and Accessories  2021-02-10 22:21:32   \n",
       "4  ECKO Unl  Clothing and Accessories  2021-02-10 22:32:00   \n",
       "\n",
       "                                         description  \\\n",
       "0  Accentuate your formal wardrobe by buying this...   \n",
       "1                                          undefined   \n",
       "2                                          undefined   \n",
       "3                                          undefined   \n",
       "4  ECKO Unltd YD CHECK  Cotton Woven Slim Fit IND...   \n",
       "\n",
       "                                              images  out_of_stock  \\\n",
       "0  ['https://rukminim1.flixcart.com/image/128/128...         False   \n",
       "1  ['https://rukminim1.flixcart.com/image/128/128...         False   \n",
       "2  ['https://rukminim1.flixcart.com/image/128/128...         False   \n",
       "3  ['https://rukminim1.flixcart.com/image/128/128...         False   \n",
       "4  ['https://rukminim1.flixcart.com/image/128/128...         False   \n",
       "\n",
       "   avg_delivery_time_days               pid  \\\n",
       "0                      17  SHTFDYZGEXPED7YS   \n",
       "1                      10  TROFM47EVWRYK7ZU   \n",
       "2                       8  FABFZAMPGDW3BKGX   \n",
       "3                      10  BZRFNMGPNBQTYHMG   \n",
       "4                       5  SHTFV5G6PZDQZEVZ   \n",
       "\n",
       "                                     product_details               seller  \\\n",
       "0  [{'Pack of': '1'}, {'Model Name': 'Mods Slim f...               KKSONS   \n",
       "1  [{'Fit': 'Slim Fit'}, {'Occasion': 'Casual'}, ...  KAPSONSRETAILPVTLTD   \n",
       "2  [{'Type': 'Shirt Fabric'}, {'Sales Package': '...            WHITE SKY   \n",
       "3  [{'Color': 'Blue'}, {'Fabric': 'Polyester'}, {...  KAPSONSRETAILPVTLTD   \n",
       "4  [{'Pack of': '1'}, {'Style Code': 'EKSH001497'...       SandSMarketing   \n",
       "\n",
       "                    sub_category  fabrication_time  \\\n",
       "0                        Topwear                32   \n",
       "1                     Bottomwear               318   \n",
       "2                        Fabrics               411   \n",
       "3  Blazers, Waistcoats and Suits               431   \n",
       "4                        Topwear               512   \n",
       "\n",
       "                                               title  \n",
       "0  Men Slim Fit Printed Button Down Collar Casual...  \n",
       "1           Slim Fit Men Brown Cotton Blend Trousers  \n",
       "2           Rayon Printed Shirt Fabric  (Unstitched)  \n",
       "3  Solid Single Breasted Formal Men Full Sleeve B...  \n",
       "4  Men Slim Fit Checkered Cut Away Collar Casual ...  "
      ]
     },
     "execution_count": 43,
     "metadata": {},
     "output_type": "execute_result"
    }
   ],
   "source": [
    "# Opening JSON file\n",
    "sub = open('dataset/raw/test.json')\n",
    " \n",
    "# returns JSON object as \n",
    "# a dictionary\n",
    "data_sub_aux = json.load(sub)\n",
    "\n",
    "data_sub = pd.json_normalize(data_sub_aux, record_path = 'data')\n",
    "data_sub.columns = data_sub_aux['columns']\n",
    "data_sub.head()"
   ]
  },
  {
   "cell_type": "markdown",
   "id": "024af053",
   "metadata": {},
   "source": [
    "### Transformar os dados"
   ]
  },
  {
   "cell_type": "code",
   "execution_count": null,
   "id": "49d68d23",
   "metadata": {
    "ExecuteTime": {
     "end_time": "2023-10-21T20:06:12.314052Z",
     "start_time": "2023-10-21T20:06:12.291023Z"
    }
   },
   "outputs": [],
   "source": [
    "def limpeza (df):\n",
    "    df = df.drop(columns=['_id', 'pid','description', 'images'])\n",
    "    # transformando de string para data\n",
    "    df['crawled_at'] = pd.to_datetime(df['crawled_at']).dt.date\n",
    "\n",
    "    return df\n",
    "\n",
    "def feature_engen(df):\n",
    "    ## out_of_stock - transformar para int \n",
    "    df['out_of_stock'] = df['out_of_stock'].astype('int64')\n",
    "\n",
    "    # brand - substituir por outros\n",
    "    df['brand'] = df['brand'].apply(lambda x: x.lower())\n",
    "\n",
    "    # criando feature product\n",
    "    df['product'] = df[['category', 'sub_category']].apply(lambda x: x['category'] + '_' + x['sub_category'], axis = 1)\n",
    "    \n",
    "    return df\n",
    "\n",
    "def submission_preparation(df, features_selected):\n",
    "    \n",
    "    df = limpeza(df)\n",
    "    df = feature_engen(df)\n",
    "    df = rescalling(df)\n",
    "    df = transform(df)\n",
    "    \n",
    "    return df[features_selected]"
   ]
  },
  {
   "cell_type": "markdown",
   "id": "c81422b5",
   "metadata": {},
   "source": [
    "### Aplicar sobre os dados de teste"
   ]
  },
  {
   "cell_type": "code",
   "execution_count": null,
   "id": "e767b802",
   "metadata": {
    "ExecuteTime": {
     "end_time": "2023-10-21T20:06:22.283446Z",
     "start_time": "2023-10-21T20:06:21.761791Z"
    }
   },
   "outputs": [],
   "source": [
    "data_sub_mod = submission_preparation(data_sub, features_selected)"
   ]
  },
  {
   "cell_type": "code",
   "execution_count": null,
   "id": "84f32be7",
   "metadata": {
    "ExecuteTime": {
     "end_time": "2023-10-21T20:07:38.504683Z",
     "start_time": "2023-10-21T20:07:38.478946Z"
    },
    "run_control": {
     "marked": true
    }
   },
   "outputs": [],
   "source": [
    "y_hat = np.expm1(best_model.predict(data_sub_mod))"
   ]
  },
  {
   "cell_type": "code",
   "execution_count": null,
   "id": "48515018",
   "metadata": {
    "ExecuteTime": {
     "end_time": "2023-10-21T20:10:28.770681Z",
     "start_time": "2023-10-21T20:10:28.750717Z"
    }
   },
   "outputs": [],
   "source": [
    "df_submission = pd.DataFrame()\n",
    "df_submission['pid'] = data_sub['pid']\n",
    "df_submission['actual_price'] = y_hat"
   ]
  },
  {
   "cell_type": "code",
   "execution_count": null,
   "id": "60a14d26",
   "metadata": {
    "ExecuteTime": {
     "end_time": "2023-10-21T20:15:29.272229Z",
     "start_time": "2023-10-21T20:15:29.211847Z"
    }
   },
   "outputs": [],
   "source": [
    "df_submission.to_csv('submissions/submission_1.csv', index=False)"
   ]
  },
  {
   "cell_type": "code",
   "execution_count": null,
   "id": "16a46fd9",
   "metadata": {},
   "outputs": [],
   "source": [
    "data_sub_mod = submission_preparation(data_sub, features_selected)"
   ]
  },
  {
   "cell_type": "code",
   "execution_count": null,
   "id": "09876a3c",
   "metadata": {},
   "outputs": [],
   "source": [
    "y_hat = np.expm1(best_model.predict(data_sub_mod))"
   ]
  },
  {
   "cell_type": "code",
   "execution_count": null,
   "id": "bf887b79",
   "metadata": {},
   "outputs": [],
   "source": [
    "df_submission = pd.DataFrame()\n",
    "df_submission['pid'] = data_sub['pid']\n",
    "df_submission['actual_price'] = y_hat"
   ]
  },
  {
   "cell_type": "code",
   "execution_count": null,
   "id": "ed5d8cac",
   "metadata": {},
   "outputs": [],
   "source": [
    "df_submission.to_csv('submissions/submission_1.csv', index=False)"
   ]
  },
  {
   "cell_type": "markdown",
   "id": "0e88511f",
   "metadata": {},
   "source": [
    "------\n",
    "# 10 Help Functions"
   ]
  },
  {
   "cell_type": "code",
   "execution_count": null,
   "id": "9533b7df",
   "metadata": {
    "ExecuteTime": {
     "end_time": "2023-10-21T18:31:56.272844Z",
     "start_time": "2023-10-21T18:31:56.262290Z"
    }
   },
   "outputs": [],
   "source": [
    "def f(x):\n",
    "    try:\n",
    "        return ast.literal_eval(str(x))   \n",
    "    except Exception as e:\n",
    "        print(e)\n",
    "        return []"
   ]
  },
  {
   "cell_type": "code",
   "execution_count": null,
   "id": "3362a80d",
   "metadata": {
    "ExecuteTime": {
     "end_time": "2023-10-21T18:31:58.706931Z",
     "start_time": "2023-10-21T18:31:58.693982Z"
    }
   },
   "outputs": [],
   "source": [
    "def junta_dict(dict_list):\n",
    "    dicionario = {}\n",
    "    for d in dict_list:\n",
    "        for key, value in d.items():\n",
    "            dicionario[key] = value\n",
    "    return dicionario"
   ]
  },
  {
   "cell_type": "code",
   "execution_count": null,
   "id": "5ed13f01",
   "metadata": {
    "ExecuteTime": {
     "end_time": "2023-10-21T18:32:01.770694Z",
     "start_time": "2023-10-21T18:32:01.758803Z"
    }
   },
   "outputs": [],
   "source": [
    "def feature_engen(df):\n",
    "    ## out_of_stock - transformar para int \n",
    "    df['out_of_stock'] = df['out_of_stock'].astype('int64')\n",
    "\n",
    "    # brand - substituir por outros\n",
    "    df['brand'] = df['brand'].apply(lambda x: x.lower())\n",
    "\n",
    "    # criando feature product\n",
    "    df['product'] = df[['category', 'sub_category']].apply(lambda x: x['category'] + '_' + x['sub_category'], axis = 1)\n",
    "    \n",
    "    ## Tratando variaveis respostas nulas\n",
    "    prices = df[['seller','pid', 'actual_price']].groupby('pid').max().reset_index()\n",
    "    precos_nulos = df.loc[df['actual_price'].isna(), ['_id','pid']]\n",
    "    precos_recuperados = pd.merge(precos_nulos, prices, how = 'inner', on = 'pid')\n",
    "    \n",
    "    df_aux = pd.merge(df, precos_recuperados[['_id', 'actual_price']], on = '_id', how = 'left')\n",
    "    df['actual_price'] = df_aux['actual_price_x'].fillna(0) + df_aux['actual_price_y'].fillna(0)\n",
    "    \n",
    "    df = df.dropna(subset=['actual_price'])\n",
    "    \n",
    "    return df"
   ]
  },
  {
   "cell_type": "code",
   "execution_count": null,
   "id": "cd4d26d0",
   "metadata": {
    "ExecuteTime": {
     "end_time": "2023-10-21T18:32:04.369516Z",
     "start_time": "2023-10-21T18:32:04.360651Z"
    }
   },
   "outputs": [],
   "source": [
    "def pipeline (df):\n",
    "    df = limpeza(df)\n",
    "    df = feature_engen(df)\n",
    "    \n",
    "    product_details = df['product_details'].apply(lambda x: f(x))\n",
    "    product_details = pd.DataFrame([junta_dict(row) for row in product_details])\n",
    "    \n",
    "    return df, product_details\n"
   ]
  },
  {
   "cell_type": "code",
   "execution_count": null,
   "id": "eb90453c",
   "metadata": {},
   "outputs": [],
   "source": [
    "def test_preparation(df):\n",
    "    X_test = rescalling(X_test)\n",
    "    X_test = transform(X_test)\n",
    "    y_test = log_var_resposta(y_test)\n",
    "    \n",
    "    return X_test"
   ]
  }
 ],
 "metadata": {
  "kernelspec": {
   "display_name": "Python 3 (ipykernel)",
   "language": "python",
   "name": "python3"
  },
  "language_info": {
   "codemirror_mode": {
    "name": "ipython",
    "version": 3
   },
   "file_extension": ".py",
   "mimetype": "text/x-python",
   "name": "python",
   "nbconvert_exporter": "python",
   "pygments_lexer": "ipython3",
   "version": "3.9.7"
  },
  "toc": {
   "base_numbering": 1,
   "nav_menu": {},
   "number_sections": true,
   "sideBar": true,
   "skip_h1_title": false,
   "title_cell": "Table of Contents",
   "title_sidebar": "Contents",
   "toc_cell": false,
   "toc_position": {},
   "toc_section_display": true,
   "toc_window_display": true
  },
  "varInspector": {
   "cols": {
    "lenName": 16,
    "lenType": 16,
    "lenVar": 40
   },
   "kernels_config": {
    "python": {
     "delete_cmd_postfix": "",
     "delete_cmd_prefix": "del ",
     "library": "var_list.py",
     "varRefreshCmd": "print(var_dic_list())"
    },
    "r": {
     "delete_cmd_postfix": ") ",
     "delete_cmd_prefix": "rm(",
     "library": "var_list.r",
     "varRefreshCmd": "cat(var_dic_list()) "
    }
   },
   "types_to_exclude": [
    "module",
    "function",
    "builtin_function_or_method",
    "instance",
    "_Feature"
   ],
   "window_display": false
  },
  "vscode": {
   "interpreter": {
    "hash": "892e5ff5783333d733f0bd2e0068297de9409e96214f7e68af4469f351f76fae"
   }
  }
 },
 "nbformat": 4,
 "nbformat_minor": 5
}
