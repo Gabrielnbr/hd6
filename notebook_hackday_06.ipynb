{
 "cells": [
  {
   "cell_type": "markdown",
   "id": "23e57af8",
   "metadata": {},
   "source": [
    "# Imports"
   ]
  },
  {
   "cell_type": "code",
   "execution_count": 114,
   "id": "403b1b50",
   "metadata": {
    "ExecuteTime": {
     "end_time": "2023-10-21T19:16:36.003383Z",
     "start_time": "2023-10-21T19:16:35.983644Z"
    }
   },
   "outputs": [],
   "source": [
    "import pandas as pd\n",
    "import numpy as np\n",
    "import json\n",
    "import datetime\n",
    "import ast\n",
    "\n",
    "from sklearn import preprocessing as pp\n",
    "import pickle\n",
    "\n",
    "from sklearn import model_selection as ms\n",
    "import category_encoders as ce\n",
    "\n",
    "#from boruta   import BorutaPy\n",
    "from lightgbm import LGBMClassifier\n",
    "\n",
    "from sklearn.ensemble        import RandomForestClassifier, BaggingClassifier, GradientBoostingClassifier\n",
    "from xgboost                 import XGBRegressor\n",
    "from sklearn.linear_model    import LogisticRegression, SGDRegressor\n",
    "from sklearn.neighbors       import KNeighborsRegressor\n",
    "from sklearn.tree            import DecisionTreeRegressor\n",
    "from sklearn.ensemble        import RandomForestRegressor, BaggingRegressor\n",
    "from sklearn.metrics         import accuracy_score, recall_score, precision_score, balanced_accuracy_score, f1_score, roc_curve, confusion_matrix\n",
    "from sklearn.model_selection import GridSearchCV, RandomizedSearchCV\n",
    "from sklearn.naive_bayes     import GaussianNB\n",
    "from lightgbm                import LGBMRegressor"
   ]
  },
  {
   "cell_type": "code",
   "execution_count": 115,
   "id": "0c228727",
   "metadata": {
    "ExecuteTime": {
     "end_time": "2023-10-21T19:16:42.629488Z",
     "start_time": "2023-10-21T19:16:36.013434Z"
    }
   },
   "outputs": [
    {
     "name": "stderr",
     "output_type": "stream",
     "text": [
      "ERROR: Could not find a version that satisfies the requirement epftoolbox (from versions: none)\n",
      "ERROR: No matching distribution found for epftoolbox\n"
     ]
    }
   ],
   "source": [
    "! pip install epftoolbox"
   ]
  },
  {
   "cell_type": "markdown",
   "id": "3f2f5333",
   "metadata": {},
   "source": [
    "## Helper Functions"
   ]
  },
  {
   "cell_type": "code",
   "execution_count": 116,
   "id": "a11c28aa",
   "metadata": {
    "ExecuteTime": {
     "end_time": "2023-10-21T19:16:42.660258Z",
     "start_time": "2023-10-21T19:16:42.634081Z"
    }
   },
   "outputs": [],
   "source": [
    "def test_preparation(X_test, y_test):\n",
    "    X_test = rescalling(X_test)\n",
    "    X_test = transform(X_test)\n",
    "    y_test = log_var_resposta(y_test)\n",
    "    \n",
    "    return X_test, y_test\n",
    "\n",
    "\n",
    "def rescalling (X_test):\n",
    "    \n",
    "    mm = pickle.load(open('parameters/mm_avg_delivery_time_days.pkl','rb'))\n",
    "    X_test['avg_delivery_time_days'] = mm.transform(X_test[['avg_delivery_time_days']])\n",
    "    \n",
    "    rs_ar = pickle.load(open('parameters/rs_average_rating.pkl','rb'))\n",
    "    \n",
    "    X_test['average_rating'] = rs_ar.transform(X_test[['average_rating']])\n",
    "    \n",
    "    rs_nr = pickle.load(open('parameters/rs_number_of_reviews.pkl','rb'))\n",
    "    \n",
    "    X_test['number_of_reviews'] = rs_nr.transform(X_test[['number_of_reviews']])\n",
    "    \n",
    "    return X_test\n",
    "\n",
    "def transform (X_test):\n",
    "    \n",
    "    for att in ['brand', 'product', 'seller']:\n",
    "        fe = pickle.load(open(f'parameters/fe_{att}.pkl', 'rb'))\n",
    "        X_test = fe.transform(X_test)\n",
    "    \n",
    "    return X_test\n",
    "\n",
    "def log_var_resposta(df):\n",
    "    df = np.log10(df)\n",
    "    return df\n",
    "\n",
    "def feature_selection(df):\n",
    "    features_selected = [\n",
    "    'average_rating',\n",
    "    'number_of_reviews',\n",
    "    'brand',\n",
    "    # 'category',\n",
    "    # 'crawled_at',\n",
    "    'out_of_stock',\n",
    "    'avg_delivery_time_days',\n",
    "    # 'product_details',\n",
    "    'seller',\n",
    "    # 'sub_category',\n",
    "    # 'fabrication_time',\n",
    "    # 'title',\n",
    "    'product'\n",
    "    ]\n",
    "    \n",
    "    return df[features_selected]\n"
   ]
  },
  {
   "cell_type": "markdown",
   "id": "1c83d907",
   "metadata": {},
   "source": [
    "# Load Data"
   ]
  },
  {
   "cell_type": "code",
   "execution_count": 117,
   "id": "d0d2e3d5",
   "metadata": {
    "ExecuteTime": {
     "end_time": "2023-10-21T19:16:43.695902Z",
     "start_time": "2023-10-21T19:16:42.665935Z"
    }
   },
   "outputs": [
    {
     "data": {
      "text/html": [
       "<div>\n",
       "<style scoped>\n",
       "    .dataframe tbody tr th:only-of-type {\n",
       "        vertical-align: middle;\n",
       "    }\n",
       "\n",
       "    .dataframe tbody tr th {\n",
       "        vertical-align: top;\n",
       "    }\n",
       "\n",
       "    .dataframe thead th {\n",
       "        text-align: right;\n",
       "    }\n",
       "</style>\n",
       "<table border=\"1\" class=\"dataframe\">\n",
       "  <thead>\n",
       "    <tr style=\"text-align: right;\">\n",
       "      <th></th>\n",
       "      <th>_id</th>\n",
       "      <th>average_rating</th>\n",
       "      <th>number_of_reviews</th>\n",
       "      <th>brand</th>\n",
       "      <th>category</th>\n",
       "      <th>crawled_at</th>\n",
       "      <th>description</th>\n",
       "      <th>images</th>\n",
       "      <th>out_of_stock</th>\n",
       "      <th>avg_delivery_time_days</th>\n",
       "      <th>pid</th>\n",
       "      <th>product_details</th>\n",
       "      <th>seller</th>\n",
       "      <th>sub_category</th>\n",
       "      <th>fabrication_time</th>\n",
       "      <th>title</th>\n",
       "      <th>actual_price</th>\n",
       "    </tr>\n",
       "  </thead>\n",
       "  <tbody>\n",
       "    <tr>\n",
       "      <th>0</th>\n",
       "      <td>53df9662-e500-569c-946e-0c8d215a72cd</td>\n",
       "      <td>3.2</td>\n",
       "      <td>26</td>\n",
       "      <td>East I</td>\n",
       "      <td>Clothing and Accessories</td>\n",
       "      <td>2021-02-10 21:17:28</td>\n",
       "      <td>Navy Blue Printed Boxers Has  An Inner  Elasti...</td>\n",
       "      <td>['https://rukminim1.flixcart.com/image/128/128...</td>\n",
       "      <td>False</td>\n",
       "      <td>8</td>\n",
       "      <td>BXRFTZF7JGX75DAW</td>\n",
       "      <td>[{'Color': 'Dark Blue'}, {'Fabric': 'Pure Cott...</td>\n",
       "      <td>ZIYAA</td>\n",
       "      <td>Innerwear and Swimwear</td>\n",
       "      <td>653</td>\n",
       "      <td>Printed Men Boxer  (Pack of 1)</td>\n",
       "      <td>849.0</td>\n",
       "    </tr>\n",
       "    <tr>\n",
       "      <th>1</th>\n",
       "      <td>d0142842-84f7-537d-a06f-d85b76488a5f</td>\n",
       "      <td>4.0</td>\n",
       "      <td>33</td>\n",
       "      <td>dream o</td>\n",
       "      <td>Clothing and Accessories</td>\n",
       "      <td>2021-02-11 01:02:46</td>\n",
       "      <td>smiley printed tshirt on round neck cotton tshirt</td>\n",
       "      <td>['https://rukminim1.flixcart.com/image/128/128...</td>\n",
       "      <td>False</td>\n",
       "      <td>12</td>\n",
       "      <td>TSHFWQM96UHR6A4Q</td>\n",
       "      <td>[{'Type': 'Round Neck'}, {'Sleeve': 'Short Sle...</td>\n",
       "      <td>Dream Onn Creations</td>\n",
       "      <td>Topwear</td>\n",
       "      <td>668</td>\n",
       "      <td>Printed Men Round Neck Orange T-Shirt</td>\n",
       "      <td>699.0</td>\n",
       "    </tr>\n",
       "    <tr>\n",
       "      <th>2</th>\n",
       "      <td>79c8f0d7-30b1-5dd4-9f2f-2fe97782b027</td>\n",
       "      <td>3.9</td>\n",
       "      <td>32</td>\n",
       "      <td>Free Authori</td>\n",
       "      <td>Clothing and Accessories</td>\n",
       "      <td>2021-02-11 00:43:37</td>\n",
       "      <td>Free Authority Presents this Crew Neck Yellow ...</td>\n",
       "      <td>['https://rukminim1.flixcart.com/image/128/128...</td>\n",
       "      <td>False</td>\n",
       "      <td>11</td>\n",
       "      <td>SWSFWCXH2WF6ZYRB</td>\n",
       "      <td>[{'Color': 'Yellow'}, {'Fabric': 'Polycotton'}...</td>\n",
       "      <td>BioworldMerchandising</td>\n",
       "      <td>Winter Wear</td>\n",
       "      <td>53</td>\n",
       "      <td>Full Sleeve Graphic Print Men Sweatshirt</td>\n",
       "      <td>1499.0</td>\n",
       "    </tr>\n",
       "    <tr>\n",
       "      <th>3</th>\n",
       "      <td>0531c28c-7c50-5fbd-9ce3-a7cae3243ad5</td>\n",
       "      <td>3.8</td>\n",
       "      <td>31</td>\n",
       "      <td>HUMBE</td>\n",
       "      <td>Clothing and Accessories</td>\n",
       "      <td>2021-02-10 21:22:10</td>\n",
       "      <td>Cotton Blend FabricCollar / Polo Neck White &amp; ...</td>\n",
       "      <td>['https://rukminim1.flixcart.com/image/128/128...</td>\n",
       "      <td>False</td>\n",
       "      <td>11</td>\n",
       "      <td>TSHFHQH3HKDAGGK9</td>\n",
       "      <td>[{'Type': 'Polo Neck'}, {'Sleeve': 'Short Slee...</td>\n",
       "      <td>HUMBERT</td>\n",
       "      <td>Topwear</td>\n",
       "      <td>510</td>\n",
       "      <td>Solid Men Polo Neck Light Blue, White T-Shirt ...</td>\n",
       "      <td>1699.0</td>\n",
       "    </tr>\n",
       "    <tr>\n",
       "      <th>4</th>\n",
       "      <td>d604baad-472e-5c18-86a3-7b46d4a890c2</td>\n",
       "      <td>2.4</td>\n",
       "      <td>20</td>\n",
       "      <td>Rose We</td>\n",
       "      <td>Clothing and Accessories</td>\n",
       "      <td>2021-02-10 23:36:36</td>\n",
       "      <td>undefined</td>\n",
       "      <td>['https://rukminim1.flixcart.com/image/128/128...</td>\n",
       "      <td>False</td>\n",
       "      <td>5</td>\n",
       "      <td>TSHFW9CJZSYUU6UX</td>\n",
       "      <td>[{'Type': 'Round Neck'}, {'Sleeve': 'Short Sle...</td>\n",
       "      <td>Rupalcollectionjaipur</td>\n",
       "      <td>Topwear</td>\n",
       "      <td>496</td>\n",
       "      <td>Printed Men Round Neck White T-Shirt</td>\n",
       "      <td>599.0</td>\n",
       "    </tr>\n",
       "  </tbody>\n",
       "</table>\n",
       "</div>"
      ],
      "text/plain": [
       "                                    _id  average_rating  number_of_reviews  \\\n",
       "0  53df9662-e500-569c-946e-0c8d215a72cd             3.2                 26   \n",
       "1  d0142842-84f7-537d-a06f-d85b76488a5f             4.0                 33   \n",
       "2  79c8f0d7-30b1-5dd4-9f2f-2fe97782b027             3.9                 32   \n",
       "3  0531c28c-7c50-5fbd-9ce3-a7cae3243ad5             3.8                 31   \n",
       "4  d604baad-472e-5c18-86a3-7b46d4a890c2             2.4                 20   \n",
       "\n",
       "          brand                  category           crawled_at  \\\n",
       "0        East I  Clothing and Accessories  2021-02-10 21:17:28   \n",
       "1       dream o  Clothing and Accessories  2021-02-11 01:02:46   \n",
       "2  Free Authori  Clothing and Accessories  2021-02-11 00:43:37   \n",
       "3         HUMBE  Clothing and Accessories  2021-02-10 21:22:10   \n",
       "4       Rose We  Clothing and Accessories  2021-02-10 23:36:36   \n",
       "\n",
       "                                         description  \\\n",
       "0  Navy Blue Printed Boxers Has  An Inner  Elasti...   \n",
       "1  smiley printed tshirt on round neck cotton tshirt   \n",
       "2  Free Authority Presents this Crew Neck Yellow ...   \n",
       "3  Cotton Blend FabricCollar / Polo Neck White & ...   \n",
       "4                                          undefined   \n",
       "\n",
       "                                              images  out_of_stock  \\\n",
       "0  ['https://rukminim1.flixcart.com/image/128/128...         False   \n",
       "1  ['https://rukminim1.flixcart.com/image/128/128...         False   \n",
       "2  ['https://rukminim1.flixcart.com/image/128/128...         False   \n",
       "3  ['https://rukminim1.flixcart.com/image/128/128...         False   \n",
       "4  ['https://rukminim1.flixcart.com/image/128/128...         False   \n",
       "\n",
       "   avg_delivery_time_days               pid  \\\n",
       "0                       8  BXRFTZF7JGX75DAW   \n",
       "1                      12  TSHFWQM96UHR6A4Q   \n",
       "2                      11  SWSFWCXH2WF6ZYRB   \n",
       "3                      11  TSHFHQH3HKDAGGK9   \n",
       "4                       5  TSHFW9CJZSYUU6UX   \n",
       "\n",
       "                                     product_details                 seller  \\\n",
       "0  [{'Color': 'Dark Blue'}, {'Fabric': 'Pure Cott...                  ZIYAA   \n",
       "1  [{'Type': 'Round Neck'}, {'Sleeve': 'Short Sle...    Dream Onn Creations   \n",
       "2  [{'Color': 'Yellow'}, {'Fabric': 'Polycotton'}...  BioworldMerchandising   \n",
       "3  [{'Type': 'Polo Neck'}, {'Sleeve': 'Short Slee...                HUMBERT   \n",
       "4  [{'Type': 'Round Neck'}, {'Sleeve': 'Short Sle...  Rupalcollectionjaipur   \n",
       "\n",
       "             sub_category  fabrication_time  \\\n",
       "0  Innerwear and Swimwear               653   \n",
       "1                 Topwear               668   \n",
       "2             Winter Wear                53   \n",
       "3                 Topwear               510   \n",
       "4                 Topwear               496   \n",
       "\n",
       "                                               title  actual_price  \n",
       "0                     Printed Men Boxer  (Pack of 1)         849.0  \n",
       "1              Printed Men Round Neck Orange T-Shirt         699.0  \n",
       "2           Full Sleeve Graphic Print Men Sweatshirt        1499.0  \n",
       "3  Solid Men Polo Neck Light Blue, White T-Shirt ...        1699.0  \n",
       "4               Printed Men Round Neck White T-Shirt         599.0  "
      ]
     },
     "execution_count": 117,
     "metadata": {},
     "output_type": "execute_result"
    }
   ],
   "source": [
    "# Opening JSON file\n",
    "train = open('dataset/raw/train.json')\n",
    " \n",
    "# returns JSON object as \n",
    "# a dictionary\n",
    "data_train_aux = json.load(train)\n",
    "\n",
    "data_train = pd.json_normalize(data_train_aux, record_path = 'data')\n",
    "data_train.columns = data_train_aux['columns']\n",
    "data_train.head()"
   ]
  },
  {
   "cell_type": "markdown",
   "id": "0ea9e857",
   "metadata": {},
   "source": [
    "# Data Description"
   ]
  },
  {
   "cell_type": "code",
   "execution_count": 118,
   "id": "343e4620",
   "metadata": {
    "ExecuteTime": {
     "end_time": "2023-10-21T19:16:43.711626Z",
     "start_time": "2023-10-21T19:16:43.701350Z"
    }
   },
   "outputs": [],
   "source": [
    "# retirar descrição\n",
    "# retirar imagem\n",
    "# verificar ids duplicados em id produto\n",
    "# Verificar outliers no price"
   ]
  },
  {
   "cell_type": "markdown",
   "id": "8616ae01",
   "metadata": {},
   "source": [
    "## Removendo colunas"
   ]
  },
  {
   "cell_type": "code",
   "execution_count": 119,
   "id": "4cf08145",
   "metadata": {
    "ExecuteTime": {
     "end_time": "2023-10-21T19:16:43.742281Z",
     "start_time": "2023-10-21T19:16:43.713974Z"
    }
   },
   "outputs": [],
   "source": [
    "data_train = data_train.drop(columns=['description', 'images'])"
   ]
  },
  {
   "cell_type": "markdown",
   "id": "625226f3",
   "metadata": {},
   "source": [
    "## Transformando tipo de dados"
   ]
  },
  {
   "cell_type": "code",
   "execution_count": 120,
   "id": "1ad79624",
   "metadata": {
    "ExecuteTime": {
     "end_time": "2023-10-21T19:16:43.772478Z",
     "start_time": "2023-10-21T19:16:43.745578Z"
    }
   },
   "outputs": [
    {
     "data": {
      "text/plain": [
       "_id                        object\n",
       "average_rating            float64\n",
       "number_of_reviews           int64\n",
       "brand                      object\n",
       "category                   object\n",
       "crawled_at                 object\n",
       "out_of_stock                 bool\n",
       "avg_delivery_time_days      int64\n",
       "pid                        object\n",
       "product_details            object\n",
       "seller                     object\n",
       "sub_category               object\n",
       "fabrication_time            int64\n",
       "title                      object\n",
       "actual_price              float64\n",
       "dtype: object"
      ]
     },
     "execution_count": 120,
     "metadata": {},
     "output_type": "execute_result"
    }
   ],
   "source": [
    "data_train.dtypes"
   ]
  },
  {
   "cell_type": "code",
   "execution_count": 121,
   "id": "0072097b",
   "metadata": {
    "ExecuteTime": {
     "end_time": "2023-10-21T19:16:44.548066Z",
     "start_time": "2023-10-21T19:16:43.779521Z"
    }
   },
   "outputs": [],
   "source": [
    "# transformando de string para data\n",
    "data_train['crawled_at'] = pd.to_datetime(data_train['crawled_at']).dt.date"
   ]
  },
  {
   "cell_type": "markdown",
   "id": "cdb9369e",
   "metadata": {},
   "source": [
    "## Tratando valores nulos"
   ]
  },
  {
   "cell_type": "code",
   "execution_count": 122,
   "id": "1c041d78",
   "metadata": {
    "ExecuteTime": {
     "end_time": "2023-10-21T19:16:44.655441Z",
     "start_time": "2023-10-21T19:16:44.550671Z"
    }
   },
   "outputs": [
    {
     "data": {
      "text/plain": [
       "_id                       0.000000\n",
       "average_rating            0.000000\n",
       "number_of_reviews         0.000000\n",
       "brand                     0.000000\n",
       "category                  0.000000\n",
       "crawled_at                0.000000\n",
       "out_of_stock              0.000000\n",
       "avg_delivery_time_days    0.000000\n",
       "pid                       0.000000\n",
       "product_details           0.000000\n",
       "seller                    0.000000\n",
       "sub_category              0.000000\n",
       "fabrication_time          0.000000\n",
       "title                     0.000000\n",
       "actual_price              0.149985\n",
       "dtype: float64"
      ]
     },
     "execution_count": 122,
     "metadata": {},
     "output_type": "execute_result"
    }
   ],
   "source": [
    "data_train.isna().sum()/data_train.shape[0]"
   ]
  },
  {
   "cell_type": "code",
   "execution_count": 123,
   "id": "26f84127",
   "metadata": {
    "ExecuteTime": {
     "end_time": "2023-10-21T19:16:44.749299Z",
     "start_time": "2023-10-21T19:16:44.661563Z"
    }
   },
   "outputs": [],
   "source": [
    "data_train = data_train.dropna(subset=['actual_price'])"
   ]
  },
  {
   "cell_type": "code",
   "execution_count": 124,
   "id": "5a54e630",
   "metadata": {
    "ExecuteTime": {
     "end_time": "2023-10-21T19:16:44.873785Z",
     "start_time": "2023-10-21T19:16:44.759907Z"
    }
   },
   "outputs": [
    {
     "data": {
      "text/plain": [
       "_id                       0.0\n",
       "average_rating            0.0\n",
       "number_of_reviews         0.0\n",
       "brand                     0.0\n",
       "category                  0.0\n",
       "crawled_at                0.0\n",
       "out_of_stock              0.0\n",
       "avg_delivery_time_days    0.0\n",
       "pid                       0.0\n",
       "product_details           0.0\n",
       "seller                    0.0\n",
       "sub_category              0.0\n",
       "fabrication_time          0.0\n",
       "title                     0.0\n",
       "actual_price              0.0\n",
       "dtype: float64"
      ]
     },
     "execution_count": 124,
     "metadata": {},
     "output_type": "execute_result"
    }
   ],
   "source": [
    "data_train.isna().sum()/data_train.shape[0]"
   ]
  },
  {
   "cell_type": "markdown",
   "id": "f8e8fae6",
   "metadata": {},
   "source": [
    "## Entendendo prodct Details"
   ]
  },
  {
   "cell_type": "code",
   "execution_count": 125,
   "id": "277e00f7",
   "metadata": {
    "ExecuteTime": {
     "end_time": "2023-10-21T19:16:50.488559Z",
     "start_time": "2023-10-21T19:16:44.876786Z"
    }
   },
   "outputs": [],
   "source": [
    "import ast\n",
    "\n",
    "# pega string de dict e cria uma lista de dicionários\n",
    "def f(x):\n",
    "    try:\n",
    "        return ast.literal_eval(str(x))   \n",
    "    except Exception as e:\n",
    "        print(e)\n",
    "        return []\n",
    "\n",
    "teste = data_train['product_details'].apply(lambda x: f(x))\n",
    "\n",
    "def junta_dict(dict_list):\n",
    "    dicionario = {}\n",
    "    for d in dict_list:\n",
    "        for key, value in d.items():\n",
    "            dicionario[key] = value\n",
    "    return dicionario\n",
    "\n",
    "\n",
    "df = pd.DataFrame([junta_dict(row) for row in teste])"
   ]
  },
  {
   "cell_type": "code",
   "execution_count": 126,
   "id": "ed4bf01c",
   "metadata": {
    "ExecuteTime": {
     "end_time": "2023-10-21T19:16:52.678086Z",
     "start_time": "2023-10-21T19:16:50.492171Z"
    }
   },
   "outputs": [
    {
     "data": {
      "text/plain": [
       "Fabric               1491\n",
       "Style Code           1653\n",
       "Pattern              1661\n",
       "Fabric Care          4305\n",
       "Suitable For         6120\n",
       "                    ...  \n",
       "Shoulder in inch    19811\n",
       "Pleated             19812\n",
       "Region              19812\n",
       "Design              19812\n",
       "Fabric care         19812\n",
       "Length: 124, dtype: int64"
      ]
     },
     "execution_count": 126,
     "metadata": {},
     "output_type": "execute_result"
    }
   ],
   "source": [
    "df = pd.DataFrame([junta_dict(row) for row in teste])\n",
    "df.isna().sum().sort_values()"
   ]
  },
  {
   "cell_type": "markdown",
   "id": "1a3a83f2",
   "metadata": {},
   "source": [
    "# Feature Engineering"
   ]
  },
  {
   "cell_type": "code",
   "execution_count": 127,
   "id": "cf0764da",
   "metadata": {
    "ExecuteTime": {
     "end_time": "2023-10-21T19:16:52.708466Z",
     "start_time": "2023-10-21T19:16:52.683558Z"
    }
   },
   "outputs": [],
   "source": [
    "df4 = data_train.copy()"
   ]
  },
  {
   "cell_type": "code",
   "execution_count": 128,
   "id": "02173cbd",
   "metadata": {
    "ExecuteTime": {
     "end_time": "2023-10-21T19:16:53.636667Z",
     "start_time": "2023-10-21T19:16:52.713437Z"
    }
   },
   "outputs": [],
   "source": [
    "## out_of_stock - transformar para int \n",
    "df4['out_of_stock'] = df4['out_of_stock'].astype('int64')\n",
    "\n",
    "# brand - substituir por outros\n",
    "df4['brand'] = df4['brand'].apply(lambda x: x.lower())\n",
    "\n",
    "# criando feature product\n",
    "df4['product'] = df4[['category', 'sub_category']].apply(lambda x: x['category'] + '_' + x['sub_category'], axis = 1)"
   ]
  },
  {
   "cell_type": "code",
   "execution_count": 129,
   "id": "45588d30",
   "metadata": {
    "ExecuteTime": {
     "end_time": "2023-10-21T19:16:53.931182Z",
     "start_time": "2023-10-21T19:16:53.641615Z"
    }
   },
   "outputs": [],
   "source": [
    "## Tratando variaveis respostas nulas\n",
    "prices = df4[['seller','pid', 'actual_price']].groupby('pid').mean().reset_index()\n",
    "\n",
    "precos_nulos = df4.loc[df4['actual_price'].isna(), ['_id','pid']]\n",
    "\n",
    "precos_recuperados = pd.merge(precos_nulos, prices, how = 'inner', on = 'pid')\n",
    "\n",
    "df4_aux = pd.merge(df4, precos_recuperados[['_id', 'actual_price']], on = '_id', how = 'left')\n",
    "df4['actual_price'] = df4_aux['actual_price_x'].fillna(0) + df4_aux['actual_price_y'].fillna(0)\n",
    "\n",
    "df4 = df4.dropna(subset=['actual_price'])"
   ]
  },
  {
   "cell_type": "markdown",
   "id": "e7467521",
   "metadata": {},
   "source": [
    "# EDA"
   ]
  },
  {
   "cell_type": "code",
   "execution_count": 130,
   "id": "f8715db2",
   "metadata": {
    "ExecuteTime": {
     "end_time": "2023-10-21T19:16:53.963011Z",
     "start_time": "2023-10-21T19:16:53.933729Z"
    }
   },
   "outputs": [],
   "source": [
    "df5 = df4.copy()"
   ]
  },
  {
   "cell_type": "markdown",
   "id": "5140daa9",
   "metadata": {},
   "source": [
    "# Data Preparation"
   ]
  },
  {
   "cell_type": "code",
   "execution_count": 131,
   "id": "68f43f40",
   "metadata": {
    "ExecuteTime": {
     "end_time": "2023-10-21T19:16:53.993416Z",
     "start_time": "2023-10-21T19:16:53.972428Z"
    }
   },
   "outputs": [],
   "source": [
    "df6 = df5.copy()"
   ]
  },
  {
   "cell_type": "code",
   "execution_count": 132,
   "id": "08b61826",
   "metadata": {
    "ExecuteTime": {
     "end_time": "2023-10-21T19:16:54.131462Z",
     "start_time": "2023-10-21T19:16:53.998374Z"
    }
   },
   "outputs": [
    {
     "data": {
      "text/plain": [
       "_id                       0\n",
       "average_rating            0\n",
       "number_of_reviews         0\n",
       "brand                     0\n",
       "category                  0\n",
       "crawled_at                0\n",
       "out_of_stock              0\n",
       "avg_delivery_time_days    0\n",
       "pid                       0\n",
       "product_details           0\n",
       "seller                    0\n",
       "sub_category              0\n",
       "fabrication_time          0\n",
       "title                     0\n",
       "actual_price              0\n",
       "product                   0\n",
       "dtype: int64"
      ]
     },
     "execution_count": 132,
     "metadata": {},
     "output_type": "execute_result"
    }
   ],
   "source": [
    "df6.isna().sum()"
   ]
  },
  {
   "cell_type": "markdown",
   "id": "dddaf50a",
   "metadata": {},
   "source": [
    "## Split Dataset"
   ]
  },
  {
   "cell_type": "code",
   "execution_count": 133,
   "id": "87b68636",
   "metadata": {
    "ExecuteTime": {
     "end_time": "2023-10-21T19:16:54.161168Z",
     "start_time": "2023-10-21T19:16:54.135297Z"
    }
   },
   "outputs": [],
   "source": [
    "X = df6.drop(['_id','pid','actual_price'], axis=1)\n",
    "y = df6['actual_price']"
   ]
  },
  {
   "cell_type": "code",
   "execution_count": 134,
   "id": "5d90c1cd",
   "metadata": {
    "ExecuteTime": {
     "end_time": "2023-10-21T19:16:54.269422Z",
     "start_time": "2023-10-21T19:16:54.166653Z"
    }
   },
   "outputs": [],
   "source": [
    "X = df6.drop(['_id','pid','actual_price'], axis=1)\n",
    "y = df6['actual_price']\n",
    "\n",
    "X_train, X_test, y_train, y_test = ms.train_test_split(X, y, test_size=0.20)\n",
    "data_train = pd.concat([X_train, y_train], axis=1)\n",
    "data_test = pd.concat([X_test, y_test], axis=1)"
   ]
  },
  {
   "cell_type": "markdown",
   "id": "492ffd74",
   "metadata": {},
   "source": [
    "## Rescalling"
   ]
  },
  {
   "cell_type": "markdown",
   "id": "7b5d3e4d",
   "metadata": {},
   "source": [
    "### Min Max Scaler"
   ]
  },
  {
   "cell_type": "code",
   "execution_count": 135,
   "id": "3211520b",
   "metadata": {
    "ExecuteTime": {
     "end_time": "2023-10-21T19:16:54.315915Z",
     "start_time": "2023-10-21T19:16:54.276069Z"
    }
   },
   "outputs": [
    {
     "name": "stderr",
     "output_type": "stream",
     "text": [
      "C:\\Users\\Notebook\\AppData\\Local\\Temp/ipykernel_3748/3312916923.py:4: SettingWithCopyWarning: \n",
      "A value is trying to be set on a copy of a slice from a DataFrame.\n",
      "Try using .loc[row_indexer,col_indexer] = value instead\n",
      "\n",
      "See the caveats in the documentation: https://pandas.pydata.org/pandas-docs/stable/user_guide/indexing.html#returning-a-view-versus-a-copy\n",
      "  X_train['avg_delivery_time_days'] = mm.fit_transform(X_train[['avg_delivery_time_days']])\n"
     ]
    }
   ],
   "source": [
    "'avg_delivery_time_days',\n",
    "mm = pp.MinMaxScaler()\n",
    "\n",
    "X_train['avg_delivery_time_days'] = mm.fit_transform(X_train[['avg_delivery_time_days']])\n",
    "pickle.dump(mm, open('parameters/mm_avg_delivery_time_days.pkl','wb'))"
   ]
  },
  {
   "cell_type": "markdown",
   "id": "325cece4",
   "metadata": {},
   "source": [
    "### Robust Scaler"
   ]
  },
  {
   "cell_type": "code",
   "execution_count": 136,
   "id": "2155c696",
   "metadata": {
    "ExecuteTime": {
     "end_time": "2023-10-21T19:16:54.394405Z",
     "start_time": "2023-10-21T19:16:54.323309Z"
    }
   },
   "outputs": [
    {
     "name": "stderr",
     "output_type": "stream",
     "text": [
      "C:\\Users\\Notebook\\AppData\\Local\\Temp/ipykernel_3748/3765211346.py:4: SettingWithCopyWarning: \n",
      "A value is trying to be set on a copy of a slice from a DataFrame.\n",
      "Try using .loc[row_indexer,col_indexer] = value instead\n",
      "\n",
      "See the caveats in the documentation: https://pandas.pydata.org/pandas-docs/stable/user_guide/indexing.html#returning-a-view-versus-a-copy\n",
      "  X_train['average_rating'] = rs_average_rating.fit_transform(X_train[['average_rating']])\n",
      "C:\\Users\\Notebook\\AppData\\Local\\Temp/ipykernel_3748/3765211346.py:7: SettingWithCopyWarning: \n",
      "A value is trying to be set on a copy of a slice from a DataFrame.\n",
      "Try using .loc[row_indexer,col_indexer] = value instead\n",
      "\n",
      "See the caveats in the documentation: https://pandas.pydata.org/pandas-docs/stable/user_guide/indexing.html#returning-a-view-versus-a-copy\n",
      "  X_train['number_of_reviews'] = rs_number_of_reviews.fit_transform(X_train[['number_of_reviews']])\n"
     ]
    }
   ],
   "source": [
    "rs_average_rating   = pp.RobustScaler()\n",
    "rs_number_of_reviews = pp.RobustScaler()\n",
    "\n",
    "X_train['average_rating'] = rs_average_rating.fit_transform(X_train[['average_rating']])\n",
    "pickle.dump(rs_average_rating, open('parameters/rs_average_rating.pkl','wb'))\n",
    "\n",
    "X_train['number_of_reviews'] = rs_number_of_reviews.fit_transform(X_train[['number_of_reviews']])\n",
    "pickle.dump(rs_number_of_reviews, open('parameters/rs_number_of_reviews.pkl','wb'))"
   ]
  },
  {
   "cell_type": "markdown",
   "id": "c0c59710",
   "metadata": {},
   "source": [
    "## Transformation"
   ]
  },
  {
   "cell_type": "markdown",
   "id": "ff788903",
   "metadata": {},
   "source": [
    "### One Hot Enconde"
   ]
  },
  {
   "cell_type": "code",
   "execution_count": 137,
   "id": "5c34f589",
   "metadata": {
    "ExecuteTime": {
     "end_time": "2023-10-21T19:16:54.410918Z",
     "start_time": "2023-10-21T19:16:54.398311Z"
    }
   },
   "outputs": [],
   "source": [
    "# 'out_of_stock'"
   ]
  },
  {
   "cell_type": "markdown",
   "id": "527eaecc",
   "metadata": {},
   "source": [
    "### Frequency Encode"
   ]
  },
  {
   "cell_type": "code",
   "execution_count": 138,
   "id": "f1ce9035",
   "metadata": {
    "ExecuteTime": {
     "end_time": "2023-10-21T19:16:55.090523Z",
     "start_time": "2023-10-21T19:16:54.413339Z"
    }
   },
   "outputs": [],
   "source": [
    "for att in ['brand', 'product', 'seller']:\n",
    "    fe =  ce.CountEncoder(cols=[att], normalize=True).fit(X_train)\n",
    "    pickle.dump(fe,open(f'parameters/fe_{att}.pkl', 'wb'))\n",
    "    X_train = fe.transform(X_train)"
   ]
  },
  {
   "cell_type": "markdown",
   "id": "c8b601c7",
   "metadata": {},
   "source": [
    "### Response Variable"
   ]
  },
  {
   "cell_type": "code",
   "execution_count": 139,
   "id": "cf5917e1",
   "metadata": {
    "ExecuteTime": {
     "end_time": "2023-10-21T19:16:55.105485Z",
     "start_time": "2023-10-21T19:16:55.093910Z"
    }
   },
   "outputs": [],
   "source": [
    "y_train = np.log10(y_train)"
   ]
  },
  {
   "cell_type": "markdown",
   "id": "31ca4c7a",
   "metadata": {},
   "source": [
    "## Test Preparation"
   ]
  },
  {
   "cell_type": "code",
   "execution_count": 140,
   "id": "c75fa48c",
   "metadata": {
    "ExecuteTime": {
     "end_time": "2023-10-21T19:16:55.275838Z",
     "start_time": "2023-10-21T19:16:55.112986Z"
    },
    "scrolled": true
   },
   "outputs": [
    {
     "name": "stderr",
     "output_type": "stream",
     "text": [
      "C:\\Users\\Notebook\\AppData\\Local\\Temp/ipykernel_3748/4047211407.py:12: SettingWithCopyWarning: \n",
      "A value is trying to be set on a copy of a slice from a DataFrame.\n",
      "Try using .loc[row_indexer,col_indexer] = value instead\n",
      "\n",
      "See the caveats in the documentation: https://pandas.pydata.org/pandas-docs/stable/user_guide/indexing.html#returning-a-view-versus-a-copy\n",
      "  X_test['avg_delivery_time_days'] = mm.transform(X_test[['avg_delivery_time_days']])\n",
      "C:\\Users\\Notebook\\AppData\\Local\\Temp/ipykernel_3748/4047211407.py:16: SettingWithCopyWarning: \n",
      "A value is trying to be set on a copy of a slice from a DataFrame.\n",
      "Try using .loc[row_indexer,col_indexer] = value instead\n",
      "\n",
      "See the caveats in the documentation: https://pandas.pydata.org/pandas-docs/stable/user_guide/indexing.html#returning-a-view-versus-a-copy\n",
      "  X_test['average_rating'] = rs_ar.transform(X_test[['average_rating']])\n",
      "C:\\Users\\Notebook\\AppData\\Local\\Temp/ipykernel_3748/4047211407.py:20: SettingWithCopyWarning: \n",
      "A value is trying to be set on a copy of a slice from a DataFrame.\n",
      "Try using .loc[row_indexer,col_indexer] = value instead\n",
      "\n",
      "See the caveats in the documentation: https://pandas.pydata.org/pandas-docs/stable/user_guide/indexing.html#returning-a-view-versus-a-copy\n",
      "  X_test['number_of_reviews'] = rs_nr.transform(X_test[['number_of_reviews']])\n"
     ]
    }
   ],
   "source": [
    "X_test_mod, y_test_mod = test_preparation(X_test, y_test)"
   ]
  },
  {
   "cell_type": "markdown",
   "id": "1d0cc108",
   "metadata": {},
   "source": [
    "# Feature Selection"
   ]
  },
  {
   "cell_type": "code",
   "execution_count": 141,
   "id": "3b98ad6a",
   "metadata": {
    "ExecuteTime": {
     "end_time": "2023-10-21T19:16:55.305929Z",
     "start_time": "2023-10-21T19:16:55.281062Z"
    }
   },
   "outputs": [
    {
     "data": {
      "text/plain": [
       "['average_rating',\n",
       " 'number_of_reviews',\n",
       " 'brand',\n",
       " 'category',\n",
       " 'crawled_at',\n",
       " 'out_of_stock',\n",
       " 'avg_delivery_time_days',\n",
       " 'product_details',\n",
       " 'seller',\n",
       " 'sub_category',\n",
       " 'fabrication_time',\n",
       " 'title',\n",
       " 'product']"
      ]
     },
     "execution_count": 141,
     "metadata": {},
     "output_type": "execute_result"
    }
   ],
   "source": [
    "X_train.columns.tolist()"
   ]
  },
  {
   "cell_type": "code",
   "execution_count": 142,
   "id": "cfd36892",
   "metadata": {
    "ExecuteTime": {
     "end_time": "2023-10-21T19:16:55.337143Z",
     "start_time": "2023-10-21T19:16:55.318860Z"
    }
   },
   "outputs": [],
   "source": [
    "features_selected = [\n",
    "'average_rating',\n",
    "'number_of_reviews',\n",
    "'brand',\n",
    "# 'category',\n",
    "# 'crawled_at',\n",
    "'out_of_stock',\n",
    "'avg_delivery_time_days',\n",
    "# 'product_details',\n",
    "'seller',\n",
    "# 'sub_category',\n",
    "# 'fabrication_time',\n",
    "# 'title',\n",
    "'product'\n",
    "]"
   ]
  },
  {
   "cell_type": "markdown",
   "id": "cd815660",
   "metadata": {},
   "source": [
    "## Importancia das árvores"
   ]
  },
  {
   "cell_type": "code",
   "execution_count": null,
   "id": "490fe3c8",
   "metadata": {},
   "outputs": [],
   "source": [
    "# Crie e treine o modelo LGBMClassifier\n",
    "lgb_model = LGBMRegressor(n_jobs=-1, random_state=42)\n",
    "X_train_sel = X_train[features_selected]\n",
    "lgb_model.fit(X_train_sel, y_train)\n",
    "\n",
    "# Obtenha as importâncias das características do modelo\n",
    "importances = lgb_model.featureimportances\n",
    "\n",
    "# Ordene as características por importância decrescente\n",
    "indices = np.argsort(importances)[::-1]\n",
    "\n",
    "# Imprima o ranking das características\n",
    "print('Feature ranking')\n",
    "df = pd.DataFrame()\n",
    "\n",
    "for i, j in zip(X_train_sel.columns, importances):\n",
    "    aux = pd.DataFrame({'feature': i, 'importance': j}, index=[0])\n",
    "    df = pd.concat([df, aux], axis=0)\n",
    "\n",
    "print(df.sort_values('importance', ascending=False))"
   ]
  },
  {
   "cell_type": "markdown",
   "id": "bab61879",
   "metadata": {},
   "source": [
    "# Machine Learning"
   ]
  },
  {
   "cell_type": "code",
   "execution_count": 150,
   "id": "e72061ed",
   "metadata": {
    "ExecuteTime": {
     "end_time": "2023-10-21T19:24:28.082032Z",
     "start_time": "2023-10-21T19:24:28.053201Z"
    }
   },
   "outputs": [],
   "source": [
    "def MachineLearning(X_train, y_train, X_test, y_test, features_selected):\n",
    "    SEED = 42\n",
    "\n",
    "    lista_de_medidas = ['SMAPE']\n",
    "    nome_das_medidas = ['SMAPE']\n",
    "\n",
    "    lista_de_modelos = [XGBRegressor(learning_rate=0.1, n_estimators=100, max_depth=3),\n",
    "                        SGDRegressor(random_state=SEED), \n",
    "                        LGBMRegressor(random_state=SEED, n_jobs=-1, force_row_wise=True, ),\n",
    "                        DecisionTreeRegressor(random_state=SEED),\n",
    "                        KNeighborsRegressor(n_neighbors=5,  weights='distance',n_jobs=-1),\n",
    "                        BaggingRegressor(),\n",
    "                        RandomForestRegressor(random_state=SEED)]\n",
    "\n",
    "    nome_dos_modelos = ['XGBoost', \n",
    "                        'SGD', \n",
    "                        'LGBM', \n",
    "                        'DecisionTree',\n",
    "                        'KNN',\n",
    "                        'Bagging',\n",
    "                        'RandomForest']\n",
    "\n",
    "    resultados0 = {}\n",
    "    \n",
    "    X_train_selected = X_train[features_selected]\n",
    "    X_test_selected = X_test[features_selected]\n",
    "\n",
    "\n",
    "    for i in range(len(lista_de_modelos)):\n",
    "        print('Rodando modelo: ' + nome_dos_modelos[i])\n",
    "        \n",
    "        model = lista_de_modelos[i]\n",
    "        \n",
    "        model.fit(X_train_selected, y_train)\n",
    "        \n",
    "        y_pred = model.predict(X_test_selected)\n",
    "        \n",
    "        smape = 100 / len(y_test) * np.sum(2 * np.abs(y_pred - y_test) / (np.abs(y_test) + np.abs(y_pred)))\n",
    "\n",
    "        resultados0[nome_dos_modelos[i]] = [smape]\n",
    "    \n",
    "    resultados = pd.DataFrame(resultados0, index = nome_das_medidas).T\n",
    "\n",
    "    return resultados"
   ]
  },
  {
   "cell_type": "code",
   "execution_count": 151,
   "id": "d849ebee",
   "metadata": {
    "ExecuteTime": {
     "end_time": "2023-10-21T19:24:38.776078Z",
     "start_time": "2023-10-21T19:24:32.348562Z"
    }
   },
   "outputs": [
    {
     "name": "stdout",
     "output_type": "stream",
     "text": [
      "Rodando modelo: XGBoost\n",
      "Rodando modelo: SGD\n",
      "Rodando modelo: LGBM\n",
      "Rodando modelo: DecisionTree\n",
      "Rodando modelo: KNN\n",
      "Rodando modelo: Bagging\n",
      "Rodando modelo: RandomForest\n"
     ]
    },
    {
     "data": {
      "text/html": [
       "<div>\n",
       "<style scoped>\n",
       "    .dataframe tbody tr th:only-of-type {\n",
       "        vertical-align: middle;\n",
       "    }\n",
       "\n",
       "    .dataframe tbody tr th {\n",
       "        vertical-align: top;\n",
       "    }\n",
       "\n",
       "    .dataframe thead th {\n",
       "        text-align: right;\n",
       "    }\n",
       "</style>\n",
       "<table border=\"1\" class=\"dataframe\">\n",
       "  <thead>\n",
       "    <tr style=\"text-align: right;\">\n",
       "      <th></th>\n",
       "      <th>SMAPE</th>\n",
       "    </tr>\n",
       "  </thead>\n",
       "  <tbody>\n",
       "    <tr>\n",
       "      <th>XGBoost</th>\n",
       "      <td>6.074497</td>\n",
       "    </tr>\n",
       "    <tr>\n",
       "      <th>SGD</th>\n",
       "      <td>6.194851</td>\n",
       "    </tr>\n",
       "    <tr>\n",
       "      <th>LGBM</th>\n",
       "      <td>6.118781</td>\n",
       "    </tr>\n",
       "    <tr>\n",
       "      <th>DecisionTree</th>\n",
       "      <td>6.721520</td>\n",
       "    </tr>\n",
       "    <tr>\n",
       "      <th>KNN</th>\n",
       "      <td>6.877463</td>\n",
       "    </tr>\n",
       "    <tr>\n",
       "      <th>Bagging</th>\n",
       "      <td>6.453359</td>\n",
       "    </tr>\n",
       "    <tr>\n",
       "      <th>RandomForest</th>\n",
       "      <td>6.452830</td>\n",
       "    </tr>\n",
       "  </tbody>\n",
       "</table>\n",
       "</div>"
      ],
      "text/plain": [
       "                 SMAPE\n",
       "XGBoost       6.074497\n",
       "SGD           6.194851\n",
       "LGBM          6.118781\n",
       "DecisionTree  6.721520\n",
       "KNN           6.877463\n",
       "Bagging       6.453359\n",
       "RandomForest  6.452830"
      ]
     },
     "execution_count": 151,
     "metadata": {},
     "output_type": "execute_result"
    }
   ],
   "source": [
    "MachineLearning(X_train, y_train, X_test_mod, y_test_mod, features_selected)"
   ]
  },
  {
   "cell_type": "markdown",
   "id": "4d4ec3c0",
   "metadata": {},
   "source": [
    "## Submission"
   ]
  },
  {
   "cell_type": "markdown",
   "id": "a6e775cb",
   "metadata": {},
   "source": [
    "### Carregar os dados"
   ]
  },
  {
   "cell_type": "code",
   "execution_count": null,
   "id": "724b1d0b",
   "metadata": {},
   "outputs": [],
   "source": []
  },
  {
   "cell_type": "markdown",
   "id": "0e88511f",
   "metadata": {},
   "source": [
    "------\n",
    "# 10 Help Functions"
   ]
  },
  {
   "cell_type": "code",
   "execution_count": 264,
   "id": "6ffea0d8",
   "metadata": {
    "ExecuteTime": {
     "end_time": "2023-10-21T18:31:53.101983Z",
     "start_time": "2023-10-21T18:31:53.090466Z"
    }
   },
   "outputs": [],
   "source": [
    "def limpeza (df):\n",
    "    df = df.drop(columns=['description', 'images'])\n",
    "    # transformando de string para data\n",
    "    df['crawled_at'] = pd.to_datetime(df['crawled_at']).dt.date\n",
    "\n",
    "    return df"
   ]
  },
  {
   "cell_type": "code",
   "execution_count": 265,
   "id": "9533b7df",
   "metadata": {
    "ExecuteTime": {
     "end_time": "2023-10-21T18:31:56.272844Z",
     "start_time": "2023-10-21T18:31:56.262290Z"
    }
   },
   "outputs": [],
   "source": [
    "def f(x):\n",
    "    try:\n",
    "        return ast.literal_eval(str(x))   \n",
    "    except Exception as e:\n",
    "        print(e)\n",
    "        return []"
   ]
  },
  {
   "cell_type": "code",
   "execution_count": 266,
   "id": "3362a80d",
   "metadata": {
    "ExecuteTime": {
     "end_time": "2023-10-21T18:31:58.706931Z",
     "start_time": "2023-10-21T18:31:58.693982Z"
    }
   },
   "outputs": [],
   "source": [
    "def junta_dict(dict_list):\n",
    "    dicionario = {}\n",
    "    for d in dict_list:\n",
    "        for key, value in d.items():\n",
    "            dicionario[key] = value\n",
    "    return dicionario"
   ]
  },
  {
   "cell_type": "code",
   "execution_count": 267,
   "id": "5ed13f01",
   "metadata": {
    "ExecuteTime": {
     "end_time": "2023-10-21T18:32:01.770694Z",
     "start_time": "2023-10-21T18:32:01.758803Z"
    }
   },
   "outputs": [],
   "source": [
    "def feature_engen(df):\n",
    "    ## out_of_stock - transformar para int \n",
    "    df['out_of_stock'] = df['out_of_stock'].astype('int64')\n",
    "\n",
    "    # brand - substituir por outros\n",
    "    df['brand'] = df['brand'].apply(lambda x: x.lower())\n",
    "\n",
    "    # criando feature product\n",
    "    df['product'] = df[['category', 'sub_category']].apply(lambda x: x['category'] + '_' + x['sub_category'], axis = 1)\n",
    "    \n",
    "    ## Tratando variaveis respostas nulas\n",
    "    prices = df[['seller','pid', 'actual_price']].groupby('pid').max().reset_index()\n",
    "    precos_nulos = df.loc[df['actual_price'].isna(), ['_id','pid']]\n",
    "    precos_recuperados = pd.merge(precos_nulos, prices, how = 'inner', on = 'pid')\n",
    "    \n",
    "    df_aux = pd.merge(df, precos_recuperados[['_id', 'actual_price']], on = '_id', how = 'left')\n",
    "    df['actual_price'] = df_aux['actual_price_x'].fillna(0) + df_aux['actual_price_y'].fillna(0)\n",
    "    \n",
    "    df = df.dropna(subset=['actual_price'])\n",
    "    \n",
    "    return df"
   ]
  },
  {
   "cell_type": "code",
   "execution_count": 268,
   "id": "cd4d26d0",
   "metadata": {
    "ExecuteTime": {
     "end_time": "2023-10-21T18:32:04.369516Z",
     "start_time": "2023-10-21T18:32:04.360651Z"
    }
   },
   "outputs": [],
   "source": [
    "def pipeline (df):\n",
    "    df = limpeza(df)\n",
    "    df = feature_engen(df)\n",
    "    \n",
    "    product_details = df['product_details'].apply(lambda x: f(x))\n",
    "    product_details = pd.DataFrame([junta_dict(row) for row in product_details])\n",
    "    \n",
    "    return df, product_details\n"
   ]
  },
  {
   "cell_type": "code",
   "execution_count": null,
   "id": "07e09b72",
   "metadata": {},
   "outputs": [],
   "source": [
    "def test_preparation(df):\n",
    "    X_test = rescalling(X_test)\n",
    "    X_test = transform(X_test)\n",
    "    y_test = log_var_resposta(y_test)\n",
    "    \n",
    "    return X_test"
   ]
  },
  {
   "cell_type": "code",
   "execution_count": 28,
   "id": "8f3f567b",
   "metadata": {
    "ExecuteTime": {
     "end_time": "2023-10-21T14:44:22.810462Z",
     "start_time": "2023-10-21T14:44:22.783424Z"
    }
   },
   "outputs": [],
   "source": [
    "# '_id'\n",
    "# 'average_rating':         muitos outliers mas distribuição proxima da normal\n",
    "#                           tratar notas que não possuem avaliação\n",
    "# 'number_of_reviews':      muitos outliers mas distribuição proxima da normal\n",
    "#                           ver como fica a distribuição como log\n",
    "# 'brand':                  12 categorias frequency -> transformar tudo em minusculo para evitar duplicações\n",
    "# 'category':               Uma categoria é mais majoritária \n",
    "#                           unir com a subcategory fazendo o tratamento de maiusculas\n",
    "# 'crawled_at':             Somente 1 dia, muda somente a hora -> retirar XXXXX\n",
    "# 'out_of_stock':           Dummie enconde (somente 0 ou 1) -> One hot encode\n",
    "# 'avg_delivery_time_days': sem outliers e distribuição normal -> min max scaler\n",
    "# 'pid':                    valore duplicatidos, muitas labels -> usar para preencher valores nulos no price mas não vai para o modelo\n",
    "# 'seller':                 Reunir undefined em \"outros\" e usar o frequency encode\n",
    "# 'sub_category':           Unir com o 'category'\n",
    "# 'fabrication_time':       sem outliers, distribuição uniforme -> min max scaler\n",
    "# 'title':                  muitas categorias, sem concentrações -> frequency \n",
    "#                           explorar mais o title\n",
    "#                           deletar nesse momento\n",
    "# 'actual_price':           transformar em escala log"
   ]
  }
 ],
 "metadata": {
  "kernelspec": {
   "display_name": "Python 3 (ipykernel)",
   "language": "python",
   "name": "python3"
  },
  "language_info": {
   "codemirror_mode": {
    "name": "ipython",
    "version": 3
   },
   "file_extension": ".py",
   "mimetype": "text/x-python",
   "name": "python",
   "nbconvert_exporter": "python",
   "pygments_lexer": "ipython3",
   "version": "3.9.7"
  },
  "toc": {
   "base_numbering": 1,
   "nav_menu": {},
   "number_sections": true,
   "sideBar": true,
   "skip_h1_title": false,
   "title_cell": "Table of Contents",
   "title_sidebar": "Contents",
   "toc_cell": false,
   "toc_position": {},
   "toc_section_display": true,
   "toc_window_display": false
  },
  "varInspector": {
   "cols": {
    "lenName": 16,
    "lenType": 16,
    "lenVar": 40
   },
   "kernels_config": {
    "python": {
     "delete_cmd_postfix": "",
     "delete_cmd_prefix": "del ",
     "library": "var_list.py",
     "varRefreshCmd": "print(var_dic_list())"
    },
    "r": {
     "delete_cmd_postfix": ") ",
     "delete_cmd_prefix": "rm(",
     "library": "var_list.r",
     "varRefreshCmd": "cat(var_dic_list()) "
    }
   },
   "types_to_exclude": [
    "module",
    "function",
    "builtin_function_or_method",
    "instance",
    "_Feature"
   ],
   "window_display": false
  },
  "vscode": {
   "interpreter": {
    "hash": "892e5ff5783333d733f0bd2e0068297de9409e96214f7e68af4469f351f76fae"
   }
  }
 },
 "nbformat": 4,
 "nbformat_minor": 5
}
