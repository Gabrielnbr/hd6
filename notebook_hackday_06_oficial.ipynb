{
 "cells": [
  {
   "cell_type": "markdown",
   "id": "23e57af8",
   "metadata": {},
   "source": [
    "# Imports"
   ]
  },
  {
   "cell_type": "code",
   "execution_count": null,
   "id": "403b1b50",
   "metadata": {
    "ExecuteTime": {
     "start_time": "2023-10-22T16:11:53.337Z"
    }
   },
   "outputs": [],
   "source": [
    "import pandas as pd\n",
    "import numpy as np\n",
    "import json\n",
    "import datetime\n",
    "import ast\n",
    "\n",
    "from sklearn import preprocessing as pp\n",
    "import pickle\n",
    "\n",
    "from sklearn import model_selection as ms\n",
    "import category_encoders as ce\n",
    "\n",
    "#from boruta   import BorutaPy\n",
    "from lightgbm import LGBMClassifier\n",
    "\n",
    "from sklearn.ensemble        import RandomForestClassifier, BaggingClassifier, GradientBoostingClassifier\n",
    "from xgboost                 import XGBRegressor\n",
    "from sklearn.linear_model    import LogisticRegression, SGDRegressor\n",
    "from sklearn.neighbors       import KNeighborsRegressor\n",
    "from sklearn.tree            import DecisionTreeRegressor\n",
    "from sklearn.ensemble        import RandomForestRegressor, BaggingRegressor\n",
    "from sklearn.metrics         import accuracy_score, recall_score, precision_score, balanced_accuracy_score, f1_score, roc_curve, confusion_matrix\n",
    "from sklearn.model_selection import GridSearchCV, RandomizedSearchCV\n",
    "from sklearn.naive_bayes     import GaussianNB\n",
    "from lightgbm                import LGBMRegressor"
   ]
  },
  {
   "cell_type": "markdown",
   "id": "3f2f5333",
   "metadata": {},
   "source": [
    "## Helper Functions"
   ]
  },
  {
   "cell_type": "code",
   "execution_count": null,
   "id": "a50c83a9",
   "metadata": {
    "ExecuteTime": {
     "start_time": "2023-10-22T16:11:53.516Z"
    }
   },
   "outputs": [],
   "source": [
    "def test_preparation(X_test, y_test):\n",
    "    X_test = rescalling(X_test)\n",
    "    X_test = transform(X_test)\n",
    "    y_test = log_var_resposta(y_test)\n",
    "    \n",
    "    return X_test, y_test\n",
    "\n",
    "\n",
    "def rescalling (X_test):\n",
    "    \n",
    "    mm = pickle.load(open('parameters/mm_avg_delivery_time_days.pkl','rb'))\n",
    "    X_test['avg_delivery_time_days'] = mm.transform(X_test[['avg_delivery_time_days']])\n",
    "    \n",
    "    rs_ar = pickle.load(open('parameters/rs_average_rating.pkl','rb'))\n",
    "    \n",
    "    X_test['average_rating'] = rs_ar.transform(X_test[['average_rating']])\n",
    "    \n",
    "    rs_nr = pickle.load(open('parameters/rs_number_of_reviews.pkl','rb'))\n",
    "    \n",
    "    X_test['number_of_reviews'] = rs_nr.transform(X_test[['number_of_reviews']])\n",
    "    \n",
    "    return X_test\n",
    "\n",
    "def transform (df):\n",
    "    \n",
    "    for att in ['brand', 'product', 'seller','Style Code','Pack of', 'Pattern']:\n",
    "        fe = pickle.load(open(f'parameters/fe_{att}.pkl', 'rb'))\n",
    "        df = fe.transform(df)\n",
    "        \n",
    "    for att in ['Ideal For', 'Reversible', 'Suitable For']:\n",
    "        te = pickle.load(open(f'parameters/te_{att}.pkl','rb'))\n",
    "        df = te.transform(df)\n",
    "    \n",
    "    return df\n",
    "\n",
    "def log_var_resposta(df):\n",
    "    df = np.log1p(df)\n",
    "    return df\n",
    "\n",
    "def limpeza (df):\n",
    "    df = df.drop(columns=['_id', 'pid','description', 'images'])\n",
    "    # transformando de string para data\n",
    "    df['crawled_at'] = pd.to_datetime(df['crawled_at']).dt.date\n",
    "\n",
    "    return df\n",
    "\n",
    "def feature_engen(df):\n",
    "    ## out_of_stock - transformar para int \n",
    "    df['out_of_stock'] = df['out_of_stock'].astype('int64')\n",
    "\n",
    "    # brand - substituir por outros\n",
    "    df['brand'] = df['brand'].apply(lambda x: x.lower())\n",
    "\n",
    "    # criando feature product\n",
    "    df['product'] = df[['category', 'sub_category']].apply(lambda x: x['category'] + '_' + x['sub_category'], axis = 1)\n",
    "    \n",
    "    import ast\n",
    "\n",
    "    # pega string de dict e cria uma lista de dicionários\n",
    "    def f(x):\n",
    "        try:\n",
    "            return ast.literal_eval(str(x))   \n",
    "        except Exception as e:\n",
    "            print(e)\n",
    "            return []\n",
    "\n",
    "\n",
    "\n",
    "    def junta_dict(dict_list):\n",
    "        dicionario = {}\n",
    "        for d in dict_list:\n",
    "            for key, value in d.items():\n",
    "                dicionario[key] = value\n",
    "        return dicionario\n",
    "\n",
    "    list = df['product_details'].apply(lambda x: f(x))\n",
    "\n",
    "    df_details = pd.DataFrame([junta_dict(row) for row in list], index = list.index)\n",
    "\n",
    "    df_drop_columns = df_details.drop(columns=['', ' '])\n",
    "\n",
    "    # Removendo valores faltantes acima de 50%\n",
    "    limite_nulos = len(df_details) * 0.5  \n",
    "    df_drop = df_details.dropna(thresh = limite_nulos, axis=1)\n",
    "    df_new = df_drop.copy()\n",
    "\n",
    "    # Trocar os NaN por 'outros'\n",
    "\n",
    "    df_new.loc[df_new['Fabric'].isnull(), 'Fabric'] = 'outros'\n",
    "    df_new.loc[df_new['Pattern'].isnull(), 'Pattern'] = 'outros'\n",
    "    df_new.loc[df_new['Style Code'].isnull(), 'Style Code'] = 'outros'\n",
    "    df_new.loc[df_new['Pack of'].isnull(), 'Pack of'] = 'outros'\n",
    "    df_new.loc[df_new['Type'].isnull(), 'Type'] = 'outros'\n",
    "    df_new.loc[df_new['Sleeve'].isnull(), 'Sleeve'] = 'outros'\n",
    "    df_new.loc[df_new['Fit'].isnull(), 'Fit'] = 'outros'\n",
    "    df_new.loc[df_new['Ideal For'].isnull(), 'Ideal For'] = 'outros'\n",
    "    df_new.loc[df_new['Suitable For'].isnull(), 'Suitable For'] = 'outros'\n",
    "    df_new.loc[df_new['Reversible'].isnull(), 'Reversible'] = 'outros'\n",
    "    df_new.loc[df_new['Fabric Care'].isnull(), 'Fabric Care'] = 'outros'\n",
    "\n",
    "    df_new.head()\n",
    "\n",
    "    def type_sex(value):\n",
    "        if value == 'Men':\n",
    "            return 'Men'\n",
    "        elif value == 'Men, Boys':\n",
    "            return 'all_ages'\n",
    "        elif value == 'Boys, Men':\n",
    "            return 'all_ages'\n",
    "        elif value == 'Boys, Girls, Men, Women':\n",
    "            return 'unisex_all_ages'\n",
    "        elif value == 'Women, Men':\n",
    "            return 'Unisex'\n",
    "        else:\n",
    "            return 'outros'\n",
    "\n",
    "    df_new['Ideal For'] = df_new['Ideal For'].map(type_sex)\n",
    "\n",
    "    df = pd.concat([df, df_new], axis=1)\n",
    "    \n",
    "    df['cotton'] = df['Fabric'].apply(lambda x: 1 if 'cotton' in x.lower() else 0)\n",
    "    df['poly'] = df['Fabric'].apply(lambda x: 1 if 'poly' in x.lower() else 0)\n",
    "    df['not_cotton_or_poly'] = df['Fabric'].apply(lambda x: 1 if ('poly' not in x.lower()) and ('cotton' not in x.lower()) else 0)\n",
    "    \n",
    "    return df"
   ]
  },
  {
   "cell_type": "markdown",
   "id": "1c83d907",
   "metadata": {},
   "source": [
    "# Load Data"
   ]
  },
  {
   "cell_type": "code",
   "execution_count": null,
   "id": "d0d2e3d5",
   "metadata": {
    "ExecuteTime": {
     "start_time": "2023-10-22T16:11:53.691Z"
    }
   },
   "outputs": [],
   "source": [
    "# Opening JSON file\n",
    "train = open('dataset/raw/train.json')\n",
    " \n",
    "# returns JSON object as \n",
    "# a dictionary\n",
    "data_train_aux = json.load(train)\n",
    "\n",
    "data_train = pd.json_normalize(data_train_aux, record_path = 'data')\n",
    "data_train.columns = data_train_aux['columns']\n",
    "data_train.head()"
   ]
  },
  {
   "cell_type": "markdown",
   "id": "0ea9e857",
   "metadata": {},
   "source": [
    "# Data Description"
   ]
  },
  {
   "cell_type": "code",
   "execution_count": null,
   "id": "343e4620",
   "metadata": {
    "ExecuteTime": {
     "start_time": "2023-10-22T16:11:53.856Z"
    }
   },
   "outputs": [],
   "source": [
    "# retirar descrição\n",
    "# retirar imagem\n",
    "# verificar ids duplicados em id produto\n",
    "# Verificar outliers no price"
   ]
  },
  {
   "cell_type": "markdown",
   "id": "8616ae01",
   "metadata": {},
   "source": [
    "## Removendo colunas"
   ]
  },
  {
   "cell_type": "code",
   "execution_count": null,
   "id": "4cf08145",
   "metadata": {
    "ExecuteTime": {
     "start_time": "2023-10-22T16:11:54.184Z"
    }
   },
   "outputs": [],
   "source": [
    "data_train = data_train.drop(columns=['description', 'images'])"
   ]
  },
  {
   "cell_type": "markdown",
   "id": "625226f3",
   "metadata": {},
   "source": [
    "## Transformando tipo de dados"
   ]
  },
  {
   "cell_type": "code",
   "execution_count": null,
   "id": "1ad79624",
   "metadata": {
    "ExecuteTime": {
     "start_time": "2023-10-22T16:11:54.358Z"
    }
   },
   "outputs": [],
   "source": [
    "data_train.dtypes"
   ]
  },
  {
   "cell_type": "code",
   "execution_count": null,
   "id": "0072097b",
   "metadata": {
    "ExecuteTime": {
     "start_time": "2023-10-22T16:11:54.367Z"
    }
   },
   "outputs": [],
   "source": [
    "# transformando de string para data\n",
    "data_train['crawled_at'] = pd.to_datetime(data_train['crawled_at']).dt.date"
   ]
  },
  {
   "cell_type": "markdown",
   "id": "cdb9369e",
   "metadata": {},
   "source": [
    "## Tratando valores nulos"
   ]
  },
  {
   "cell_type": "code",
   "execution_count": null,
   "id": "1c041d78",
   "metadata": {
    "ExecuteTime": {
     "start_time": "2023-10-22T16:11:54.557Z"
    }
   },
   "outputs": [],
   "source": [
    "data_train.isna().sum()/data_train.shape[0]"
   ]
  },
  {
   "cell_type": "code",
   "execution_count": null,
   "id": "26f84127",
   "metadata": {
    "ExecuteTime": {
     "start_time": "2023-10-22T16:11:54.570Z"
    }
   },
   "outputs": [],
   "source": [
    "data_train = data_train.dropna(subset=['actual_price'])"
   ]
  },
  {
   "cell_type": "code",
   "execution_count": null,
   "id": "5a54e630",
   "metadata": {
    "ExecuteTime": {
     "start_time": "2023-10-22T16:11:54.582Z"
    },
    "scrolled": true
   },
   "outputs": [],
   "source": [
    "data_train.isna().sum()/data_train.shape[0]"
   ]
  },
  {
   "cell_type": "markdown",
   "id": "f8e8fae6",
   "metadata": {},
   "source": [
    "## Entendendo product Details"
   ]
  },
  {
   "cell_type": "code",
   "execution_count": null,
   "id": "277e00f7",
   "metadata": {
    "ExecuteTime": {
     "start_time": "2023-10-22T16:11:54.772Z"
    }
   },
   "outputs": [],
   "source": [
    "import ast\n",
    "\n",
    "# pega string de dict e cria uma lista de dicionários\n",
    "def f(x):\n",
    "    try:\n",
    "        return ast.literal_eval(str(x))   \n",
    "    except Exception as e:\n",
    "        print(e)\n",
    "        return []\n",
    "\n",
    "teste = data_train['product_details'].apply(lambda x: f(x))\n",
    "\n",
    "def junta_dict(dict_list):\n",
    "    dicionario = {}\n",
    "    for d in dict_list:\n",
    "        for key, value in d.items():\n",
    "            dicionario[key] = value\n",
    "    return dicionario\n",
    "\n",
    "\n",
    "df = pd.DataFrame([junta_dict(row) for row in teste])"
   ]
  },
  {
   "cell_type": "code",
   "execution_count": null,
   "id": "ed4bf01c",
   "metadata": {
    "ExecuteTime": {
     "start_time": "2023-10-22T16:11:54.779Z"
    }
   },
   "outputs": [],
   "source": [
    "df = pd.DataFrame([junta_dict(row) for row in teste])\n",
    "df.isna().sum().sort_values()"
   ]
  },
  {
   "cell_type": "markdown",
   "id": "1a3a83f2",
   "metadata": {},
   "source": [
    "# Feature Engineering"
   ]
  },
  {
   "cell_type": "code",
   "execution_count": null,
   "id": "cf0764da",
   "metadata": {
    "ExecuteTime": {
     "start_time": "2023-10-22T16:11:54.941Z"
    }
   },
   "outputs": [],
   "source": [
    "df4 = data_train.copy()"
   ]
  },
  {
   "cell_type": "code",
   "execution_count": null,
   "id": "02173cbd",
   "metadata": {
    "ExecuteTime": {
     "start_time": "2023-10-22T16:11:54.947Z"
    }
   },
   "outputs": [],
   "source": [
    "## out_of_stock - transformar para int \n",
    "df4['out_of_stock'] = df4['out_of_stock'].astype('int64')\n",
    "\n",
    "# brand - substituir por outros\n",
    "df4['brand'] = df4['brand'].apply(lambda x: x.lower())\n",
    "\n",
    "# criando feature product\n",
    "df4['product'] = df4[['category', 'sub_category']].apply(lambda x: x['category'] + '_' + x['sub_category'], axis = 1)"
   ]
  },
  {
   "cell_type": "code",
   "execution_count": null,
   "id": "a808e599",
   "metadata": {
    "ExecuteTime": {
     "start_time": "2023-10-22T16:11:54.957Z"
    }
   },
   "outputs": [],
   "source": [
    "import ast\n",
    "\n",
    "# pega string de dict e cria uma lista de dicionários\n",
    "def f(x):\n",
    "    try:\n",
    "        return ast.literal_eval(str(x))   \n",
    "    except Exception as e:\n",
    "        print(e)\n",
    "        return []\n",
    "\n",
    "\n",
    "\n",
    "def junta_dict(dict_list):\n",
    "    dicionario = {}\n",
    "    for d in dict_list:\n",
    "        for key, value in d.items():\n",
    "            dicionario[key] = value\n",
    "    return dicionario\n",
    "\n",
    "list = df4['product_details'].apply(lambda x: f(x))\n",
    "\n",
    "df_details = pd.DataFrame([junta_dict(row) for row in list], index = list.index)\n",
    "\n",
    "df_drop_columns = df_details.drop(columns=['', ' '])\n",
    "\n",
    "# Removendo valores faltantes acima de 50%\n",
    "limite_nulos = len(df_details) * 0.5  \n",
    "df_drop = df_details.dropna(thresh = limite_nulos, axis=1)\n",
    "df_new = df_drop.copy()\n",
    "\n",
    "# Trocar os NaN por 'outros'\n",
    "\n",
    "df_new.loc[df_new['Fabric'].isnull(), 'Fabric'] = 'outros'\n",
    "df_new.loc[df_new['Pattern'].isnull(), 'Pattern'] = 'outros'\n",
    "df_new.loc[df_new['Style Code'].isnull(), 'Style Code'] = 'outros'\n",
    "df_new.loc[df_new['Pack of'].isnull(), 'Pack of'] = 'outros'\n",
    "df_new.loc[df_new['Type'].isnull(), 'Type'] = 'outros'\n",
    "df_new.loc[df_new['Sleeve'].isnull(), 'Sleeve'] = 'outros'\n",
    "df_new.loc[df_new['Fit'].isnull(), 'Fit'] = 'outros'\n",
    "df_new.loc[df_new['Ideal For'].isnull(), 'Ideal For'] = 'outros'\n",
    "df_new.loc[df_new['Suitable For'].isnull(), 'Suitable For'] = 'outros'\n",
    "df_new.loc[df_new['Reversible'].isnull(), 'Reversible'] = 'outros'\n",
    "df_new.loc[df_new['Fabric Care'].isnull(), 'Fabric Care'] = 'outros'\n",
    "\n",
    "df_new.head()\n",
    "\n",
    "def type_sex(value):\n",
    "    if value == 'Men':\n",
    "        return 'Men'\n",
    "    elif value == 'Men, Boys':\n",
    "        return 'all_ages'\n",
    "    elif value == 'Boys, Men':\n",
    "        return 'all_ages'\n",
    "    elif value == 'Boys, Girls, Men, Women':\n",
    "        return 'unisex_all_ages'\n",
    "    elif value == 'Women, Men':\n",
    "        return 'Unisex'\n",
    "    else:\n",
    "        return 'outros'\n",
    "\n",
    "df_new['Ideal For'] = df_new['Ideal For'].map(type_sex)\n",
    "\n",
    "df4 = pd.concat([df4, df_new], axis=1)\n",
    "\n",
    "## Tratando variaveis respostas nulas\n",
    "prices = df4[['seller','pid', 'actual_price']].groupby('pid').max().reset_index()\n",
    "\n",
    "precos_nulos = df4.loc[df4['actual_price'].isna(), ['_id','pid']]\n",
    "\n",
    "precos_recuperados = pd.merge(precos_nulos, prices, how = 'inner', on = 'pid')\n",
    "\n",
    "df4_aux = pd.merge(df4, precos_recuperados[['_id', 'actual_price']], on = '_id', how = 'left')\n",
    "df4['actual_price'] = df4_aux['actual_price_x'].fillna(0) + df4_aux['actual_price_y'].fillna(0)\n",
    "\n",
    "df4 = df4.dropna(subset=['actual_price'])\n",
    "\n",
    "# Novas Features de roupa\n",
    "\n",
    "df4['cotton'] = df4['Fabric'].apply(lambda x: 1 if 'cotton' in x.lower() else 0)\n",
    "df4['poly'] = df4['Fabric'].apply(lambda x: 1 if 'poly' in x.lower() else 0)\n",
    "df4['not_cotton_or_poly'] = df4['Fabric'].apply(lambda x: 1 if ('poly' not in x.lower()) and ('cotton' not in x.lower()) else 0)"
   ]
  },
  {
   "cell_type": "markdown",
   "id": "e7467521",
   "metadata": {},
   "source": [
    "# EDA"
   ]
  },
  {
   "cell_type": "code",
   "execution_count": null,
   "id": "f8715db2",
   "metadata": {
    "ExecuteTime": {
     "start_time": "2023-10-22T16:11:55.143Z"
    }
   },
   "outputs": [],
   "source": [
    "df5 = df4.copy()"
   ]
  },
  {
   "cell_type": "code",
   "execution_count": null,
   "id": "8610cb1d",
   "metadata": {},
   "outputs": [],
   "source": []
  },
  {
   "cell_type": "code",
   "execution_count": null,
   "id": "a5d5e73d",
   "metadata": {
    "ExecuteTime": {
     "start_time": "2023-10-22T16:11:55.159Z"
    }
   },
   "outputs": [],
   "source": [
    "df5['Pattern'].value_counts().head(10)"
   ]
  },
  {
   "cell_type": "markdown",
   "id": "5140daa9",
   "metadata": {},
   "source": [
    "# Data Preparation"
   ]
  },
  {
   "cell_type": "code",
   "execution_count": null,
   "id": "68f43f40",
   "metadata": {
    "ExecuteTime": {
     "start_time": "2023-10-22T16:11:55.358Z"
    }
   },
   "outputs": [],
   "source": [
    "df6 = df5.copy()"
   ]
  },
  {
   "cell_type": "code",
   "execution_count": null,
   "id": "7781dc92",
   "metadata": {
    "ExecuteTime": {
     "start_time": "2023-10-22T16:11:55.370Z"
    }
   },
   "outputs": [],
   "source": [
    "df6.isna().sum()"
   ]
  },
  {
   "cell_type": "markdown",
   "id": "dddaf50a",
   "metadata": {},
   "source": [
    "## Split Dataset"
   ]
  },
  {
   "cell_type": "code",
   "execution_count": null,
   "id": "5d90c1cd",
   "metadata": {
    "ExecuteTime": {
     "start_time": "2023-10-22T16:11:55.580Z"
    }
   },
   "outputs": [],
   "source": [
    "X = df6.drop(['_id','pid','actual_price'], axis=1)\n",
    "y = df6['actual_price']\n",
    "\n",
    "X_train, X_test, y_train, y_test = ms.train_test_split(X, y, test_size=0.2)\n",
    "data_train = pd.concat([X_train, y_train], axis=1)\n",
    "data_test = pd.concat([X_test, y_test], axis=1)"
   ]
  },
  {
   "cell_type": "markdown",
   "id": "492ffd74",
   "metadata": {},
   "source": [
    "## Rescalling"
   ]
  },
  {
   "cell_type": "code",
   "execution_count": null,
   "id": "254a41af",
   "metadata": {
    "ExecuteTime": {
     "start_time": "2023-10-22T16:11:55.792Z"
    }
   },
   "outputs": [],
   "source": [
    "X_train.columns"
   ]
  },
  {
   "cell_type": "markdown",
   "id": "7b5d3e4d",
   "metadata": {},
   "source": [
    "### Min Max Scaler"
   ]
  },
  {
   "cell_type": "code",
   "execution_count": null,
   "id": "3211520b",
   "metadata": {
    "ExecuteTime": {
     "start_time": "2023-10-22T16:11:56.041Z"
    }
   },
   "outputs": [],
   "source": [
    "mm = pp.MinMaxScaler()\n",
    "\n",
    "X_train['avg_delivery_time_days'] = mm.fit_transform(X_train[['avg_delivery_time_days']])\n",
    "pickle.dump(mm, open('parameters/mm_avg_delivery_time_days.pkl','wb'))"
   ]
  },
  {
   "cell_type": "markdown",
   "id": "325cece4",
   "metadata": {},
   "source": [
    "### Robust Scaler"
   ]
  },
  {
   "cell_type": "code",
   "execution_count": null,
   "id": "2155c696",
   "metadata": {
    "ExecuteTime": {
     "start_time": "2023-10-22T16:11:56.266Z"
    }
   },
   "outputs": [],
   "source": [
    "rs_average_rating   = pp.RobustScaler()\n",
    "rs_number_of_reviews = pp.RobustScaler()\n",
    "\n",
    "X_train['average_rating'] = rs_average_rating.fit_transform(X_train[['average_rating']])\n",
    "pickle.dump(rs_average_rating, open('parameters/rs_average_rating.pkl','wb'))\n",
    "\n",
    "X_train['number_of_reviews'] = rs_number_of_reviews.fit_transform(X_train[['number_of_reviews']])\n",
    "pickle.dump(rs_number_of_reviews, open('parameters/rs_number_of_reviews.pkl','wb'))"
   ]
  },
  {
   "cell_type": "markdown",
   "id": "c0c59710",
   "metadata": {},
   "source": [
    "## Transformation"
   ]
  },
  {
   "cell_type": "markdown",
   "id": "ff788903",
   "metadata": {},
   "source": [
    "### One Hot Enconde"
   ]
  },
  {
   "cell_type": "code",
   "execution_count": null,
   "id": "5c34f589",
   "metadata": {
    "ExecuteTime": {
     "start_time": "2023-10-22T16:11:56.695Z"
    }
   },
   "outputs": [],
   "source": [
    "# 'out_of_stock'"
   ]
  },
  {
   "cell_type": "markdown",
   "id": "c1f9429b",
   "metadata": {},
   "source": [
    "### Target Encode"
   ]
  },
  {
   "cell_type": "code",
   "execution_count": null,
   "id": "094130c6",
   "metadata": {
    "ExecuteTime": {
     "start_time": "2023-10-22T16:11:56.939Z"
    }
   },
   "outputs": [],
   "source": [
    "for att in ['Ideal For', 'Reversible', 'Suitable For']:\n",
    "    te = ce.TargetEncoder(cols=[att], handle_unknown = 'return_nan').fit(X_train, y_train)\n",
    "    pickle.dump(te, open(f'parameters/te_{att}.pkl','wb'))\n",
    "    X_train = te.transform(X_train)"
   ]
  },
  {
   "cell_type": "markdown",
   "id": "527eaecc",
   "metadata": {},
   "source": [
    "### Frequency Encode"
   ]
  },
  {
   "cell_type": "code",
   "execution_count": null,
   "id": "f1ce9035",
   "metadata": {
    "ExecuteTime": {
     "start_time": "2023-10-22T16:11:57.188Z"
    }
   },
   "outputs": [],
   "source": [
    "for att in ['brand', 'product', 'seller','Style Code','Pack of', 'Pattern']:\n",
    "    fe =  ce.CountEncoder(cols=[att], normalize=True).fit(X_train)\n",
    "    pickle.dump(fe,open(f'parameters/fe_{att}.pkl', 'wb'))\n",
    "    X_train = fe.transform(X_train)"
   ]
  },
  {
   "cell_type": "markdown",
   "id": "c8b601c7",
   "metadata": {},
   "source": [
    "### Response Variable"
   ]
  },
  {
   "cell_type": "code",
   "execution_count": null,
   "id": "cf5917e1",
   "metadata": {
    "ExecuteTime": {
     "start_time": "2023-10-22T16:11:57.578Z"
    }
   },
   "outputs": [],
   "source": [
    "y_train = np.log1p(y_train)"
   ]
  },
  {
   "cell_type": "markdown",
   "id": "3788f05a",
   "metadata": {},
   "source": [
    "## Test Preparation"
   ]
  },
  {
   "cell_type": "code",
   "execution_count": null,
   "id": "c6c40a02",
   "metadata": {
    "ExecuteTime": {
     "start_time": "2023-10-22T16:11:57.810Z"
    },
    "scrolled": true
   },
   "outputs": [],
   "source": [
    "X_test_mod, y_test_mod = test_preparation(X_test, y_test)"
   ]
  },
  {
   "cell_type": "markdown",
   "id": "1d0cc108",
   "metadata": {},
   "source": [
    "# Feature Selection"
   ]
  },
  {
   "cell_type": "code",
   "execution_count": null,
   "id": "3b98ad6a",
   "metadata": {
    "ExecuteTime": {
     "start_time": "2023-10-22T16:11:58.057Z"
    }
   },
   "outputs": [],
   "source": [
    "X_train.columns.tolist()"
   ]
  },
  {
   "cell_type": "code",
   "execution_count": null,
   "id": "a400968d",
   "metadata": {
    "ExecuteTime": {
     "start_time": "2023-10-22T16:11:58.064Z"
    }
   },
   "outputs": [],
   "source": [
    "'Style Code','Pack of','Ideal For','Suitable For','Reversible',"
   ]
  },
  {
   "cell_type": "code",
   "execution_count": null,
   "id": "cfd36892",
   "metadata": {
    "ExecuteTime": {
     "start_time": "2023-10-22T16:11:58.074Z"
    }
   },
   "outputs": [],
   "source": [
    "features_selected = [\n",
    "'average_rating',\n",
    "'number_of_reviews',\n",
    "'brand',\n",
    "# 'category',\n",
    "# 'crawled_at',\n",
    "'out_of_stock',\n",
    "'avg_delivery_time_days',\n",
    "#  'product_details',\n",
    "'seller',\n",
    "#  'sub_category',\n",
    "#  'fabrication_time',\n",
    "#  'title',\n",
    "#  'Fabric',\n",
    "#  'Pattern',\n",
    "'cotton',\n",
    "'poly',\n",
    "'Style Code',\n",
    "'Pack of',\n",
    "#  'Type',\n",
    "#  'Sleeve',\n",
    "#  'Fit',\n",
    "'Ideal For',\n",
    "'Suitable For',\n",
    "'Reversible',\n",
    "#  'Fabric Care',\n",
    "'product'\n",
    "]"
   ]
  },
  {
   "cell_type": "markdown",
   "id": "63cd1eef",
   "metadata": {},
   "source": [
    "## Importancia das árvores"
   ]
  },
  {
   "cell_type": "code",
   "execution_count": null,
   "id": "712f20ba",
   "metadata": {
    "ExecuteTime": {
     "start_time": "2023-10-22T16:11:58.286Z"
    }
   },
   "outputs": [],
   "source": [
    "# Crie e treine o modelo LGBMClassifier\n",
    "lgb_model = LGBMRegressor(n_jobs=-1, random_state=42)\n",
    "X_train_sel = X_train[features_selected]\n",
    "lgb_model.fit(X_train_sel, y_train)\n",
    "\n",
    "# Obtenha as importâncias das características do modelo\n",
    "importances = lgb_model.feature_importances_\n",
    "\n",
    "# Ordene as características por importância decrescente\n",
    "indices = np.argsort(importances)[::-1]\n",
    "\n",
    "# Imprima o ranking das características\n",
    "print('Feature ranking')\n",
    "df = pd.DataFrame()\n",
    "\n",
    "for i, j in zip(X_train_sel.columns, importances):\n",
    "    aux = pd.DataFrame({'feature': i, 'importance': j}, index=[0])\n",
    "    df = pd.concat([df, aux], axis=0)\n",
    "\n",
    "print(df.sort_values('importance', ascending=False))"
   ]
  },
  {
   "cell_type": "markdown",
   "id": "c0547cfa",
   "metadata": {},
   "source": [
    "# Machine Learning"
   ]
  },
  {
   "cell_type": "code",
   "execution_count": null,
   "id": "c0ef7c24",
   "metadata": {
    "ExecuteTime": {
     "start_time": "2023-10-22T16:11:58.500Z"
    }
   },
   "outputs": [],
   "source": [
    "def MachineLearning(X_train, y_train, X_test, y_test, features_selected):\n",
    "    SEED = 42\n",
    "\n",
    "    lista_de_medidas = ['SMAPE']\n",
    "    nome_das_medidas = ['SMAPE']\n",
    "\n",
    "    lista_de_modelos = [XGBRegressor(learning_rate=0.1, n_estimators=50, max_depth=3),\n",
    "                        SGDRegressor(random_state=SEED), \n",
    "                        LGBMRegressor(random_state=SEED, n_jobs=-1, force_row_wise=True, ),\n",
    "                        DecisionTreeRegressor(random_state=SEED),\n",
    "                        KNeighborsRegressor(n_neighbors=5,  weights='distance',n_jobs=-1),\n",
    "                        BaggingRegressor(),\n",
    "                        RandomForestRegressor(random_state=SEED)]\n",
    "\n",
    "    nome_dos_modelos = ['XGBoost', \n",
    "                        'SGD', \n",
    "                        'LGBM', \n",
    "                        'DecisionTree',\n",
    "                        'KNN',\n",
    "                        'Bagging',\n",
    "                        'RandomForest']\n",
    "\n",
    "    resultados0 = {}\n",
    "    \n",
    "    X_train_selected = X_train[features_selected]\n",
    "    X_test_selected = X_test[features_selected]\n",
    "\n",
    "\n",
    "    for i in range(len(lista_de_modelos)):\n",
    "        print('Rodando modelo: ' + nome_dos_modelos[i])\n",
    "        \n",
    "        model = lista_de_modelos[i]\n",
    "        \n",
    "        model.fit(X_train_selected, y_train)\n",
    "        \n",
    "        y_pred = model.predict(X_test_selected)\n",
    "        \n",
    "        smape = 100 / len(y_test) * np.sum(2 * np.abs(np.expm1(y_pred) - np.expm1(y_test)) / (np.abs(np.expm1(y_test)) + np.abs(np.expm1(y_pred))))\n",
    "\n",
    "        resultados0[nome_dos_modelos[i]] = [smape]\n",
    "    \n",
    "    resultados = pd.DataFrame(resultados0, index = nome_das_medidas).T\n",
    "\n",
    "    return resultados"
   ]
  },
  {
   "cell_type": "code",
   "execution_count": null,
   "id": "3b963159",
   "metadata": {
    "ExecuteTime": {
     "start_time": "2023-10-22T16:11:58.510Z"
    }
   },
   "outputs": [],
   "source": [
    "MachineLearning(X_train, y_train, X_test_mod, y_test_mod, features_selected)"
   ]
  },
  {
   "cell_type": "markdown",
   "id": "4a6dd862",
   "metadata": {},
   "source": [
    "# Fine Tuning\n",
    "\n",
    "- Não possui cross validation\n",
    "- Não realiza reencode das variáveis\n",
    "- **Para maior assertividade, rodar com todos os dados de treino disponíveis**"
   ]
  },
  {
   "cell_type": "code",
   "execution_count": 583,
   "id": "1d015085",
   "metadata": {
    "ExecuteTime": {
     "end_time": "2023-10-22T15:13:02.293106Z",
     "start_time": "2023-10-22T15:13:02.272991Z"
    }
   },
   "outputs": [],
   "source": [
    "# def objective_cv(trial):  \n",
    "    \n",
    "#     n_estimators = trial.suggest_int('n_estimators',20, 100)\n",
    "#     eta = trial.suggest_float('eta',0.01, 0.05)\n",
    "#     max_depth = trial.suggest_int('max_depth', 3, 9)\n",
    "#     subsample = trial.suggest_float('subsample',0.1, 0.9)\n",
    "#     colsample_bytree = trial.suggest_float('colsample_bytree',0.1,0.9)\n",
    "\n",
    "#     # model definition\n",
    "#     xgb_model = XGBRegressor( n_estimators    = n_estimators, \n",
    "#                               eta              = eta, \n",
    "#                               max_depth        = max_depth, \n",
    "#                               subsample        = subsample,\n",
    "#                               colsample_bytree = colsample_bytree\n",
    "#                              )\n",
    "    \n",
    "#     xgb_model.fit(X_train[features_selected], y_train)\n",
    "    \n",
    "#     # Model Prediction \n",
    "#     y_pred = xgb_model.predict(X_test_mod[features_selected])\n",
    "\n",
    "#     # calculando rmse\n",
    "#     smape = 100 / len(y_test_mod) * np.sum(2 * np.abs(np.expm1(y_pred) - np.expm1(y_test_mod)) / (np.abs(np.expm1(y_test_mod)) + np.abs(np.expm1(y_pred))))\n",
    "\n",
    "#     return smape"
   ]
  },
  {
   "cell_type": "code",
   "execution_count": 584,
   "id": "d4a6f9f5",
   "metadata": {
    "ExecuteTime": {
     "end_time": "2023-10-22T15:14:11.945528Z",
     "start_time": "2023-10-22T15:13:02.301114Z"
    }
   },
   "outputs": [
    {
     "name": "stderr",
     "output_type": "stream",
     "text": [
      "[I 2023-10-22 12:13:02,310] A new study created in memory with name: no-name-b446f611-3929-4a5a-ae79-792fa10aaecf\n",
      "[I 2023-10-22 12:13:03,632] Trial 0 finished with value: 92.20713033879997 and parameters: {'n_estimators': 99, 'eta': 0.01859040444788452, 'max_depth': 6, 'subsample': 0.790123784953477, 'colsample_bytree': 0.2692136148922196}. Best is trial 0 with value: 92.20713033879997.\n",
      "[I 2023-10-22 12:13:05,308] Trial 1 finished with value: 51.972385113135196 and parameters: {'n_estimators': 67, 'eta': 0.03878872959436273, 'max_depth': 4, 'subsample': 0.13244512083963694, 'colsample_bytree': 0.8932924532840313}. Best is trial 1 with value: 51.972385113135196.\n",
      "[I 2023-10-22 12:13:06,190] Trial 2 finished with value: 72.88257113401903 and parameters: {'n_estimators': 43, 'eta': 0.04878155245402561, 'max_depth': 6, 'subsample': 0.2071016730158456, 'colsample_bytree': 0.849612828100148}. Best is trial 1 with value: 51.972385113135196.\n",
      "[I 2023-10-22 12:13:06,517] Trial 3 finished with value: 197.69235714551638 and parameters: {'n_estimators': 26, 'eta': 0.010010078250914463, 'max_depth': 9, 'subsample': 0.13134073917562894, 'colsample_bytree': 0.3512553200379347}. Best is trial 1 with value: 51.972385113135196.\n",
      "[I 2023-10-22 12:13:07,819] Trial 4 finished with value: 97.29064485675453 and parameters: {'n_estimators': 100, 'eta': 0.017764034874040373, 'max_depth': 3, 'subsample': 0.2990783509418403, 'colsample_bytree': 0.5400581206928717}. Best is trial 1 with value: 51.972385113135196.\n",
      "[I 2023-10-22 12:13:08,359] Trial 5 finished with value: 114.79812549598559 and parameters: {'n_estimators': 77, 'eta': 0.02037666251594981, 'max_depth': 6, 'subsample': 0.3379654261701007, 'colsample_bytree': 0.11216136734528917}. Best is trial 1 with value: 51.972385113135196.\n",
      "[I 2023-10-22 12:13:10,482] Trial 6 finished with value: 39.31414261478797 and parameters: {'n_estimators': 95, 'eta': 0.0390663536745, 'max_depth': 3, 'subsample': 0.16038249284519435, 'colsample_bytree': 0.8421353394505153}. Best is trial 6 with value: 39.31414261478797.\n",
      "[I 2023-10-22 12:13:10,973] Trial 7 finished with value: 137.4442257435823 and parameters: {'n_estimators': 65, 'eta': 0.02030279803761744, 'max_depth': 4, 'subsample': 0.6877191839579527, 'colsample_bytree': 0.2786243255934312}. Best is trial 6 with value: 39.31414261478797.\n",
      "[I 2023-10-22 12:13:11,253] Trial 8 finished with value: 174.83827566562317 and parameters: {'n_estimators': 20, 'eta': 0.04262338766614573, 'max_depth': 5, 'subsample': 0.24707906329686244, 'colsample_bytree': 0.18329080454643265}. Best is trial 6 with value: 39.31414261478797.\n",
      "[I 2023-10-22 12:13:13,275] Trial 9 finished with value: 54.19340925620508 and parameters: {'n_estimators': 87, 'eta': 0.029138108976599138, 'max_depth': 8, 'subsample': 0.6436010936007592, 'colsample_bytree': 0.6626345782048217}. Best is trial 6 with value: 39.31414261478797.\n",
      "[I 2023-10-22 12:13:13,797] Trial 10 finished with value: 105.10181277226988 and parameters: {'n_estimators': 49, 'eta': 0.034056282099927095, 'max_depth': 3, 'subsample': 0.4364928712188086, 'colsample_bytree': 0.7162030062369874}. Best is trial 6 with value: 39.31414261478797.\n",
      "[I 2023-10-22 12:13:14,559] Trial 11 finished with value: 44.04277036205261 and parameters: {'n_estimators': 76, 'eta': 0.039491295441555, 'max_depth': 4, 'subsample': 0.11177340140794892, 'colsample_bytree': 0.8940276655937075}. Best is trial 6 with value: 39.31414261478797.\n",
      "[I 2023-10-22 12:13:15,998] Trial 12 finished with value: 39.454516151444864 and parameters: {'n_estimators': 84, 'eta': 0.042855554405954586, 'max_depth': 4, 'subsample': 0.3740605945756079, 'colsample_bytree': 0.7886316556240199}. Best is trial 6 with value: 39.31414261478797.\n",
      "[I 2023-10-22 12:13:17,210] Trial 13 finished with value: 38.50661128854651 and parameters: {'n_estimators': 89, 'eta': 0.04898534135795038, 'max_depth': 3, 'subsample': 0.4123136295612617, 'colsample_bytree': 0.7442078573854009}. Best is trial 13 with value: 38.50661128854651.\n",
      "[I 2023-10-22 12:13:20,576] Trial 14 finished with value: 38.692337733203054 and parameters: {'n_estimators': 89, 'eta': 0.04838798290880856, 'max_depth': 3, 'subsample': 0.5039484570453041, 'colsample_bytree': 0.6577024505371664}. Best is trial 13 with value: 38.50661128854651.\n",
      "[I 2023-10-22 12:13:21,584] Trial 15 finished with value: 46.8191088955402 and parameters: {'n_estimators': 56, 'eta': 0.04998243422613692, 'max_depth': 5, 'subsample': 0.5315045444811235, 'colsample_bytree': 0.5891810203964674}. Best is trial 13 with value: 38.50661128854651.\n",
      "[I 2023-10-22 12:13:24,511] Trial 16 finished with value: 38.652716693095186 and parameters: {'n_estimators': 87, 'eta': 0.04652963871352894, 'max_depth': 8, 'subsample': 0.47560315267588293, 'colsample_bytree': 0.47507150261721576}. Best is trial 13 with value: 38.50661128854651.\n",
      "[I 2023-10-22 12:13:25,686] Trial 17 finished with value: 39.945478666465576 and parameters: {'n_estimators': 76, 'eta': 0.04541062722217063, 'max_depth': 7, 'subsample': 0.41379574919328055, 'colsample_bytree': 0.4933974160634604}. Best is trial 13 with value: 38.50661128854651.\n",
      "[I 2023-10-22 12:13:27,330] Trial 18 finished with value: 39.16357267697227 and parameters: {'n_estimators': 82, 'eta': 0.0451023200535191, 'max_depth': 9, 'subsample': 0.5446696221431211, 'colsample_bytree': 0.4430548080091395}. Best is trial 13 with value: 38.50661128854651.\n",
      "[I 2023-10-22 12:13:28,278] Trial 19 finished with value: 39.94301505779568 and parameters: {'n_estimators': 69, 'eta': 0.0496944655493607, 'max_depth': 8, 'subsample': 0.4464369240439255, 'colsample_bytree': 0.40545050663198356}. Best is trial 13 with value: 38.50661128854651.\n",
      "[I 2023-10-22 12:13:31,074] Trial 20 finished with value: 42.24985775684843 and parameters: {'n_estimators': 92, 'eta': 0.034153707396465414, 'max_depth': 8, 'subsample': 0.33129619094527085, 'colsample_bytree': 0.5950017737586911}. Best is trial 13 with value: 38.50661128854651.\n",
      "[I 2023-10-22 12:13:32,514] Trial 21 finished with value: 38.6548651718139 and parameters: {'n_estimators': 90, 'eta': 0.04644051802612585, 'max_depth': 5, 'subsample': 0.5216699980609067, 'colsample_bytree': 0.7114730377696385}. Best is trial 13 with value: 38.50661128854651.\n",
      "[I 2023-10-22 12:13:34,272] Trial 22 finished with value: 38.72059697945475 and parameters: {'n_estimators': 92, 'eta': 0.04543804152533954, 'max_depth': 7, 'subsample': 0.5680971767882402, 'colsample_bytree': 0.7532407203173748}. Best is trial 13 with value: 38.50661128854651.\n",
      "[I 2023-10-22 12:13:35,510] Trial 23 finished with value: 39.057966422418595 and parameters: {'n_estimators': 81, 'eta': 0.04642140448258607, 'max_depth': 5, 'subsample': 0.4650245770706678, 'colsample_bytree': 0.6850805523190878}. Best is trial 13 with value: 38.50661128854651.\n",
      "[I 2023-10-22 12:13:36,531] Trial 24 finished with value: 42.26744321824983 and parameters: {'n_estimators': 73, 'eta': 0.04276868500105163, 'max_depth': 7, 'subsample': 0.39345167188779295, 'colsample_bytree': 0.6024206524709872}. Best is trial 13 with value: 38.50661128854651.\n",
      "[I 2023-10-22 12:13:37,389] Trial 25 finished with value: 45.99217153323183 and parameters: {'n_estimators': 57, 'eta': 0.04999365859583851, 'max_depth': 5, 'subsample': 0.5978779131610229, 'colsample_bytree': 0.7670865174018304}. Best is trial 13 with value: 38.50661128854651.\n",
      "[I 2023-10-22 12:13:38,938] Trial 26 finished with value: 38.37330477482512 and parameters: {'n_estimators': 95, 'eta': 0.046216908133135226, 'max_depth': 7, 'subsample': 0.47847419750794157, 'colsample_bytree': 0.5177463282246642}. Best is trial 26 with value: 38.37330477482512.\n",
      "[I 2023-10-22 12:13:39,326] Trial 27 finished with value: 108.79044368045703 and parameters: {'n_estimators': 39, 'eta': 0.04154016751487927, 'max_depth': 7, 'subsample': 0.43784084056019257, 'colsample_bytree': 0.5303568424768963}. Best is trial 26 with value: 38.37330477482512.\n",
      "[I 2023-10-22 12:13:41,174] Trial 28 finished with value: 38.31550884111289 and parameters: {'n_estimators': 96, 'eta': 0.04635337317489767, 'max_depth': 8, 'subsample': 0.4666515428678535, 'colsample_bytree': 0.4741829326797601}. Best is trial 28 with value: 38.31550884111289.\n"
     ]
    },
    {
     "name": "stderr",
     "output_type": "stream",
     "text": [
      "[I 2023-10-22 12:13:42,402] Trial 29 finished with value: 39.22044992823669 and parameters: {'n_estimators': 100, 'eta': 0.036654248977630366, 'max_depth': 9, 'subsample': 0.8000008171537041, 'colsample_bytree': 0.40510937225478605}. Best is trial 28 with value: 38.31550884111289.\n",
      "[I 2023-10-22 12:13:43,532] Trial 30 finished with value: 38.46473957427875 and parameters: {'n_estimators': 98, 'eta': 0.04346282777254415, 'max_depth': 7, 'subsample': 0.8844212326536539, 'colsample_bytree': 0.5266865781246111}. Best is trial 28 with value: 38.31550884111289.\n",
      "[I 2023-10-22 12:13:44,812] Trial 31 finished with value: 38.579194411918884 and parameters: {'n_estimators': 96, 'eta': 0.0438687472701772, 'max_depth': 7, 'subsample': 0.7085867331631717, 'colsample_bytree': 0.5485655087756972}. Best is trial 28 with value: 38.31550884111289.\n",
      "[I 2023-10-22 12:13:46,032] Trial 32 finished with value: 38.82649263031917 and parameters: {'n_estimators': 96, 'eta': 0.041188436878236694, 'max_depth': 8, 'subsample': 0.8862177974982874, 'colsample_bytree': 0.4789504223899056}. Best is trial 28 with value: 38.31550884111289.\n",
      "[I 2023-10-22 12:13:47,202] Trial 33 finished with value: 38.38478299795289 and parameters: {'n_estimators': 95, 'eta': 0.047377311139969056, 'max_depth': 6, 'subsample': 0.4895456887070479, 'colsample_bytree': 0.6350984535952967}. Best is trial 28 with value: 38.31550884111289.\n",
      "[I 2023-10-22 12:13:48,310] Trial 34 finished with value: 38.37700588459312 and parameters: {'n_estimators': 95, 'eta': 0.04718750281858459, 'max_depth': 6, 'subsample': 0.577816627965964, 'colsample_bytree': 0.6250611082903905}. Best is trial 28 with value: 38.31550884111289.\n",
      "[I 2023-10-22 12:13:50,096] Trial 35 finished with value: 38.86755140782286 and parameters: {'n_estimators': 82, 'eta': 0.047404667666250275, 'max_depth': 6, 'subsample': 0.49701663129309426, 'colsample_bytree': 0.6262623784354417}. Best is trial 28 with value: 38.31550884111289.\n",
      "[I 2023-10-22 12:13:51,588] Trial 36 finished with value: 38.449841709340646 and parameters: {'n_estimators': 94, 'eta': 0.0473562003047602, 'max_depth': 6, 'subsample': 0.6005499712310631, 'colsample_bytree': 0.5706821819824489}. Best is trial 28 with value: 38.31550884111289.\n",
      "[I 2023-10-22 12:13:52,040] Trial 37 finished with value: 123.42950852102564 and parameters: {'n_estimators': 36, 'eta': 0.04051858103019823, 'max_depth': 6, 'subsample': 0.4805052054347653, 'colsample_bytree': 0.6300529670004501}. Best is trial 28 with value: 38.31550884111289.\n",
      "[I 2023-10-22 12:13:53,248] Trial 38 finished with value: 38.86335247599588 and parameters: {'n_estimators': 86, 'eta': 0.04447069369541853, 'max_depth': 6, 'subsample': 0.5574524656134198, 'colsample_bytree': 0.5723688449766068}. Best is trial 28 with value: 38.31550884111289.\n",
      "[I 2023-10-22 12:13:54,974] Trial 39 finished with value: 38.16514359283611 and parameters: {'n_estimators': 100, 'eta': 0.04746681415617855, 'max_depth': 6, 'subsample': 0.34779424701329453, 'colsample_bytree': 0.5225879199571893}. Best is trial 39 with value: 38.16514359283611.\n",
      "[I 2023-10-22 12:13:57,043] Trial 40 finished with value: 39.504991721341874 and parameters: {'n_estimators': 79, 'eta': 0.04438883012386328, 'max_depth': 7, 'subsample': 0.28201827593748163, 'colsample_bytree': 0.5134397814333201}. Best is trial 39 with value: 38.16514359283611.\n",
      "[I 2023-10-22 12:13:59,031] Trial 41 finished with value: 38.20298723511695 and parameters: {'n_estimators': 100, 'eta': 0.04785989167864555, 'max_depth': 6, 'subsample': 0.36504420830065365, 'colsample_bytree': 0.5494997045848302}. Best is trial 39 with value: 38.16514359283611.\n",
      "[I 2023-10-22 12:14:01,035] Trial 42 finished with value: 38.24854727363318 and parameters: {'n_estimators': 100, 'eta': 0.0474435808259861, 'max_depth': 6, 'subsample': 0.3557878651629945, 'colsample_bytree': 0.542866324922008}. Best is trial 39 with value: 38.16514359283611.\n",
      "[I 2023-10-22 12:14:02,274] Trial 43 finished with value: 38.59353028360856 and parameters: {'n_estimators': 100, 'eta': 0.041603963472723444, 'max_depth': 6, 'subsample': 0.35850745989793564, 'colsample_bytree': 0.44821615294475387}. Best is trial 39 with value: 38.16514359283611.\n",
      "[I 2023-10-22 12:14:04,272] Trial 44 finished with value: 38.007251634605964 and parameters: {'n_estimators': 100, 'eta': 0.04847968659990019, 'max_depth': 7, 'subsample': 0.31355832178198495, 'colsample_bytree': 0.5456941887941139}. Best is trial 44 with value: 38.007251634605964.\n",
      "[I 2023-10-22 12:14:05,945] Trial 45 finished with value: 38.229575289604796 and parameters: {'n_estimators': 100, 'eta': 0.04805479108372834, 'max_depth': 5, 'subsample': 0.2908816388840409, 'colsample_bytree': 0.556370211208264}. Best is trial 44 with value: 38.007251634605964.\n",
      "[I 2023-10-22 12:14:07,575] Trial 46 finished with value: 38.1441889741355 and parameters: {'n_estimators': 100, 'eta': 0.048702618184370744, 'max_depth': 5, 'subsample': 0.22440286082880656, 'colsample_bytree': 0.5386969502970657}. Best is trial 44 with value: 38.007251634605964.\n",
      "[I 2023-10-22 12:14:08,916] Trial 47 finished with value: 38.3779601983741 and parameters: {'n_estimators': 91, 'eta': 0.04830687083246399, 'max_depth': 5, 'subsample': 0.19947789388126302, 'colsample_bytree': 0.5547057026474181}. Best is trial 44 with value: 38.007251634605964.\n",
      "[I 2023-10-22 12:14:11,126] Trial 48 finished with value: 38.4636090306179 and parameters: {'n_estimators': 85, 'eta': 0.04989507852065742, 'max_depth': 4, 'subsample': 0.25823667305559445, 'colsample_bytree': 0.5556171309777184}. Best is trial 44 with value: 38.007251634605964.\n",
      "[I 2023-10-22 12:14:11,934] Trial 49 finished with value: 59.24776437509109 and parameters: {'n_estimators': 49, 'eta': 0.04850823736968782, 'max_depth': 5, 'subsample': 0.3148859680439525, 'colsample_bytree': 0.5083454454655922}. Best is trial 44 with value: 38.007251634605964.\n"
     ]
    }
   ],
   "source": [
    "# import optuna\n",
    "# study = optuna.create_study(direction='minimize')\n",
    "# study.optimize(objective_cv, n_trials=50)"
   ]
  },
  {
   "cell_type": "code",
   "execution_count": 153,
   "id": "9cd1c5ae",
   "metadata": {
    "ExecuteTime": {
     "end_time": "2023-10-22T16:01:25.739560Z",
     "start_time": "2023-10-22T16:01:25.730000Z"
    }
   },
   "outputs": [],
   "source": [
    "# best_params = study.best_params\n",
    "best_params = {'n_estimators': 100,\n",
    " 'eta': 0.04847968659990019,\n",
    " 'max_depth': 7,\n",
    " 'subsample': 0.31355832178198495,\n",
    " 'colsample_bytree': 0.5456941887941139}"
   ]
  },
  {
   "cell_type": "code",
   "execution_count": 154,
   "id": "534319d1",
   "metadata": {
    "ExecuteTime": {
     "end_time": "2023-10-22T16:01:30.497154Z",
     "start_time": "2023-10-22T16:01:28.886763Z"
    }
   },
   "outputs": [
    {
     "data": {
      "text/plain": [
       "XGBRegressor(base_score=None, booster=None, callbacks=None,\n",
       "             colsample_bylevel=None, colsample_bynode=None,\n",
       "             colsample_bytree=0.5456941887941139, early_stopping_rounds=None,\n",
       "             enable_categorical=False, eta=0.04847968659990019,\n",
       "             eval_metric=None, feature_types=None, gamma=None, gpu_id=None,\n",
       "             grow_policy=None, importance_type=None,\n",
       "             interaction_constraints=None, learning_rate=None, max_bin=None,\n",
       "             max_cat_threshold=None, max_cat_to_onehot=None,\n",
       "             max_delta_step=None, max_depth=7, max_leaves=None,\n",
       "             min_child_weight=None, missing=nan, monotone_constraints=None,\n",
       "             n_estimators=100, n_jobs=-1, num_parallel_tree=None,\n",
       "             predictor=None, ...)"
      ]
     },
     "execution_count": 154,
     "metadata": {},
     "output_type": "execute_result"
    }
   ],
   "source": [
    "best_model = XGBRegressor(n_jobs = -1 , \n",
    "                                 random_state=0,\n",
    "                                 n_estimators = best_params['n_estimators'],\n",
    "                                 eta = best_params['eta'],\n",
    "                                 max_depth = best_params['max_depth'],\n",
    "                                 subsample = best_params['subsample'],\n",
    "                                 colsample_bytree = best_params['colsample_bytree'])\n",
    "\n",
    "# model fit\n",
    "best_model.fit(X_train[features_selected], y_train)"
   ]
  },
  {
   "cell_type": "markdown",
   "id": "d1a919b0",
   "metadata": {},
   "source": [
    "## Submission"
   ]
  },
  {
   "cell_type": "markdown",
   "id": "40872ab3",
   "metadata": {},
   "source": [
    "### Carregar os dados"
   ]
  },
  {
   "cell_type": "code",
   "execution_count": 155,
   "id": "4bd9ac56",
   "metadata": {
    "ExecuteTime": {
     "end_time": "2023-10-22T16:01:33.914472Z",
     "start_time": "2023-10-22T16:01:33.715309Z"
    }
   },
   "outputs": [
    {
     "data": {
      "text/plain": [
       "(5600, 16)"
      ]
     },
     "execution_count": 155,
     "metadata": {},
     "output_type": "execute_result"
    }
   ],
   "source": [
    "# Opening JSON file\n",
    "sub = open('dataset/raw/test.json')\n",
    " \n",
    "# returns JSON object as \n",
    "# a dictionary\n",
    "data_sub_aux = json.load(sub)\n",
    "\n",
    "data_sub = pd.json_normalize(data_sub_aux, record_path = 'data')\n",
    "data_sub.columns = data_sub_aux['columns']\n",
    "data_sub.shape"
   ]
  },
  {
   "cell_type": "markdown",
   "id": "0f0ceb5a",
   "metadata": {},
   "source": [
    "### Transformar os dados"
   ]
  },
  {
   "cell_type": "code",
   "execution_count": 156,
   "id": "4bb94ac9",
   "metadata": {
    "ExecuteTime": {
     "end_time": "2023-10-22T16:01:38.116054Z",
     "start_time": "2023-10-22T16:01:38.104038Z"
    }
   },
   "outputs": [],
   "source": [
    "def submission_preparation(df, features_selected):\n",
    "    \n",
    "    df = limpeza(df)\n",
    "    df = feature_engen(df)\n",
    "    df = rescalling(df)\n",
    "    df = transform(df)\n",
    "    \n",
    "    return df[features_selected]"
   ]
  },
  {
   "cell_type": "markdown",
   "id": "27cf669a",
   "metadata": {},
   "source": [
    "### Aplicar sobre os dados de teste"
   ]
  },
  {
   "cell_type": "code",
   "execution_count": 157,
   "id": "08382f4b",
   "metadata": {
    "ExecuteTime": {
     "end_time": "2023-10-22T16:01:43.527902Z",
     "start_time": "2023-10-22T16:01:41.719558Z"
    }
   },
   "outputs": [],
   "source": [
    "data_sub_mod = submission_preparation(data_sub, features_selected)"
   ]
  },
  {
   "cell_type": "code",
   "execution_count": 158,
   "id": "245aadce",
   "metadata": {
    "ExecuteTime": {
     "end_time": "2023-10-22T16:01:47.202679Z",
     "start_time": "2023-10-22T16:01:47.173701Z"
    },
    "run_control": {
     "marked": true
    }
   },
   "outputs": [],
   "source": [
    "y_hat = np.expm1(best_model.predict(data_sub_mod))"
   ]
  },
  {
   "cell_type": "code",
   "execution_count": 159,
   "id": "903121ac",
   "metadata": {
    "ExecuteTime": {
     "end_time": "2023-10-22T16:01:54.272856Z",
     "start_time": "2023-10-22T16:01:54.230694Z"
    }
   },
   "outputs": [],
   "source": [
    "df_submission = pd.DataFrame()\n",
    "df_submission['pid'] = data_sub['pid']\n",
    "df_submission['actual_price'] = y_hat"
   ]
  },
  {
   "cell_type": "code",
   "execution_count": 163,
   "id": "56c44141",
   "metadata": {
    "ExecuteTime": {
     "end_time": "2023-10-22T16:03:08.592099Z",
     "start_time": "2023-10-22T16:03:08.528133Z"
    }
   },
   "outputs": [],
   "source": [
    "df_submission.to_csv('submissions/submission_6.csv', index=False)"
   ]
  },
  {
   "cell_type": "markdown",
   "id": "0e88511f",
   "metadata": {},
   "source": [
    "------\n",
    "# 10 Help Functions"
   ]
  },
  {
   "cell_type": "code",
   "execution_count": 327,
   "id": "9533b7df",
   "metadata": {
    "ExecuteTime": {
     "end_time": "2023-10-21T20:25:39.789072Z",
     "start_time": "2023-10-21T20:25:39.775592Z"
    }
   },
   "outputs": [],
   "source": [
    "def f(x):\n",
    "    try:\n",
    "        return ast.literal_eval(str(x))   \n",
    "    except Exception as e:\n",
    "        print(e)\n",
    "        return []"
   ]
  },
  {
   "cell_type": "code",
   "execution_count": 328,
   "id": "3362a80d",
   "metadata": {
    "ExecuteTime": {
     "end_time": "2023-10-21T20:25:39.804600Z",
     "start_time": "2023-10-21T20:25:39.791073Z"
    }
   },
   "outputs": [],
   "source": [
    "def junta_dict(dict_list):\n",
    "    dicionario = {}\n",
    "    for d in dict_list:\n",
    "        for key, value in d.items():\n",
    "            dicionario[key] = value\n",
    "    return dicionario"
   ]
  },
  {
   "cell_type": "code",
   "execution_count": 329,
   "id": "5ed13f01",
   "metadata": {
    "ExecuteTime": {
     "end_time": "2023-10-21T20:25:39.820039Z",
     "start_time": "2023-10-21T20:25:39.806521Z"
    }
   },
   "outputs": [],
   "source": [
    "def feature_engen(df):\n",
    "    ## out_of_stock - transformar para int \n",
    "    df['out_of_stock'] = df['out_of_stock'].astype('int64')\n",
    "\n",
    "    # brand - substituir por outros\n",
    "    df['brand'] = df['brand'].apply(lambda x: x.lower())\n",
    "\n",
    "    # criando feature product\n",
    "    df['product'] = df[['category', 'sub_category']].apply(lambda x: x['category'] + '_' + x['sub_category'], axis = 1)\n",
    "    \n",
    "    ## Tratando variaveis respostas nulas\n",
    "    prices = df[['seller','pid', 'actual_price']].groupby('pid').max().reset_index()\n",
    "    precos_nulos = df.loc[df['actual_price'].isna(), ['_id','pid']]\n",
    "    precos_recuperados = pd.merge(precos_nulos, prices, how = 'inner', on = 'pid')\n",
    "    \n",
    "    df_aux = pd.merge(df, precos_recuperados[['_id', 'actual_price']], on = '_id', how = 'left')\n",
    "    df['actual_price'] = df_aux['actual_price_x'].fillna(0) + df_aux['actual_price_y'].fillna(0)\n",
    "    \n",
    "    df = df.dropna(subset=['actual_price'])\n",
    "    \n",
    "    return df"
   ]
  },
  {
   "cell_type": "code",
   "execution_count": 330,
   "id": "cd4d26d0",
   "metadata": {
    "ExecuteTime": {
     "end_time": "2023-10-21T20:25:39.835686Z",
     "start_time": "2023-10-21T20:25:39.821041Z"
    }
   },
   "outputs": [],
   "source": [
    "def pipeline (df):\n",
    "    df = limpeza(df)\n",
    "    df = feature_engen(df)\n",
    "    \n",
    "    product_details = df['product_details'].apply(lambda x: f(x))\n",
    "    product_details = pd.DataFrame([junta_dict(row) for row in product_details])\n",
    "    \n",
    "    return df, product_details\n"
   ]
  },
  {
   "cell_type": "code",
   "execution_count": 331,
   "id": "6b5fb9b5",
   "metadata": {
    "ExecuteTime": {
     "end_time": "2023-10-21T20:25:39.850909Z",
     "start_time": "2023-10-21T20:25:39.836699Z"
    }
   },
   "outputs": [],
   "source": [
    "def test_preparation(df):\n",
    "    X_test = rescalling(X_test)\n",
    "    X_test = transform(X_test)\n",
    "    y_test = log_var_resposta(y_test)\n",
    "    \n",
    "    return X_test"
   ]
  },
  {
   "cell_type": "code",
   "execution_count": 332,
   "id": "8f3f567b",
   "metadata": {
    "ExecuteTime": {
     "end_time": "2023-10-21T20:25:39.865991Z",
     "start_time": "2023-10-21T20:25:39.851901Z"
    }
   },
   "outputs": [],
   "source": [
    "# '_id'\n",
    "# 'average_rating':         muitos outliers mas distribuição proxima da normal\n",
    "#                           tratar notas que não possuem avaliação\n",
    "# 'number_of_reviews':      muitos outliers mas distribuição proxima da normal\n",
    "#                           ver como fica a distribuição como log\n",
    "# 'brand':                  12 categorias frequency -> transformar tudo em minusculo para evitar duplicações\n",
    "# 'category':               Uma categoria é mais majoritária \n",
    "#                           unir com a subcategory fazendo o tratamento de maiusculas\n",
    "# 'crawled_at':             Somente 1 dia, muda somente a hora -> retirar XXXXX\n",
    "# 'out_of_stock':           Dummie enconde (somente 0 ou 1) -> One hot encode\n",
    "# 'avg_delivery_time_days': sem outliers e distribuição normal -> min max scaler\n",
    "# 'pid':                    valore duplicatidos, muitas labels -> usar para preencher valores nulos no price mas não vai para o modelo\n",
    "# 'seller':                 Reunir undefined em \"outros\" e usar o frequency encode\n",
    "# 'sub_category':           Unir com o 'category'\n",
    "# 'fabrication_time':       sem outliers, distribuição uniforme -> min max scaler\n",
    "# 'title':                  muitas categorias, sem concentrações -> frequency \n",
    "#                           explorar mais o title\n",
    "#                           deletar nesse momento\n",
    "# 'actual_price':           transformar em escala log"
   ]
  }
 ],
 "metadata": {
  "kernelspec": {
   "display_name": "Python 3 (ipykernel)",
   "language": "python",
   "name": "python3"
  },
  "language_info": {
   "codemirror_mode": {
    "name": "ipython",
    "version": 3
   },
   "file_extension": ".py",
   "mimetype": "text/x-python",
   "name": "python",
   "nbconvert_exporter": "python",
   "pygments_lexer": "ipython3",
   "version": "3.9.7"
  },
  "toc": {
   "base_numbering": 1,
   "nav_menu": {},
   "number_sections": true,
   "sideBar": true,
   "skip_h1_title": false,
   "title_cell": "Table of Contents",
   "title_sidebar": "Contents",
   "toc_cell": false,
   "toc_position": {
    "height": "calc(100% - 180px)",
    "left": "10px",
    "top": "150px",
    "width": "345.98px"
   },
   "toc_section_display": true,
   "toc_window_display": true
  },
  "varInspector": {
   "cols": {
    "lenName": 16,
    "lenType": 16,
    "lenVar": 40
   },
   "kernels_config": {
    "python": {
     "delete_cmd_postfix": "",
     "delete_cmd_prefix": "del ",
     "library": "var_list.py",
     "varRefreshCmd": "print(var_dic_list())"
    },
    "r": {
     "delete_cmd_postfix": ") ",
     "delete_cmd_prefix": "rm(",
     "library": "var_list.r",
     "varRefreshCmd": "cat(var_dic_list()) "
    }
   },
   "types_to_exclude": [
    "module",
    "function",
    "builtin_function_or_method",
    "instance",
    "_Feature"
   ],
   "window_display": false
  },
  "vscode": {
   "interpreter": {
    "hash": "892e5ff5783333d733f0bd2e0068297de9409e96214f7e68af4469f351f76fae"
   }
  }
 },
 "nbformat": 4,
 "nbformat_minor": 5
}
